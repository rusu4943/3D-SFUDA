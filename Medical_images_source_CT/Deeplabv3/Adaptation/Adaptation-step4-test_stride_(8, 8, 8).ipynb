{
 "cells": [
  {
   "cell_type": "code",
   "execution_count": 1,
   "id": "fbcca3f5",
   "metadata": {},
   "outputs": [],
   "source": [
    "import torch\n",
    "import torch.nn as nn\n",
    "import torch.nn.functional as F\n",
    "import torch.optim as optim\n",
    "import torchvision\n",
    "import torchvision.transforms as transforms\n",
    "import numpy as np\n",
    "\n",
    "import os\n",
    "import cv2\n",
    "import sys\n",
    "import h5py\n",
    "import time\n",
    "import pickle\n",
    "import tempfile\n",
    "from PIL import Image\n",
    "import matplotlib.pyplot as plt\n",
    "from IPython.display import display as ipy_display, clear_output"
   ]
  },
  {
   "cell_type": "code",
   "execution_count": 2,
   "id": "a9172c14",
   "metadata": {},
   "outputs": [],
   "source": [
    "# setting path\n",
    "sys.path.append('../')"
   ]
  },
  {
   "cell_type": "code",
   "execution_count": 3,
   "id": "1b8fc375",
   "metadata": {},
   "outputs": [],
   "source": [
    "deplabv3 = __import__('Deeplabv3')\n",
    "import networks"
   ]
  },
  {
   "cell_type": "code",
   "execution_count": 4,
   "id": "d41b65cc",
   "metadata": {},
   "outputs": [],
   "source": [
    "dataset = __import__('dataset-step4')"
   ]
  },
  {
   "cell_type": "markdown",
   "id": "1e88a619",
   "metadata": {},
   "source": [
    "# parameters"
   ]
  },
  {
   "cell_type": "code",
   "execution_count": 5,
   "id": "8cc3ea77",
   "metadata": {},
   "outputs": [],
   "source": [
    "num_classes = 5\n",
    "batch_size = 1\n",
    "suffix = 'run4'\n",
    "epoch = 178\n",
    "epoch = str(epoch)\n",
    "\n",
    "dataset_name = 'abdomen'"
   ]
  },
  {
   "cell_type": "markdown",
   "id": "219b6862",
   "metadata": {},
   "source": [
    "# CUDA"
   ]
  },
  {
   "cell_type": "code",
   "execution_count": 6,
   "id": "2a664850",
   "metadata": {},
   "outputs": [
    {
     "data": {
      "text/plain": [
       "device(type='cuda', index=0)"
      ]
     },
     "execution_count": 6,
     "metadata": {},
     "output_type": "execute_result"
    }
   ],
   "source": [
    "device = torch.device('cuda:0' if torch.cuda.is_available() else 'cpu')\n",
    "device"
   ]
  },
  {
   "cell_type": "markdown",
   "id": "109b6635",
   "metadata": {},
   "source": [
    "# Path"
   ]
  },
  {
   "cell_type": "code",
   "execution_count": 7,
   "id": "fb2e3519-01a2-4656-a37a-f3b96625e9d2",
   "metadata": {},
   "outputs": [],
   "source": [
    "root = \"/media/rs37890/d28c4aed-3c7e-4203-8590-f72f868ee829/rs37890/Medical_images_source_CT/data/data/\""
   ]
  },
  {
   "cell_type": "code",
   "execution_count": 8,
   "id": "b8189c4a",
   "metadata": {},
   "outputs": [],
   "source": [
    "source_mr_train_dir = root + \"h5py/\"\n",
    "source_mr_test_dir = root + \"h5py/\""
   ]
  },
  {
   "cell_type": "code",
   "execution_count": 9,
   "id": "320ed641",
   "metadata": {},
   "outputs": [],
   "source": [
    "target_ct_train_dir = root + \"h5py/\"\n",
    "target_ct_test_dir = root + \"h5py/\""
   ]
  },
  {
   "cell_type": "markdown",
   "id": "f61aca8e",
   "metadata": {},
   "source": [
    "# label_ids_abdomen"
   ]
  },
  {
   "cell_type": "code",
   "execution_count": 10,
   "id": "6ad6a7aa",
   "metadata": {},
   "outputs": [],
   "source": [
    "label_ids_abdomen = {\"ignore\": 0,\n",
    "    \"lv_myo\": 1,\n",
    "    \"la_blood\": 2,\n",
    "    \"lv_blood\": 3,\n",
    "    \"aa\": 4,\n",
    "}\n",
    "label_ids = label_ids_abdomen"
   ]
  },
  {
   "cell_type": "markdown",
   "id": "0a6a5836",
   "metadata": {},
   "source": [
    "# Dataset"
   ]
  },
  {
   "cell_type": "code",
   "execution_count": 11,
   "id": "516bd3ca",
   "metadata": {},
   "outputs": [],
   "source": [
    "def sample_batch(dataset, batch_size=20, seed=None):\n",
    "    if seed is not None:\n",
    "        np.random.seed(seed)\n",
    "    \n",
    "    data_dir = dataset.data_dir\n",
    "    num_samples = len(dataset)\n",
    "    sample_indices = np.random.choice(num_samples, batch_size, replace=False) # replace=True allow repeat\n",
    "\n",
    "    images = []\n",
    "    labels = []\n",
    "\n",
    "    for idx in sample_indices:\n",
    "        \n",
    "        data_vol, label_vol = dataset[idx]\n",
    "        \n",
    "        images.append(data_vol)\n",
    "        labels.append(label_vol)\n",
    "\n",
    "    images = torch.stack(images)\n",
    "    labels = torch.stack(labels)\n",
    "\n",
    "    return images, labels"
   ]
  },
  {
   "cell_type": "markdown",
   "id": "6b5bd51c",
   "metadata": {},
   "source": [
    "#  sliding_window"
   ]
  },
  {
   "cell_type": "code",
   "execution_count": 12,
   "id": "4c7e46ce",
   "metadata": {},
   "outputs": [],
   "source": [
    "def sliding_window(input_volume, window_size=(32, 32, 32), stride=(16, 16, 16)):\n",
    "    \n",
    "    z_max = input_volume.shape[0] - window_size[0] + 1\n",
    "    x_max = input_volume.shape[1] - window_size[1] + 1\n",
    "    y_max = input_volume.shape[2] - window_size[2] + 1\n",
    "\n",
    "    windows = []\n",
    "\n",
    "    for y in range(0, y_max, stride[2]):\n",
    "        for x in range(0, x_max, stride[1]):\n",
    "            for z in range(0, z_max, stride[0]):\n",
    "                window = input_volume[z:z+window_size[0], x:x+window_size[1], y:y+window_size[2]]\n",
    "                windows.append(window)\n",
    "\n",
    "            # z_remaining\n",
    "            z_remaining = input_volume.shape[0] - window_size[0] # z_remaining = 78 - 32 = 46\n",
    "            window = input_volume[z_remaining:, x:x+window_size[1], y:y+window_size[2]]\n",
    "            windows.append(window)\n",
    "        \n",
    "        # x_remaining\n",
    "        x_remaining = input_volume.shape[1] - window_size[1] # z_remaining = 78 - 32 = 46\n",
    "        for z in range(0, z_max, stride[0]):\n",
    "            window = input_volume[z:z+window_size[0], x_remaining: , y:y+window_size[2]]\n",
    "            windows.append(window)\n",
    "            \n",
    "        # x_remaining z_remaining\n",
    "        z_remaining = input_volume.shape[0] - window_size[0] # z_remaining = 78 - 32 = 46\n",
    "        window = input_volume[z_remaining:, x_remaining: , y:y+window_size[2]]\n",
    "        windows.append(window)\n",
    "    \n",
    "    # y_remaining\n",
    "    y_remaining = input_volume.shape[2] - window_size[2] # z_remaining = 78 - 32 = 46\n",
    "    for x in range(0, x_max, stride[1]):\n",
    "        for z in range(0, z_max, stride[0]):\n",
    "            window = input_volume[z:z+window_size[0], x:x+window_size[1], y_remaining: ]\n",
    "            windows.append(window)\n",
    "            \n",
    "        # y_remaining z_remaining\n",
    "        z_remaining = input_volume.shape[0] - window_size[0] # z_remaining = 78 - 32 = 46\n",
    "        window = input_volume[z_remaining:, x:x+window_size[1], y_remaining:]\n",
    "        windows.append(window)\n",
    "\n",
    "    # y_remaining x_remaining\n",
    "    x_remaining = input_volume.shape[1] - window_size[1] # z_remaining = 78 - 32 = 46\n",
    "    for z in range(0, z_max, stride[0]):\n",
    "        window = input_volume[z:z+window_size[0], x_remaining: , y_remaining:]\n",
    "        windows.append(window)\n",
    "\n",
    "    # y_remaining x_remaining z_remaining\n",
    "    z_remaining = input_volume.shape[0] - window_size[0] # z_remaining = 78 - 32 = 46\n",
    "    window = input_volume[z_remaining:, x_remaining: , y_remaining:]\n",
    "    windows.append(window)\n",
    "\n",
    "    return windows"
   ]
  },
  {
   "cell_type": "code",
   "execution_count": 13,
   "id": "db64dccb",
   "metadata": {},
   "outputs": [],
   "source": [
    "def combine_windows(window_outputs, input_volume_shape, window_size=(32, 32, 32), stride=(16, 16, 16)):\n",
    "    num_classes = window_outputs[0].shape[1] # 5\n",
    "    combined_prob = torch.zeros((num_classes,) + input_volume_shape).to(device)\n",
    "    count_matrix = torch.zeros(input_volume_shape).to(device)\n",
    "\n",
    "    z_max = input_volume_shape[0] - window_size[0] + 1\n",
    "    x_max = input_volume_shape[1] - window_size[1] + 1\n",
    "    y_max = input_volume_shape[2] - window_size[2] + 1\n",
    "\n",
    "    idx = 0\n",
    "    \n",
    "    \n",
    "    for y in range(0, y_max, stride[2]):\n",
    "        for x in range(0, x_max, stride[1]):\n",
    "            for z in range(0, z_max, stride[0]):\n",
    "                output = window_outputs[idx].squeeze() # output.cpu().numpy().shape: (5, 32, 256, 256)\n",
    "                combined_prob[:, z:z+window_size[0], x:x+window_size[1], y:y+window_size[2]] += output\n",
    "                count_matrix[z:z+window_size[0], x:x+window_size[1], y:y+window_size[2]] += 1\n",
    "                idx += 1\n",
    "                \n",
    "\n",
    "            # z_remaining\n",
    "            z_remaining = input_volume_shape[0] - window_size[0] # z_remaining = 78 - 32 = 46\n",
    "            output = window_outputs[idx].squeeze()\n",
    "            combined_prob[:, z_remaining:, x:x+window_size[1], y:y+window_size[2]] += output\n",
    "            count_matrix[z_remaining:, x:x+window_size[1], y:y+window_size[2]] += 1\n",
    "            idx += 1\n",
    "        \n",
    "        # x_remaining\n",
    "        x_remaining = input_volume_shape[1] - window_size[1] # z_remaining = 78 - 32 = 46\n",
    "        for z in range(0, z_max, stride[0]):\n",
    "            output = window_outputs[idx].squeeze()\n",
    "            combined_prob[:, z:z+window_size[0], x_remaining: , y:y+window_size[2]] += output\n",
    "            count_matrix[z:z+window_size[0], x_remaining: , y:y+window_size[2]] += 1\n",
    "            idx += 1\n",
    "            \n",
    "            \n",
    "        # x_remaining z_remaining\n",
    "        z_remaining = input_volume_shape[0] - window_size[0] # z_remaining = 78 - 32 = 46\n",
    "        output = window_outputs[idx].squeeze()\n",
    "        combined_prob[:, z_remaining:, x_remaining: , y:y+window_size[2]] += output\n",
    "        count_matrix[z_remaining:, x_remaining: , y:y+window_size[2]] += 1\n",
    "        idx += 1\n",
    "        \n",
    "    \n",
    "    # y_remaining\n",
    "    y_remaining = input_volume_shape[2] - window_size[2] # z_remaining = 78 - 32 = 46\n",
    "    for x in range(0, x_max, stride[1]):\n",
    "        for z in range(0, z_max, stride[0]):\n",
    "            output = window_outputs[idx].squeeze()\n",
    "            combined_prob[:, z:z+window_size[0], x:x+window_size[1], y_remaining: ] += output\n",
    "            count_matrix[z:z+window_size[0], x:x+window_size[1], y_remaining: ] += 1\n",
    "            idx += 1\n",
    "            \n",
    "            \n",
    "        # y_remaining z_remaining\n",
    "        z_remaining = input_volume_shape[0] - window_size[0] # z_remaining = 78 - 32 = 46\n",
    "        output = window_outputs[idx].squeeze()\n",
    "        combined_prob[:, z_remaining:, x:x+window_size[1], y_remaining:] += output\n",
    "        count_matrix[z_remaining:, x:x+window_size[1], y_remaining:] += 1\n",
    "        idx += 1\n",
    "        \n",
    "\n",
    "    # y_remaining x_remaining\n",
    "    x_remaining = input_volume_shape[1] - window_size[1] # z_remaining = 78 - 32 = 46\n",
    "    for z in range(0, z_max, stride[0]):\n",
    "        output = window_outputs[idx].squeeze()\n",
    "        combined_prob[:, z:z+window_size[0], x_remaining: , y_remaining:] += output\n",
    "        count_matrix[z:z+window_size[0], x_remaining: , y_remaining:] += 1\n",
    "        idx += 1\n",
    "\n",
    "    # y_remaining x_remaining z_remaining\n",
    "    z_remaining = input_volume_shape[0] - window_size[0] # z_remaining = 78 - 32 = 46\n",
    "    output = window_outputs[idx].squeeze()\n",
    "    combined_prob[:, z_remaining:, x_remaining: , y_remaining:] += output\n",
    "    count_matrix[z_remaining:, x_remaining: , y_remaining:] += 1\n",
    "    idx += 1\n",
    "    \n",
    "    \n",
    "    # Normalize the class probabilities\n",
    "    combined_prob /= count_matrix\n",
    "\n",
    "    # Take the argmax of the accumulated probabilities\n",
    "    combined_output = torch.argmax(combined_prob, dim=0)\n",
    "\n",
    "    return combined_output"
   ]
  },
  {
   "cell_type": "markdown",
   "id": "a303273d",
   "metadata": {},
   "source": [
    "# Initialize"
   ]
  },
  {
   "cell_type": "code",
   "execution_count": 14,
   "id": "12c6b55f",
   "metadata": {},
   "outputs": [],
   "source": [
    "dataloader = dataset.get_dataloader( target_ct_train_dir,  target_ct_test_dir, num_classes, batch_size,  domain = 'target' )\n",
    "\n",
    "train_dataset = dataloader[\"train\"].dataset\n",
    "#test_dataset = train_dataset\n",
    "test_dataset = dataloader[\"test\"].dataset"
   ]
  },
  {
   "cell_type": "code",
   "execution_count": 15,
   "id": "f203058d",
   "metadata": {
    "scrolled": true
   },
   "outputs": [],
   "source": [
    "dpv3 = deplabv3.DeepLabV3(num_classes)\n",
    "classifier = networks.classifier(num_classes)\n",
    "\n",
    "dpv3 = dpv3.to(device)\n",
    "classifier = classifier.to(device)\n",
    "\n",
    "# parallel\n",
    "# dpv3 = torch.nn.DataParallel(dpv3)\n",
    "# classifier = torch.nn.DataParallel(classifier)"
   ]
  },
  {
   "cell_type": "code",
   "execution_count": 16,
   "id": "ac00b49c",
   "metadata": {},
   "outputs": [
    {
     "name": "stdout",
     "output_type": "stream",
     "text": [
      "continue_run\n",
      "Loaded model weights\n"
     ]
    }
   ],
   "source": [
    "dpv3_checkpoint = torch.load('./Adaptation-record-data/' + 'adapted_dpv3_weights_' + str(epoch) + '.pth')\n",
    "classifier_checkpoint = torch.load('./Adaptation-record-data/' + 'adapted_classifier_weights_' + str(epoch) + '.pth')\n",
    "\n",
    "dpv3.load_state_dict(dpv3_checkpoint)\n",
    "classifier.load_state_dict(classifier_checkpoint)\n",
    "print(\"continue_run\")\n",
    "print(\"Loaded model weights\")"
   ]
  },
  {
   "cell_type": "code",
   "execution_count": 17,
   "id": "ed94f4ef",
   "metadata": {},
   "outputs": [
    {
     "name": "stdout",
     "output_type": "stream",
     "text": [
      "291\n"
     ]
    }
   ],
   "source": [
    "with open('Adaptation-record-data/' + \"target_test_DICE_history\"  + \".pkl\", \"rb\") as file:\n",
    "    target_test_DICE_history = pickle.load(file)\n",
    "    \n",
    "print(len(target_test_DICE_history))"
   ]
  },
  {
   "cell_type": "code",
   "execution_count": 18,
   "id": "567473a5-4beb-4ae8-89e6-ca5301a9583a",
   "metadata": {},
   "outputs": [],
   "source": [
    "max_dice = 0\n",
    "max_dice_idx = 0\n",
    "for idx, dice in enumerate(target_test_DICE_history):\n",
    "    if dice > max_dice:\n",
    "        max_dice = dice \n",
    "        max_dice_idx = idx"
   ]
  },
  {
   "cell_type": "code",
   "execution_count": 19,
   "id": "7de2d3ed-20fd-4d8e-9aa8-7c882fb160c8",
   "metadata": {},
   "outputs": [
    {
     "data": {
      "text/plain": [
       "179"
      ]
     },
     "execution_count": 19,
     "metadata": {},
     "output_type": "execute_result"
    }
   ],
   "source": [
    "max_dice_idx"
   ]
  },
  {
   "cell_type": "code",
   "execution_count": 20,
   "id": "bb083f37-d845-4cf1-87cf-e36440535ca4",
   "metadata": {},
   "outputs": [
    {
     "data": {
      "text/plain": [
       "0.5887458676369168"
      ]
     },
     "execution_count": 20,
     "metadata": {},
     "output_type": "execute_result"
    }
   ],
   "source": [
    "target_test_DICE_history[max_dice_idx]"
   ]
  },
  {
   "cell_type": "markdown",
   "id": "5df57b02",
   "metadata": {},
   "source": [
    "# Show results"
   ]
  },
  {
   "cell_type": "code",
   "execution_count": 21,
   "id": "5dea6ba2-e50d-4295-a662-21a65d971590",
   "metadata": {},
   "outputs": [],
   "source": [
    "stride = (8, 8, 8)"
   ]
  },
  {
   "cell_type": "code",
   "execution_count": 22,
   "id": "107b7856",
   "metadata": {},
   "outputs": [],
   "source": [
    "test_output = []\n",
    "\n",
    "for img_idx in range(len(test_dataset)): # 0, 1, 2, 3\n",
    "    \n",
    "    data_vol, label_vol = test_dataset[img_idx] # data_vol: torch.Size([1, 60, 512, 512])\n",
    "    data_vol = data_vol.to(device)\n",
    "    label_vol = label_vol.to(device)\n",
    "    \n",
    "    data_vol = torch.squeeze(data_vol, 0) # data_vol:  torch.Size([60, 512, 512])\n",
    "    windows = sliding_window(data_vol, stride = stride) # slice 3D image based on window size and stride\n",
    "    \n",
    "    \n",
    "    \n",
    "    window_outputs = []\n",
    "    \n",
    "    dpv3.eval()\n",
    "    classifier.eval() \n",
    "    with torch.no_grad():\n",
    "        for window in windows:\n",
    "            window = window.unsqueeze(0)  # Add a channel dimension: torch.Size([1, 32, 256, 256])\n",
    "            window = torch.unsqueeze(window, 0)  # Add a batch dimension: torch.Size([1, 1, 32, 256, 256])\n",
    "            \n",
    "            # inference\n",
    "            output = dpv3(window)\n",
    "            output = classifier(output) # torch.Size([1, 5, 32, 256, 256])\n",
    "            \n",
    "            # collect outputs\n",
    "            window_outputs.append(output)  # len(window_outputs) = 27\n",
    "            # window_outputs[0].cpu().numpy().shape： (1, 5, 32, 256, 256)\n",
    "\n",
    "    combined_output = combine_windows(window_outputs, data_vol.size(), stride = stride )\n",
    "    test_output.append(combined_output)"
   ]
  },
  {
   "cell_type": "markdown",
   "id": "ed1e4c86",
   "metadata": {},
   "source": [
    "# evaluate"
   ]
  },
  {
   "cell_type": "code",
   "execution_count": 23,
   "id": "8bd7c2c6",
   "metadata": {},
   "outputs": [],
   "source": [
    "numpy_arrays = [tensor.cpu().numpy() for tensor in test_output]"
   ]
  },
  {
   "cell_type": "code",
   "execution_count": 24,
   "id": "4b621ee0",
   "metadata": {},
   "outputs": [
    {
     "data": {
      "text/plain": [
       "(136, 146, 126)"
      ]
     },
     "execution_count": 24,
     "metadata": {},
     "output_type": "execute_result"
    }
   ],
   "source": [
    "numpy_arrays[0].shape"
   ]
  },
  {
   "cell_type": "code",
   "execution_count": 25,
   "id": "0666c662",
   "metadata": {},
   "outputs": [
    {
     "data": {
      "text/plain": [
       "(180, 112, 80)"
      ]
     },
     "execution_count": 25,
     "metadata": {},
     "output_type": "execute_result"
    }
   ],
   "source": [
    "numpy_arrays[1].shape"
   ]
  },
  {
   "cell_type": "code",
   "execution_count": 26,
   "id": "3539c6e2",
   "metadata": {},
   "outputs": [
    {
     "data": {
      "text/plain": [
       "(149, 113, 123)"
      ]
     },
     "execution_count": 26,
     "metadata": {},
     "output_type": "execute_result"
    }
   ],
   "source": [
    "numpy_arrays[2].shape"
   ]
  },
  {
   "cell_type": "code",
   "execution_count": 27,
   "id": "8ba4431d",
   "metadata": {},
   "outputs": [
    {
     "data": {
      "text/plain": [
       "(127, 171, 75)"
      ]
     },
     "execution_count": 27,
     "metadata": {},
     "output_type": "execute_result"
    }
   ],
   "source": [
    "numpy_arrays[3].shape"
   ]
  },
  {
   "cell_type": "code",
   "execution_count": 28,
   "id": "88c35487",
   "metadata": {},
   "outputs": [
    {
     "name": "stdout",
     "output_type": "stream",
     "text": [
      "(136, 146, 126)\n",
      "(136, 146, 126)\n",
      "(180, 112, 80)\n",
      "(180, 112, 80)\n",
      "(149, 113, 123)\n",
      "(149, 113, 123)\n",
      "(127, 171, 75)\n",
      "(127, 171, 75)\n"
     ]
    }
   ],
   "source": [
    "id_to_ignore = 0\n",
    "intersection = dict()\n",
    "total = dict()\n",
    "for label in label_ids:\n",
    "    intersection[label] = total[label] = 0\n",
    "\n",
    "\n",
    "\n",
    "for img_idx in range(len(test_dataset)): # 0, 1, 2, 3\n",
    "\n",
    "    #if img_idx != 3:\n",
    "    #    continue\n",
    "    \n",
    "    _, y_true = test_dataset[img_idx] # data_vol: torch.Size([1, 60, 512, 512])\n",
    "    \n",
    "    y_hat = numpy_arrays[img_idx]\n",
    "    y_true = y_true.cpu().numpy() \n",
    "    \n",
    "    print(y_hat.shape)\n",
    "    print(y_true.shape)\n",
    "    \n",
    "    for label in label_ids:\n",
    "        if label_ids[label] == id_to_ignore:\n",
    "            continue\n",
    "\n",
    "        curr_id = label_ids[label]\n",
    "\n",
    "        idx_gt = y_true == curr_id\n",
    "        idx_hat = y_hat == curr_id\n",
    "\n",
    "        intersection[label] += 2 * np.sum(idx_gt & idx_hat)\n",
    "        total[label] += np.sum(idx_gt) + np.sum(idx_hat)\n",
    "        \n",
    "        \n",
    "dice = []\n",
    "res = dict()\n",
    "for label in label_ids:\n",
    "    if label_ids[label] == id_to_ignore:\n",
    "        continue\n",
    "\n",
    "    if total[label] != 0:\n",
    "        res[label] = intersection[label] / total[label]\n",
    "    else:\n",
    "        print('total is zero')\n",
    "        res[label] = np.float64(0)\n",
    "\n",
    "    dice.append(res[label])"
   ]
  },
  {
   "cell_type": "code",
   "execution_count": 29,
   "id": "619ea79b",
   "metadata": {},
   "outputs": [
    {
     "data": {
      "text/plain": [
       "0.61702754148745"
      ]
     },
     "execution_count": 29,
     "metadata": {},
     "output_type": "execute_result"
    }
   ],
   "source": [
    "np.mean(dice)"
   ]
  },
  {
   "cell_type": "code",
   "execution_count": 30,
   "id": "4b15c658",
   "metadata": {},
   "outputs": [
    {
     "name": "stdout",
     "output_type": "stream",
     "text": [
      "lv_myo 0.6436912694470327\n",
      "la_blood 0.5938087731059283\n",
      "lv_blood 0.7298426365394745\n",
      "aa 0.5007674868573644\n"
     ]
    }
   ],
   "source": [
    "for k in res:\n",
    "    print(k, res[k])"
   ]
  },
  {
   "cell_type": "code",
   "execution_count": null,
   "id": "2836db96",
   "metadata": {},
   "outputs": [],
   "source": []
  },
  {
   "cell_type": "code",
   "execution_count": null,
   "id": "fe84c400-2ba2-4957-9ecc-8ca098745e37",
   "metadata": {},
   "outputs": [],
   "source": []
  },
  {
   "cell_type": "code",
   "execution_count": 31,
   "id": "b75a3c71-76b4-41d0-a1aa-6f61b412d0c6",
   "metadata": {},
   "outputs": [
    {
     "data": {
      "text/plain": [
       "(127, 171, 75)"
      ]
     },
     "execution_count": 31,
     "metadata": {},
     "output_type": "execute_result"
    }
   ],
   "source": [
    "y_hat.shape"
   ]
  },
  {
   "cell_type": "code",
   "execution_count": null,
   "id": "8e4e4759-299d-461d-898c-81b8ab3f183c",
   "metadata": {},
   "outputs": [],
   "source": []
  },
  {
   "cell_type": "code",
   "execution_count": 32,
   "id": "9de72faf",
   "metadata": {},
   "outputs": [],
   "source": [
    "# z_slice = int(y_true.shape[2] / 2)\n",
    "\n",
    "\n",
    "# #nlplt.plot_epi(img)\n",
    "# plt.imshow(y_true[:, :, z_slice], cmap='jet')\n",
    "# plt.show()"
   ]
  },
  {
   "cell_type": "code",
   "execution_count": 33,
   "id": "6933711a-cff8-4370-8235-f5d400d8ab7c",
   "metadata": {},
   "outputs": [],
   "source": [
    "# z_slice = int(y_hat.shape[2] / 2)\n",
    "# slice_img = y_hat[:, :, z_slice]\n",
    "\n",
    "# # Check if the slice_img is empty or not\n",
    "# if slice_img.size == 0:\n",
    "#     print(\"The image slice is empty. Check your slicing indices.\")\n",
    "# else:\n",
    "#     print(f\"Shape: {slice_img.shape}, Data Type: {slice_img.dtype}\")\n",
    "\n",
    "#     # Convert to a suitable type if necessary\n",
    "#     if slice_img.dtype != np.uint8:\n",
    "#         slice_img = (255 * (slice_img - slice_img.min()) / (slice_img.max() - slice_img.min())).astype(np.uint8)\n",
    "\n",
    "#     # Define the new size you want for the square image\n",
    "#     square_size = 256\n",
    "\n",
    "#     # Resize the image to square\n",
    "#     square_img = cv2.resize(slice_img, (square_size, square_size), interpolation=cv2.INTER_AREA)\n",
    "\n",
    "#     # Plot the image\n",
    "#     plt.imshow(square_img, cmap='jet')\n",
    "#     plt.axis('off')  # Turn off axis numbers and ticks\n",
    "#     plt.show()\n",
    "\n",
    "#     plt.imsave('Post-Adapt_3.png', square_img, cmap='jet')"
   ]
  },
  {
   "cell_type": "code",
   "execution_count": null,
   "id": "f4c5f15e-5b39-40ed-beb9-7bd227c2839e",
   "metadata": {},
   "outputs": [],
   "source": []
  }
 ],
 "metadata": {
  "kernelspec": {
   "display_name": "Python 3 (ipykernel)",
   "language": "python",
   "name": "python3"
  },
  "language_info": {
   "codemirror_mode": {
    "name": "ipython",
    "version": 3
   },
   "file_extension": ".py",
   "mimetype": "text/x-python",
   "name": "python",
   "nbconvert_exporter": "python",
   "pygments_lexer": "ipython3",
   "version": "3.8.17"
  }
 },
 "nbformat": 4,
 "nbformat_minor": 5
}
