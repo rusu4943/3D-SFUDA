{
 "cells": [
  {
   "cell_type": "code",
   "execution_count": 1,
   "id": "279f1094",
   "metadata": {},
   "outputs": [
    {
     "name": "stderr",
     "output_type": "stream",
     "text": [
      "/home1/ruitongs/.conda/envs/UDA/lib/python3.7/site-packages/tqdm/auto.py:21: TqdmWarning: IProgress not found. Please update jupyter and ipywidgets. See https://ipywidgets.readthedocs.io/en/stable/user_install.html\n",
      "  from .autonotebook import tqdm as notebook_tqdm\n"
     ]
    }
   ],
   "source": [
    "import torch\n",
    "import torch.nn as nn\n",
    "import torch.nn.functional as F\n",
    "import torch.optim as optim\n",
    "import torchvision\n",
    "\n",
    "import time\n",
    "import pickle\n",
    "import numpy as np\n",
    "import matplotlib.pyplot as plt\n",
    "from IPython.display import display as ipy_display, clear_output"
   ]
  },
  {
   "cell_type": "code",
   "execution_count": 2,
   "id": "bcaf0628",
   "metadata": {},
   "outputs": [],
   "source": [
    "deplabv3 = __import__('Deeplabv3')\n",
    "import networks"
   ]
  },
  {
   "cell_type": "code",
   "execution_count": 3,
   "id": "0be1ac61",
   "metadata": {},
   "outputs": [],
   "source": [
    "dataset = __import__('dataset-inference')"
   ]
  },
  {
   "cell_type": "markdown",
   "id": "abdfecb2",
   "metadata": {},
   "source": [
    "# parameter"
   ]
  },
  {
   "cell_type": "code",
   "execution_count": 4,
   "id": "03f0c28b",
   "metadata": {},
   "outputs": [],
   "source": [
    "suffix = 'run4'\n",
    "num_classes = 5\n",
    "batch_size = 1\n",
    "epoch = 200000"
   ]
  },
  {
   "cell_type": "code",
   "execution_count": 5,
   "id": "01689f1c",
   "metadata": {},
   "outputs": [],
   "source": [
    "label_ids_abdomen = {\"ignore\": 0,\n",
    "    \"lv_myo\": 1,\n",
    "    \"la_blood\": 2,\n",
    "    \"lv_blood\": 3,\n",
    "    \"aa\": 4,\n",
    "}\n",
    "\n",
    "label_ids = label_ids_abdomen"
   ]
  },
  {
   "cell_type": "markdown",
   "id": "afb989f6",
   "metadata": {},
   "source": [
    "# path"
   ]
  },
  {
   "cell_type": "code",
   "execution_count": 6,
   "id": "7a199ddb",
   "metadata": {},
   "outputs": [],
   "source": [
    "target_ct_train_dir = \"./../data/h5py/\"\n",
    "target_ct_test_dir = \"./../data/h5py/\""
   ]
  },
  {
   "cell_type": "markdown",
   "id": "1f567424",
   "metadata": {},
   "source": [
    "# cuda"
   ]
  },
  {
   "cell_type": "code",
   "execution_count": 7,
   "id": "8421ee18",
   "metadata": {},
   "outputs": [
    {
     "data": {
      "text/plain": [
       "device(type='cuda')"
      ]
     },
     "execution_count": 7,
     "metadata": {},
     "output_type": "execute_result"
    }
   ],
   "source": [
    "device = torch.device('cuda' if torch.cuda.is_available() else 'cpu')\n",
    "device"
   ]
  },
  {
   "cell_type": "markdown",
   "id": "3818cf04",
   "metadata": {},
   "source": [
    "#  sliding_window"
   ]
  },
  {
   "cell_type": "code",
   "execution_count": 8,
   "id": "33c98b6d",
   "metadata": {},
   "outputs": [],
   "source": [
    "def sliding_window(input_volume, window_size=(32, 32, 32), stride=(16, 16, 16)):\n",
    "    \n",
    "    z_max = input_volume.shape[0] - window_size[0] + 1\n",
    "    x_max = input_volume.shape[1] - window_size[1] + 1\n",
    "    y_max = input_volume.shape[2] - window_size[2] + 1\n",
    "\n",
    "    windows = []\n",
    "\n",
    "    for y in range(0, y_max, stride[2]):\n",
    "        for x in range(0, x_max, stride[1]):\n",
    "            for z in range(0, z_max, stride[0]):\n",
    "                window = input_volume[z:z+window_size[0], x:x+window_size[1], y:y+window_size[2]]\n",
    "                windows.append(window)\n",
    "\n",
    "            # z_remaining\n",
    "            z_remaining = input_volume.shape[0] - window_size[0] # z_remaining = 78 - 32 = 46\n",
    "            window = input_volume[z_remaining:, x:x+window_size[1], y:y+window_size[2]]\n",
    "            windows.append(window)\n",
    "        \n",
    "        # x_remaining\n",
    "        x_remaining = input_volume.shape[1] - window_size[1] # z_remaining = 78 - 32 = 46\n",
    "        for z in range(0, z_max, stride[0]):\n",
    "            window = input_volume[z:z+window_size[0], x_remaining: , y:y+window_size[2]]\n",
    "            windows.append(window)\n",
    "            \n",
    "        # x_remaining z_remaining\n",
    "        z_remaining = input_volume.shape[0] - window_size[0] # z_remaining = 78 - 32 = 46\n",
    "        window = input_volume[z_remaining:, x_remaining: , y:y+window_size[2]]\n",
    "        windows.append(window)\n",
    "    \n",
    "    # y_remaining\n",
    "    y_remaining = input_volume.shape[2] - window_size[2] # z_remaining = 78 - 32 = 46\n",
    "    for x in range(0, x_max, stride[1]):\n",
    "        for z in range(0, z_max, stride[0]):\n",
    "            window = input_volume[z:z+window_size[0], x:x+window_size[1], y_remaining: ]\n",
    "            windows.append(window)\n",
    "            \n",
    "        # y_remaining z_remaining\n",
    "        z_remaining = input_volume.shape[0] - window_size[0] # z_remaining = 78 - 32 = 46\n",
    "        window = input_volume[z_remaining:, x:x+window_size[1], y_remaining:]\n",
    "        windows.append(window)\n",
    "\n",
    "    # y_remaining x_remaining\n",
    "    x_remaining = input_volume.shape[1] - window_size[1] # z_remaining = 78 - 32 = 46\n",
    "    for z in range(0, z_max, stride[0]):\n",
    "        window = input_volume[z:z+window_size[0], x_remaining: , y_remaining:]\n",
    "        windows.append(window)\n",
    "\n",
    "    # y_remaining x_remaining z_remaining\n",
    "    z_remaining = input_volume.shape[0] - window_size[0] # z_remaining = 78 - 32 = 46\n",
    "    window = input_volume[z_remaining:, x_remaining: , y_remaining:]\n",
    "    windows.append(window)\n",
    "\n",
    "    return windows"
   ]
  },
  {
   "cell_type": "code",
   "execution_count": 9,
   "id": "1b491126",
   "metadata": {},
   "outputs": [],
   "source": [
    "def combine_windows(window_outputs, input_volume_shape, window_size=(32, 32, 32), stride=(16, 16, 16)):\n",
    "    num_classes = window_outputs[0].shape[1] # 5\n",
    "    combined_prob = torch.zeros((num_classes,) + input_volume_shape).to(device)\n",
    "    count_matrix = torch.zeros(input_volume_shape).to(device)\n",
    "\n",
    "    z_max = input_volume_shape[0] - window_size[0] + 1\n",
    "    x_max = input_volume_shape[1] - window_size[1] + 1\n",
    "    y_max = input_volume_shape[2] - window_size[2] + 1\n",
    "\n",
    "    idx = 0\n",
    "    \n",
    "    \n",
    "    for y in range(0, y_max, stride[2]):\n",
    "        for x in range(0, x_max, stride[1]):\n",
    "            for z in range(0, z_max, stride[0]):\n",
    "                output = window_outputs[idx].squeeze() # output.cpu().numpy().shape: (5, 32, 256, 256)\n",
    "                combined_prob[:, z:z+window_size[0], x:x+window_size[1], y:y+window_size[2]] += output\n",
    "                count_matrix[z:z+window_size[0], x:x+window_size[1], y:y+window_size[2]] += 1\n",
    "                idx += 1\n",
    "                \n",
    "\n",
    "            # z_remaining\n",
    "            z_remaining = input_volume_shape[0] - window_size[0] # z_remaining = 78 - 32 = 46\n",
    "            output = window_outputs[idx].squeeze()\n",
    "            combined_prob[:, z_remaining:, x:x+window_size[1], y:y+window_size[2]] += output\n",
    "            count_matrix[z_remaining:, x:x+window_size[1], y:y+window_size[2]] += 1\n",
    "            idx += 1\n",
    "        \n",
    "        # x_remaining\n",
    "        x_remaining = input_volume_shape[1] - window_size[1] # z_remaining = 78 - 32 = 46\n",
    "        for z in range(0, z_max, stride[0]):\n",
    "            output = window_outputs[idx].squeeze()\n",
    "            combined_prob[:, z:z+window_size[0], x_remaining: , y:y+window_size[2]] += output\n",
    "            count_matrix[z:z+window_size[0], x_remaining: , y:y+window_size[2]] += 1\n",
    "            idx += 1\n",
    "            \n",
    "            \n",
    "        # x_remaining z_remaining\n",
    "        z_remaining = input_volume_shape[0] - window_size[0] # z_remaining = 78 - 32 = 46\n",
    "        output = window_outputs[idx].squeeze()\n",
    "        combined_prob[:, z_remaining:, x_remaining: , y:y+window_size[2]] += output\n",
    "        count_matrix[z_remaining:, x_remaining: , y:y+window_size[2]] += 1\n",
    "        idx += 1\n",
    "        \n",
    "    \n",
    "    # y_remaining\n",
    "    y_remaining = input_volume_shape[2] - window_size[2] # z_remaining = 78 - 32 = 46\n",
    "    for x in range(0, x_max, stride[1]):\n",
    "        for z in range(0, z_max, stride[0]):\n",
    "            output = window_outputs[idx].squeeze()\n",
    "            combined_prob[:, z:z+window_size[0], x:x+window_size[1], y_remaining: ] += output\n",
    "            count_matrix[z:z+window_size[0], x:x+window_size[1], y_remaining: ] += 1\n",
    "            idx += 1\n",
    "            \n",
    "            \n",
    "        # y_remaining z_remaining\n",
    "        z_remaining = input_volume_shape[0] - window_size[0] # z_remaining = 78 - 32 = 46\n",
    "        output = window_outputs[idx].squeeze()\n",
    "        combined_prob[:, z_remaining:, x:x+window_size[1], y_remaining:] += output\n",
    "        count_matrix[z_remaining:, x:x+window_size[1], y_remaining:] += 1\n",
    "        idx += 1\n",
    "        \n",
    "\n",
    "    # y_remaining x_remaining\n",
    "    x_remaining = input_volume_shape[1] - window_size[1] # z_remaining = 78 - 32 = 46\n",
    "    for z in range(0, z_max, stride[0]):\n",
    "        output = window_outputs[idx].squeeze()\n",
    "        combined_prob[:, z:z+window_size[0], x_remaining: , y_remaining:] += output\n",
    "        count_matrix[z:z+window_size[0], x_remaining: , y_remaining:] += 1\n",
    "        idx += 1\n",
    "\n",
    "    # y_remaining x_remaining z_remaining\n",
    "    z_remaining = input_volume_shape[0] - window_size[0] # z_remaining = 78 - 32 = 46\n",
    "    output = window_outputs[idx].squeeze()\n",
    "    combined_prob[:, z_remaining:, x_remaining: , y_remaining:] += output\n",
    "    count_matrix[z_remaining:, x_remaining: , y_remaining:] += 1\n",
    "    idx += 1\n",
    "    \n",
    "    \n",
    "    # Normalize the class probabilities\n",
    "    combined_prob /= count_matrix\n",
    "\n",
    "    # Take the argmax of the accumulated probabilities\n",
    "    combined_output = torch.argmax(combined_prob, dim=0)\n",
    "\n",
    "    return combined_output"
   ]
  },
  {
   "cell_type": "markdown",
   "id": "03b954e4",
   "metadata": {},
   "source": [
    "# Load dataset"
   ]
  },
  {
   "cell_type": "code",
   "execution_count": 10,
   "id": "bfe77c52",
   "metadata": {},
   "outputs": [],
   "source": [
    "dataloader = dataset.get_dataloader( target_ct_train_dir,  target_ct_test_dir, num_classes, batch_size,  domain = 'target' )\n",
    "\n",
    "train_dataset = dataloader[\"train\"].dataset\n",
    "#test_dataset = train_dataset\n",
    "test_dataset = dataloader[\"test\"].dataset"
   ]
  },
  {
   "cell_type": "markdown",
   "id": "984be859",
   "metadata": {},
   "source": [
    "# Load checkpoint"
   ]
  },
  {
   "cell_type": "code",
   "execution_count": 11,
   "id": "ec606877",
   "metadata": {},
   "outputs": [],
   "source": [
    "dpv3 = deplabv3.DeepLabV3(num_classes)\n",
    "classifier = networks.Classifier(num_classes)\n",
    "\n",
    "dpv3 = dpv3.to(device)\n",
    "classifier = classifier.to(device)\n",
    "\n",
    "# parallel\n",
    "dpv3 = torch.nn.DataParallel(dpv3)\n",
    "classifier = torch.nn.DataParallel(classifier)"
   ]
  },
  {
   "cell_type": "code",
   "execution_count": 13,
   "id": "0647a3f1",
   "metadata": {},
   "outputs": [
    {
     "name": "stdout",
     "output_type": "stream",
     "text": [
      "Loaded model weights\n"
     ]
    }
   ],
   "source": [
    "dpv3_checkpoint = torch.load('./record-data/' + 'adapted_dpv3_weights_' + str(epoch)  + '.pth')\n",
    "classifier_checkpoint = torch.load('./record-data/' + 'adapted_classifier_weights_' + str(epoch) + '.pth')\n",
    "\n",
    "dpv3.load_state_dict(dpv3_checkpoint)\n",
    "classifier.load_state_dict(classifier_checkpoint)\n",
    "print(\"Loaded model weights\")"
   ]
  },
  {
   "cell_type": "code",
   "execution_count": 14,
   "id": "32a16b8e",
   "metadata": {},
   "outputs": [],
   "source": [
    "with open('record-data/' + \"loss_history\" + \"_\" + str(epoch) + \".pkl\", \"rb\") as file:\n",
    "    loss_history = pickle.load(file)"
   ]
  },
  {
   "cell_type": "code",
   "execution_count": 15,
   "id": "92440d6f",
   "metadata": {},
   "outputs": [
    {
     "data": {
      "text/plain": [
       "200001"
      ]
     },
     "execution_count": 15,
     "metadata": {},
     "output_type": "execute_result"
    }
   ],
   "source": [
    "len(loss_history)"
   ]
  },
  {
   "cell_type": "markdown",
   "id": "c819a288",
   "metadata": {},
   "source": [
    "# iterate through test dataset"
   ]
  },
  {
   "cell_type": "code",
   "execution_count": 18,
   "id": "fa48400a",
   "metadata": {},
   "outputs": [],
   "source": [
    "test_output = []\n",
    "\n",
    "for img_idx in range(len(test_dataset)): # 0, 1, 2, 3\n",
    "    \n",
    "    data_vol, label_vol = test_dataset[img_idx] # data_vol: torch.Size([1, 60, 512, 512])\n",
    "    data_vol = data_vol.to(device)\n",
    "    label_vol = label_vol.to(device)\n",
    "    \n",
    "    data_vol = torch.squeeze(data_vol, 0) # data_vol:  torch.Size([60, 512, 512])\n",
    "    windows = sliding_window(data_vol) # slice 3D image based on window size and stride\n",
    "    \n",
    "    \n",
    "    \n",
    "    window_outputs = []\n",
    "    \n",
    "    dpv3.eval()\n",
    "    classifier.eval() \n",
    "    with torch.no_grad():\n",
    "        for window in windows:\n",
    "            window = window.unsqueeze(0)  # Add a channel dimension: torch.Size([1, 32, 256, 256])\n",
    "            window = torch.unsqueeze(window, 0)  # Add a batch dimension: torch.Size([1, 1, 32, 256, 256])\n",
    "            \n",
    "            # inference\n",
    "            output = dpv3(window)\n",
    "            output = classifier(output) # torch.Size([1, 5, 32, 256, 256])\n",
    "            output = F.softmax(output, dim=1)\n",
    "            # collect outputs\n",
    "            window_outputs.append(output)  # len(window_outputs) = 27\n",
    "            # window_outputs[0].cpu().numpy().shape： (1, 5, 32, 256, 256)\n",
    "\n",
    "    combined_output = combine_windows(window_outputs, data_vol.size())\n",
    "    test_output.append(combined_output)"
   ]
  },
  {
   "cell_type": "code",
   "execution_count": 19,
   "id": "a22faebf",
   "metadata": {},
   "outputs": [
    {
     "data": {
      "text/plain": [
       "294"
      ]
     },
     "execution_count": 19,
     "metadata": {},
     "output_type": "execute_result"
    }
   ],
   "source": [
    "len(window_outputs)"
   ]
  },
  {
   "cell_type": "markdown",
   "id": "c5eeca31",
   "metadata": {},
   "source": [
    "# evaluate"
   ]
  },
  {
   "cell_type": "code",
   "execution_count": 20,
   "id": "8e0bb0ee",
   "metadata": {},
   "outputs": [],
   "source": [
    "numpy_arrays = [tensor.cpu().numpy() for tensor in test_output]"
   ]
  },
  {
   "cell_type": "code",
   "execution_count": 21,
   "id": "fff8e2c2",
   "metadata": {},
   "outputs": [
    {
     "data": {
      "text/plain": [
       "(99, 102, 104)"
      ]
     },
     "execution_count": 21,
     "metadata": {},
     "output_type": "execute_result"
    }
   ],
   "source": [
    "numpy_arrays[0].shape"
   ]
  },
  {
   "cell_type": "code",
   "execution_count": 22,
   "id": "31e73eb8",
   "metadata": {},
   "outputs": [
    {
     "data": {
      "text/plain": [
       "(109, 121, 84)"
      ]
     },
     "execution_count": 22,
     "metadata": {},
     "output_type": "execute_result"
    }
   ],
   "source": [
    "numpy_arrays[1].shape"
   ]
  },
  {
   "cell_type": "code",
   "execution_count": 23,
   "id": "d349b41a",
   "metadata": {},
   "outputs": [
    {
     "data": {
      "text/plain": [
       "(159, 87, 86)"
      ]
     },
     "execution_count": 23,
     "metadata": {},
     "output_type": "execute_result"
    }
   ],
   "source": [
    "numpy_arrays[2].shape"
   ]
  },
  {
   "cell_type": "code",
   "execution_count": 24,
   "id": "938a557f",
   "metadata": {},
   "outputs": [
    {
     "data": {
      "text/plain": [
       "(124, 101, 117)"
      ]
     },
     "execution_count": 24,
     "metadata": {},
     "output_type": "execute_result"
    }
   ],
   "source": [
    "numpy_arrays[3].shape"
   ]
  },
  {
   "cell_type": "code",
   "execution_count": 25,
   "id": "0514bbad",
   "metadata": {},
   "outputs": [
    {
     "name": "stdout",
     "output_type": "stream",
     "text": [
      "(99, 102, 104)\n",
      "(99, 102, 104)\n",
      "(109, 121, 84)\n",
      "(109, 121, 84)\n",
      "(159, 87, 86)\n",
      "(159, 87, 86)\n",
      "(124, 101, 117)\n",
      "(124, 101, 117)\n"
     ]
    }
   ],
   "source": [
    "id_to_ignore = 0\n",
    "intersection = dict()\n",
    "total = dict()\n",
    "for label in label_ids:\n",
    "    intersection[label] = total[label] = 0\n",
    "\n",
    "\n",
    "for img_idx in range(len(test_dataset)): # 0, 1, 2, 3\n",
    "    \n",
    "    _, y_true = test_dataset[img_idx] # data_vol: torch.Size([1, 60, 512, 512])\n",
    "    \n",
    "    y_hat = numpy_arrays[img_idx]\n",
    "    y_true = y_true.cpu().numpy() \n",
    "    \n",
    "    print(y_hat.shape)\n",
    "    print(y_true.shape)\n",
    "    \n",
    "    for label in label_ids:\n",
    "        if label_ids[label] == id_to_ignore:\n",
    "            continue\n",
    "\n",
    "        curr_id = label_ids[label]\n",
    "\n",
    "        idx_gt = y_true == curr_id\n",
    "        idx_hat = y_hat == curr_id\n",
    "\n",
    "        intersection[label] += 2 * np.sum(idx_gt & idx_hat)\n",
    "        total[label] += np.sum(idx_gt) + np.sum(idx_hat)\n",
    "        \n",
    "    dice = []\n",
    "    res = dict()\n",
    "    for label in label_ids:\n",
    "        if label_ids[label] == id_to_ignore:\n",
    "            continue\n",
    "            \n",
    "        if total[label] != 0:\n",
    "            res[label] = intersection[label] / total[label]\n",
    "        else:\n",
    "            print('total is zero')\n",
    "            res[label] = np.float64(0)\n",
    "\n",
    "        dice.append(res[label])"
   ]
  },
  {
   "cell_type": "code",
   "execution_count": 26,
   "id": "52b16119",
   "metadata": {},
   "outputs": [
    {
     "data": {
      "text/plain": [
       "0.5665540054443352"
      ]
     },
     "execution_count": 26,
     "metadata": {},
     "output_type": "execute_result"
    }
   ],
   "source": [
    "np.mean(dice)"
   ]
  },
  {
   "cell_type": "code",
   "execution_count": 27,
   "id": "e55e477f",
   "metadata": {},
   "outputs": [
    {
     "name": "stdout",
     "output_type": "stream",
     "text": [
      "lv_myo 0.47470755435901146\n",
      "la_blood 0.5122749631763609\n",
      "lv_blood 0.6071552750408146\n",
      "aa 0.672078229201154\n"
     ]
    }
   ],
   "source": [
    "for k in res:\n",
    "    print(k, res[k])"
   ]
  },
  {
   "cell_type": "code",
   "execution_count": null,
   "id": "2b4e28ec",
   "metadata": {},
   "outputs": [],
   "source": []
  }
 ],
 "metadata": {
  "kernelspec": {
   "display_name": "Python 3 (ipykernel)",
   "language": "python",
   "name": "python3"
  },
  "language_info": {
   "codemirror_mode": {
    "name": "ipython",
    "version": 3
   },
   "file_extension": ".py",
   "mimetype": "text/x-python",
   "name": "python",
   "nbconvert_exporter": "python",
   "pygments_lexer": "ipython3",
   "version": "3.7.16"
  }
 },
 "nbformat": 4,
 "nbformat_minor": 5
}
