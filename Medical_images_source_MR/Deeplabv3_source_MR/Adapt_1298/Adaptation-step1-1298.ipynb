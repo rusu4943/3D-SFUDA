{
 "cells": [
  {
   "cell_type": "code",
   "execution_count": 1,
   "id": "65646d95-52bf-4825-9a83-3e5091a58bca",
   "metadata": {},
   "outputs": [
    {
     "data": {
      "text/plain": [
       "'/home/rs37890/.conda/envs/diffusion/bin/python'"
      ]
     },
     "execution_count": 1,
     "metadata": {},
     "output_type": "execute_result"
    }
   ],
   "source": [
    "import sys\n",
    "sys.executable"
   ]
  },
  {
   "cell_type": "code",
   "execution_count": 2,
   "id": "7394c3cd-3fde-47ad-a52a-e99e2fd09ae6",
   "metadata": {},
   "outputs": [],
   "source": [
    "sys.path.append('/scratch/rs37890/CARC/Medical_images_source_MR/Deeplabv3_source_MR/')\n",
    "sys.path.append('/scratch/rs37890/CARC/Medical_images_source_MR/Deeplabv3_source_MR/Adapt_1298/')"
   ]
  },
  {
   "cell_type": "code",
   "execution_count": 3,
   "id": "ed03e3b7",
   "metadata": {},
   "outputs": [],
   "source": [
    "import torch\n",
    "import torch.nn as nn\n",
    "import torch.nn.functional as F\n",
    "import torch.optim as optim\n",
    "import torchvision\n",
    "import torchvision.transforms as transforms\n",
    "\n",
    "\n",
    "import os\n",
    "import sys\n",
    "import h5py\n",
    "import time\n",
    "import numpy as np\n",
    "import pandas as pd\n",
    "from PIL import Image\n",
    "from IPython.display import display as ipy_display, clear_output\n",
    "import matplotlib.pyplot as plt"
   ]
  },
  {
   "cell_type": "code",
   "execution_count": 4,
   "id": "08533669",
   "metadata": {},
   "outputs": [],
   "source": [
    "# setting path\n",
    "deplabv3 = __import__('Deeplabv3')"
   ]
  },
  {
   "cell_type": "code",
   "execution_count": 5,
   "id": "ce14c0b2",
   "metadata": {},
   "outputs": [],
   "source": [
    "# setting path\n",
    "import networks"
   ]
  },
  {
   "cell_type": "code",
   "execution_count": 6,
   "id": "1d196e6d",
   "metadata": {},
   "outputs": [],
   "source": [
    "source_dataset =  __import__('step1_source_dataset')"
   ]
  },
  {
   "cell_type": "code",
   "execution_count": 7,
   "id": "9c941c78",
   "metadata": {},
   "outputs": [],
   "source": [
    "target_dataset =  __import__('step1_target_dataset')"
   ]
  },
  {
   "cell_type": "markdown",
   "id": "fd79ccec",
   "metadata": {},
   "source": [
    "# parameters"
   ]
  },
  {
   "cell_type": "code",
   "execution_count": 8,
   "id": "4fc9bf2c",
   "metadata": {},
   "outputs": [],
   "source": [
    "num_classes = 5\n",
    "batch_size = 16\n",
    "suffix = 'run4'\n",
    "epoch = 20000\n",
    "dataset_name = 'abdomen'"
   ]
  },
  {
   "cell_type": "markdown",
   "id": "29a315fc",
   "metadata": {},
   "source": [
    "# CUDA"
   ]
  },
  {
   "cell_type": "code",
   "execution_count": 9,
   "id": "c49fdc4a",
   "metadata": {},
   "outputs": [
    {
     "data": {
      "text/plain": [
       "device(type='cuda')"
      ]
     },
     "execution_count": 9,
     "metadata": {},
     "output_type": "execute_result"
    }
   ],
   "source": [
    "device = torch.device('cuda' if torch.cuda.is_available() else 'cpu')\n",
    "device"
   ]
  },
  {
   "cell_type": "markdown",
   "id": "96c2676b",
   "metadata": {},
   "source": [
    "# Path"
   ]
  },
  {
   "cell_type": "code",
   "execution_count": 10,
   "id": "3e45aa34",
   "metadata": {},
   "outputs": [],
   "source": [
    "source_ct_train_dir = \"/scratch/rs37890/CARC/Medical_images_source_MR/data/data/h5py/\"\n",
    "source_ct_test_dir = \"/scratch/rs37890/CARC/Medical_images_source_MR/data/data/h5py/\""
   ]
  },
  {
   "cell_type": "code",
   "execution_count": 11,
   "id": "a6b5aa20",
   "metadata": {},
   "outputs": [],
   "source": [
    "target_mr_train_dir = \"/scratch/rs37890/CARC/Medical_images_source_MR/data/data/h5py/\"\n",
    "target_mr_test_dir = \"/scratch/rs37890/CARC/Medical_images_source_MR/data/data/h5py/\""
   ]
  },
  {
   "cell_type": "markdown",
   "id": "998759b6",
   "metadata": {},
   "source": [
    "# label_ids_abdomen"
   ]
  },
  {
   "cell_type": "code",
   "execution_count": 12,
   "id": "4e8152a7",
   "metadata": {},
   "outputs": [],
   "source": [
    "label_ids_abdomen = {\"ignore\": 0,\n",
    "    \"lv_myo\": 1,\n",
    "    \"la_blood\": 2,\n",
    "    \"lv_blood\": 3,\n",
    "    \"aa\": 4,\n",
    "}\n",
    "label_ids = label_ids_abdomen"
   ]
  },
  {
   "cell_type": "markdown",
   "id": "54b4e212",
   "metadata": {},
   "source": [
    "# Load model "
   ]
  },
  {
   "cell_type": "code",
   "execution_count": 13,
   "id": "7e5567c0",
   "metadata": {},
   "outputs": [],
   "source": [
    "dpv3 = deplabv3.DeepLabV3(num_classes)\n",
    "classifier = networks.classifier(num_classes)\n",
    "\n",
    "dpv3 = dpv3.to(device)\n",
    "classifier = classifier.to(device)\n",
    "\n",
    "# parallel\n",
    "dpv3 = torch.nn.DataParallel(dpv3)\n",
    "classifier = torch.nn.DataParallel(classifier)"
   ]
  },
  {
   "cell_type": "code",
   "execution_count": 14,
   "id": "d8f1d4ba-425d-45ca-9198-e14e5d88cfe2",
   "metadata": {},
   "outputs": [],
   "source": [
    "root = '/scratch/rs37890/CARC/Medical_images_source_MR/Deeplabv3_source_MR/record-data/'"
   ]
  },
  {
   "cell_type": "code",
   "execution_count": 15,
   "id": "da6072fa",
   "metadata": {},
   "outputs": [
    {
     "name": "stdout",
     "output_type": "stream",
     "text": [
      "Loaded model weights\n"
     ]
    }
   ],
   "source": [
    "dpv3_checkpoint = torch.load( root + f'dpv3_weights_{epoch}.pth')\n",
    "classifier_checkpoint = torch.load( root + f'classifier_weights_{epoch}.pth')\n",
    "\n",
    "dpv3.load_state_dict(dpv3_checkpoint)\n",
    "classifier.load_state_dict(classifier_checkpoint)\n",
    "print(\"Loaded model weights\")"
   ]
  },
  {
   "cell_type": "code",
   "execution_count": 16,
   "id": "b4c56d55",
   "metadata": {},
   "outputs": [],
   "source": [
    "class Combined_Model(nn.Module):\n",
    "    \n",
    "    def __init__(self, Unet, classifier):\n",
    "        super(Combined_Model, self).__init__()\n",
    "        \n",
    "        self.Unet = Unet\n",
    "        self.classifier = classifier\n",
    "        \n",
    "    def forward(self, x):\n",
    "        \n",
    "        output1 = self.Unet(x)\n",
    "        output2 = self.classifier(output1)\n",
    "        \n",
    "        return output2"
   ]
  },
  {
   "cell_type": "code",
   "execution_count": 17,
   "id": "f6864610",
   "metadata": {},
   "outputs": [],
   "source": [
    "# Create the combined model\n",
    "combined = Combined_Model(dpv3, classifier)\n",
    "combined = combined.to(device)"
   ]
  },
  {
   "cell_type": "markdown",
   "id": "2f60bfdb",
   "metadata": {},
   "source": [
    "# Dataset"
   ]
  },
  {
   "cell_type": "code",
   "execution_count": 18,
   "id": "724fc04c",
   "metadata": {},
   "outputs": [],
   "source": [
    "dataloader = source_dataset.get_dataloader( source_ct_train_dir,  source_ct_test_dir, \\\n",
    "                                           num_classes, batch_size, domain = 'source' )\n",
    "\n",
    "source_train_dataset = dataloader[\"train\"].dataset\n",
    "source_test_dataset = dataloader[\"test\"].dataset"
   ]
  },
  {
   "cell_type": "code",
   "execution_count": 19,
   "id": "7fbc4bfc",
   "metadata": {},
   "outputs": [],
   "source": [
    "dataloader = target_dataset.get_dataloader( target_mr_train_dir,  target_mr_test_dir, num_classes, \\\n",
    "                                           batch_size, domain = 'target' )\n",
    "\n",
    "target_train_dataset = dataloader[\"train\"].dataset\n",
    "target_test_dataset = dataloader[\"test\"].dataset"
   ]
  },
  {
   "cell_type": "markdown",
   "id": "c22b14d9",
   "metadata": {},
   "source": [
    "# learn gaussians"
   ]
  },
  {
   "cell_type": "code",
   "execution_count": 20,
   "id": "c55f2dbd",
   "metadata": {},
   "outputs": [],
   "source": [
    "def softmax(x):\n",
    "    e_x = np.exp(x - np.max(x, axis=-1, keepdims=True))\n",
    "    return e_x / np.sum(e_x, axis=-1, keepdims=True)"
   ]
  },
  {
   "cell_type": "code",
   "execution_count": 21,
   "id": "fdc7843d",
   "metadata": {},
   "outputs": [],
   "source": [
    "def learn_gaussians(data, y_true, z_model, sm_model, batch_size, label_ids, rho=.97, initial_means=None):    \n",
    "    \n",
    "    # z_model: deeplab v3\n",
    "    # sm_model: combined\n",
    "    \n",
    "    num_classes = len(label_ids)\n",
    "    \n",
    "    means = initial_means\n",
    "    if initial_means is None:\n",
    "        means = np.zeros((num_classes, num_classes)) # (5,5)\n",
    "        \n",
    "    covs = np.zeros((num_classes, num_classes, num_classes)) # shapeL (5, 5, 5)\n",
    "    cnt = np.zeros(num_classes) # shape: (5,)\n",
    "    \n",
    "    \n",
    "    data = data.transpose((2, 0, 1)) # Before is [256, 256, 32] after is [32, 256, 256]\n",
    "    data = np.expand_dims(data, axis=0) # [1, 32, 256, 256]\n",
    "    data = np.expand_dims(data, axis=0) # [1, 1, 32, 256, 256]\n",
    "    \n",
    "    y_true = y_true.transpose((2, 0, 1)) # Before is [256, 256, 32] after is [32, 256, 256]\n",
    "    y_true = np.expand_dims(y_true, axis=0) # [1, 32, 256, 256]\n",
    "    \n",
    "    \n",
    "    assert len(data.shape) == 5\n",
    "    assert len(y_true.shape) == 4\n",
    "    \n",
    "    assert data.shape[2] == 32\n",
    "    assert y_true.shape[1] == 32\n",
    "    \n",
    "    num_of_correct_prediction_each_classes = np.zeros(5, dtype=int)\n",
    "    \n",
    "    z_model.eval()\n",
    "    sm_model.eval()\n",
    "\n",
    "    with torch.no_grad():\n",
    "\n",
    "        input_data = torch.from_numpy(data).to(device) # input_data:  torch.Size([1, 1, 32, 256, 256]) \n",
    "        input_data = input_data.float()\n",
    "        \n",
    "        # Predict latent features\n",
    "        zs = z_model(input_data) # (8, 5, 32, 256, 256)\n",
    "        zs = zs.cpu()\n",
    "        zs = zs.permute(0, 2, 3, 4, 1)\n",
    "        zs = zs.reshape(-1, num_classes).detach().numpy() # (8 * 32 * 256 * 256, 5)\n",
    "\n",
    "\n",
    "        # Get softmax outputs\n",
    "        # (48, 5, 32, 256, 256) => (32 * 256 * 256 * 8, 5)\n",
    "        y_hat = sm_model(input_data).softmax(dim = 1).cpu()\n",
    "        y_hat = y_hat.permute(0, 2, 3, 4, 1)\n",
    "        y_hat = y_hat.reshape(-1, num_classes).detach().numpy()\n",
    "            \n",
    "        # downwards across rows (axis 0) \n",
    "        # running horizontally across columns (axis 1) = (axis=-1)\n",
    "        # Because of continual slice, the vmax likes  [0.2908752  0.29087755 0.29087812 ... 0.29117948 0.2911795  0.29118514]\n",
    "        vmax = np.max(y_hat, axis = 1) \n",
    "        y_hat = np.argmax(y_hat, axis = 1) \n",
    "        \n",
    "        # before ravel: (8, 32, 256, 256);\n",
    "        y_t = y_true.ravel()\n",
    "        \n",
    "        # Keep a few exemplars per class\n",
    "        for label in label_ids:\n",
    "            c = label_ids[label]\n",
    "\n",
    "            ind = (y_t == c) & (y_hat == c) & (vmax > rho)\n",
    "            \n",
    "            if np.sum(ind) > 0:\n",
    "                # We have at least one sample\n",
    "                curr_data = zs[ind]\n",
    "                num_of_correct_prediction_each_classes[c] = np.sum(ind)\n",
    "\n",
    "                if initial_means is None:\n",
    "                    # Only update means and counts\n",
    "\n",
    "                    # 1d + 1d == (5, ) + (5, )\n",
    "                    means[c] += np.sum(curr_data, axis=0)\n",
    "                    cnt[c] += np.sum(ind)\n",
    "\n",
    "                else:\n",
    "                    # ! here means are scaled to their final values\n",
    "                    # Example: \n",
    "                    # curr_data.shape = (8, 5); 8 is the sum of ind\n",
    "                    # means[c].shape:  (5,)\n",
    "                    # curr_data - means[c]:  (8, 5)\n",
    "                    # np.transpose(curr_data - means[c]:  (5, 8)\n",
    "                    # np.dot = (5, 8) * (8, 5) = (5, 5)\n",
    "\n",
    "                    sigma = np.dot(np.transpose(curr_data - means[c]), curr_data - means[c])\n",
    "                    assert sigma.shape == (num_classes, num_classes)\n",
    "                    covs[c] += sigma\n",
    "                    cnt[c] += np.sum(ind)\n",
    "        \n",
    "\n",
    "    \n",
    "    # Normalize results\n",
    "    for i in range(num_classes):\n",
    "        if initial_means is None:\n",
    "            means[i] /= (cnt[i] + 1e-10)\n",
    "        covs[i] /= (cnt[i] - 1)\n",
    "        \n",
    "    assert np.isnan(means).any() == False\n",
    "    assert np.isnan(cnt).any() == False\n",
    "    \n",
    "    return means, covs, cnt, num_of_correct_prediction_each_classes"
   ]
  },
  {
   "cell_type": "markdown",
   "id": "3a84b21e",
   "metadata": {},
   "source": [
    "# Find the most similarity based on label space"
   ]
  },
  {
   "cell_type": "code",
   "execution_count": 22,
   "id": "b8818f69",
   "metadata": {},
   "outputs": [],
   "source": [
    "filename = 'Gaussian_similarity_dataframe_1298.csv'\n",
    "\n",
    "if os.path.exists(filename):\n",
    "    \n",
    "    df = pd.read_csv(filename)\n",
    "    restart_image_idx = df.iloc[-1]['source_images_idx']\n",
    "    restart_i = df.iloc[-1]['source_i']\n",
    "    restart_j = df.iloc[-1]['source_j']\n",
    "    restart_k = df.iloc[-1]['source_k']\n",
    "    \n",
    "else:\n",
    "    df = pd.DataFrame(columns=[\"source_images_idx\", \"source_i\", \"source_j\", \"source_k\", \n",
    "                               \"means\", \"covs\", \"label_frequency\", \"perdict_frequency\"])\n",
    "    restart_image_idx = 0\n",
    "    restart_i = 0\n",
    "    restart_j = 0\n",
    "    restart_k = 0"
   ]
  },
  {
   "cell_type": "code",
   "execution_count": 23,
   "id": "385a7d14",
   "metadata": {
    "scrolled": true
   },
   "outputs": [
    {
     "name": "stdout",
     "output_type": "stream",
     "text": [
      "0 0 0 0\n",
      "0\n"
     ]
    },
    {
     "name": "stderr",
     "output_type": "stream",
     "text": [
      "/home/rs37890/.conda/envs/diffusion/lib/python3.9/site-packages/torch/nn/modules/conv.py:605: UserWarning: Applied workaround for CuDNN issue, install nvrtc.so (Triggered internally at /opt/conda/conda-bld/pytorch_1702400441250/work/aten/src/ATen/native/cudnn/Conv_v8.cpp:80.)\n",
      "  return F.conv3d(\n",
      "/tmp/ipykernel_3842719/849445217.py:76: FutureWarning: The frame.append method is deprecated and will be removed from pandas in a future version. Use pandas.concat instead.\n",
      "  df = df.append({\"source_images_idx\": source_idx,\n",
      "/tmp/ipykernel_3842719/849445217.py:76: FutureWarning: The frame.append method is deprecated and will be removed from pandas in a future version. Use pandas.concat instead.\n",
      "  df = df.append({\"source_images_idx\": source_idx,\n"
     ]
    },
    {
     "name": "stdout",
     "output_type": "stream",
     "text": [
      "0 0 0 107\n",
      "1\n",
      "0 0 0 214\n",
      "2\n",
      "0 0 0 321\n",
      "3\n",
      "0 0 0 322\n",
      "4\n",
      "0 0 4 0\n",
      "5\n"
     ]
    },
    {
     "name": "stderr",
     "output_type": "stream",
     "text": [
      "/tmp/ipykernel_3842719/849445217.py:76: FutureWarning: The frame.append method is deprecated and will be removed from pandas in a future version. Use pandas.concat instead.\n",
      "  df = df.append({\"source_images_idx\": source_idx,\n",
      "/tmp/ipykernel_3842719/849445217.py:76: FutureWarning: The frame.append method is deprecated and will be removed from pandas in a future version. Use pandas.concat instead.\n",
      "  df = df.append({\"source_images_idx\": source_idx,\n",
      "/tmp/ipykernel_3842719/849445217.py:76: FutureWarning: The frame.append method is deprecated and will be removed from pandas in a future version. Use pandas.concat instead.\n",
      "  df = df.append({\"source_images_idx\": source_idx,\n",
      "/tmp/ipykernel_3842719/849445217.py:76: FutureWarning: The frame.append method is deprecated and will be removed from pandas in a future version. Use pandas.concat instead.\n",
      "  df = df.append({\"source_images_idx\": source_idx,\n",
      "/tmp/ipykernel_3842719/849445217.py:76: FutureWarning: The frame.append method is deprecated and will be removed from pandas in a future version. Use pandas.concat instead.\n",
      "  df = df.append({\"source_images_idx\": source_idx,\n"
     ]
    },
    {
     "name": "stdout",
     "output_type": "stream",
     "text": [
      "0 0 4 107\n",
      "6\n",
      "0 0 4 214\n",
      "7\n",
      "0 0 4 321\n",
      "8\n",
      "0 0 4 322\n",
      "9\n",
      "0 0 8 0\n",
      "10\n"
     ]
    },
    {
     "name": "stderr",
     "output_type": "stream",
     "text": [
      "/tmp/ipykernel_3842719/849445217.py:76: FutureWarning: The frame.append method is deprecated and will be removed from pandas in a future version. Use pandas.concat instead.\n",
      "  df = df.append({\"source_images_idx\": source_idx,\n",
      "/tmp/ipykernel_3842719/849445217.py:76: FutureWarning: The frame.append method is deprecated and will be removed from pandas in a future version. Use pandas.concat instead.\n",
      "  df = df.append({\"source_images_idx\": source_idx,\n",
      "/tmp/ipykernel_3842719/849445217.py:76: FutureWarning: The frame.append method is deprecated and will be removed from pandas in a future version. Use pandas.concat instead.\n",
      "  df = df.append({\"source_images_idx\": source_idx,\n",
      "/tmp/ipykernel_3842719/849445217.py:76: FutureWarning: The frame.append method is deprecated and will be removed from pandas in a future version. Use pandas.concat instead.\n",
      "  df = df.append({\"source_images_idx\": source_idx,\n",
      "/tmp/ipykernel_3842719/849445217.py:76: FutureWarning: The frame.append method is deprecated and will be removed from pandas in a future version. Use pandas.concat instead.\n",
      "  df = df.append({\"source_images_idx\": source_idx,\n"
     ]
    },
    {
     "name": "stdout",
     "output_type": "stream",
     "text": [
      "0 0 8 107\n",
      "11\n",
      "0 0 8 214\n",
      "12\n",
      "0 0 8 321\n",
      "13\n",
      "0 0 8 322\n",
      "14\n",
      "0 0 11 0\n",
      "15\n"
     ]
    },
    {
     "name": "stderr",
     "output_type": "stream",
     "text": [
      "/tmp/ipykernel_3842719/849445217.py:76: FutureWarning: The frame.append method is deprecated and will be removed from pandas in a future version. Use pandas.concat instead.\n",
      "  df = df.append({\"source_images_idx\": source_idx,\n",
      "/tmp/ipykernel_3842719/849445217.py:76: FutureWarning: The frame.append method is deprecated and will be removed from pandas in a future version. Use pandas.concat instead.\n",
      "  df = df.append({\"source_images_idx\": source_idx,\n",
      "/tmp/ipykernel_3842719/849445217.py:76: FutureWarning: The frame.append method is deprecated and will be removed from pandas in a future version. Use pandas.concat instead.\n",
      "  df = df.append({\"source_images_idx\": source_idx,\n",
      "/tmp/ipykernel_3842719/849445217.py:76: FutureWarning: The frame.append method is deprecated and will be removed from pandas in a future version. Use pandas.concat instead.\n",
      "  df = df.append({\"source_images_idx\": source_idx,\n",
      "/tmp/ipykernel_3842719/849445217.py:76: FutureWarning: The frame.append method is deprecated and will be removed from pandas in a future version. Use pandas.concat instead.\n",
      "  df = df.append({\"source_images_idx\": source_idx,\n"
     ]
    },
    {
     "name": "stdout",
     "output_type": "stream",
     "text": [
      "0 0 11 107\n",
      "16\n",
      "0 0 11 214\n",
      "17\n",
      "0 0 11 321\n",
      "18\n",
      "0 0 11 322\n",
      "19\n",
      "0 36 0 0\n",
      "20\n"
     ]
    },
    {
     "name": "stderr",
     "output_type": "stream",
     "text": [
      "/tmp/ipykernel_3842719/849445217.py:76: FutureWarning: The frame.append method is deprecated and will be removed from pandas in a future version. Use pandas.concat instead.\n",
      "  df = df.append({\"source_images_idx\": source_idx,\n",
      "/tmp/ipykernel_3842719/849445217.py:76: FutureWarning: The frame.append method is deprecated and will be removed from pandas in a future version. Use pandas.concat instead.\n",
      "  df = df.append({\"source_images_idx\": source_idx,\n",
      "/tmp/ipykernel_3842719/849445217.py:76: FutureWarning: The frame.append method is deprecated and will be removed from pandas in a future version. Use pandas.concat instead.\n",
      "  df = df.append({\"source_images_idx\": source_idx,\n",
      "/tmp/ipykernel_3842719/849445217.py:76: FutureWarning: The frame.append method is deprecated and will be removed from pandas in a future version. Use pandas.concat instead.\n",
      "  df = df.append({\"source_images_idx\": source_idx,\n",
      "/tmp/ipykernel_3842719/849445217.py:76: FutureWarning: The frame.append method is deprecated and will be removed from pandas in a future version. Use pandas.concat instead.\n",
      "  df = df.append({\"source_images_idx\": source_idx,\n"
     ]
    },
    {
     "name": "stdout",
     "output_type": "stream",
     "text": [
      "0 36 0 107\n",
      "21\n",
      "0 36 0 214\n",
      "22\n",
      "0 36 0 321\n",
      "23\n",
      "0 36 0 322\n",
      "24\n",
      "0 36 4 0\n",
      "25\n"
     ]
    },
    {
     "name": "stderr",
     "output_type": "stream",
     "text": [
      "/tmp/ipykernel_3842719/849445217.py:76: FutureWarning: The frame.append method is deprecated and will be removed from pandas in a future version. Use pandas.concat instead.\n",
      "  df = df.append({\"source_images_idx\": source_idx,\n",
      "/tmp/ipykernel_3842719/849445217.py:76: FutureWarning: The frame.append method is deprecated and will be removed from pandas in a future version. Use pandas.concat instead.\n",
      "  df = df.append({\"source_images_idx\": source_idx,\n",
      "/tmp/ipykernel_3842719/849445217.py:76: FutureWarning: The frame.append method is deprecated and will be removed from pandas in a future version. Use pandas.concat instead.\n",
      "  df = df.append({\"source_images_idx\": source_idx,\n",
      "/tmp/ipykernel_3842719/849445217.py:76: FutureWarning: The frame.append method is deprecated and will be removed from pandas in a future version. Use pandas.concat instead.\n",
      "  df = df.append({\"source_images_idx\": source_idx,\n",
      "/tmp/ipykernel_3842719/849445217.py:76: FutureWarning: The frame.append method is deprecated and will be removed from pandas in a future version. Use pandas.concat instead.\n",
      "  df = df.append({\"source_images_idx\": source_idx,\n"
     ]
    },
    {
     "name": "stdout",
     "output_type": "stream",
     "text": [
      "0 36 4 107\n",
      "26\n",
      "0 36 4 214\n",
      "27\n",
      "0 36 4 321\n",
      "28\n",
      "0 36 4 322\n",
      "29\n",
      "0 36 8 0\n",
      "30\n"
     ]
    },
    {
     "name": "stderr",
     "output_type": "stream",
     "text": [
      "/tmp/ipykernel_3842719/849445217.py:76: FutureWarning: The frame.append method is deprecated and will be removed from pandas in a future version. Use pandas.concat instead.\n",
      "  df = df.append({\"source_images_idx\": source_idx,\n",
      "/tmp/ipykernel_3842719/849445217.py:76: FutureWarning: The frame.append method is deprecated and will be removed from pandas in a future version. Use pandas.concat instead.\n",
      "  df = df.append({\"source_images_idx\": source_idx,\n",
      "/tmp/ipykernel_3842719/849445217.py:76: FutureWarning: The frame.append method is deprecated and will be removed from pandas in a future version. Use pandas.concat instead.\n",
      "  df = df.append({\"source_images_idx\": source_idx,\n",
      "/tmp/ipykernel_3842719/849445217.py:76: FutureWarning: The frame.append method is deprecated and will be removed from pandas in a future version. Use pandas.concat instead.\n",
      "  df = df.append({\"source_images_idx\": source_idx,\n",
      "/tmp/ipykernel_3842719/849445217.py:76: FutureWarning: The frame.append method is deprecated and will be removed from pandas in a future version. Use pandas.concat instead.\n",
      "  df = df.append({\"source_images_idx\": source_idx,\n"
     ]
    },
    {
     "name": "stdout",
     "output_type": "stream",
     "text": [
      "0 36 8 107\n",
      "31\n",
      "0 36 8 214\n",
      "32\n",
      "0 36 8 321\n",
      "33\n",
      "0 36 8 322\n",
      "34\n",
      "0 36 11 0\n",
      "35\n"
     ]
    },
    {
     "name": "stderr",
     "output_type": "stream",
     "text": [
      "/tmp/ipykernel_3842719/849445217.py:76: FutureWarning: The frame.append method is deprecated and will be removed from pandas in a future version. Use pandas.concat instead.\n",
      "  df = df.append({\"source_images_idx\": source_idx,\n",
      "/tmp/ipykernel_3842719/849445217.py:76: FutureWarning: The frame.append method is deprecated and will be removed from pandas in a future version. Use pandas.concat instead.\n",
      "  df = df.append({\"source_images_idx\": source_idx,\n",
      "/tmp/ipykernel_3842719/849445217.py:76: FutureWarning: The frame.append method is deprecated and will be removed from pandas in a future version. Use pandas.concat instead.\n",
      "  df = df.append({\"source_images_idx\": source_idx,\n",
      "/tmp/ipykernel_3842719/849445217.py:76: FutureWarning: The frame.append method is deprecated and will be removed from pandas in a future version. Use pandas.concat instead.\n",
      "  df = df.append({\"source_images_idx\": source_idx,\n",
      "/tmp/ipykernel_3842719/849445217.py:76: FutureWarning: The frame.append method is deprecated and will be removed from pandas in a future version. Use pandas.concat instead.\n",
      "  df = df.append({\"source_images_idx\": source_idx,\n"
     ]
    },
    {
     "name": "stdout",
     "output_type": "stream",
     "text": [
      "0 36 11 107\n",
      "36\n",
      "0 36 11 214\n",
      "37\n",
      "0 36 11 321\n",
      "38\n",
      "0 36 11 322\n",
      "39\n"
     ]
    },
    {
     "name": "stderr",
     "output_type": "stream",
     "text": [
      "/tmp/ipykernel_3842719/849445217.py:76: FutureWarning: The frame.append method is deprecated and will be removed from pandas in a future version. Use pandas.concat instead.\n",
      "  df = df.append({\"source_images_idx\": source_idx,\n",
      "/tmp/ipykernel_3842719/849445217.py:76: FutureWarning: The frame.append method is deprecated and will be removed from pandas in a future version. Use pandas.concat instead.\n",
      "  df = df.append({\"source_images_idx\": source_idx,\n",
      "/tmp/ipykernel_3842719/849445217.py:76: FutureWarning: The frame.append method is deprecated and will be removed from pandas in a future version. Use pandas.concat instead.\n",
      "  df = df.append({\"source_images_idx\": source_idx,\n",
      "/tmp/ipykernel_3842719/849445217.py:76: FutureWarning: The frame.append method is deprecated and will be removed from pandas in a future version. Use pandas.concat instead.\n",
      "  df = df.append({\"source_images_idx\": source_idx,\n"
     ]
    },
    {
     "name": "stdout",
     "output_type": "stream",
     "text": [
      "0 72 0 0\n",
      "40\n",
      "0 72 0 107\n",
      "41\n",
      "0 72 0 214\n",
      "42\n"
     ]
    },
    {
     "name": "stderr",
     "output_type": "stream",
     "text": [
      "/tmp/ipykernel_3842719/849445217.py:76: FutureWarning: The frame.append method is deprecated and will be removed from pandas in a future version. Use pandas.concat instead.\n",
      "  df = df.append({\"source_images_idx\": source_idx,\n",
      "/tmp/ipykernel_3842719/849445217.py:76: FutureWarning: The frame.append method is deprecated and will be removed from pandas in a future version. Use pandas.concat instead.\n",
      "  df = df.append({\"source_images_idx\": source_idx,\n",
      "/tmp/ipykernel_3842719/849445217.py:76: FutureWarning: The frame.append method is deprecated and will be removed from pandas in a future version. Use pandas.concat instead.\n",
      "  df = df.append({\"source_images_idx\": source_idx,\n"
     ]
    },
    {
     "name": "stdout",
     "output_type": "stream",
     "text": [
      "0 72 0 321\n",
      "43\n",
      "0 72 0 322\n",
      "44\n",
      "0 72 4 0\n",
      "45\n"
     ]
    },
    {
     "name": "stderr",
     "output_type": "stream",
     "text": [
      "/tmp/ipykernel_3842719/849445217.py:76: FutureWarning: The frame.append method is deprecated and will be removed from pandas in a future version. Use pandas.concat instead.\n",
      "  df = df.append({\"source_images_idx\": source_idx,\n",
      "/tmp/ipykernel_3842719/849445217.py:76: FutureWarning: The frame.append method is deprecated and will be removed from pandas in a future version. Use pandas.concat instead.\n",
      "  df = df.append({\"source_images_idx\": source_idx,\n",
      "/tmp/ipykernel_3842719/849445217.py:76: FutureWarning: The frame.append method is deprecated and will be removed from pandas in a future version. Use pandas.concat instead.\n",
      "  df = df.append({\"source_images_idx\": source_idx,\n"
     ]
    },
    {
     "name": "stdout",
     "output_type": "stream",
     "text": [
      "0 72 4 107\n",
      "46\n",
      "0 72 4 214\n",
      "47\n",
      "0 72 4 321\n",
      "48\n"
     ]
    },
    {
     "name": "stderr",
     "output_type": "stream",
     "text": [
      "/tmp/ipykernel_3842719/849445217.py:76: FutureWarning: The frame.append method is deprecated and will be removed from pandas in a future version. Use pandas.concat instead.\n",
      "  df = df.append({\"source_images_idx\": source_idx,\n",
      "/tmp/ipykernel_3842719/849445217.py:76: FutureWarning: The frame.append method is deprecated and will be removed from pandas in a future version. Use pandas.concat instead.\n",
      "  df = df.append({\"source_images_idx\": source_idx,\n",
      "/tmp/ipykernel_3842719/849445217.py:76: FutureWarning: The frame.append method is deprecated and will be removed from pandas in a future version. Use pandas.concat instead.\n",
      "  df = df.append({\"source_images_idx\": source_idx,\n"
     ]
    },
    {
     "name": "stdout",
     "output_type": "stream",
     "text": [
      "0 72 4 322\n",
      "49\n",
      "0 72 8 0\n",
      "50\n",
      "0 72 8 107\n",
      "51\n"
     ]
    },
    {
     "name": "stderr",
     "output_type": "stream",
     "text": [
      "/tmp/ipykernel_3842719/849445217.py:76: FutureWarning: The frame.append method is deprecated and will be removed from pandas in a future version. Use pandas.concat instead.\n",
      "  df = df.append({\"source_images_idx\": source_idx,\n",
      "/tmp/ipykernel_3842719/849445217.py:76: FutureWarning: The frame.append method is deprecated and will be removed from pandas in a future version. Use pandas.concat instead.\n",
      "  df = df.append({\"source_images_idx\": source_idx,\n",
      "/tmp/ipykernel_3842719/849445217.py:76: FutureWarning: The frame.append method is deprecated and will be removed from pandas in a future version. Use pandas.concat instead.\n",
      "  df = df.append({\"source_images_idx\": source_idx,\n"
     ]
    },
    {
     "name": "stdout",
     "output_type": "stream",
     "text": [
      "0 72 8 214\n",
      "52\n",
      "0 72 8 321\n",
      "53\n",
      "0 72 8 322\n",
      "54\n"
     ]
    },
    {
     "name": "stderr",
     "output_type": "stream",
     "text": [
      "/tmp/ipykernel_3842719/849445217.py:76: FutureWarning: The frame.append method is deprecated and will be removed from pandas in a future version. Use pandas.concat instead.\n",
      "  df = df.append({\"source_images_idx\": source_idx,\n",
      "/tmp/ipykernel_3842719/849445217.py:76: FutureWarning: The frame.append method is deprecated and will be removed from pandas in a future version. Use pandas.concat instead.\n",
      "  df = df.append({\"source_images_idx\": source_idx,\n",
      "/tmp/ipykernel_3842719/849445217.py:76: FutureWarning: The frame.append method is deprecated and will be removed from pandas in a future version. Use pandas.concat instead.\n",
      "  df = df.append({\"source_images_idx\": source_idx,\n"
     ]
    },
    {
     "name": "stdout",
     "output_type": "stream",
     "text": [
      "0 72 11 0\n",
      "55\n",
      "0 72 11 107\n",
      "56\n",
      "0 72 11 214\n",
      "57\n"
     ]
    },
    {
     "name": "stderr",
     "output_type": "stream",
     "text": [
      "/tmp/ipykernel_3842719/849445217.py:76: FutureWarning: The frame.append method is deprecated and will be removed from pandas in a future version. Use pandas.concat instead.\n",
      "  df = df.append({\"source_images_idx\": source_idx,\n",
      "/tmp/ipykernel_3842719/849445217.py:76: FutureWarning: The frame.append method is deprecated and will be removed from pandas in a future version. Use pandas.concat instead.\n",
      "  df = df.append({\"source_images_idx\": source_idx,\n",
      "/tmp/ipykernel_3842719/849445217.py:76: FutureWarning: The frame.append method is deprecated and will be removed from pandas in a future version. Use pandas.concat instead.\n",
      "  df = df.append({\"source_images_idx\": source_idx,\n"
     ]
    },
    {
     "name": "stdout",
     "output_type": "stream",
     "text": [
      "0 72 11 321\n",
      "58\n",
      "0 72 11 322\n",
      "59\n",
      "0 108 0 0\n",
      "60\n",
      "0 108 0 107\n",
      "61\n"
     ]
    },
    {
     "name": "stderr",
     "output_type": "stream",
     "text": [
      "/tmp/ipykernel_3842719/849445217.py:76: FutureWarning: The frame.append method is deprecated and will be removed from pandas in a future version. Use pandas.concat instead.\n",
      "  df = df.append({\"source_images_idx\": source_idx,\n",
      "/tmp/ipykernel_3842719/849445217.py:76: FutureWarning: The frame.append method is deprecated and will be removed from pandas in a future version. Use pandas.concat instead.\n",
      "  df = df.append({\"source_images_idx\": source_idx,\n",
      "/tmp/ipykernel_3842719/849445217.py:76: FutureWarning: The frame.append method is deprecated and will be removed from pandas in a future version. Use pandas.concat instead.\n",
      "  df = df.append({\"source_images_idx\": source_idx,\n",
      "/tmp/ipykernel_3842719/849445217.py:76: FutureWarning: The frame.append method is deprecated and will be removed from pandas in a future version. Use pandas.concat instead.\n",
      "  df = df.append({\"source_images_idx\": source_idx,\n",
      "/tmp/ipykernel_3842719/849445217.py:76: FutureWarning: The frame.append method is deprecated and will be removed from pandas in a future version. Use pandas.concat instead.\n",
      "  df = df.append({\"source_images_idx\": source_idx,\n"
     ]
    },
    {
     "name": "stdout",
     "output_type": "stream",
     "text": [
      "0 108 0 214\n",
      "62\n",
      "0 108 0 321\n",
      "63\n",
      "0 108 0 322\n",
      "64\n",
      "0 108 4 0\n",
      "65\n",
      "0 108 4 107\n",
      "66\n"
     ]
    },
    {
     "name": "stderr",
     "output_type": "stream",
     "text": [
      "/tmp/ipykernel_3842719/849445217.py:76: FutureWarning: The frame.append method is deprecated and will be removed from pandas in a future version. Use pandas.concat instead.\n",
      "  df = df.append({\"source_images_idx\": source_idx,\n",
      "/tmp/ipykernel_3842719/849445217.py:76: FutureWarning: The frame.append method is deprecated and will be removed from pandas in a future version. Use pandas.concat instead.\n",
      "  df = df.append({\"source_images_idx\": source_idx,\n",
      "/tmp/ipykernel_3842719/849445217.py:76: FutureWarning: The frame.append method is deprecated and will be removed from pandas in a future version. Use pandas.concat instead.\n",
      "  df = df.append({\"source_images_idx\": source_idx,\n",
      "/tmp/ipykernel_3842719/849445217.py:76: FutureWarning: The frame.append method is deprecated and will be removed from pandas in a future version. Use pandas.concat instead.\n",
      "  df = df.append({\"source_images_idx\": source_idx,\n",
      "/tmp/ipykernel_3842719/849445217.py:76: FutureWarning: The frame.append method is deprecated and will be removed from pandas in a future version. Use pandas.concat instead.\n",
      "  df = df.append({\"source_images_idx\": source_idx,\n"
     ]
    },
    {
     "name": "stdout",
     "output_type": "stream",
     "text": [
      "0 108 4 214\n",
      "67\n",
      "0 108 4 321\n",
      "68\n",
      "0 108 4 322\n",
      "69\n",
      "0 108 8 0\n",
      "70\n",
      "0 108 8 107\n",
      "71\n"
     ]
    },
    {
     "name": "stderr",
     "output_type": "stream",
     "text": [
      "/tmp/ipykernel_3842719/849445217.py:76: FutureWarning: The frame.append method is deprecated and will be removed from pandas in a future version. Use pandas.concat instead.\n",
      "  df = df.append({\"source_images_idx\": source_idx,\n",
      "/tmp/ipykernel_3842719/849445217.py:76: FutureWarning: The frame.append method is deprecated and will be removed from pandas in a future version. Use pandas.concat instead.\n",
      "  df = df.append({\"source_images_idx\": source_idx,\n",
      "/tmp/ipykernel_3842719/849445217.py:76: FutureWarning: The frame.append method is deprecated and will be removed from pandas in a future version. Use pandas.concat instead.\n",
      "  df = df.append({\"source_images_idx\": source_idx,\n",
      "/tmp/ipykernel_3842719/849445217.py:76: FutureWarning: The frame.append method is deprecated and will be removed from pandas in a future version. Use pandas.concat instead.\n",
      "  df = df.append({\"source_images_idx\": source_idx,\n",
      "/tmp/ipykernel_3842719/849445217.py:76: FutureWarning: The frame.append method is deprecated and will be removed from pandas in a future version. Use pandas.concat instead.\n",
      "  df = df.append({\"source_images_idx\": source_idx,\n"
     ]
    },
    {
     "name": "stdout",
     "output_type": "stream",
     "text": [
      "0 108 8 214\n",
      "72\n",
      "0 108 8 321\n",
      "73\n",
      "0 108 8 322\n",
      "74\n",
      "0 108 11 0\n",
      "75\n",
      "0 108 11 107\n",
      "76\n"
     ]
    },
    {
     "name": "stderr",
     "output_type": "stream",
     "text": [
      "/tmp/ipykernel_3842719/849445217.py:76: FutureWarning: The frame.append method is deprecated and will be removed from pandas in a future version. Use pandas.concat instead.\n",
      "  df = df.append({\"source_images_idx\": source_idx,\n",
      "/tmp/ipykernel_3842719/849445217.py:76: FutureWarning: The frame.append method is deprecated and will be removed from pandas in a future version. Use pandas.concat instead.\n",
      "  df = df.append({\"source_images_idx\": source_idx,\n",
      "/tmp/ipykernel_3842719/849445217.py:76: FutureWarning: The frame.append method is deprecated and will be removed from pandas in a future version. Use pandas.concat instead.\n",
      "  df = df.append({\"source_images_idx\": source_idx,\n",
      "/tmp/ipykernel_3842719/849445217.py:76: FutureWarning: The frame.append method is deprecated and will be removed from pandas in a future version. Use pandas.concat instead.\n",
      "  df = df.append({\"source_images_idx\": source_idx,\n",
      "/tmp/ipykernel_3842719/849445217.py:76: FutureWarning: The frame.append method is deprecated and will be removed from pandas in a future version. Use pandas.concat instead.\n",
      "  df = df.append({\"source_images_idx\": source_idx,\n"
     ]
    },
    {
     "name": "stdout",
     "output_type": "stream",
     "text": [
      "0 108 11 214\n",
      "77\n",
      "0 108 11 321\n",
      "78\n",
      "0 108 11 322\n",
      "79\n",
      "1 0 0 0\n",
      "80\n",
      "1 0 0 45\n",
      "81\n"
     ]
    },
    {
     "name": "stderr",
     "output_type": "stream",
     "text": [
      "/tmp/ipykernel_3842719/849445217.py:76: FutureWarning: The frame.append method is deprecated and will be removed from pandas in a future version. Use pandas.concat instead.\n",
      "  df = df.append({\"source_images_idx\": source_idx,\n",
      "/tmp/ipykernel_3842719/849445217.py:76: FutureWarning: The frame.append method is deprecated and will be removed from pandas in a future version. Use pandas.concat instead.\n",
      "  df = df.append({\"source_images_idx\": source_idx,\n",
      "/tmp/ipykernel_3842719/849445217.py:76: FutureWarning: The frame.append method is deprecated and will be removed from pandas in a future version. Use pandas.concat instead.\n",
      "  df = df.append({\"source_images_idx\": source_idx,\n",
      "/tmp/ipykernel_3842719/849445217.py:76: FutureWarning: The frame.append method is deprecated and will be removed from pandas in a future version. Use pandas.concat instead.\n",
      "  df = df.append({\"source_images_idx\": source_idx,\n",
      "/tmp/ipykernel_3842719/849445217.py:76: FutureWarning: The frame.append method is deprecated and will be removed from pandas in a future version. Use pandas.concat instead.\n",
      "  df = df.append({\"source_images_idx\": source_idx,\n"
     ]
    },
    {
     "name": "stdout",
     "output_type": "stream",
     "text": [
      "1 0 0 90\n",
      "82\n",
      "1 0 0 135\n",
      "83\n",
      "1 0 17 0\n",
      "84\n",
      "1 0 17 45\n",
      "85\n",
      "1 0 17 90\n",
      "86\n"
     ]
    },
    {
     "name": "stderr",
     "output_type": "stream",
     "text": [
      "/tmp/ipykernel_3842719/849445217.py:76: FutureWarning: The frame.append method is deprecated and will be removed from pandas in a future version. Use pandas.concat instead.\n",
      "  df = df.append({\"source_images_idx\": source_idx,\n",
      "/tmp/ipykernel_3842719/849445217.py:76: FutureWarning: The frame.append method is deprecated and will be removed from pandas in a future version. Use pandas.concat instead.\n",
      "  df = df.append({\"source_images_idx\": source_idx,\n",
      "/tmp/ipykernel_3842719/849445217.py:76: FutureWarning: The frame.append method is deprecated and will be removed from pandas in a future version. Use pandas.concat instead.\n",
      "  df = df.append({\"source_images_idx\": source_idx,\n",
      "/tmp/ipykernel_3842719/849445217.py:76: FutureWarning: The frame.append method is deprecated and will be removed from pandas in a future version. Use pandas.concat instead.\n",
      "  df = df.append({\"source_images_idx\": source_idx,\n",
      "/tmp/ipykernel_3842719/849445217.py:76: FutureWarning: The frame.append method is deprecated and will be removed from pandas in a future version. Use pandas.concat instead.\n",
      "  df = df.append({\"source_images_idx\": source_idx,\n"
     ]
    },
    {
     "name": "stdout",
     "output_type": "stream",
     "text": [
      "1 0 17 135\n",
      "87\n",
      "1 0 34 0\n",
      "88\n",
      "1 0 34 45\n",
      "89\n",
      "1 0 34 90\n",
      "90\n",
      "1 0 34 135\n",
      "91\n"
     ]
    },
    {
     "name": "stderr",
     "output_type": "stream",
     "text": [
      "/tmp/ipykernel_3842719/849445217.py:76: FutureWarning: The frame.append method is deprecated and will be removed from pandas in a future version. Use pandas.concat instead.\n",
      "  df = df.append({\"source_images_idx\": source_idx,\n",
      "/tmp/ipykernel_3842719/849445217.py:76: FutureWarning: The frame.append method is deprecated and will be removed from pandas in a future version. Use pandas.concat instead.\n",
      "  df = df.append({\"source_images_idx\": source_idx,\n",
      "/tmp/ipykernel_3842719/849445217.py:76: FutureWarning: The frame.append method is deprecated and will be removed from pandas in a future version. Use pandas.concat instead.\n",
      "  df = df.append({\"source_images_idx\": source_idx,\n",
      "/tmp/ipykernel_3842719/849445217.py:76: FutureWarning: The frame.append method is deprecated and will be removed from pandas in a future version. Use pandas.concat instead.\n",
      "  df = df.append({\"source_images_idx\": source_idx,\n",
      "/tmp/ipykernel_3842719/849445217.py:76: FutureWarning: The frame.append method is deprecated and will be removed from pandas in a future version. Use pandas.concat instead.\n",
      "  df = df.append({\"source_images_idx\": source_idx,\n"
     ]
    },
    {
     "name": "stdout",
     "output_type": "stream",
     "text": [
      "1 0 50 0\n",
      "92\n",
      "1 0 50 45\n",
      "93\n",
      "1 0 50 90\n",
      "94\n",
      "1 0 50 135\n",
      "95\n",
      "1 26 0 0\n",
      "96\n"
     ]
    },
    {
     "name": "stderr",
     "output_type": "stream",
     "text": [
      "/tmp/ipykernel_3842719/849445217.py:76: FutureWarning: The frame.append method is deprecated and will be removed from pandas in a future version. Use pandas.concat instead.\n",
      "  df = df.append({\"source_images_idx\": source_idx,\n",
      "/tmp/ipykernel_3842719/849445217.py:76: FutureWarning: The frame.append method is deprecated and will be removed from pandas in a future version. Use pandas.concat instead.\n",
      "  df = df.append({\"source_images_idx\": source_idx,\n",
      "/tmp/ipykernel_3842719/849445217.py:76: FutureWarning: The frame.append method is deprecated and will be removed from pandas in a future version. Use pandas.concat instead.\n",
      "  df = df.append({\"source_images_idx\": source_idx,\n",
      "/tmp/ipykernel_3842719/849445217.py:76: FutureWarning: The frame.append method is deprecated and will be removed from pandas in a future version. Use pandas.concat instead.\n",
      "  df = df.append({\"source_images_idx\": source_idx,\n",
      "/tmp/ipykernel_3842719/849445217.py:76: FutureWarning: The frame.append method is deprecated and will be removed from pandas in a future version. Use pandas.concat instead.\n",
      "  df = df.append({\"source_images_idx\": source_idx,\n"
     ]
    },
    {
     "name": "stdout",
     "output_type": "stream",
     "text": [
      "1 26 0 45\n",
      "97\n",
      "1 26 0 90\n",
      "98\n",
      "1 26 0 135\n",
      "99\n",
      "1 26 17 0\n",
      "100\n",
      "1 26 17 45\n",
      "101\n"
     ]
    },
    {
     "name": "stderr",
     "output_type": "stream",
     "text": [
      "/tmp/ipykernel_3842719/849445217.py:76: FutureWarning: The frame.append method is deprecated and will be removed from pandas in a future version. Use pandas.concat instead.\n",
      "  df = df.append({\"source_images_idx\": source_idx,\n",
      "/tmp/ipykernel_3842719/849445217.py:76: FutureWarning: The frame.append method is deprecated and will be removed from pandas in a future version. Use pandas.concat instead.\n",
      "  df = df.append({\"source_images_idx\": source_idx,\n",
      "/tmp/ipykernel_3842719/849445217.py:76: FutureWarning: The frame.append method is deprecated and will be removed from pandas in a future version. Use pandas.concat instead.\n",
      "  df = df.append({\"source_images_idx\": source_idx,\n",
      "/tmp/ipykernel_3842719/849445217.py:76: FutureWarning: The frame.append method is deprecated and will be removed from pandas in a future version. Use pandas.concat instead.\n",
      "  df = df.append({\"source_images_idx\": source_idx,\n",
      "/tmp/ipykernel_3842719/849445217.py:76: FutureWarning: The frame.append method is deprecated and will be removed from pandas in a future version. Use pandas.concat instead.\n",
      "  df = df.append({\"source_images_idx\": source_idx,\n"
     ]
    },
    {
     "name": "stdout",
     "output_type": "stream",
     "text": [
      "1 26 17 90\n",
      "102\n",
      "1 26 17 135\n",
      "103\n",
      "1 26 34 0\n",
      "104\n",
      "1 26 34 45\n",
      "105\n",
      "1 26 34 90\n",
      "106\n"
     ]
    },
    {
     "name": "stderr",
     "output_type": "stream",
     "text": [
      "/tmp/ipykernel_3842719/849445217.py:76: FutureWarning: The frame.append method is deprecated and will be removed from pandas in a future version. Use pandas.concat instead.\n",
      "  df = df.append({\"source_images_idx\": source_idx,\n",
      "/tmp/ipykernel_3842719/849445217.py:76: FutureWarning: The frame.append method is deprecated and will be removed from pandas in a future version. Use pandas.concat instead.\n",
      "  df = df.append({\"source_images_idx\": source_idx,\n",
      "/tmp/ipykernel_3842719/849445217.py:76: FutureWarning: The frame.append method is deprecated and will be removed from pandas in a future version. Use pandas.concat instead.\n",
      "  df = df.append({\"source_images_idx\": source_idx,\n",
      "/tmp/ipykernel_3842719/849445217.py:76: FutureWarning: The frame.append method is deprecated and will be removed from pandas in a future version. Use pandas.concat instead.\n",
      "  df = df.append({\"source_images_idx\": source_idx,\n",
      "/tmp/ipykernel_3842719/849445217.py:76: FutureWarning: The frame.append method is deprecated and will be removed from pandas in a future version. Use pandas.concat instead.\n",
      "  df = df.append({\"source_images_idx\": source_idx,\n"
     ]
    },
    {
     "name": "stdout",
     "output_type": "stream",
     "text": [
      "1 26 34 135\n",
      "107\n",
      "1 26 50 0\n",
      "108\n",
      "1 26 50 45\n",
      "109\n",
      "1 26 50 90\n",
      "110\n",
      "1 26 50 135\n",
      "111\n"
     ]
    },
    {
     "name": "stderr",
     "output_type": "stream",
     "text": [
      "/tmp/ipykernel_3842719/849445217.py:76: FutureWarning: The frame.append method is deprecated and will be removed from pandas in a future version. Use pandas.concat instead.\n",
      "  df = df.append({\"source_images_idx\": source_idx,\n",
      "/tmp/ipykernel_3842719/849445217.py:76: FutureWarning: The frame.append method is deprecated and will be removed from pandas in a future version. Use pandas.concat instead.\n",
      "  df = df.append({\"source_images_idx\": source_idx,\n",
      "/tmp/ipykernel_3842719/849445217.py:76: FutureWarning: The frame.append method is deprecated and will be removed from pandas in a future version. Use pandas.concat instead.\n",
      "  df = df.append({\"source_images_idx\": source_idx,\n",
      "/tmp/ipykernel_3842719/849445217.py:76: FutureWarning: The frame.append method is deprecated and will be removed from pandas in a future version. Use pandas.concat instead.\n",
      "  df = df.append({\"source_images_idx\": source_idx,\n"
     ]
    },
    {
     "name": "stdout",
     "output_type": "stream",
     "text": [
      "1 52 0 0\n",
      "112\n",
      "1 52 0 45\n",
      "113\n",
      "1 52 0 90\n",
      "114\n",
      "1 52 0 135\n",
      "115\n"
     ]
    },
    {
     "name": "stderr",
     "output_type": "stream",
     "text": [
      "/tmp/ipykernel_3842719/849445217.py:76: FutureWarning: The frame.append method is deprecated and will be removed from pandas in a future version. Use pandas.concat instead.\n",
      "  df = df.append({\"source_images_idx\": source_idx,\n",
      "/tmp/ipykernel_3842719/849445217.py:76: FutureWarning: The frame.append method is deprecated and will be removed from pandas in a future version. Use pandas.concat instead.\n",
      "  df = df.append({\"source_images_idx\": source_idx,\n",
      "/tmp/ipykernel_3842719/849445217.py:76: FutureWarning: The frame.append method is deprecated and will be removed from pandas in a future version. Use pandas.concat instead.\n",
      "  df = df.append({\"source_images_idx\": source_idx,\n"
     ]
    },
    {
     "name": "stdout",
     "output_type": "stream",
     "text": [
      "1 52 17 0\n",
      "116\n",
      "1 52 17 45\n",
      "117\n",
      "1 52 17 90\n",
      "118\n"
     ]
    },
    {
     "name": "stderr",
     "output_type": "stream",
     "text": [
      "/tmp/ipykernel_3842719/849445217.py:76: FutureWarning: The frame.append method is deprecated and will be removed from pandas in a future version. Use pandas.concat instead.\n",
      "  df = df.append({\"source_images_idx\": source_idx,\n",
      "/tmp/ipykernel_3842719/849445217.py:76: FutureWarning: The frame.append method is deprecated and will be removed from pandas in a future version. Use pandas.concat instead.\n",
      "  df = df.append({\"source_images_idx\": source_idx,\n",
      "/tmp/ipykernel_3842719/849445217.py:76: FutureWarning: The frame.append method is deprecated and will be removed from pandas in a future version. Use pandas.concat instead.\n",
      "  df = df.append({\"source_images_idx\": source_idx,\n"
     ]
    },
    {
     "name": "stdout",
     "output_type": "stream",
     "text": [
      "1 52 17 135\n",
      "119\n",
      "1 52 34 0\n",
      "120\n",
      "1 52 34 45\n",
      "121\n"
     ]
    },
    {
     "name": "stderr",
     "output_type": "stream",
     "text": [
      "/tmp/ipykernel_3842719/849445217.py:76: FutureWarning: The frame.append method is deprecated and will be removed from pandas in a future version. Use pandas.concat instead.\n",
      "  df = df.append({\"source_images_idx\": source_idx,\n",
      "/tmp/ipykernel_3842719/849445217.py:76: FutureWarning: The frame.append method is deprecated and will be removed from pandas in a future version. Use pandas.concat instead.\n",
      "  df = df.append({\"source_images_idx\": source_idx,\n",
      "/tmp/ipykernel_3842719/849445217.py:76: FutureWarning: The frame.append method is deprecated and will be removed from pandas in a future version. Use pandas.concat instead.\n",
      "  df = df.append({\"source_images_idx\": source_idx,\n"
     ]
    },
    {
     "name": "stdout",
     "output_type": "stream",
     "text": [
      "1 52 34 90\n",
      "122\n",
      "1 52 34 135\n",
      "123\n",
      "1 52 50 0\n",
      "124\n"
     ]
    },
    {
     "name": "stderr",
     "output_type": "stream",
     "text": [
      "/tmp/ipykernel_3842719/849445217.py:76: FutureWarning: The frame.append method is deprecated and will be removed from pandas in a future version. Use pandas.concat instead.\n",
      "  df = df.append({\"source_images_idx\": source_idx,\n",
      "/tmp/ipykernel_3842719/849445217.py:76: FutureWarning: The frame.append method is deprecated and will be removed from pandas in a future version. Use pandas.concat instead.\n",
      "  df = df.append({\"source_images_idx\": source_idx,\n",
      "/tmp/ipykernel_3842719/849445217.py:76: FutureWarning: The frame.append method is deprecated and will be removed from pandas in a future version. Use pandas.concat instead.\n",
      "  df = df.append({\"source_images_idx\": source_idx,\n"
     ]
    },
    {
     "name": "stdout",
     "output_type": "stream",
     "text": [
      "1 52 50 45\n",
      "125\n",
      "1 52 50 90\n",
      "126\n",
      "1 52 50 135\n",
      "127\n"
     ]
    },
    {
     "name": "stderr",
     "output_type": "stream",
     "text": [
      "/tmp/ipykernel_3842719/849445217.py:76: FutureWarning: The frame.append method is deprecated and will be removed from pandas in a future version. Use pandas.concat instead.\n",
      "  df = df.append({\"source_images_idx\": source_idx,\n",
      "/tmp/ipykernel_3842719/849445217.py:76: FutureWarning: The frame.append method is deprecated and will be removed from pandas in a future version. Use pandas.concat instead.\n",
      "  df = df.append({\"source_images_idx\": source_idx,\n",
      "/tmp/ipykernel_3842719/849445217.py:76: FutureWarning: The frame.append method is deprecated and will be removed from pandas in a future version. Use pandas.concat instead.\n",
      "  df = df.append({\"source_images_idx\": source_idx,\n"
     ]
    },
    {
     "name": "stdout",
     "output_type": "stream",
     "text": [
      "1 78 0 0\n",
      "128\n",
      "1 78 0 45\n",
      "129\n",
      "1 78 0 90\n",
      "130\n"
     ]
    },
    {
     "name": "stderr",
     "output_type": "stream",
     "text": [
      "/tmp/ipykernel_3842719/849445217.py:76: FutureWarning: The frame.append method is deprecated and will be removed from pandas in a future version. Use pandas.concat instead.\n",
      "  df = df.append({\"source_images_idx\": source_idx,\n",
      "/tmp/ipykernel_3842719/849445217.py:76: FutureWarning: The frame.append method is deprecated and will be removed from pandas in a future version. Use pandas.concat instead.\n",
      "  df = df.append({\"source_images_idx\": source_idx,\n",
      "/tmp/ipykernel_3842719/849445217.py:76: FutureWarning: The frame.append method is deprecated and will be removed from pandas in a future version. Use pandas.concat instead.\n",
      "  df = df.append({\"source_images_idx\": source_idx,\n"
     ]
    },
    {
     "name": "stdout",
     "output_type": "stream",
     "text": [
      "1 78 0 135\n",
      "131\n",
      "1 78 17 0\n",
      "132\n",
      "1 78 17 45\n",
      "133\n",
      "1 78 17 90\n",
      "134\n"
     ]
    },
    {
     "name": "stderr",
     "output_type": "stream",
     "text": [
      "/tmp/ipykernel_3842719/849445217.py:76: FutureWarning: The frame.append method is deprecated and will be removed from pandas in a future version. Use pandas.concat instead.\n",
      "  df = df.append({\"source_images_idx\": source_idx,\n",
      "/tmp/ipykernel_3842719/849445217.py:76: FutureWarning: The frame.append method is deprecated and will be removed from pandas in a future version. Use pandas.concat instead.\n",
      "  df = df.append({\"source_images_idx\": source_idx,\n",
      "/tmp/ipykernel_3842719/849445217.py:76: FutureWarning: The frame.append method is deprecated and will be removed from pandas in a future version. Use pandas.concat instead.\n",
      "  df = df.append({\"source_images_idx\": source_idx,\n",
      "/tmp/ipykernel_3842719/849445217.py:76: FutureWarning: The frame.append method is deprecated and will be removed from pandas in a future version. Use pandas.concat instead.\n",
      "  df = df.append({\"source_images_idx\": source_idx,\n"
     ]
    },
    {
     "name": "stdout",
     "output_type": "stream",
     "text": [
      "1 78 17 135\n",
      "135\n",
      "1 78 34 0\n",
      "136\n",
      "1 78 34 45\n",
      "137\n",
      "1 78 34 90\n",
      "138\n",
      "1 78 34 135\n",
      "139\n"
     ]
    },
    {
     "name": "stderr",
     "output_type": "stream",
     "text": [
      "/tmp/ipykernel_3842719/849445217.py:76: FutureWarning: The frame.append method is deprecated and will be removed from pandas in a future version. Use pandas.concat instead.\n",
      "  df = df.append({\"source_images_idx\": source_idx,\n",
      "/tmp/ipykernel_3842719/849445217.py:76: FutureWarning: The frame.append method is deprecated and will be removed from pandas in a future version. Use pandas.concat instead.\n",
      "  df = df.append({\"source_images_idx\": source_idx,\n",
      "/tmp/ipykernel_3842719/849445217.py:76: FutureWarning: The frame.append method is deprecated and will be removed from pandas in a future version. Use pandas.concat instead.\n",
      "  df = df.append({\"source_images_idx\": source_idx,\n",
      "/tmp/ipykernel_3842719/849445217.py:76: FutureWarning: The frame.append method is deprecated and will be removed from pandas in a future version. Use pandas.concat instead.\n",
      "  df = df.append({\"source_images_idx\": source_idx,\n",
      "/tmp/ipykernel_3842719/849445217.py:76: FutureWarning: The frame.append method is deprecated and will be removed from pandas in a future version. Use pandas.concat instead.\n",
      "  df = df.append({\"source_images_idx\": source_idx,\n"
     ]
    },
    {
     "name": "stdout",
     "output_type": "stream",
     "text": [
      "1 78 50 0\n",
      "140\n",
      "1 78 50 45\n",
      "141\n",
      "1 78 50 90\n",
      "142\n",
      "1 78 50 135\n",
      "143\n",
      "2 0 0 0\n",
      "144\n"
     ]
    },
    {
     "name": "stderr",
     "output_type": "stream",
     "text": [
      "/tmp/ipykernel_3842719/849445217.py:76: FutureWarning: The frame.append method is deprecated and will be removed from pandas in a future version. Use pandas.concat instead.\n",
      "  df = df.append({\"source_images_idx\": source_idx,\n",
      "/tmp/ipykernel_3842719/849445217.py:76: FutureWarning: The frame.append method is deprecated and will be removed from pandas in a future version. Use pandas.concat instead.\n",
      "  df = df.append({\"source_images_idx\": source_idx,\n",
      "/tmp/ipykernel_3842719/849445217.py:76: FutureWarning: The frame.append method is deprecated and will be removed from pandas in a future version. Use pandas.concat instead.\n",
      "  df = df.append({\"source_images_idx\": source_idx,\n",
      "/tmp/ipykernel_3842719/849445217.py:76: FutureWarning: The frame.append method is deprecated and will be removed from pandas in a future version. Use pandas.concat instead.\n",
      "  df = df.append({\"source_images_idx\": source_idx,\n",
      "/tmp/ipykernel_3842719/849445217.py:76: FutureWarning: The frame.append method is deprecated and will be removed from pandas in a future version. Use pandas.concat instead.\n",
      "  df = df.append({\"source_images_idx\": source_idx,\n"
     ]
    },
    {
     "name": "stdout",
     "output_type": "stream",
     "text": [
      "2 0 0 51\n",
      "145\n",
      "2 0 0 102\n",
      "146\n",
      "2 0 0 153\n",
      "147\n",
      "2 0 0 154\n",
      "148\n",
      "2 0 19 0\n",
      "149\n"
     ]
    },
    {
     "name": "stderr",
     "output_type": "stream",
     "text": [
      "/tmp/ipykernel_3842719/849445217.py:76: FutureWarning: The frame.append method is deprecated and will be removed from pandas in a future version. Use pandas.concat instead.\n",
      "  df = df.append({\"source_images_idx\": source_idx,\n",
      "/tmp/ipykernel_3842719/849445217.py:76: FutureWarning: The frame.append method is deprecated and will be removed from pandas in a future version. Use pandas.concat instead.\n",
      "  df = df.append({\"source_images_idx\": source_idx,\n",
      "/tmp/ipykernel_3842719/849445217.py:76: FutureWarning: The frame.append method is deprecated and will be removed from pandas in a future version. Use pandas.concat instead.\n",
      "  df = df.append({\"source_images_idx\": source_idx,\n",
      "/tmp/ipykernel_3842719/849445217.py:76: FutureWarning: The frame.append method is deprecated and will be removed from pandas in a future version. Use pandas.concat instead.\n",
      "  df = df.append({\"source_images_idx\": source_idx,\n",
      "/tmp/ipykernel_3842719/849445217.py:76: FutureWarning: The frame.append method is deprecated and will be removed from pandas in a future version. Use pandas.concat instead.\n",
      "  df = df.append({\"source_images_idx\": source_idx,\n"
     ]
    },
    {
     "name": "stdout",
     "output_type": "stream",
     "text": [
      "2 0 19 51\n",
      "150\n",
      "2 0 19 102\n",
      "151\n",
      "2 0 19 153\n",
      "152\n",
      "2 0 19 154\n",
      "153\n",
      "2 0 38 0\n",
      "154\n"
     ]
    },
    {
     "name": "stderr",
     "output_type": "stream",
     "text": [
      "/tmp/ipykernel_3842719/849445217.py:76: FutureWarning: The frame.append method is deprecated and will be removed from pandas in a future version. Use pandas.concat instead.\n",
      "  df = df.append({\"source_images_idx\": source_idx,\n",
      "/tmp/ipykernel_3842719/849445217.py:76: FutureWarning: The frame.append method is deprecated and will be removed from pandas in a future version. Use pandas.concat instead.\n",
      "  df = df.append({\"source_images_idx\": source_idx,\n",
      "/tmp/ipykernel_3842719/849445217.py:76: FutureWarning: The frame.append method is deprecated and will be removed from pandas in a future version. Use pandas.concat instead.\n",
      "  df = df.append({\"source_images_idx\": source_idx,\n",
      "/tmp/ipykernel_3842719/849445217.py:76: FutureWarning: The frame.append method is deprecated and will be removed from pandas in a future version. Use pandas.concat instead.\n",
      "  df = df.append({\"source_images_idx\": source_idx,\n",
      "/tmp/ipykernel_3842719/849445217.py:76: FutureWarning: The frame.append method is deprecated and will be removed from pandas in a future version. Use pandas.concat instead.\n",
      "  df = df.append({\"source_images_idx\": source_idx,\n"
     ]
    },
    {
     "name": "stdout",
     "output_type": "stream",
     "text": [
      "2 0 38 51\n",
      "155\n",
      "2 0 38 102\n",
      "156\n",
      "2 0 38 153\n",
      "157\n",
      "2 0 38 154\n",
      "158\n",
      "2 0 57 0\n",
      "159\n"
     ]
    },
    {
     "name": "stderr",
     "output_type": "stream",
     "text": [
      "/tmp/ipykernel_3842719/849445217.py:76: FutureWarning: The frame.append method is deprecated and will be removed from pandas in a future version. Use pandas.concat instead.\n",
      "  df = df.append({\"source_images_idx\": source_idx,\n",
      "/tmp/ipykernel_3842719/849445217.py:76: FutureWarning: The frame.append method is deprecated and will be removed from pandas in a future version. Use pandas.concat instead.\n",
      "  df = df.append({\"source_images_idx\": source_idx,\n",
      "/tmp/ipykernel_3842719/849445217.py:76: FutureWarning: The frame.append method is deprecated and will be removed from pandas in a future version. Use pandas.concat instead.\n",
      "  df = df.append({\"source_images_idx\": source_idx,\n",
      "/tmp/ipykernel_3842719/849445217.py:76: FutureWarning: The frame.append method is deprecated and will be removed from pandas in a future version. Use pandas.concat instead.\n",
      "  df = df.append({\"source_images_idx\": source_idx,\n",
      "/tmp/ipykernel_3842719/849445217.py:76: FutureWarning: The frame.append method is deprecated and will be removed from pandas in a future version. Use pandas.concat instead.\n",
      "  df = df.append({\"source_images_idx\": source_idx,\n"
     ]
    },
    {
     "name": "stdout",
     "output_type": "stream",
     "text": [
      "2 0 57 51\n",
      "160\n",
      "2 0 57 102\n",
      "161\n",
      "2 0 57 153\n",
      "162\n",
      "2 0 57 154\n",
      "163\n",
      "2 0 58 0\n",
      "164\n"
     ]
    },
    {
     "name": "stderr",
     "output_type": "stream",
     "text": [
      "/tmp/ipykernel_3842719/849445217.py:76: FutureWarning: The frame.append method is deprecated and will be removed from pandas in a future version. Use pandas.concat instead.\n",
      "  df = df.append({\"source_images_idx\": source_idx,\n",
      "/tmp/ipykernel_3842719/849445217.py:76: FutureWarning: The frame.append method is deprecated and will be removed from pandas in a future version. Use pandas.concat instead.\n",
      "  df = df.append({\"source_images_idx\": source_idx,\n",
      "/tmp/ipykernel_3842719/849445217.py:76: FutureWarning: The frame.append method is deprecated and will be removed from pandas in a future version. Use pandas.concat instead.\n",
      "  df = df.append({\"source_images_idx\": source_idx,\n",
      "/tmp/ipykernel_3842719/849445217.py:76: FutureWarning: The frame.append method is deprecated and will be removed from pandas in a future version. Use pandas.concat instead.\n",
      "  df = df.append({\"source_images_idx\": source_idx,\n",
      "/tmp/ipykernel_3842719/849445217.py:76: FutureWarning: The frame.append method is deprecated and will be removed from pandas in a future version. Use pandas.concat instead.\n",
      "  df = df.append({\"source_images_idx\": source_idx,\n"
     ]
    },
    {
     "name": "stdout",
     "output_type": "stream",
     "text": [
      "2 0 58 51\n",
      "165\n",
      "2 0 58 102\n",
      "166\n",
      "2 0 58 153\n",
      "167\n",
      "2 0 58 154\n",
      "168\n",
      "2 18 0 0\n",
      "169\n"
     ]
    },
    {
     "name": "stderr",
     "output_type": "stream",
     "text": [
      "/tmp/ipykernel_3842719/849445217.py:76: FutureWarning: The frame.append method is deprecated and will be removed from pandas in a future version. Use pandas.concat instead.\n",
      "  df = df.append({\"source_images_idx\": source_idx,\n",
      "/tmp/ipykernel_3842719/849445217.py:76: FutureWarning: The frame.append method is deprecated and will be removed from pandas in a future version. Use pandas.concat instead.\n",
      "  df = df.append({\"source_images_idx\": source_idx,\n",
      "/tmp/ipykernel_3842719/849445217.py:76: FutureWarning: The frame.append method is deprecated and will be removed from pandas in a future version. Use pandas.concat instead.\n",
      "  df = df.append({\"source_images_idx\": source_idx,\n",
      "/tmp/ipykernel_3842719/849445217.py:76: FutureWarning: The frame.append method is deprecated and will be removed from pandas in a future version. Use pandas.concat instead.\n",
      "  df = df.append({\"source_images_idx\": source_idx,\n",
      "/tmp/ipykernel_3842719/849445217.py:76: FutureWarning: The frame.append method is deprecated and will be removed from pandas in a future version. Use pandas.concat instead.\n",
      "  df = df.append({\"source_images_idx\": source_idx,\n"
     ]
    },
    {
     "name": "stdout",
     "output_type": "stream",
     "text": [
      "2 18 0 51\n",
      "170\n",
      "2 18 0 102\n",
      "171\n",
      "2 18 0 153\n",
      "172\n",
      "2 18 0 154\n",
      "173\n",
      "2 18 19 0\n",
      "174\n"
     ]
    },
    {
     "name": "stderr",
     "output_type": "stream",
     "text": [
      "/tmp/ipykernel_3842719/849445217.py:76: FutureWarning: The frame.append method is deprecated and will be removed from pandas in a future version. Use pandas.concat instead.\n",
      "  df = df.append({\"source_images_idx\": source_idx,\n",
      "/tmp/ipykernel_3842719/849445217.py:76: FutureWarning: The frame.append method is deprecated and will be removed from pandas in a future version. Use pandas.concat instead.\n",
      "  df = df.append({\"source_images_idx\": source_idx,\n",
      "/tmp/ipykernel_3842719/849445217.py:76: FutureWarning: The frame.append method is deprecated and will be removed from pandas in a future version. Use pandas.concat instead.\n",
      "  df = df.append({\"source_images_idx\": source_idx,\n",
      "/tmp/ipykernel_3842719/849445217.py:76: FutureWarning: The frame.append method is deprecated and will be removed from pandas in a future version. Use pandas.concat instead.\n",
      "  df = df.append({\"source_images_idx\": source_idx,\n",
      "/tmp/ipykernel_3842719/849445217.py:76: FutureWarning: The frame.append method is deprecated and will be removed from pandas in a future version. Use pandas.concat instead.\n",
      "  df = df.append({\"source_images_idx\": source_idx,\n"
     ]
    },
    {
     "name": "stdout",
     "output_type": "stream",
     "text": [
      "2 18 19 51\n",
      "175\n",
      "2 18 19 102\n",
      "176\n",
      "2 18 19 153\n",
      "177\n",
      "2 18 19 154\n",
      "178\n",
      "2 18 38 0\n",
      "179\n"
     ]
    },
    {
     "name": "stderr",
     "output_type": "stream",
     "text": [
      "/tmp/ipykernel_3842719/849445217.py:76: FutureWarning: The frame.append method is deprecated and will be removed from pandas in a future version. Use pandas.concat instead.\n",
      "  df = df.append({\"source_images_idx\": source_idx,\n",
      "/tmp/ipykernel_3842719/849445217.py:76: FutureWarning: The frame.append method is deprecated and will be removed from pandas in a future version. Use pandas.concat instead.\n",
      "  df = df.append({\"source_images_idx\": source_idx,\n",
      "/tmp/ipykernel_3842719/849445217.py:76: FutureWarning: The frame.append method is deprecated and will be removed from pandas in a future version. Use pandas.concat instead.\n",
      "  df = df.append({\"source_images_idx\": source_idx,\n",
      "/tmp/ipykernel_3842719/849445217.py:76: FutureWarning: The frame.append method is deprecated and will be removed from pandas in a future version. Use pandas.concat instead.\n",
      "  df = df.append({\"source_images_idx\": source_idx,\n",
      "/tmp/ipykernel_3842719/849445217.py:76: FutureWarning: The frame.append method is deprecated and will be removed from pandas in a future version. Use pandas.concat instead.\n",
      "  df = df.append({\"source_images_idx\": source_idx,\n"
     ]
    },
    {
     "name": "stdout",
     "output_type": "stream",
     "text": [
      "2 18 38 51\n",
      "180\n",
      "2 18 38 102\n",
      "181\n",
      "2 18 38 153\n",
      "182\n",
      "2 18 38 154\n",
      "183\n"
     ]
    },
    {
     "name": "stderr",
     "output_type": "stream",
     "text": [
      "/tmp/ipykernel_3842719/849445217.py:76: FutureWarning: The frame.append method is deprecated and will be removed from pandas in a future version. Use pandas.concat instead.\n",
      "  df = df.append({\"source_images_idx\": source_idx,\n",
      "/tmp/ipykernel_3842719/849445217.py:76: FutureWarning: The frame.append method is deprecated and will be removed from pandas in a future version. Use pandas.concat instead.\n",
      "  df = df.append({\"source_images_idx\": source_idx,\n",
      "/tmp/ipykernel_3842719/849445217.py:76: FutureWarning: The frame.append method is deprecated and will be removed from pandas in a future version. Use pandas.concat instead.\n",
      "  df = df.append({\"source_images_idx\": source_idx,\n",
      "/tmp/ipykernel_3842719/849445217.py:76: FutureWarning: The frame.append method is deprecated and will be removed from pandas in a future version. Use pandas.concat instead.\n",
      "  df = df.append({\"source_images_idx\": source_idx,\n"
     ]
    },
    {
     "name": "stdout",
     "output_type": "stream",
     "text": [
      "2 18 57 0\n",
      "184\n",
      "2 18 57 51\n",
      "185\n",
      "2 18 57 102\n",
      "186\n"
     ]
    },
    {
     "name": "stderr",
     "output_type": "stream",
     "text": [
      "/tmp/ipykernel_3842719/849445217.py:76: FutureWarning: The frame.append method is deprecated and will be removed from pandas in a future version. Use pandas.concat instead.\n",
      "  df = df.append({\"source_images_idx\": source_idx,\n",
      "/tmp/ipykernel_3842719/849445217.py:76: FutureWarning: The frame.append method is deprecated and will be removed from pandas in a future version. Use pandas.concat instead.\n",
      "  df = df.append({\"source_images_idx\": source_idx,\n",
      "/tmp/ipykernel_3842719/849445217.py:76: FutureWarning: The frame.append method is deprecated and will be removed from pandas in a future version. Use pandas.concat instead.\n",
      "  df = df.append({\"source_images_idx\": source_idx,\n"
     ]
    },
    {
     "name": "stdout",
     "output_type": "stream",
     "text": [
      "2 18 57 153\n",
      "187\n",
      "2 18 57 154\n",
      "188\n",
      "2 18 58 0\n",
      "189\n"
     ]
    },
    {
     "name": "stderr",
     "output_type": "stream",
     "text": [
      "/tmp/ipykernel_3842719/849445217.py:76: FutureWarning: The frame.append method is deprecated and will be removed from pandas in a future version. Use pandas.concat instead.\n",
      "  df = df.append({\"source_images_idx\": source_idx,\n",
      "/tmp/ipykernel_3842719/849445217.py:76: FutureWarning: The frame.append method is deprecated and will be removed from pandas in a future version. Use pandas.concat instead.\n",
      "  df = df.append({\"source_images_idx\": source_idx,\n",
      "/tmp/ipykernel_3842719/849445217.py:76: FutureWarning: The frame.append method is deprecated and will be removed from pandas in a future version. Use pandas.concat instead.\n",
      "  df = df.append({\"source_images_idx\": source_idx,\n"
     ]
    },
    {
     "name": "stdout",
     "output_type": "stream",
     "text": [
      "2 18 58 51\n",
      "190\n",
      "2 18 58 102\n",
      "191\n",
      "2 18 58 153\n",
      "192\n"
     ]
    },
    {
     "name": "stderr",
     "output_type": "stream",
     "text": [
      "/tmp/ipykernel_3842719/849445217.py:76: FutureWarning: The frame.append method is deprecated and will be removed from pandas in a future version. Use pandas.concat instead.\n",
      "  df = df.append({\"source_images_idx\": source_idx,\n",
      "/tmp/ipykernel_3842719/849445217.py:76: FutureWarning: The frame.append method is deprecated and will be removed from pandas in a future version. Use pandas.concat instead.\n",
      "  df = df.append({\"source_images_idx\": source_idx,\n",
      "/tmp/ipykernel_3842719/849445217.py:76: FutureWarning: The frame.append method is deprecated and will be removed from pandas in a future version. Use pandas.concat instead.\n",
      "  df = df.append({\"source_images_idx\": source_idx,\n"
     ]
    },
    {
     "name": "stdout",
     "output_type": "stream",
     "text": [
      "2 18 58 154\n",
      "193\n",
      "2 36 0 0\n",
      "194\n",
      "2 36 0 51\n",
      "195\n"
     ]
    },
    {
     "name": "stderr",
     "output_type": "stream",
     "text": [
      "/tmp/ipykernel_3842719/849445217.py:76: FutureWarning: The frame.append method is deprecated and will be removed from pandas in a future version. Use pandas.concat instead.\n",
      "  df = df.append({\"source_images_idx\": source_idx,\n",
      "/tmp/ipykernel_3842719/849445217.py:76: FutureWarning: The frame.append method is deprecated and will be removed from pandas in a future version. Use pandas.concat instead.\n",
      "  df = df.append({\"source_images_idx\": source_idx,\n",
      "/tmp/ipykernel_3842719/849445217.py:76: FutureWarning: The frame.append method is deprecated and will be removed from pandas in a future version. Use pandas.concat instead.\n",
      "  df = df.append({\"source_images_idx\": source_idx,\n"
     ]
    },
    {
     "name": "stdout",
     "output_type": "stream",
     "text": [
      "2 36 0 102\n",
      "196\n",
      "2 36 0 153\n",
      "197\n",
      "2 36 0 154\n",
      "198\n"
     ]
    },
    {
     "name": "stderr",
     "output_type": "stream",
     "text": [
      "/tmp/ipykernel_3842719/849445217.py:76: FutureWarning: The frame.append method is deprecated and will be removed from pandas in a future version. Use pandas.concat instead.\n",
      "  df = df.append({\"source_images_idx\": source_idx,\n",
      "/tmp/ipykernel_3842719/849445217.py:76: FutureWarning: The frame.append method is deprecated and will be removed from pandas in a future version. Use pandas.concat instead.\n",
      "  df = df.append({\"source_images_idx\": source_idx,\n",
      "/tmp/ipykernel_3842719/849445217.py:76: FutureWarning: The frame.append method is deprecated and will be removed from pandas in a future version. Use pandas.concat instead.\n",
      "  df = df.append({\"source_images_idx\": source_idx,\n"
     ]
    },
    {
     "name": "stdout",
     "output_type": "stream",
     "text": [
      "2 36 19 0\n",
      "199\n",
      "2 36 19 51\n",
      "200\n",
      "2 36 19 102\n",
      "201\n"
     ]
    },
    {
     "name": "stderr",
     "output_type": "stream",
     "text": [
      "/tmp/ipykernel_3842719/849445217.py:76: FutureWarning: The frame.append method is deprecated and will be removed from pandas in a future version. Use pandas.concat instead.\n",
      "  df = df.append({\"source_images_idx\": source_idx,\n",
      "/tmp/ipykernel_3842719/849445217.py:76: FutureWarning: The frame.append method is deprecated and will be removed from pandas in a future version. Use pandas.concat instead.\n",
      "  df = df.append({\"source_images_idx\": source_idx,\n",
      "/tmp/ipykernel_3842719/849445217.py:76: FutureWarning: The frame.append method is deprecated and will be removed from pandas in a future version. Use pandas.concat instead.\n",
      "  df = df.append({\"source_images_idx\": source_idx,\n"
     ]
    },
    {
     "name": "stdout",
     "output_type": "stream",
     "text": [
      "2 36 19 153\n",
      "202\n",
      "2 36 19 154\n",
      "203\n",
      "2 36 38 0\n",
      "204\n",
      "2 36 38 51\n",
      "205\n"
     ]
    },
    {
     "name": "stderr",
     "output_type": "stream",
     "text": [
      "/tmp/ipykernel_3842719/849445217.py:76: FutureWarning: The frame.append method is deprecated and will be removed from pandas in a future version. Use pandas.concat instead.\n",
      "  df = df.append({\"source_images_idx\": source_idx,\n",
      "/tmp/ipykernel_3842719/849445217.py:76: FutureWarning: The frame.append method is deprecated and will be removed from pandas in a future version. Use pandas.concat instead.\n",
      "  df = df.append({\"source_images_idx\": source_idx,\n",
      "/tmp/ipykernel_3842719/849445217.py:76: FutureWarning: The frame.append method is deprecated and will be removed from pandas in a future version. Use pandas.concat instead.\n",
      "  df = df.append({\"source_images_idx\": source_idx,\n",
      "/tmp/ipykernel_3842719/849445217.py:76: FutureWarning: The frame.append method is deprecated and will be removed from pandas in a future version. Use pandas.concat instead.\n",
      "  df = df.append({\"source_images_idx\": source_idx,\n",
      "/tmp/ipykernel_3842719/849445217.py:76: FutureWarning: The frame.append method is deprecated and will be removed from pandas in a future version. Use pandas.concat instead.\n",
      "  df = df.append({\"source_images_idx\": source_idx,\n"
     ]
    },
    {
     "name": "stdout",
     "output_type": "stream",
     "text": [
      "2 36 38 102\n",
      "206\n",
      "2 36 38 153\n",
      "207\n",
      "2 36 38 154\n",
      "208\n",
      "2 36 57 0\n",
      "209\n",
      "2 36 57 51\n",
      "210\n"
     ]
    },
    {
     "name": "stderr",
     "output_type": "stream",
     "text": [
      "/tmp/ipykernel_3842719/849445217.py:76: FutureWarning: The frame.append method is deprecated and will be removed from pandas in a future version. Use pandas.concat instead.\n",
      "  df = df.append({\"source_images_idx\": source_idx,\n",
      "/tmp/ipykernel_3842719/849445217.py:76: FutureWarning: The frame.append method is deprecated and will be removed from pandas in a future version. Use pandas.concat instead.\n",
      "  df = df.append({\"source_images_idx\": source_idx,\n",
      "/tmp/ipykernel_3842719/849445217.py:76: FutureWarning: The frame.append method is deprecated and will be removed from pandas in a future version. Use pandas.concat instead.\n",
      "  df = df.append({\"source_images_idx\": source_idx,\n",
      "/tmp/ipykernel_3842719/849445217.py:76: FutureWarning: The frame.append method is deprecated and will be removed from pandas in a future version. Use pandas.concat instead.\n",
      "  df = df.append({\"source_images_idx\": source_idx,\n",
      "/tmp/ipykernel_3842719/849445217.py:76: FutureWarning: The frame.append method is deprecated and will be removed from pandas in a future version. Use pandas.concat instead.\n",
      "  df = df.append({\"source_images_idx\": source_idx,\n"
     ]
    },
    {
     "name": "stdout",
     "output_type": "stream",
     "text": [
      "2 36 57 102\n",
      "211\n",
      "2 36 57 153\n",
      "212\n",
      "2 36 57 154\n",
      "213\n",
      "2 36 58 0\n",
      "214\n",
      "2 36 58 51\n",
      "215\n"
     ]
    },
    {
     "name": "stderr",
     "output_type": "stream",
     "text": [
      "/tmp/ipykernel_3842719/849445217.py:76: FutureWarning: The frame.append method is deprecated and will be removed from pandas in a future version. Use pandas.concat instead.\n",
      "  df = df.append({\"source_images_idx\": source_idx,\n",
      "/tmp/ipykernel_3842719/849445217.py:76: FutureWarning: The frame.append method is deprecated and will be removed from pandas in a future version. Use pandas.concat instead.\n",
      "  df = df.append({\"source_images_idx\": source_idx,\n",
      "/tmp/ipykernel_3842719/849445217.py:76: FutureWarning: The frame.append method is deprecated and will be removed from pandas in a future version. Use pandas.concat instead.\n",
      "  df = df.append({\"source_images_idx\": source_idx,\n",
      "/tmp/ipykernel_3842719/849445217.py:76: FutureWarning: The frame.append method is deprecated and will be removed from pandas in a future version. Use pandas.concat instead.\n",
      "  df = df.append({\"source_images_idx\": source_idx,\n",
      "/tmp/ipykernel_3842719/849445217.py:76: FutureWarning: The frame.append method is deprecated and will be removed from pandas in a future version. Use pandas.concat instead.\n",
      "  df = df.append({\"source_images_idx\": source_idx,\n"
     ]
    },
    {
     "name": "stdout",
     "output_type": "stream",
     "text": [
      "2 36 58 102\n",
      "216\n",
      "2 36 58 153\n",
      "217\n",
      "2 36 58 154\n",
      "218\n",
      "2 54 0 0\n",
      "219\n",
      "2 54 0 51\n",
      "220\n"
     ]
    },
    {
     "name": "stderr",
     "output_type": "stream",
     "text": [
      "/tmp/ipykernel_3842719/849445217.py:76: FutureWarning: The frame.append method is deprecated and will be removed from pandas in a future version. Use pandas.concat instead.\n",
      "  df = df.append({\"source_images_idx\": source_idx,\n",
      "/tmp/ipykernel_3842719/849445217.py:76: FutureWarning: The frame.append method is deprecated and will be removed from pandas in a future version. Use pandas.concat instead.\n",
      "  df = df.append({\"source_images_idx\": source_idx,\n",
      "/tmp/ipykernel_3842719/849445217.py:76: FutureWarning: The frame.append method is deprecated and will be removed from pandas in a future version. Use pandas.concat instead.\n",
      "  df = df.append({\"source_images_idx\": source_idx,\n",
      "/tmp/ipykernel_3842719/849445217.py:76: FutureWarning: The frame.append method is deprecated and will be removed from pandas in a future version. Use pandas.concat instead.\n",
      "  df = df.append({\"source_images_idx\": source_idx,\n",
      "/tmp/ipykernel_3842719/849445217.py:76: FutureWarning: The frame.append method is deprecated and will be removed from pandas in a future version. Use pandas.concat instead.\n",
      "  df = df.append({\"source_images_idx\": source_idx,\n"
     ]
    },
    {
     "name": "stdout",
     "output_type": "stream",
     "text": [
      "2 54 0 102\n",
      "221\n",
      "2 54 0 153\n",
      "222\n",
      "2 54 0 154\n",
      "223\n",
      "2 54 19 0\n",
      "224\n",
      "2 54 19 51\n",
      "225\n"
     ]
    },
    {
     "name": "stderr",
     "output_type": "stream",
     "text": [
      "/tmp/ipykernel_3842719/849445217.py:76: FutureWarning: The frame.append method is deprecated and will be removed from pandas in a future version. Use pandas.concat instead.\n",
      "  df = df.append({\"source_images_idx\": source_idx,\n",
      "/tmp/ipykernel_3842719/849445217.py:76: FutureWarning: The frame.append method is deprecated and will be removed from pandas in a future version. Use pandas.concat instead.\n",
      "  df = df.append({\"source_images_idx\": source_idx,\n",
      "/tmp/ipykernel_3842719/849445217.py:76: FutureWarning: The frame.append method is deprecated and will be removed from pandas in a future version. Use pandas.concat instead.\n",
      "  df = df.append({\"source_images_idx\": source_idx,\n",
      "/tmp/ipykernel_3842719/849445217.py:76: FutureWarning: The frame.append method is deprecated and will be removed from pandas in a future version. Use pandas.concat instead.\n",
      "  df = df.append({\"source_images_idx\": source_idx,\n",
      "/tmp/ipykernel_3842719/849445217.py:76: FutureWarning: The frame.append method is deprecated and will be removed from pandas in a future version. Use pandas.concat instead.\n",
      "  df = df.append({\"source_images_idx\": source_idx,\n"
     ]
    },
    {
     "name": "stdout",
     "output_type": "stream",
     "text": [
      "2 54 19 102\n",
      "226\n",
      "2 54 19 153\n",
      "227\n",
      "2 54 19 154\n",
      "228\n",
      "2 54 38 0\n",
      "229\n",
      "2 54 38 51\n",
      "230\n"
     ]
    },
    {
     "name": "stderr",
     "output_type": "stream",
     "text": [
      "/tmp/ipykernel_3842719/849445217.py:76: FutureWarning: The frame.append method is deprecated and will be removed from pandas in a future version. Use pandas.concat instead.\n",
      "  df = df.append({\"source_images_idx\": source_idx,\n",
      "/tmp/ipykernel_3842719/849445217.py:76: FutureWarning: The frame.append method is deprecated and will be removed from pandas in a future version. Use pandas.concat instead.\n",
      "  df = df.append({\"source_images_idx\": source_idx,\n",
      "/tmp/ipykernel_3842719/849445217.py:76: FutureWarning: The frame.append method is deprecated and will be removed from pandas in a future version. Use pandas.concat instead.\n",
      "  df = df.append({\"source_images_idx\": source_idx,\n",
      "/tmp/ipykernel_3842719/849445217.py:76: FutureWarning: The frame.append method is deprecated and will be removed from pandas in a future version. Use pandas.concat instead.\n",
      "  df = df.append({\"source_images_idx\": source_idx,\n",
      "/tmp/ipykernel_3842719/849445217.py:76: FutureWarning: The frame.append method is deprecated and will be removed from pandas in a future version. Use pandas.concat instead.\n",
      "  df = df.append({\"source_images_idx\": source_idx,\n"
     ]
    },
    {
     "name": "stdout",
     "output_type": "stream",
     "text": [
      "2 54 38 102\n",
      "231\n",
      "2 54 38 153\n",
      "232\n",
      "2 54 38 154\n",
      "233\n",
      "2 54 57 0\n",
      "234\n",
      "2 54 57 51\n",
      "235\n"
     ]
    },
    {
     "name": "stderr",
     "output_type": "stream",
     "text": [
      "/tmp/ipykernel_3842719/849445217.py:76: FutureWarning: The frame.append method is deprecated and will be removed from pandas in a future version. Use pandas.concat instead.\n",
      "  df = df.append({\"source_images_idx\": source_idx,\n",
      "/tmp/ipykernel_3842719/849445217.py:76: FutureWarning: The frame.append method is deprecated and will be removed from pandas in a future version. Use pandas.concat instead.\n",
      "  df = df.append({\"source_images_idx\": source_idx,\n",
      "/tmp/ipykernel_3842719/849445217.py:76: FutureWarning: The frame.append method is deprecated and will be removed from pandas in a future version. Use pandas.concat instead.\n",
      "  df = df.append({\"source_images_idx\": source_idx,\n",
      "/tmp/ipykernel_3842719/849445217.py:76: FutureWarning: The frame.append method is deprecated and will be removed from pandas in a future version. Use pandas.concat instead.\n",
      "  df = df.append({\"source_images_idx\": source_idx,\n",
      "/tmp/ipykernel_3842719/849445217.py:76: FutureWarning: The frame.append method is deprecated and will be removed from pandas in a future version. Use pandas.concat instead.\n",
      "  df = df.append({\"source_images_idx\": source_idx,\n"
     ]
    },
    {
     "name": "stdout",
     "output_type": "stream",
     "text": [
      "2 54 57 102\n",
      "236\n",
      "2 54 57 153\n",
      "237\n",
      "2 54 57 154\n",
      "238\n",
      "2 54 58 0\n",
      "239\n",
      "2 54 58 51\n",
      "240\n"
     ]
    },
    {
     "name": "stderr",
     "output_type": "stream",
     "text": [
      "/tmp/ipykernel_3842719/849445217.py:76: FutureWarning: The frame.append method is deprecated and will be removed from pandas in a future version. Use pandas.concat instead.\n",
      "  df = df.append({\"source_images_idx\": source_idx,\n",
      "/tmp/ipykernel_3842719/849445217.py:76: FutureWarning: The frame.append method is deprecated and will be removed from pandas in a future version. Use pandas.concat instead.\n",
      "  df = df.append({\"source_images_idx\": source_idx,\n",
      "/tmp/ipykernel_3842719/849445217.py:76: FutureWarning: The frame.append method is deprecated and will be removed from pandas in a future version. Use pandas.concat instead.\n",
      "  df = df.append({\"source_images_idx\": source_idx,\n",
      "/tmp/ipykernel_3842719/849445217.py:76: FutureWarning: The frame.append method is deprecated and will be removed from pandas in a future version. Use pandas.concat instead.\n",
      "  df = df.append({\"source_images_idx\": source_idx,\n",
      "/tmp/ipykernel_3842719/849445217.py:76: FutureWarning: The frame.append method is deprecated and will be removed from pandas in a future version. Use pandas.concat instead.\n",
      "  df = df.append({\"source_images_idx\": source_idx,\n"
     ]
    },
    {
     "name": "stdout",
     "output_type": "stream",
     "text": [
      "2 54 58 102\n",
      "241\n",
      "2 54 58 153\n",
      "242\n",
      "2 54 58 154\n",
      "243\n",
      "2 55 0 0\n",
      "244\n",
      "2 55 0 51\n",
      "245\n"
     ]
    },
    {
     "name": "stderr",
     "output_type": "stream",
     "text": [
      "/tmp/ipykernel_3842719/849445217.py:76: FutureWarning: The frame.append method is deprecated and will be removed from pandas in a future version. Use pandas.concat instead.\n",
      "  df = df.append({\"source_images_idx\": source_idx,\n",
      "/tmp/ipykernel_3842719/849445217.py:76: FutureWarning: The frame.append method is deprecated and will be removed from pandas in a future version. Use pandas.concat instead.\n",
      "  df = df.append({\"source_images_idx\": source_idx,\n",
      "/tmp/ipykernel_3842719/849445217.py:76: FutureWarning: The frame.append method is deprecated and will be removed from pandas in a future version. Use pandas.concat instead.\n",
      "  df = df.append({\"source_images_idx\": source_idx,\n",
      "/tmp/ipykernel_3842719/849445217.py:76: FutureWarning: The frame.append method is deprecated and will be removed from pandas in a future version. Use pandas.concat instead.\n",
      "  df = df.append({\"source_images_idx\": source_idx,\n",
      "/tmp/ipykernel_3842719/849445217.py:76: FutureWarning: The frame.append method is deprecated and will be removed from pandas in a future version. Use pandas.concat instead.\n",
      "  df = df.append({\"source_images_idx\": source_idx,\n"
     ]
    },
    {
     "name": "stdout",
     "output_type": "stream",
     "text": [
      "2 55 0 102\n",
      "246\n",
      "2 55 0 153\n",
      "247\n",
      "2 55 0 154\n",
      "248\n",
      "2 55 19 0\n",
      "249\n",
      "2 55 19 51\n",
      "250\n"
     ]
    },
    {
     "name": "stderr",
     "output_type": "stream",
     "text": [
      "/tmp/ipykernel_3842719/849445217.py:76: FutureWarning: The frame.append method is deprecated and will be removed from pandas in a future version. Use pandas.concat instead.\n",
      "  df = df.append({\"source_images_idx\": source_idx,\n",
      "/tmp/ipykernel_3842719/849445217.py:76: FutureWarning: The frame.append method is deprecated and will be removed from pandas in a future version. Use pandas.concat instead.\n",
      "  df = df.append({\"source_images_idx\": source_idx,\n",
      "/tmp/ipykernel_3842719/849445217.py:76: FutureWarning: The frame.append method is deprecated and will be removed from pandas in a future version. Use pandas.concat instead.\n",
      "  df = df.append({\"source_images_idx\": source_idx,\n",
      "/tmp/ipykernel_3842719/849445217.py:76: FutureWarning: The frame.append method is deprecated and will be removed from pandas in a future version. Use pandas.concat instead.\n",
      "  df = df.append({\"source_images_idx\": source_idx,\n",
      "/tmp/ipykernel_3842719/849445217.py:76: FutureWarning: The frame.append method is deprecated and will be removed from pandas in a future version. Use pandas.concat instead.\n",
      "  df = df.append({\"source_images_idx\": source_idx,\n"
     ]
    },
    {
     "name": "stdout",
     "output_type": "stream",
     "text": [
      "2 55 19 102\n",
      "251\n",
      "2 55 19 153\n",
      "252\n",
      "2 55 19 154\n",
      "253\n",
      "2 55 38 0\n",
      "254\n",
      "2 55 38 51\n",
      "255\n"
     ]
    },
    {
     "name": "stderr",
     "output_type": "stream",
     "text": [
      "/tmp/ipykernel_3842719/849445217.py:76: FutureWarning: The frame.append method is deprecated and will be removed from pandas in a future version. Use pandas.concat instead.\n",
      "  df = df.append({\"source_images_idx\": source_idx,\n",
      "/tmp/ipykernel_3842719/849445217.py:76: FutureWarning: The frame.append method is deprecated and will be removed from pandas in a future version. Use pandas.concat instead.\n",
      "  df = df.append({\"source_images_idx\": source_idx,\n",
      "/tmp/ipykernel_3842719/849445217.py:76: FutureWarning: The frame.append method is deprecated and will be removed from pandas in a future version. Use pandas.concat instead.\n",
      "  df = df.append({\"source_images_idx\": source_idx,\n",
      "/tmp/ipykernel_3842719/849445217.py:76: FutureWarning: The frame.append method is deprecated and will be removed from pandas in a future version. Use pandas.concat instead.\n",
      "  df = df.append({\"source_images_idx\": source_idx,\n"
     ]
    },
    {
     "name": "stdout",
     "output_type": "stream",
     "text": [
      "2 55 38 102\n",
      "256\n",
      "2 55 38 153\n",
      "257\n",
      "2 55 38 154\n",
      "258\n",
      "2 55 57 0\n",
      "259\n"
     ]
    },
    {
     "name": "stderr",
     "output_type": "stream",
     "text": [
      "/tmp/ipykernel_3842719/849445217.py:76: FutureWarning: The frame.append method is deprecated and will be removed from pandas in a future version. Use pandas.concat instead.\n",
      "  df = df.append({\"source_images_idx\": source_idx,\n",
      "/tmp/ipykernel_3842719/849445217.py:76: FutureWarning: The frame.append method is deprecated and will be removed from pandas in a future version. Use pandas.concat instead.\n",
      "  df = df.append({\"source_images_idx\": source_idx,\n",
      "/tmp/ipykernel_3842719/849445217.py:76: FutureWarning: The frame.append method is deprecated and will be removed from pandas in a future version. Use pandas.concat instead.\n",
      "  df = df.append({\"source_images_idx\": source_idx,\n",
      "/tmp/ipykernel_3842719/849445217.py:76: FutureWarning: The frame.append method is deprecated and will be removed from pandas in a future version. Use pandas.concat instead.\n",
      "  df = df.append({\"source_images_idx\": source_idx,\n",
      "/tmp/ipykernel_3842719/849445217.py:76: FutureWarning: The frame.append method is deprecated and will be removed from pandas in a future version. Use pandas.concat instead.\n",
      "  df = df.append({\"source_images_idx\": source_idx,\n",
      "/tmp/ipykernel_3842719/849445217.py:76: FutureWarning: The frame.append method is deprecated and will be removed from pandas in a future version. Use pandas.concat instead.\n",
      "  df = df.append({\"source_images_idx\": source_idx,\n"
     ]
    },
    {
     "name": "stdout",
     "output_type": "stream",
     "text": [
      "2 55 57 51\n",
      "260\n",
      "2 55 57 102\n",
      "261\n",
      "2 55 57 153\n",
      "262\n"
     ]
    },
    {
     "name": "stderr",
     "output_type": "stream",
     "text": [
      "/tmp/ipykernel_3842719/849445217.py:76: FutureWarning: The frame.append method is deprecated and will be removed from pandas in a future version. Use pandas.concat instead.\n",
      "  df = df.append({\"source_images_idx\": source_idx,\n",
      "/tmp/ipykernel_3842719/849445217.py:76: FutureWarning: The frame.append method is deprecated and will be removed from pandas in a future version. Use pandas.concat instead.\n",
      "  df = df.append({\"source_images_idx\": source_idx,\n",
      "/tmp/ipykernel_3842719/849445217.py:76: FutureWarning: The frame.append method is deprecated and will be removed from pandas in a future version. Use pandas.concat instead.\n",
      "  df = df.append({\"source_images_idx\": source_idx,\n"
     ]
    },
    {
     "name": "stdout",
     "output_type": "stream",
     "text": [
      "2 55 57 154\n",
      "263\n",
      "2 55 58 0\n",
      "264\n",
      "2 55 58 51\n",
      "265\n"
     ]
    },
    {
     "name": "stderr",
     "output_type": "stream",
     "text": [
      "/tmp/ipykernel_3842719/849445217.py:76: FutureWarning: The frame.append method is deprecated and will be removed from pandas in a future version. Use pandas.concat instead.\n",
      "  df = df.append({\"source_images_idx\": source_idx,\n",
      "/tmp/ipykernel_3842719/849445217.py:76: FutureWarning: The frame.append method is deprecated and will be removed from pandas in a future version. Use pandas.concat instead.\n",
      "  df = df.append({\"source_images_idx\": source_idx,\n",
      "/tmp/ipykernel_3842719/849445217.py:76: FutureWarning: The frame.append method is deprecated and will be removed from pandas in a future version. Use pandas.concat instead.\n",
      "  df = df.append({\"source_images_idx\": source_idx,\n"
     ]
    },
    {
     "name": "stdout",
     "output_type": "stream",
     "text": [
      "2 55 58 102\n",
      "266\n",
      "2 55 58 153\n",
      "267\n",
      "2 55 58 154\n",
      "268\n"
     ]
    },
    {
     "name": "stderr",
     "output_type": "stream",
     "text": [
      "/tmp/ipykernel_3842719/849445217.py:76: FutureWarning: The frame.append method is deprecated and will be removed from pandas in a future version. Use pandas.concat instead.\n",
      "  df = df.append({\"source_images_idx\": source_idx,\n",
      "/tmp/ipykernel_3842719/849445217.py:76: FutureWarning: The frame.append method is deprecated and will be removed from pandas in a future version. Use pandas.concat instead.\n",
      "  df = df.append({\"source_images_idx\": source_idx,\n",
      "/tmp/ipykernel_3842719/849445217.py:76: FutureWarning: The frame.append method is deprecated and will be removed from pandas in a future version. Use pandas.concat instead.\n",
      "  df = df.append({\"source_images_idx\": source_idx,\n"
     ]
    },
    {
     "name": "stdout",
     "output_type": "stream",
     "text": [
      "3 0 0 0\n",
      "269\n",
      "3 0 0 35\n",
      "270\n",
      "3 0 0 70\n",
      "271\n"
     ]
    },
    {
     "name": "stderr",
     "output_type": "stream",
     "text": [
      "/tmp/ipykernel_3842719/849445217.py:76: FutureWarning: The frame.append method is deprecated and will be removed from pandas in a future version. Use pandas.concat instead.\n",
      "  df = df.append({\"source_images_idx\": source_idx,\n",
      "/tmp/ipykernel_3842719/849445217.py:76: FutureWarning: The frame.append method is deprecated and will be removed from pandas in a future version. Use pandas.concat instead.\n",
      "  df = df.append({\"source_images_idx\": source_idx,\n",
      "/tmp/ipykernel_3842719/849445217.py:76: FutureWarning: The frame.append method is deprecated and will be removed from pandas in a future version. Use pandas.concat instead.\n",
      "  df = df.append({\"source_images_idx\": source_idx,\n"
     ]
    },
    {
     "name": "stdout",
     "output_type": "stream",
     "text": [
      "3 0 0 105\n",
      "272\n",
      "3 0 18 0\n",
      "273\n",
      "3 0 18 35\n",
      "274\n"
     ]
    },
    {
     "name": "stderr",
     "output_type": "stream",
     "text": [
      "/tmp/ipykernel_3842719/849445217.py:76: FutureWarning: The frame.append method is deprecated and will be removed from pandas in a future version. Use pandas.concat instead.\n",
      "  df = df.append({\"source_images_idx\": source_idx,\n",
      "/tmp/ipykernel_3842719/849445217.py:76: FutureWarning: The frame.append method is deprecated and will be removed from pandas in a future version. Use pandas.concat instead.\n",
      "  df = df.append({\"source_images_idx\": source_idx,\n",
      "/tmp/ipykernel_3842719/849445217.py:76: FutureWarning: The frame.append method is deprecated and will be removed from pandas in a future version. Use pandas.concat instead.\n",
      "  df = df.append({\"source_images_idx\": source_idx,\n",
      "/tmp/ipykernel_3842719/849445217.py:76: FutureWarning: The frame.append method is deprecated and will be removed from pandas in a future version. Use pandas.concat instead.\n",
      "  df = df.append({\"source_images_idx\": source_idx,\n",
      "/tmp/ipykernel_3842719/849445217.py:76: FutureWarning: The frame.append method is deprecated and will be removed from pandas in a future version. Use pandas.concat instead.\n",
      "  df = df.append({\"source_images_idx\": source_idx,\n"
     ]
    },
    {
     "name": "stdout",
     "output_type": "stream",
     "text": [
      "3 0 18 70\n",
      "275\n",
      "3 0 18 105\n",
      "276\n",
      "3 0 36 0\n",
      "277\n",
      "3 0 36 35\n",
      "278\n",
      "3 0 36 70\n",
      "279\n"
     ]
    },
    {
     "name": "stderr",
     "output_type": "stream",
     "text": [
      "/tmp/ipykernel_3842719/849445217.py:76: FutureWarning: The frame.append method is deprecated and will be removed from pandas in a future version. Use pandas.concat instead.\n",
      "  df = df.append({\"source_images_idx\": source_idx,\n",
      "/tmp/ipykernel_3842719/849445217.py:76: FutureWarning: The frame.append method is deprecated and will be removed from pandas in a future version. Use pandas.concat instead.\n",
      "  df = df.append({\"source_images_idx\": source_idx,\n",
      "/tmp/ipykernel_3842719/849445217.py:76: FutureWarning: The frame.append method is deprecated and will be removed from pandas in a future version. Use pandas.concat instead.\n",
      "  df = df.append({\"source_images_idx\": source_idx,\n",
      "/tmp/ipykernel_3842719/849445217.py:76: FutureWarning: The frame.append method is deprecated and will be removed from pandas in a future version. Use pandas.concat instead.\n",
      "  df = df.append({\"source_images_idx\": source_idx,\n",
      "/tmp/ipykernel_3842719/849445217.py:76: FutureWarning: The frame.append method is deprecated and will be removed from pandas in a future version. Use pandas.concat instead.\n",
      "  df = df.append({\"source_images_idx\": source_idx,\n"
     ]
    },
    {
     "name": "stdout",
     "output_type": "stream",
     "text": [
      "3 0 36 105\n",
      "280\n",
      "3 0 54 0\n",
      "281\n",
      "3 0 54 35\n",
      "282\n",
      "3 0 54 70\n",
      "283\n",
      "3 0 54 105\n",
      "284\n"
     ]
    },
    {
     "name": "stderr",
     "output_type": "stream",
     "text": [
      "/tmp/ipykernel_3842719/849445217.py:76: FutureWarning: The frame.append method is deprecated and will be removed from pandas in a future version. Use pandas.concat instead.\n",
      "  df = df.append({\"source_images_idx\": source_idx,\n",
      "/tmp/ipykernel_3842719/849445217.py:76: FutureWarning: The frame.append method is deprecated and will be removed from pandas in a future version. Use pandas.concat instead.\n",
      "  df = df.append({\"source_images_idx\": source_idx,\n",
      "/tmp/ipykernel_3842719/849445217.py:76: FutureWarning: The frame.append method is deprecated and will be removed from pandas in a future version. Use pandas.concat instead.\n",
      "  df = df.append({\"source_images_idx\": source_idx,\n",
      "/tmp/ipykernel_3842719/849445217.py:76: FutureWarning: The frame.append method is deprecated and will be removed from pandas in a future version. Use pandas.concat instead.\n",
      "  df = df.append({\"source_images_idx\": source_idx,\n",
      "/tmp/ipykernel_3842719/849445217.py:76: FutureWarning: The frame.append method is deprecated and will be removed from pandas in a future version. Use pandas.concat instead.\n",
      "  df = df.append({\"source_images_idx\": source_idx,\n"
     ]
    },
    {
     "name": "stdout",
     "output_type": "stream",
     "text": [
      "3 0 55 0\n",
      "285\n",
      "3 0 55 35\n",
      "286\n",
      "3 0 55 70\n",
      "287\n",
      "3 0 55 105\n",
      "288\n",
      "3 30 0 0\n",
      "289\n"
     ]
    },
    {
     "name": "stderr",
     "output_type": "stream",
     "text": [
      "/tmp/ipykernel_3842719/849445217.py:76: FutureWarning: The frame.append method is deprecated and will be removed from pandas in a future version. Use pandas.concat instead.\n",
      "  df = df.append({\"source_images_idx\": source_idx,\n",
      "/tmp/ipykernel_3842719/849445217.py:76: FutureWarning: The frame.append method is deprecated and will be removed from pandas in a future version. Use pandas.concat instead.\n",
      "  df = df.append({\"source_images_idx\": source_idx,\n",
      "/tmp/ipykernel_3842719/849445217.py:76: FutureWarning: The frame.append method is deprecated and will be removed from pandas in a future version. Use pandas.concat instead.\n",
      "  df = df.append({\"source_images_idx\": source_idx,\n",
      "/tmp/ipykernel_3842719/849445217.py:76: FutureWarning: The frame.append method is deprecated and will be removed from pandas in a future version. Use pandas.concat instead.\n",
      "  df = df.append({\"source_images_idx\": source_idx,\n",
      "/tmp/ipykernel_3842719/849445217.py:76: FutureWarning: The frame.append method is deprecated and will be removed from pandas in a future version. Use pandas.concat instead.\n",
      "  df = df.append({\"source_images_idx\": source_idx,\n"
     ]
    },
    {
     "name": "stdout",
     "output_type": "stream",
     "text": [
      "3 30 0 35\n",
      "290\n",
      "3 30 0 70\n",
      "291\n",
      "3 30 0 105\n",
      "292\n",
      "3 30 18 0\n",
      "293\n",
      "3 30 18 35\n",
      "294\n"
     ]
    },
    {
     "name": "stderr",
     "output_type": "stream",
     "text": [
      "/tmp/ipykernel_3842719/849445217.py:76: FutureWarning: The frame.append method is deprecated and will be removed from pandas in a future version. Use pandas.concat instead.\n",
      "  df = df.append({\"source_images_idx\": source_idx,\n",
      "/tmp/ipykernel_3842719/849445217.py:76: FutureWarning: The frame.append method is deprecated and will be removed from pandas in a future version. Use pandas.concat instead.\n",
      "  df = df.append({\"source_images_idx\": source_idx,\n",
      "/tmp/ipykernel_3842719/849445217.py:76: FutureWarning: The frame.append method is deprecated and will be removed from pandas in a future version. Use pandas.concat instead.\n",
      "  df = df.append({\"source_images_idx\": source_idx,\n",
      "/tmp/ipykernel_3842719/849445217.py:76: FutureWarning: The frame.append method is deprecated and will be removed from pandas in a future version. Use pandas.concat instead.\n",
      "  df = df.append({\"source_images_idx\": source_idx,\n",
      "/tmp/ipykernel_3842719/849445217.py:76: FutureWarning: The frame.append method is deprecated and will be removed from pandas in a future version. Use pandas.concat instead.\n",
      "  df = df.append({\"source_images_idx\": source_idx,\n"
     ]
    },
    {
     "name": "stdout",
     "output_type": "stream",
     "text": [
      "3 30 18 70\n",
      "295\n",
      "3 30 18 105\n",
      "296\n",
      "3 30 36 0\n",
      "297\n",
      "3 30 36 35\n",
      "298\n",
      "3 30 36 70\n",
      "299\n"
     ]
    },
    {
     "name": "stderr",
     "output_type": "stream",
     "text": [
      "/tmp/ipykernel_3842719/849445217.py:76: FutureWarning: The frame.append method is deprecated and will be removed from pandas in a future version. Use pandas.concat instead.\n",
      "  df = df.append({\"source_images_idx\": source_idx,\n",
      "/tmp/ipykernel_3842719/849445217.py:76: FutureWarning: The frame.append method is deprecated and will be removed from pandas in a future version. Use pandas.concat instead.\n",
      "  df = df.append({\"source_images_idx\": source_idx,\n",
      "/tmp/ipykernel_3842719/849445217.py:76: FutureWarning: The frame.append method is deprecated and will be removed from pandas in a future version. Use pandas.concat instead.\n",
      "  df = df.append({\"source_images_idx\": source_idx,\n",
      "/tmp/ipykernel_3842719/849445217.py:76: FutureWarning: The frame.append method is deprecated and will be removed from pandas in a future version. Use pandas.concat instead.\n",
      "  df = df.append({\"source_images_idx\": source_idx,\n",
      "/tmp/ipykernel_3842719/849445217.py:76: FutureWarning: The frame.append method is deprecated and will be removed from pandas in a future version. Use pandas.concat instead.\n",
      "  df = df.append({\"source_images_idx\": source_idx,\n"
     ]
    },
    {
     "name": "stdout",
     "output_type": "stream",
     "text": [
      "3 30 36 105\n",
      "300\n",
      "3 30 54 0\n",
      "301\n",
      "3 30 54 35\n",
      "302\n",
      "3 30 54 70\n",
      "303\n",
      "3 30 54 105\n",
      "304\n"
     ]
    },
    {
     "name": "stderr",
     "output_type": "stream",
     "text": [
      "/tmp/ipykernel_3842719/849445217.py:76: FutureWarning: The frame.append method is deprecated and will be removed from pandas in a future version. Use pandas.concat instead.\n",
      "  df = df.append({\"source_images_idx\": source_idx,\n",
      "/tmp/ipykernel_3842719/849445217.py:76: FutureWarning: The frame.append method is deprecated and will be removed from pandas in a future version. Use pandas.concat instead.\n",
      "  df = df.append({\"source_images_idx\": source_idx,\n",
      "/tmp/ipykernel_3842719/849445217.py:76: FutureWarning: The frame.append method is deprecated and will be removed from pandas in a future version. Use pandas.concat instead.\n",
      "  df = df.append({\"source_images_idx\": source_idx,\n",
      "/tmp/ipykernel_3842719/849445217.py:76: FutureWarning: The frame.append method is deprecated and will be removed from pandas in a future version. Use pandas.concat instead.\n",
      "  df = df.append({\"source_images_idx\": source_idx,\n",
      "/tmp/ipykernel_3842719/849445217.py:76: FutureWarning: The frame.append method is deprecated and will be removed from pandas in a future version. Use pandas.concat instead.\n",
      "  df = df.append({\"source_images_idx\": source_idx,\n"
     ]
    },
    {
     "name": "stdout",
     "output_type": "stream",
     "text": [
      "3 30 55 0\n",
      "305\n",
      "3 30 55 35\n",
      "306\n",
      "3 30 55 70\n",
      "307\n",
      "3 30 55 105\n",
      "308\n",
      "3 60 0 0\n",
      "309\n"
     ]
    },
    {
     "name": "stderr",
     "output_type": "stream",
     "text": [
      "/tmp/ipykernel_3842719/849445217.py:76: FutureWarning: The frame.append method is deprecated and will be removed from pandas in a future version. Use pandas.concat instead.\n",
      "  df = df.append({\"source_images_idx\": source_idx,\n",
      "/tmp/ipykernel_3842719/849445217.py:76: FutureWarning: The frame.append method is deprecated and will be removed from pandas in a future version. Use pandas.concat instead.\n",
      "  df = df.append({\"source_images_idx\": source_idx,\n",
      "/tmp/ipykernel_3842719/849445217.py:76: FutureWarning: The frame.append method is deprecated and will be removed from pandas in a future version. Use pandas.concat instead.\n",
      "  df = df.append({\"source_images_idx\": source_idx,\n",
      "/tmp/ipykernel_3842719/849445217.py:76: FutureWarning: The frame.append method is deprecated and will be removed from pandas in a future version. Use pandas.concat instead.\n",
      "  df = df.append({\"source_images_idx\": source_idx,\n",
      "/tmp/ipykernel_3842719/849445217.py:76: FutureWarning: The frame.append method is deprecated and will be removed from pandas in a future version. Use pandas.concat instead.\n",
      "  df = df.append({\"source_images_idx\": source_idx,\n"
     ]
    },
    {
     "name": "stdout",
     "output_type": "stream",
     "text": [
      "3 60 0 35\n",
      "310\n",
      "3 60 0 70\n",
      "311\n",
      "3 60 0 105\n",
      "312\n",
      "3 60 18 0\n",
      "313\n",
      "3 60 18 35\n",
      "314\n"
     ]
    },
    {
     "name": "stderr",
     "output_type": "stream",
     "text": [
      "/tmp/ipykernel_3842719/849445217.py:76: FutureWarning: The frame.append method is deprecated and will be removed from pandas in a future version. Use pandas.concat instead.\n",
      "  df = df.append({\"source_images_idx\": source_idx,\n",
      "/tmp/ipykernel_3842719/849445217.py:76: FutureWarning: The frame.append method is deprecated and will be removed from pandas in a future version. Use pandas.concat instead.\n",
      "  df = df.append({\"source_images_idx\": source_idx,\n",
      "/tmp/ipykernel_3842719/849445217.py:76: FutureWarning: The frame.append method is deprecated and will be removed from pandas in a future version. Use pandas.concat instead.\n",
      "  df = df.append({\"source_images_idx\": source_idx,\n",
      "/tmp/ipykernel_3842719/849445217.py:76: FutureWarning: The frame.append method is deprecated and will be removed from pandas in a future version. Use pandas.concat instead.\n",
      "  df = df.append({\"source_images_idx\": source_idx,\n",
      "/tmp/ipykernel_3842719/849445217.py:76: FutureWarning: The frame.append method is deprecated and will be removed from pandas in a future version. Use pandas.concat instead.\n",
      "  df = df.append({\"source_images_idx\": source_idx,\n"
     ]
    },
    {
     "name": "stdout",
     "output_type": "stream",
     "text": [
      "3 60 18 70\n",
      "315\n",
      "3 60 18 105\n",
      "316\n",
      "3 60 36 0\n",
      "317\n",
      "3 60 36 35\n",
      "318\n",
      "3 60 36 70\n",
      "319\n"
     ]
    },
    {
     "name": "stderr",
     "output_type": "stream",
     "text": [
      "/tmp/ipykernel_3842719/849445217.py:76: FutureWarning: The frame.append method is deprecated and will be removed from pandas in a future version. Use pandas.concat instead.\n",
      "  df = df.append({\"source_images_idx\": source_idx,\n",
      "/tmp/ipykernel_3842719/849445217.py:76: FutureWarning: The frame.append method is deprecated and will be removed from pandas in a future version. Use pandas.concat instead.\n",
      "  df = df.append({\"source_images_idx\": source_idx,\n",
      "/tmp/ipykernel_3842719/849445217.py:76: FutureWarning: The frame.append method is deprecated and will be removed from pandas in a future version. Use pandas.concat instead.\n",
      "  df = df.append({\"source_images_idx\": source_idx,\n",
      "/tmp/ipykernel_3842719/849445217.py:76: FutureWarning: The frame.append method is deprecated and will be removed from pandas in a future version. Use pandas.concat instead.\n",
      "  df = df.append({\"source_images_idx\": source_idx,\n",
      "/tmp/ipykernel_3842719/849445217.py:76: FutureWarning: The frame.append method is deprecated and will be removed from pandas in a future version. Use pandas.concat instead.\n",
      "  df = df.append({\"source_images_idx\": source_idx,\n"
     ]
    },
    {
     "name": "stdout",
     "output_type": "stream",
     "text": [
      "3 60 36 105\n",
      "320\n",
      "3 60 54 0\n",
      "321\n",
      "3 60 54 35\n",
      "322\n",
      "3 60 54 70\n",
      "323\n",
      "3 60 54 105\n",
      "324\n"
     ]
    },
    {
     "name": "stderr",
     "output_type": "stream",
     "text": [
      "/tmp/ipykernel_3842719/849445217.py:76: FutureWarning: The frame.append method is deprecated and will be removed from pandas in a future version. Use pandas.concat instead.\n",
      "  df = df.append({\"source_images_idx\": source_idx,\n",
      "/tmp/ipykernel_3842719/849445217.py:76: FutureWarning: The frame.append method is deprecated and will be removed from pandas in a future version. Use pandas.concat instead.\n",
      "  df = df.append({\"source_images_idx\": source_idx,\n",
      "/tmp/ipykernel_3842719/849445217.py:76: FutureWarning: The frame.append method is deprecated and will be removed from pandas in a future version. Use pandas.concat instead.\n",
      "  df = df.append({\"source_images_idx\": source_idx,\n",
      "/tmp/ipykernel_3842719/849445217.py:76: FutureWarning: The frame.append method is deprecated and will be removed from pandas in a future version. Use pandas.concat instead.\n",
      "  df = df.append({\"source_images_idx\": source_idx,\n"
     ]
    },
    {
     "name": "stdout",
     "output_type": "stream",
     "text": [
      "3 60 55 0\n",
      "325\n",
      "3 60 55 35\n",
      "326\n",
      "3 60 55 70\n",
      "327\n",
      "3 60 55 105\n",
      "328\n"
     ]
    },
    {
     "name": "stderr",
     "output_type": "stream",
     "text": [
      "/tmp/ipykernel_3842719/849445217.py:76: FutureWarning: The frame.append method is deprecated and will be removed from pandas in a future version. Use pandas.concat instead.\n",
      "  df = df.append({\"source_images_idx\": source_idx,\n",
      "/tmp/ipykernel_3842719/849445217.py:76: FutureWarning: The frame.append method is deprecated and will be removed from pandas in a future version. Use pandas.concat instead.\n",
      "  df = df.append({\"source_images_idx\": source_idx,\n",
      "/tmp/ipykernel_3842719/849445217.py:76: FutureWarning: The frame.append method is deprecated and will be removed from pandas in a future version. Use pandas.concat instead.\n",
      "  df = df.append({\"source_images_idx\": source_idx,\n"
     ]
    },
    {
     "name": "stdout",
     "output_type": "stream",
     "text": [
      "3 90 0 0\n",
      "329\n",
      "3 90 0 35\n",
      "330\n",
      "3 90 0 70\n",
      "331\n"
     ]
    },
    {
     "name": "stderr",
     "output_type": "stream",
     "text": [
      "/tmp/ipykernel_3842719/849445217.py:76: FutureWarning: The frame.append method is deprecated and will be removed from pandas in a future version. Use pandas.concat instead.\n",
      "  df = df.append({\"source_images_idx\": source_idx,\n",
      "/tmp/ipykernel_3842719/849445217.py:76: FutureWarning: The frame.append method is deprecated and will be removed from pandas in a future version. Use pandas.concat instead.\n",
      "  df = df.append({\"source_images_idx\": source_idx,\n",
      "/tmp/ipykernel_3842719/849445217.py:76: FutureWarning: The frame.append method is deprecated and will be removed from pandas in a future version. Use pandas.concat instead.\n",
      "  df = df.append({\"source_images_idx\": source_idx,\n"
     ]
    },
    {
     "name": "stdout",
     "output_type": "stream",
     "text": [
      "3 90 0 105\n",
      "332\n",
      "3 90 18 0\n",
      "333\n",
      "3 90 18 35\n",
      "334\n"
     ]
    },
    {
     "name": "stderr",
     "output_type": "stream",
     "text": [
      "/tmp/ipykernel_3842719/849445217.py:76: FutureWarning: The frame.append method is deprecated and will be removed from pandas in a future version. Use pandas.concat instead.\n",
      "  df = df.append({\"source_images_idx\": source_idx,\n",
      "/tmp/ipykernel_3842719/849445217.py:76: FutureWarning: The frame.append method is deprecated and will be removed from pandas in a future version. Use pandas.concat instead.\n",
      "  df = df.append({\"source_images_idx\": source_idx,\n",
      "/tmp/ipykernel_3842719/849445217.py:76: FutureWarning: The frame.append method is deprecated and will be removed from pandas in a future version. Use pandas.concat instead.\n",
      "  df = df.append({\"source_images_idx\": source_idx,\n"
     ]
    },
    {
     "name": "stdout",
     "output_type": "stream",
     "text": [
      "3 90 18 70\n",
      "335\n",
      "3 90 18 105\n",
      "336\n",
      "3 90 36 0\n",
      "337\n"
     ]
    },
    {
     "name": "stderr",
     "output_type": "stream",
     "text": [
      "/tmp/ipykernel_3842719/849445217.py:76: FutureWarning: The frame.append method is deprecated and will be removed from pandas in a future version. Use pandas.concat instead.\n",
      "  df = df.append({\"source_images_idx\": source_idx,\n",
      "/tmp/ipykernel_3842719/849445217.py:76: FutureWarning: The frame.append method is deprecated and will be removed from pandas in a future version. Use pandas.concat instead.\n",
      "  df = df.append({\"source_images_idx\": source_idx,\n",
      "/tmp/ipykernel_3842719/849445217.py:76: FutureWarning: The frame.append method is deprecated and will be removed from pandas in a future version. Use pandas.concat instead.\n",
      "  df = df.append({\"source_images_idx\": source_idx,\n"
     ]
    },
    {
     "name": "stdout",
     "output_type": "stream",
     "text": [
      "3 90 36 35\n",
      "338\n",
      "3 90 36 70\n",
      "339\n",
      "3 90 36 105\n",
      "340\n"
     ]
    },
    {
     "name": "stderr",
     "output_type": "stream",
     "text": [
      "/tmp/ipykernel_3842719/849445217.py:76: FutureWarning: The frame.append method is deprecated and will be removed from pandas in a future version. Use pandas.concat instead.\n",
      "  df = df.append({\"source_images_idx\": source_idx,\n",
      "/tmp/ipykernel_3842719/849445217.py:76: FutureWarning: The frame.append method is deprecated and will be removed from pandas in a future version. Use pandas.concat instead.\n",
      "  df = df.append({\"source_images_idx\": source_idx,\n",
      "/tmp/ipykernel_3842719/849445217.py:76: FutureWarning: The frame.append method is deprecated and will be removed from pandas in a future version. Use pandas.concat instead.\n",
      "  df = df.append({\"source_images_idx\": source_idx,\n"
     ]
    },
    {
     "name": "stdout",
     "output_type": "stream",
     "text": [
      "3 90 54 0\n",
      "341\n",
      "3 90 54 35\n",
      "342\n",
      "3 90 54 70\n",
      "343\n"
     ]
    },
    {
     "name": "stderr",
     "output_type": "stream",
     "text": [
      "/tmp/ipykernel_3842719/849445217.py:76: FutureWarning: The frame.append method is deprecated and will be removed from pandas in a future version. Use pandas.concat instead.\n",
      "  df = df.append({\"source_images_idx\": source_idx,\n",
      "/tmp/ipykernel_3842719/849445217.py:76: FutureWarning: The frame.append method is deprecated and will be removed from pandas in a future version. Use pandas.concat instead.\n",
      "  df = df.append({\"source_images_idx\": source_idx,\n",
      "/tmp/ipykernel_3842719/849445217.py:76: FutureWarning: The frame.append method is deprecated and will be removed from pandas in a future version. Use pandas.concat instead.\n",
      "  df = df.append({\"source_images_idx\": source_idx,\n",
      "/tmp/ipykernel_3842719/849445217.py:76: FutureWarning: The frame.append method is deprecated and will be removed from pandas in a future version. Use pandas.concat instead.\n",
      "  df = df.append({\"source_images_idx\": source_idx,\n"
     ]
    },
    {
     "name": "stdout",
     "output_type": "stream",
     "text": [
      "3 90 54 105\n",
      "344\n",
      "3 90 55 0\n",
      "345\n",
      "3 90 55 35\n",
      "346\n",
      "3 90 55 70\n",
      "347\n"
     ]
    },
    {
     "name": "stderr",
     "output_type": "stream",
     "text": [
      "/tmp/ipykernel_3842719/849445217.py:76: FutureWarning: The frame.append method is deprecated and will be removed from pandas in a future version. Use pandas.concat instead.\n",
      "  df = df.append({\"source_images_idx\": source_idx,\n",
      "/tmp/ipykernel_3842719/849445217.py:76: FutureWarning: The frame.append method is deprecated and will be removed from pandas in a future version. Use pandas.concat instead.\n",
      "  df = df.append({\"source_images_idx\": source_idx,\n",
      "/tmp/ipykernel_3842719/849445217.py:76: FutureWarning: The frame.append method is deprecated and will be removed from pandas in a future version. Use pandas.concat instead.\n",
      "  df = df.append({\"source_images_idx\": source_idx,\n",
      "/tmp/ipykernel_3842719/849445217.py:76: FutureWarning: The frame.append method is deprecated and will be removed from pandas in a future version. Use pandas.concat instead.\n",
      "  df = df.append({\"source_images_idx\": source_idx,\n",
      "/tmp/ipykernel_3842719/849445217.py:76: FutureWarning: The frame.append method is deprecated and will be removed from pandas in a future version. Use pandas.concat instead.\n",
      "  df = df.append({\"source_images_idx\": source_idx,\n"
     ]
    },
    {
     "name": "stdout",
     "output_type": "stream",
     "text": [
      "3 90 55 105\n",
      "348\n",
      "3 91 0 0\n",
      "349\n",
      "3 91 0 35\n",
      "350\n",
      "3 91 0 70\n",
      "351\n",
      "3 91 0 105\n",
      "352\n"
     ]
    },
    {
     "name": "stderr",
     "output_type": "stream",
     "text": [
      "/tmp/ipykernel_3842719/849445217.py:76: FutureWarning: The frame.append method is deprecated and will be removed from pandas in a future version. Use pandas.concat instead.\n",
      "  df = df.append({\"source_images_idx\": source_idx,\n",
      "/tmp/ipykernel_3842719/849445217.py:76: FutureWarning: The frame.append method is deprecated and will be removed from pandas in a future version. Use pandas.concat instead.\n",
      "  df = df.append({\"source_images_idx\": source_idx,\n",
      "/tmp/ipykernel_3842719/849445217.py:76: FutureWarning: The frame.append method is deprecated and will be removed from pandas in a future version. Use pandas.concat instead.\n",
      "  df = df.append({\"source_images_idx\": source_idx,\n",
      "/tmp/ipykernel_3842719/849445217.py:76: FutureWarning: The frame.append method is deprecated and will be removed from pandas in a future version. Use pandas.concat instead.\n",
      "  df = df.append({\"source_images_idx\": source_idx,\n",
      "/tmp/ipykernel_3842719/849445217.py:76: FutureWarning: The frame.append method is deprecated and will be removed from pandas in a future version. Use pandas.concat instead.\n",
      "  df = df.append({\"source_images_idx\": source_idx,\n"
     ]
    },
    {
     "name": "stdout",
     "output_type": "stream",
     "text": [
      "3 91 18 0\n",
      "353\n",
      "3 91 18 35\n",
      "354\n",
      "3 91 18 70\n",
      "355\n",
      "3 91 18 105\n",
      "356\n",
      "3 91 36 0\n",
      "357\n"
     ]
    },
    {
     "name": "stderr",
     "output_type": "stream",
     "text": [
      "/tmp/ipykernel_3842719/849445217.py:76: FutureWarning: The frame.append method is deprecated and will be removed from pandas in a future version. Use pandas.concat instead.\n",
      "  df = df.append({\"source_images_idx\": source_idx,\n",
      "/tmp/ipykernel_3842719/849445217.py:76: FutureWarning: The frame.append method is deprecated and will be removed from pandas in a future version. Use pandas.concat instead.\n",
      "  df = df.append({\"source_images_idx\": source_idx,\n",
      "/tmp/ipykernel_3842719/849445217.py:76: FutureWarning: The frame.append method is deprecated and will be removed from pandas in a future version. Use pandas.concat instead.\n",
      "  df = df.append({\"source_images_idx\": source_idx,\n",
      "/tmp/ipykernel_3842719/849445217.py:76: FutureWarning: The frame.append method is deprecated and will be removed from pandas in a future version. Use pandas.concat instead.\n",
      "  df = df.append({\"source_images_idx\": source_idx,\n",
      "/tmp/ipykernel_3842719/849445217.py:76: FutureWarning: The frame.append method is deprecated and will be removed from pandas in a future version. Use pandas.concat instead.\n",
      "  df = df.append({\"source_images_idx\": source_idx,\n"
     ]
    },
    {
     "name": "stdout",
     "output_type": "stream",
     "text": [
      "3 91 36 35\n",
      "358\n",
      "3 91 36 70\n",
      "359\n",
      "3 91 36 105\n",
      "360\n",
      "3 91 54 0\n",
      "361\n",
      "3 91 54 35\n",
      "362\n"
     ]
    },
    {
     "name": "stderr",
     "output_type": "stream",
     "text": [
      "/tmp/ipykernel_3842719/849445217.py:76: FutureWarning: The frame.append method is deprecated and will be removed from pandas in a future version. Use pandas.concat instead.\n",
      "  df = df.append({\"source_images_idx\": source_idx,\n",
      "/tmp/ipykernel_3842719/849445217.py:76: FutureWarning: The frame.append method is deprecated and will be removed from pandas in a future version. Use pandas.concat instead.\n",
      "  df = df.append({\"source_images_idx\": source_idx,\n",
      "/tmp/ipykernel_3842719/849445217.py:76: FutureWarning: The frame.append method is deprecated and will be removed from pandas in a future version. Use pandas.concat instead.\n",
      "  df = df.append({\"source_images_idx\": source_idx,\n",
      "/tmp/ipykernel_3842719/849445217.py:76: FutureWarning: The frame.append method is deprecated and will be removed from pandas in a future version. Use pandas.concat instead.\n",
      "  df = df.append({\"source_images_idx\": source_idx,\n",
      "/tmp/ipykernel_3842719/849445217.py:76: FutureWarning: The frame.append method is deprecated and will be removed from pandas in a future version. Use pandas.concat instead.\n",
      "  df = df.append({\"source_images_idx\": source_idx,\n"
     ]
    },
    {
     "name": "stdout",
     "output_type": "stream",
     "text": [
      "3 91 54 70\n",
      "363\n",
      "3 91 54 105\n",
      "364\n",
      "3 91 55 0\n",
      "365\n",
      "3 91 55 35\n",
      "366\n",
      "3 91 55 70\n",
      "367\n"
     ]
    },
    {
     "name": "stderr",
     "output_type": "stream",
     "text": [
      "/tmp/ipykernel_3842719/849445217.py:76: FutureWarning: The frame.append method is deprecated and will be removed from pandas in a future version. Use pandas.concat instead.\n",
      "  df = df.append({\"source_images_idx\": source_idx,\n",
      "/tmp/ipykernel_3842719/849445217.py:76: FutureWarning: The frame.append method is deprecated and will be removed from pandas in a future version. Use pandas.concat instead.\n",
      "  df = df.append({\"source_images_idx\": source_idx,\n",
      "/tmp/ipykernel_3842719/849445217.py:76: FutureWarning: The frame.append method is deprecated and will be removed from pandas in a future version. Use pandas.concat instead.\n",
      "  df = df.append({\"source_images_idx\": source_idx,\n",
      "/tmp/ipykernel_3842719/849445217.py:76: FutureWarning: The frame.append method is deprecated and will be removed from pandas in a future version. Use pandas.concat instead.\n",
      "  df = df.append({\"source_images_idx\": source_idx,\n",
      "/tmp/ipykernel_3842719/849445217.py:76: FutureWarning: The frame.append method is deprecated and will be removed from pandas in a future version. Use pandas.concat instead.\n",
      "  df = df.append({\"source_images_idx\": source_idx,\n"
     ]
    },
    {
     "name": "stdout",
     "output_type": "stream",
     "text": [
      "3 91 55 105\n",
      "368\n",
      "4 0 0 0\n",
      "369\n",
      "4 0 0 36\n",
      "370\n",
      "4 0 0 72\n",
      "371\n",
      "4 0 0 108\n",
      "372\n"
     ]
    },
    {
     "name": "stderr",
     "output_type": "stream",
     "text": [
      "/tmp/ipykernel_3842719/849445217.py:76: FutureWarning: The frame.append method is deprecated and will be removed from pandas in a future version. Use pandas.concat instead.\n",
      "  df = df.append({\"source_images_idx\": source_idx,\n",
      "/tmp/ipykernel_3842719/849445217.py:76: FutureWarning: The frame.append method is deprecated and will be removed from pandas in a future version. Use pandas.concat instead.\n",
      "  df = df.append({\"source_images_idx\": source_idx,\n",
      "/tmp/ipykernel_3842719/849445217.py:76: FutureWarning: The frame.append method is deprecated and will be removed from pandas in a future version. Use pandas.concat instead.\n",
      "  df = df.append({\"source_images_idx\": source_idx,\n",
      "/tmp/ipykernel_3842719/849445217.py:76: FutureWarning: The frame.append method is deprecated and will be removed from pandas in a future version. Use pandas.concat instead.\n",
      "  df = df.append({\"source_images_idx\": source_idx,\n",
      "/tmp/ipykernel_3842719/849445217.py:76: FutureWarning: The frame.append method is deprecated and will be removed from pandas in a future version. Use pandas.concat instead.\n",
      "  df = df.append({\"source_images_idx\": source_idx,\n"
     ]
    },
    {
     "name": "stdout",
     "output_type": "stream",
     "text": [
      "4 0 0 109\n",
      "373\n",
      "4 0 12 0\n",
      "374\n",
      "4 0 12 36\n",
      "375\n",
      "4 0 12 72\n",
      "376\n",
      "4 0 12 108\n",
      "377\n"
     ]
    },
    {
     "name": "stderr",
     "output_type": "stream",
     "text": [
      "/tmp/ipykernel_3842719/849445217.py:76: FutureWarning: The frame.append method is deprecated and will be removed from pandas in a future version. Use pandas.concat instead.\n",
      "  df = df.append({\"source_images_idx\": source_idx,\n",
      "/tmp/ipykernel_3842719/849445217.py:76: FutureWarning: The frame.append method is deprecated and will be removed from pandas in a future version. Use pandas.concat instead.\n",
      "  df = df.append({\"source_images_idx\": source_idx,\n",
      "/tmp/ipykernel_3842719/849445217.py:76: FutureWarning: The frame.append method is deprecated and will be removed from pandas in a future version. Use pandas.concat instead.\n",
      "  df = df.append({\"source_images_idx\": source_idx,\n",
      "/tmp/ipykernel_3842719/849445217.py:76: FutureWarning: The frame.append method is deprecated and will be removed from pandas in a future version. Use pandas.concat instead.\n",
      "  df = df.append({\"source_images_idx\": source_idx,\n",
      "/tmp/ipykernel_3842719/849445217.py:76: FutureWarning: The frame.append method is deprecated and will be removed from pandas in a future version. Use pandas.concat instead.\n",
      "  df = df.append({\"source_images_idx\": source_idx,\n"
     ]
    },
    {
     "name": "stdout",
     "output_type": "stream",
     "text": [
      "4 0 12 109\n",
      "378\n",
      "4 0 24 0\n",
      "379\n",
      "4 0 24 36\n",
      "380\n",
      "4 0 24 72\n",
      "381\n",
      "4 0 24 108\n",
      "382\n"
     ]
    },
    {
     "name": "stderr",
     "output_type": "stream",
     "text": [
      "/tmp/ipykernel_3842719/849445217.py:76: FutureWarning: The frame.append method is deprecated and will be removed from pandas in a future version. Use pandas.concat instead.\n",
      "  df = df.append({\"source_images_idx\": source_idx,\n",
      "/tmp/ipykernel_3842719/849445217.py:76: FutureWarning: The frame.append method is deprecated and will be removed from pandas in a future version. Use pandas.concat instead.\n",
      "  df = df.append({\"source_images_idx\": source_idx,\n",
      "/tmp/ipykernel_3842719/849445217.py:76: FutureWarning: The frame.append method is deprecated and will be removed from pandas in a future version. Use pandas.concat instead.\n",
      "  df = df.append({\"source_images_idx\": source_idx,\n",
      "/tmp/ipykernel_3842719/849445217.py:76: FutureWarning: The frame.append method is deprecated and will be removed from pandas in a future version. Use pandas.concat instead.\n",
      "  df = df.append({\"source_images_idx\": source_idx,\n",
      "/tmp/ipykernel_3842719/849445217.py:76: FutureWarning: The frame.append method is deprecated and will be removed from pandas in a future version. Use pandas.concat instead.\n",
      "  df = df.append({\"source_images_idx\": source_idx,\n"
     ]
    },
    {
     "name": "stdout",
     "output_type": "stream",
     "text": [
      "4 0 24 109\n",
      "383\n",
      "4 0 36 0\n",
      "384\n",
      "4 0 36 36\n",
      "385\n",
      "4 0 36 72\n",
      "386\n",
      "4 0 36 108\n",
      "387\n"
     ]
    },
    {
     "name": "stderr",
     "output_type": "stream",
     "text": [
      "/tmp/ipykernel_3842719/849445217.py:76: FutureWarning: The frame.append method is deprecated and will be removed from pandas in a future version. Use pandas.concat instead.\n",
      "  df = df.append({\"source_images_idx\": source_idx,\n",
      "/tmp/ipykernel_3842719/849445217.py:76: FutureWarning: The frame.append method is deprecated and will be removed from pandas in a future version. Use pandas.concat instead.\n",
      "  df = df.append({\"source_images_idx\": source_idx,\n",
      "/tmp/ipykernel_3842719/849445217.py:76: FutureWarning: The frame.append method is deprecated and will be removed from pandas in a future version. Use pandas.concat instead.\n",
      "  df = df.append({\"source_images_idx\": source_idx,\n",
      "/tmp/ipykernel_3842719/849445217.py:76: FutureWarning: The frame.append method is deprecated and will be removed from pandas in a future version. Use pandas.concat instead.\n",
      "  df = df.append({\"source_images_idx\": source_idx,\n",
      "/tmp/ipykernel_3842719/849445217.py:76: FutureWarning: The frame.append method is deprecated and will be removed from pandas in a future version. Use pandas.concat instead.\n",
      "  df = df.append({\"source_images_idx\": source_idx,\n"
     ]
    },
    {
     "name": "stdout",
     "output_type": "stream",
     "text": [
      "4 0 36 109\n",
      "388\n",
      "4 0 37 0\n",
      "389\n",
      "4 0 37 36\n",
      "390\n",
      "4 0 37 72\n",
      "391\n",
      "4 0 37 108\n",
      "392\n"
     ]
    },
    {
     "name": "stderr",
     "output_type": "stream",
     "text": [
      "/tmp/ipykernel_3842719/849445217.py:76: FutureWarning: The frame.append method is deprecated and will be removed from pandas in a future version. Use pandas.concat instead.\n",
      "  df = df.append({\"source_images_idx\": source_idx,\n",
      "/tmp/ipykernel_3842719/849445217.py:76: FutureWarning: The frame.append method is deprecated and will be removed from pandas in a future version. Use pandas.concat instead.\n",
      "  df = df.append({\"source_images_idx\": source_idx,\n",
      "/tmp/ipykernel_3842719/849445217.py:76: FutureWarning: The frame.append method is deprecated and will be removed from pandas in a future version. Use pandas.concat instead.\n",
      "  df = df.append({\"source_images_idx\": source_idx,\n",
      "/tmp/ipykernel_3842719/849445217.py:76: FutureWarning: The frame.append method is deprecated and will be removed from pandas in a future version. Use pandas.concat instead.\n",
      "  df = df.append({\"source_images_idx\": source_idx,\n",
      "/tmp/ipykernel_3842719/849445217.py:76: FutureWarning: The frame.append method is deprecated and will be removed from pandas in a future version. Use pandas.concat instead.\n",
      "  df = df.append({\"source_images_idx\": source_idx,\n"
     ]
    },
    {
     "name": "stdout",
     "output_type": "stream",
     "text": [
      "4 0 37 109\n",
      "393\n",
      "4 38 0 0\n",
      "394\n",
      "4 38 0 36\n",
      "395\n",
      "4 38 0 72\n",
      "396\n",
      "4 38 0 108\n",
      "397\n"
     ]
    },
    {
     "name": "stderr",
     "output_type": "stream",
     "text": [
      "/tmp/ipykernel_3842719/849445217.py:76: FutureWarning: The frame.append method is deprecated and will be removed from pandas in a future version. Use pandas.concat instead.\n",
      "  df = df.append({\"source_images_idx\": source_idx,\n",
      "/tmp/ipykernel_3842719/849445217.py:76: FutureWarning: The frame.append method is deprecated and will be removed from pandas in a future version. Use pandas.concat instead.\n",
      "  df = df.append({\"source_images_idx\": source_idx,\n",
      "/tmp/ipykernel_3842719/849445217.py:76: FutureWarning: The frame.append method is deprecated and will be removed from pandas in a future version. Use pandas.concat instead.\n",
      "  df = df.append({\"source_images_idx\": source_idx,\n"
     ]
    },
    {
     "name": "stdout",
     "output_type": "stream",
     "text": [
      "4 38 0 109\n",
      "398\n",
      "4 38 12 0\n",
      "399\n",
      "4 38 12 36\n",
      "400\n"
     ]
    },
    {
     "name": "stderr",
     "output_type": "stream",
     "text": [
      "/tmp/ipykernel_3842719/849445217.py:76: FutureWarning: The frame.append method is deprecated and will be removed from pandas in a future version. Use pandas.concat instead.\n",
      "  df = df.append({\"source_images_idx\": source_idx,\n",
      "/tmp/ipykernel_3842719/849445217.py:76: FutureWarning: The frame.append method is deprecated and will be removed from pandas in a future version. Use pandas.concat instead.\n",
      "  df = df.append({\"source_images_idx\": source_idx,\n",
      "/tmp/ipykernel_3842719/849445217.py:76: FutureWarning: The frame.append method is deprecated and will be removed from pandas in a future version. Use pandas.concat instead.\n",
      "  df = df.append({\"source_images_idx\": source_idx,\n"
     ]
    },
    {
     "name": "stdout",
     "output_type": "stream",
     "text": [
      "4 38 12 72\n",
      "401\n",
      "4 38 12 108\n",
      "402\n",
      "4 38 12 109\n",
      "403\n"
     ]
    },
    {
     "name": "stderr",
     "output_type": "stream",
     "text": [
      "/tmp/ipykernel_3842719/849445217.py:76: FutureWarning: The frame.append method is deprecated and will be removed from pandas in a future version. Use pandas.concat instead.\n",
      "  df = df.append({\"source_images_idx\": source_idx,\n",
      "/tmp/ipykernel_3842719/849445217.py:76: FutureWarning: The frame.append method is deprecated and will be removed from pandas in a future version. Use pandas.concat instead.\n",
      "  df = df.append({\"source_images_idx\": source_idx,\n",
      "/tmp/ipykernel_3842719/849445217.py:76: FutureWarning: The frame.append method is deprecated and will be removed from pandas in a future version. Use pandas.concat instead.\n",
      "  df = df.append({\"source_images_idx\": source_idx,\n"
     ]
    },
    {
     "name": "stdout",
     "output_type": "stream",
     "text": [
      "4 38 24 0\n",
      "404\n",
      "4 38 24 36\n",
      "405\n",
      "4 38 24 72\n",
      "406\n"
     ]
    },
    {
     "name": "stderr",
     "output_type": "stream",
     "text": [
      "/tmp/ipykernel_3842719/849445217.py:76: FutureWarning: The frame.append method is deprecated and will be removed from pandas in a future version. Use pandas.concat instead.\n",
      "  df = df.append({\"source_images_idx\": source_idx,\n",
      "/tmp/ipykernel_3842719/849445217.py:76: FutureWarning: The frame.append method is deprecated and will be removed from pandas in a future version. Use pandas.concat instead.\n",
      "  df = df.append({\"source_images_idx\": source_idx,\n",
      "/tmp/ipykernel_3842719/849445217.py:76: FutureWarning: The frame.append method is deprecated and will be removed from pandas in a future version. Use pandas.concat instead.\n",
      "  df = df.append({\"source_images_idx\": source_idx,\n"
     ]
    },
    {
     "name": "stdout",
     "output_type": "stream",
     "text": [
      "4 38 24 108\n",
      "407\n",
      "4 38 24 109\n",
      "408\n",
      "4 38 36 0\n",
      "409\n"
     ]
    },
    {
     "name": "stderr",
     "output_type": "stream",
     "text": [
      "/tmp/ipykernel_3842719/849445217.py:76: FutureWarning: The frame.append method is deprecated and will be removed from pandas in a future version. Use pandas.concat instead.\n",
      "  df = df.append({\"source_images_idx\": source_idx,\n",
      "/tmp/ipykernel_3842719/849445217.py:76: FutureWarning: The frame.append method is deprecated and will be removed from pandas in a future version. Use pandas.concat instead.\n",
      "  df = df.append({\"source_images_idx\": source_idx,\n",
      "/tmp/ipykernel_3842719/849445217.py:76: FutureWarning: The frame.append method is deprecated and will be removed from pandas in a future version. Use pandas.concat instead.\n",
      "  df = df.append({\"source_images_idx\": source_idx,\n"
     ]
    },
    {
     "name": "stdout",
     "output_type": "stream",
     "text": [
      "4 38 36 36\n",
      "410\n",
      "4 38 36 72\n",
      "411\n",
      "4 38 36 108\n",
      "412\n"
     ]
    },
    {
     "name": "stderr",
     "output_type": "stream",
     "text": [
      "/tmp/ipykernel_3842719/849445217.py:76: FutureWarning: The frame.append method is deprecated and will be removed from pandas in a future version. Use pandas.concat instead.\n",
      "  df = df.append({\"source_images_idx\": source_idx,\n",
      "/tmp/ipykernel_3842719/849445217.py:76: FutureWarning: The frame.append method is deprecated and will be removed from pandas in a future version. Use pandas.concat instead.\n",
      "  df = df.append({\"source_images_idx\": source_idx,\n",
      "/tmp/ipykernel_3842719/849445217.py:76: FutureWarning: The frame.append method is deprecated and will be removed from pandas in a future version. Use pandas.concat instead.\n",
      "  df = df.append({\"source_images_idx\": source_idx,\n"
     ]
    },
    {
     "name": "stdout",
     "output_type": "stream",
     "text": [
      "4 38 36 109\n",
      "413\n",
      "4 38 37 0\n",
      "414\n",
      "4 38 37 36\n",
      "415\n"
     ]
    },
    {
     "name": "stderr",
     "output_type": "stream",
     "text": [
      "/tmp/ipykernel_3842719/849445217.py:76: FutureWarning: The frame.append method is deprecated and will be removed from pandas in a future version. Use pandas.concat instead.\n",
      "  df = df.append({\"source_images_idx\": source_idx,\n",
      "/tmp/ipykernel_3842719/849445217.py:76: FutureWarning: The frame.append method is deprecated and will be removed from pandas in a future version. Use pandas.concat instead.\n",
      "  df = df.append({\"source_images_idx\": source_idx,\n",
      "/tmp/ipykernel_3842719/849445217.py:76: FutureWarning: The frame.append method is deprecated and will be removed from pandas in a future version. Use pandas.concat instead.\n",
      "  df = df.append({\"source_images_idx\": source_idx,\n",
      "/tmp/ipykernel_3842719/849445217.py:76: FutureWarning: The frame.append method is deprecated and will be removed from pandas in a future version. Use pandas.concat instead.\n",
      "  df = df.append({\"source_images_idx\": source_idx,\n",
      "/tmp/ipykernel_3842719/849445217.py:76: FutureWarning: The frame.append method is deprecated and will be removed from pandas in a future version. Use pandas.concat instead.\n",
      "  df = df.append({\"source_images_idx\": source_idx,\n"
     ]
    },
    {
     "name": "stdout",
     "output_type": "stream",
     "text": [
      "4 38 37 72\n",
      "416\n",
      "4 38 37 108\n",
      "417\n",
      "4 38 37 109\n",
      "418\n",
      "4 76 0 0\n",
      "419\n",
      "4 76 0 36\n",
      "420\n"
     ]
    },
    {
     "name": "stderr",
     "output_type": "stream",
     "text": [
      "/tmp/ipykernel_3842719/849445217.py:76: FutureWarning: The frame.append method is deprecated and will be removed from pandas in a future version. Use pandas.concat instead.\n",
      "  df = df.append({\"source_images_idx\": source_idx,\n",
      "/tmp/ipykernel_3842719/849445217.py:76: FutureWarning: The frame.append method is deprecated and will be removed from pandas in a future version. Use pandas.concat instead.\n",
      "  df = df.append({\"source_images_idx\": source_idx,\n",
      "/tmp/ipykernel_3842719/849445217.py:76: FutureWarning: The frame.append method is deprecated and will be removed from pandas in a future version. Use pandas.concat instead.\n",
      "  df = df.append({\"source_images_idx\": source_idx,\n",
      "/tmp/ipykernel_3842719/849445217.py:76: FutureWarning: The frame.append method is deprecated and will be removed from pandas in a future version. Use pandas.concat instead.\n",
      "  df = df.append({\"source_images_idx\": source_idx,\n",
      "/tmp/ipykernel_3842719/849445217.py:76: FutureWarning: The frame.append method is deprecated and will be removed from pandas in a future version. Use pandas.concat instead.\n",
      "  df = df.append({\"source_images_idx\": source_idx,\n"
     ]
    },
    {
     "name": "stdout",
     "output_type": "stream",
     "text": [
      "4 76 0 72\n",
      "421\n",
      "4 76 0 108\n",
      "422\n",
      "4 76 0 109\n",
      "423\n",
      "4 76 12 0\n",
      "424\n",
      "4 76 12 36\n",
      "425\n"
     ]
    },
    {
     "name": "stderr",
     "output_type": "stream",
     "text": [
      "/tmp/ipykernel_3842719/849445217.py:76: FutureWarning: The frame.append method is deprecated and will be removed from pandas in a future version. Use pandas.concat instead.\n",
      "  df = df.append({\"source_images_idx\": source_idx,\n",
      "/tmp/ipykernel_3842719/849445217.py:76: FutureWarning: The frame.append method is deprecated and will be removed from pandas in a future version. Use pandas.concat instead.\n",
      "  df = df.append({\"source_images_idx\": source_idx,\n",
      "/tmp/ipykernel_3842719/849445217.py:76: FutureWarning: The frame.append method is deprecated and will be removed from pandas in a future version. Use pandas.concat instead.\n",
      "  df = df.append({\"source_images_idx\": source_idx,\n",
      "/tmp/ipykernel_3842719/849445217.py:76: FutureWarning: The frame.append method is deprecated and will be removed from pandas in a future version. Use pandas.concat instead.\n",
      "  df = df.append({\"source_images_idx\": source_idx,\n",
      "/tmp/ipykernel_3842719/849445217.py:76: FutureWarning: The frame.append method is deprecated and will be removed from pandas in a future version. Use pandas.concat instead.\n",
      "  df = df.append({\"source_images_idx\": source_idx,\n"
     ]
    },
    {
     "name": "stdout",
     "output_type": "stream",
     "text": [
      "4 76 12 72\n",
      "426\n",
      "4 76 12 108\n",
      "427\n",
      "4 76 12 109\n",
      "428\n",
      "4 76 24 0\n",
      "429\n",
      "4 76 24 36\n",
      "430\n"
     ]
    },
    {
     "name": "stderr",
     "output_type": "stream",
     "text": [
      "/tmp/ipykernel_3842719/849445217.py:76: FutureWarning: The frame.append method is deprecated and will be removed from pandas in a future version. Use pandas.concat instead.\n",
      "  df = df.append({\"source_images_idx\": source_idx,\n",
      "/tmp/ipykernel_3842719/849445217.py:76: FutureWarning: The frame.append method is deprecated and will be removed from pandas in a future version. Use pandas.concat instead.\n",
      "  df = df.append({\"source_images_idx\": source_idx,\n",
      "/tmp/ipykernel_3842719/849445217.py:76: FutureWarning: The frame.append method is deprecated and will be removed from pandas in a future version. Use pandas.concat instead.\n",
      "  df = df.append({\"source_images_idx\": source_idx,\n",
      "/tmp/ipykernel_3842719/849445217.py:76: FutureWarning: The frame.append method is deprecated and will be removed from pandas in a future version. Use pandas.concat instead.\n",
      "  df = df.append({\"source_images_idx\": source_idx,\n",
      "/tmp/ipykernel_3842719/849445217.py:76: FutureWarning: The frame.append method is deprecated and will be removed from pandas in a future version. Use pandas.concat instead.\n",
      "  df = df.append({\"source_images_idx\": source_idx,\n"
     ]
    },
    {
     "name": "stdout",
     "output_type": "stream",
     "text": [
      "4 76 24 72\n",
      "431\n",
      "4 76 24 108\n",
      "432\n",
      "4 76 24 109\n",
      "433\n",
      "4 76 36 0\n",
      "434\n",
      "4 76 36 36\n",
      "435\n"
     ]
    },
    {
     "name": "stderr",
     "output_type": "stream",
     "text": [
      "/tmp/ipykernel_3842719/849445217.py:76: FutureWarning: The frame.append method is deprecated and will be removed from pandas in a future version. Use pandas.concat instead.\n",
      "  df = df.append({\"source_images_idx\": source_idx,\n",
      "/tmp/ipykernel_3842719/849445217.py:76: FutureWarning: The frame.append method is deprecated and will be removed from pandas in a future version. Use pandas.concat instead.\n",
      "  df = df.append({\"source_images_idx\": source_idx,\n",
      "/tmp/ipykernel_3842719/849445217.py:76: FutureWarning: The frame.append method is deprecated and will be removed from pandas in a future version. Use pandas.concat instead.\n",
      "  df = df.append({\"source_images_idx\": source_idx,\n",
      "/tmp/ipykernel_3842719/849445217.py:76: FutureWarning: The frame.append method is deprecated and will be removed from pandas in a future version. Use pandas.concat instead.\n",
      "  df = df.append({\"source_images_idx\": source_idx,\n",
      "/tmp/ipykernel_3842719/849445217.py:76: FutureWarning: The frame.append method is deprecated and will be removed from pandas in a future version. Use pandas.concat instead.\n",
      "  df = df.append({\"source_images_idx\": source_idx,\n"
     ]
    },
    {
     "name": "stdout",
     "output_type": "stream",
     "text": [
      "4 76 36 72\n",
      "436\n",
      "4 76 36 108\n",
      "437\n",
      "4 76 36 109\n",
      "438\n",
      "4 76 37 0\n",
      "439\n",
      "4 76 37 36\n",
      "440\n"
     ]
    },
    {
     "name": "stderr",
     "output_type": "stream",
     "text": [
      "/tmp/ipykernel_3842719/849445217.py:76: FutureWarning: The frame.append method is deprecated and will be removed from pandas in a future version. Use pandas.concat instead.\n",
      "  df = df.append({\"source_images_idx\": source_idx,\n",
      "/tmp/ipykernel_3842719/849445217.py:76: FutureWarning: The frame.append method is deprecated and will be removed from pandas in a future version. Use pandas.concat instead.\n",
      "  df = df.append({\"source_images_idx\": source_idx,\n",
      "/tmp/ipykernel_3842719/849445217.py:76: FutureWarning: The frame.append method is deprecated and will be removed from pandas in a future version. Use pandas.concat instead.\n",
      "  df = df.append({\"source_images_idx\": source_idx,\n",
      "/tmp/ipykernel_3842719/849445217.py:76: FutureWarning: The frame.append method is deprecated and will be removed from pandas in a future version. Use pandas.concat instead.\n",
      "  df = df.append({\"source_images_idx\": source_idx,\n",
      "/tmp/ipykernel_3842719/849445217.py:76: FutureWarning: The frame.append method is deprecated and will be removed from pandas in a future version. Use pandas.concat instead.\n",
      "  df = df.append({\"source_images_idx\": source_idx,\n"
     ]
    },
    {
     "name": "stdout",
     "output_type": "stream",
     "text": [
      "4 76 37 72\n",
      "441\n",
      "4 76 37 108\n",
      "442\n",
      "4 76 37 109\n",
      "443\n",
      "4 114 0 0\n",
      "444\n",
      "4 114 0 36\n",
      "445\n"
     ]
    },
    {
     "name": "stderr",
     "output_type": "stream",
     "text": [
      "/tmp/ipykernel_3842719/849445217.py:76: FutureWarning: The frame.append method is deprecated and will be removed from pandas in a future version. Use pandas.concat instead.\n",
      "  df = df.append({\"source_images_idx\": source_idx,\n",
      "/tmp/ipykernel_3842719/849445217.py:76: FutureWarning: The frame.append method is deprecated and will be removed from pandas in a future version. Use pandas.concat instead.\n",
      "  df = df.append({\"source_images_idx\": source_idx,\n",
      "/tmp/ipykernel_3842719/849445217.py:76: FutureWarning: The frame.append method is deprecated and will be removed from pandas in a future version. Use pandas.concat instead.\n",
      "  df = df.append({\"source_images_idx\": source_idx,\n",
      "/tmp/ipykernel_3842719/849445217.py:76: FutureWarning: The frame.append method is deprecated and will be removed from pandas in a future version. Use pandas.concat instead.\n",
      "  df = df.append({\"source_images_idx\": source_idx,\n",
      "/tmp/ipykernel_3842719/849445217.py:76: FutureWarning: The frame.append method is deprecated and will be removed from pandas in a future version. Use pandas.concat instead.\n",
      "  df = df.append({\"source_images_idx\": source_idx,\n"
     ]
    },
    {
     "name": "stdout",
     "output_type": "stream",
     "text": [
      "4 114 0 72\n",
      "446\n",
      "4 114 0 108\n",
      "447\n",
      "4 114 0 109\n",
      "448\n",
      "4 114 12 0\n",
      "449\n",
      "4 114 12 36\n",
      "450\n"
     ]
    },
    {
     "name": "stderr",
     "output_type": "stream",
     "text": [
      "/tmp/ipykernel_3842719/849445217.py:76: FutureWarning: The frame.append method is deprecated and will be removed from pandas in a future version. Use pandas.concat instead.\n",
      "  df = df.append({\"source_images_idx\": source_idx,\n",
      "/tmp/ipykernel_3842719/849445217.py:76: FutureWarning: The frame.append method is deprecated and will be removed from pandas in a future version. Use pandas.concat instead.\n",
      "  df = df.append({\"source_images_idx\": source_idx,\n",
      "/tmp/ipykernel_3842719/849445217.py:76: FutureWarning: The frame.append method is deprecated and will be removed from pandas in a future version. Use pandas.concat instead.\n",
      "  df = df.append({\"source_images_idx\": source_idx,\n",
      "/tmp/ipykernel_3842719/849445217.py:76: FutureWarning: The frame.append method is deprecated and will be removed from pandas in a future version. Use pandas.concat instead.\n",
      "  df = df.append({\"source_images_idx\": source_idx,\n",
      "/tmp/ipykernel_3842719/849445217.py:76: FutureWarning: The frame.append method is deprecated and will be removed from pandas in a future version. Use pandas.concat instead.\n",
      "  df = df.append({\"source_images_idx\": source_idx,\n"
     ]
    },
    {
     "name": "stdout",
     "output_type": "stream",
     "text": [
      "4 114 12 72\n",
      "451\n",
      "4 114 12 108\n",
      "452\n",
      "4 114 12 109\n",
      "453\n",
      "4 114 24 0\n",
      "454\n",
      "4 114 24 36\n",
      "455\n"
     ]
    },
    {
     "name": "stderr",
     "output_type": "stream",
     "text": [
      "/tmp/ipykernel_3842719/849445217.py:76: FutureWarning: The frame.append method is deprecated and will be removed from pandas in a future version. Use pandas.concat instead.\n",
      "  df = df.append({\"source_images_idx\": source_idx,\n",
      "/tmp/ipykernel_3842719/849445217.py:76: FutureWarning: The frame.append method is deprecated and will be removed from pandas in a future version. Use pandas.concat instead.\n",
      "  df = df.append({\"source_images_idx\": source_idx,\n",
      "/tmp/ipykernel_3842719/849445217.py:76: FutureWarning: The frame.append method is deprecated and will be removed from pandas in a future version. Use pandas.concat instead.\n",
      "  df = df.append({\"source_images_idx\": source_idx,\n",
      "/tmp/ipykernel_3842719/849445217.py:76: FutureWarning: The frame.append method is deprecated and will be removed from pandas in a future version. Use pandas.concat instead.\n",
      "  df = df.append({\"source_images_idx\": source_idx,\n",
      "/tmp/ipykernel_3842719/849445217.py:76: FutureWarning: The frame.append method is deprecated and will be removed from pandas in a future version. Use pandas.concat instead.\n",
      "  df = df.append({\"source_images_idx\": source_idx,\n"
     ]
    },
    {
     "name": "stdout",
     "output_type": "stream",
     "text": [
      "4 114 24 72\n",
      "456\n",
      "4 114 24 108\n",
      "457\n",
      "4 114 24 109\n",
      "458\n",
      "4 114 36 0\n",
      "459\n",
      "4 114 36 36\n",
      "460\n"
     ]
    },
    {
     "name": "stderr",
     "output_type": "stream",
     "text": [
      "/tmp/ipykernel_3842719/849445217.py:76: FutureWarning: The frame.append method is deprecated and will be removed from pandas in a future version. Use pandas.concat instead.\n",
      "  df = df.append({\"source_images_idx\": source_idx,\n",
      "/tmp/ipykernel_3842719/849445217.py:76: FutureWarning: The frame.append method is deprecated and will be removed from pandas in a future version. Use pandas.concat instead.\n",
      "  df = df.append({\"source_images_idx\": source_idx,\n",
      "/tmp/ipykernel_3842719/849445217.py:76: FutureWarning: The frame.append method is deprecated and will be removed from pandas in a future version. Use pandas.concat instead.\n",
      "  df = df.append({\"source_images_idx\": source_idx,\n",
      "/tmp/ipykernel_3842719/849445217.py:76: FutureWarning: The frame.append method is deprecated and will be removed from pandas in a future version. Use pandas.concat instead.\n",
      "  df = df.append({\"source_images_idx\": source_idx,\n",
      "/tmp/ipykernel_3842719/849445217.py:76: FutureWarning: The frame.append method is deprecated and will be removed from pandas in a future version. Use pandas.concat instead.\n",
      "  df = df.append({\"source_images_idx\": source_idx,\n"
     ]
    },
    {
     "name": "stdout",
     "output_type": "stream",
     "text": [
      "4 114 36 72\n",
      "461\n",
      "4 114 36 108\n",
      "462\n",
      "4 114 36 109\n",
      "463\n",
      "4 114 37 0\n",
      "464\n",
      "4 114 37 36\n",
      "465\n"
     ]
    },
    {
     "name": "stderr",
     "output_type": "stream",
     "text": [
      "/tmp/ipykernel_3842719/849445217.py:76: FutureWarning: The frame.append method is deprecated and will be removed from pandas in a future version. Use pandas.concat instead.\n",
      "  df = df.append({\"source_images_idx\": source_idx,\n",
      "/tmp/ipykernel_3842719/849445217.py:76: FutureWarning: The frame.append method is deprecated and will be removed from pandas in a future version. Use pandas.concat instead.\n",
      "  df = df.append({\"source_images_idx\": source_idx,\n",
      "/tmp/ipykernel_3842719/849445217.py:76: FutureWarning: The frame.append method is deprecated and will be removed from pandas in a future version. Use pandas.concat instead.\n",
      "  df = df.append({\"source_images_idx\": source_idx,\n",
      "/tmp/ipykernel_3842719/849445217.py:76: FutureWarning: The frame.append method is deprecated and will be removed from pandas in a future version. Use pandas.concat instead.\n",
      "  df = df.append({\"source_images_idx\": source_idx,\n"
     ]
    },
    {
     "name": "stdout",
     "output_type": "stream",
     "text": [
      "4 114 37 72\n",
      "466\n",
      "4 114 37 108\n",
      "467\n",
      "4 114 37 109\n",
      "468\n",
      "4 115 0 0\n",
      "469\n"
     ]
    },
    {
     "name": "stderr",
     "output_type": "stream",
     "text": [
      "/tmp/ipykernel_3842719/849445217.py:76: FutureWarning: The frame.append method is deprecated and will be removed from pandas in a future version. Use pandas.concat instead.\n",
      "  df = df.append({\"source_images_idx\": source_idx,\n",
      "/tmp/ipykernel_3842719/849445217.py:76: FutureWarning: The frame.append method is deprecated and will be removed from pandas in a future version. Use pandas.concat instead.\n",
      "  df = df.append({\"source_images_idx\": source_idx,\n",
      "/tmp/ipykernel_3842719/849445217.py:76: FutureWarning: The frame.append method is deprecated and will be removed from pandas in a future version. Use pandas.concat instead.\n",
      "  df = df.append({\"source_images_idx\": source_idx,\n"
     ]
    },
    {
     "name": "stdout",
     "output_type": "stream",
     "text": [
      "4 115 0 36\n",
      "470\n",
      "4 115 0 72\n",
      "471\n",
      "4 115 0 108\n",
      "472\n"
     ]
    },
    {
     "name": "stderr",
     "output_type": "stream",
     "text": [
      "/tmp/ipykernel_3842719/849445217.py:76: FutureWarning: The frame.append method is deprecated and will be removed from pandas in a future version. Use pandas.concat instead.\n",
      "  df = df.append({\"source_images_idx\": source_idx,\n",
      "/tmp/ipykernel_3842719/849445217.py:76: FutureWarning: The frame.append method is deprecated and will be removed from pandas in a future version. Use pandas.concat instead.\n",
      "  df = df.append({\"source_images_idx\": source_idx,\n",
      "/tmp/ipykernel_3842719/849445217.py:76: FutureWarning: The frame.append method is deprecated and will be removed from pandas in a future version. Use pandas.concat instead.\n",
      "  df = df.append({\"source_images_idx\": source_idx,\n"
     ]
    },
    {
     "name": "stdout",
     "output_type": "stream",
     "text": [
      "4 115 0 109\n",
      "473\n",
      "4 115 12 0\n",
      "474\n",
      "4 115 12 36\n",
      "475\n"
     ]
    },
    {
     "name": "stderr",
     "output_type": "stream",
     "text": [
      "/tmp/ipykernel_3842719/849445217.py:76: FutureWarning: The frame.append method is deprecated and will be removed from pandas in a future version. Use pandas.concat instead.\n",
      "  df = df.append({\"source_images_idx\": source_idx,\n",
      "/tmp/ipykernel_3842719/849445217.py:76: FutureWarning: The frame.append method is deprecated and will be removed from pandas in a future version. Use pandas.concat instead.\n",
      "  df = df.append({\"source_images_idx\": source_idx,\n",
      "/tmp/ipykernel_3842719/849445217.py:76: FutureWarning: The frame.append method is deprecated and will be removed from pandas in a future version. Use pandas.concat instead.\n",
      "  df = df.append({\"source_images_idx\": source_idx,\n"
     ]
    },
    {
     "name": "stdout",
     "output_type": "stream",
     "text": [
      "4 115 12 72\n",
      "476\n",
      "4 115 12 108\n",
      "477\n",
      "4 115 12 109\n",
      "478\n"
     ]
    },
    {
     "name": "stderr",
     "output_type": "stream",
     "text": [
      "/tmp/ipykernel_3842719/849445217.py:76: FutureWarning: The frame.append method is deprecated and will be removed from pandas in a future version. Use pandas.concat instead.\n",
      "  df = df.append({\"source_images_idx\": source_idx,\n",
      "/tmp/ipykernel_3842719/849445217.py:76: FutureWarning: The frame.append method is deprecated and will be removed from pandas in a future version. Use pandas.concat instead.\n",
      "  df = df.append({\"source_images_idx\": source_idx,\n",
      "/tmp/ipykernel_3842719/849445217.py:76: FutureWarning: The frame.append method is deprecated and will be removed from pandas in a future version. Use pandas.concat instead.\n",
      "  df = df.append({\"source_images_idx\": source_idx,\n"
     ]
    },
    {
     "name": "stdout",
     "output_type": "stream",
     "text": [
      "4 115 24 0\n",
      "479\n",
      "4 115 24 36\n",
      "480\n",
      "4 115 24 72\n",
      "481\n"
     ]
    },
    {
     "name": "stderr",
     "output_type": "stream",
     "text": [
      "/tmp/ipykernel_3842719/849445217.py:76: FutureWarning: The frame.append method is deprecated and will be removed from pandas in a future version. Use pandas.concat instead.\n",
      "  df = df.append({\"source_images_idx\": source_idx,\n",
      "/tmp/ipykernel_3842719/849445217.py:76: FutureWarning: The frame.append method is deprecated and will be removed from pandas in a future version. Use pandas.concat instead.\n",
      "  df = df.append({\"source_images_idx\": source_idx,\n",
      "/tmp/ipykernel_3842719/849445217.py:76: FutureWarning: The frame.append method is deprecated and will be removed from pandas in a future version. Use pandas.concat instead.\n",
      "  df = df.append({\"source_images_idx\": source_idx,\n"
     ]
    },
    {
     "name": "stdout",
     "output_type": "stream",
     "text": [
      "4 115 24 108\n",
      "482\n",
      "4 115 24 109\n",
      "483\n",
      "4 115 36 0\n",
      "484\n"
     ]
    },
    {
     "name": "stderr",
     "output_type": "stream",
     "text": [
      "/tmp/ipykernel_3842719/849445217.py:76: FutureWarning: The frame.append method is deprecated and will be removed from pandas in a future version. Use pandas.concat instead.\n",
      "  df = df.append({\"source_images_idx\": source_idx,\n",
      "/tmp/ipykernel_3842719/849445217.py:76: FutureWarning: The frame.append method is deprecated and will be removed from pandas in a future version. Use pandas.concat instead.\n",
      "  df = df.append({\"source_images_idx\": source_idx,\n",
      "/tmp/ipykernel_3842719/849445217.py:76: FutureWarning: The frame.append method is deprecated and will be removed from pandas in a future version. Use pandas.concat instead.\n",
      "  df = df.append({\"source_images_idx\": source_idx,\n"
     ]
    },
    {
     "name": "stdout",
     "output_type": "stream",
     "text": [
      "4 115 36 36\n",
      "485\n",
      "4 115 36 72\n",
      "486\n",
      "4 115 36 108\n",
      "487\n"
     ]
    },
    {
     "name": "stderr",
     "output_type": "stream",
     "text": [
      "/tmp/ipykernel_3842719/849445217.py:76: FutureWarning: The frame.append method is deprecated and will be removed from pandas in a future version. Use pandas.concat instead.\n",
      "  df = df.append({\"source_images_idx\": source_idx,\n",
      "/tmp/ipykernel_3842719/849445217.py:76: FutureWarning: The frame.append method is deprecated and will be removed from pandas in a future version. Use pandas.concat instead.\n",
      "  df = df.append({\"source_images_idx\": source_idx,\n",
      "/tmp/ipykernel_3842719/849445217.py:76: FutureWarning: The frame.append method is deprecated and will be removed from pandas in a future version. Use pandas.concat instead.\n",
      "  df = df.append({\"source_images_idx\": source_idx,\n",
      "/tmp/ipykernel_3842719/849445217.py:76: FutureWarning: The frame.append method is deprecated and will be removed from pandas in a future version. Use pandas.concat instead.\n",
      "  df = df.append({\"source_images_idx\": source_idx,\n",
      "/tmp/ipykernel_3842719/849445217.py:76: FutureWarning: The frame.append method is deprecated and will be removed from pandas in a future version. Use pandas.concat instead.\n",
      "  df = df.append({\"source_images_idx\": source_idx,\n"
     ]
    },
    {
     "name": "stdout",
     "output_type": "stream",
     "text": [
      "4 115 36 109\n",
      "488\n",
      "4 115 37 0\n",
      "489\n",
      "4 115 37 36\n",
      "490\n",
      "4 115 37 72\n",
      "491\n",
      "4 115 37 108\n",
      "492\n"
     ]
    },
    {
     "name": "stderr",
     "output_type": "stream",
     "text": [
      "/tmp/ipykernel_3842719/849445217.py:76: FutureWarning: The frame.append method is deprecated and will be removed from pandas in a future version. Use pandas.concat instead.\n",
      "  df = df.append({\"source_images_idx\": source_idx,\n",
      "/tmp/ipykernel_3842719/849445217.py:76: FutureWarning: The frame.append method is deprecated and will be removed from pandas in a future version. Use pandas.concat instead.\n",
      "  df = df.append({\"source_images_idx\": source_idx,\n",
      "/tmp/ipykernel_3842719/849445217.py:76: FutureWarning: The frame.append method is deprecated and will be removed from pandas in a future version. Use pandas.concat instead.\n",
      "  df = df.append({\"source_images_idx\": source_idx,\n",
      "/tmp/ipykernel_3842719/849445217.py:76: FutureWarning: The frame.append method is deprecated and will be removed from pandas in a future version. Use pandas.concat instead.\n",
      "  df = df.append({\"source_images_idx\": source_idx,\n",
      "/tmp/ipykernel_3842719/849445217.py:76: FutureWarning: The frame.append method is deprecated and will be removed from pandas in a future version. Use pandas.concat instead.\n",
      "  df = df.append({\"source_images_idx\": source_idx,\n"
     ]
    },
    {
     "name": "stdout",
     "output_type": "stream",
     "text": [
      "4 115 37 109\n",
      "493\n",
      "5 0 0 0\n",
      "494\n",
      "5 0 0 81\n",
      "495\n",
      "5 0 0 162\n",
      "496\n",
      "5 0 0 242\n",
      "497\n"
     ]
    },
    {
     "name": "stderr",
     "output_type": "stream",
     "text": [
      "/tmp/ipykernel_3842719/849445217.py:76: FutureWarning: The frame.append method is deprecated and will be removed from pandas in a future version. Use pandas.concat instead.\n",
      "  df = df.append({\"source_images_idx\": source_idx,\n",
      "/tmp/ipykernel_3842719/849445217.py:76: FutureWarning: The frame.append method is deprecated and will be removed from pandas in a future version. Use pandas.concat instead.\n",
      "  df = df.append({\"source_images_idx\": source_idx,\n",
      "/tmp/ipykernel_3842719/849445217.py:76: FutureWarning: The frame.append method is deprecated and will be removed from pandas in a future version. Use pandas.concat instead.\n",
      "  df = df.append({\"source_images_idx\": source_idx,\n",
      "/tmp/ipykernel_3842719/849445217.py:76: FutureWarning: The frame.append method is deprecated and will be removed from pandas in a future version. Use pandas.concat instead.\n",
      "  df = df.append({\"source_images_idx\": source_idx,\n",
      "/tmp/ipykernel_3842719/849445217.py:76: FutureWarning: The frame.append method is deprecated and will be removed from pandas in a future version. Use pandas.concat instead.\n",
      "  df = df.append({\"source_images_idx\": source_idx,\n"
     ]
    },
    {
     "name": "stdout",
     "output_type": "stream",
     "text": [
      "5 0 8 0\n",
      "498\n",
      "5 0 8 81\n",
      "499\n",
      "5 0 8 162\n",
      "500\n",
      "5 0 8 242\n",
      "501\n",
      "5 0 16 0\n",
      "502\n"
     ]
    },
    {
     "name": "stderr",
     "output_type": "stream",
     "text": [
      "/tmp/ipykernel_3842719/849445217.py:76: FutureWarning: The frame.append method is deprecated and will be removed from pandas in a future version. Use pandas.concat instead.\n",
      "  df = df.append({\"source_images_idx\": source_idx,\n",
      "/tmp/ipykernel_3842719/849445217.py:76: FutureWarning: The frame.append method is deprecated and will be removed from pandas in a future version. Use pandas.concat instead.\n",
      "  df = df.append({\"source_images_idx\": source_idx,\n",
      "/tmp/ipykernel_3842719/849445217.py:76: FutureWarning: The frame.append method is deprecated and will be removed from pandas in a future version. Use pandas.concat instead.\n",
      "  df = df.append({\"source_images_idx\": source_idx,\n",
      "/tmp/ipykernel_3842719/849445217.py:76: FutureWarning: The frame.append method is deprecated and will be removed from pandas in a future version. Use pandas.concat instead.\n",
      "  df = df.append({\"source_images_idx\": source_idx,\n",
      "/tmp/ipykernel_3842719/849445217.py:76: FutureWarning: The frame.append method is deprecated and will be removed from pandas in a future version. Use pandas.concat instead.\n",
      "  df = df.append({\"source_images_idx\": source_idx,\n"
     ]
    },
    {
     "name": "stdout",
     "output_type": "stream",
     "text": [
      "5 0 16 81\n",
      "503\n",
      "5 0 16 162\n",
      "504\n",
      "5 0 16 242\n",
      "505\n",
      "5 0 24 0\n",
      "506\n",
      "5 0 24 81\n",
      "507\n"
     ]
    },
    {
     "name": "stderr",
     "output_type": "stream",
     "text": [
      "/tmp/ipykernel_3842719/849445217.py:76: FutureWarning: The frame.append method is deprecated and will be removed from pandas in a future version. Use pandas.concat instead.\n",
      "  df = df.append({\"source_images_idx\": source_idx,\n",
      "/tmp/ipykernel_3842719/849445217.py:76: FutureWarning: The frame.append method is deprecated and will be removed from pandas in a future version. Use pandas.concat instead.\n",
      "  df = df.append({\"source_images_idx\": source_idx,\n",
      "/tmp/ipykernel_3842719/849445217.py:76: FutureWarning: The frame.append method is deprecated and will be removed from pandas in a future version. Use pandas.concat instead.\n",
      "  df = df.append({\"source_images_idx\": source_idx,\n",
      "/tmp/ipykernel_3842719/849445217.py:76: FutureWarning: The frame.append method is deprecated and will be removed from pandas in a future version. Use pandas.concat instead.\n",
      "  df = df.append({\"source_images_idx\": source_idx,\n",
      "/tmp/ipykernel_3842719/849445217.py:76: FutureWarning: The frame.append method is deprecated and will be removed from pandas in a future version. Use pandas.concat instead.\n",
      "  df = df.append({\"source_images_idx\": source_idx,\n"
     ]
    },
    {
     "name": "stdout",
     "output_type": "stream",
     "text": [
      "5 0 24 162\n",
      "508\n",
      "5 0 24 242\n",
      "509\n",
      "5 35 0 0\n",
      "510\n",
      "5 35 0 81\n",
      "511\n",
      "5 35 0 162\n",
      "512\n"
     ]
    },
    {
     "name": "stderr",
     "output_type": "stream",
     "text": [
      "/tmp/ipykernel_3842719/849445217.py:76: FutureWarning: The frame.append method is deprecated and will be removed from pandas in a future version. Use pandas.concat instead.\n",
      "  df = df.append({\"source_images_idx\": source_idx,\n",
      "/tmp/ipykernel_3842719/849445217.py:76: FutureWarning: The frame.append method is deprecated and will be removed from pandas in a future version. Use pandas.concat instead.\n",
      "  df = df.append({\"source_images_idx\": source_idx,\n",
      "/tmp/ipykernel_3842719/849445217.py:76: FutureWarning: The frame.append method is deprecated and will be removed from pandas in a future version. Use pandas.concat instead.\n",
      "  df = df.append({\"source_images_idx\": source_idx,\n",
      "/tmp/ipykernel_3842719/849445217.py:76: FutureWarning: The frame.append method is deprecated and will be removed from pandas in a future version. Use pandas.concat instead.\n",
      "  df = df.append({\"source_images_idx\": source_idx,\n",
      "/tmp/ipykernel_3842719/849445217.py:76: FutureWarning: The frame.append method is deprecated and will be removed from pandas in a future version. Use pandas.concat instead.\n",
      "  df = df.append({\"source_images_idx\": source_idx,\n"
     ]
    },
    {
     "name": "stdout",
     "output_type": "stream",
     "text": [
      "5 35 0 242\n",
      "513\n",
      "5 35 8 0\n",
      "514\n",
      "5 35 8 81\n",
      "515\n",
      "5 35 8 162\n",
      "516\n",
      "5 35 8 242\n",
      "517\n"
     ]
    },
    {
     "name": "stderr",
     "output_type": "stream",
     "text": [
      "/tmp/ipykernel_3842719/849445217.py:76: FutureWarning: The frame.append method is deprecated and will be removed from pandas in a future version. Use pandas.concat instead.\n",
      "  df = df.append({\"source_images_idx\": source_idx,\n",
      "/tmp/ipykernel_3842719/849445217.py:76: FutureWarning: The frame.append method is deprecated and will be removed from pandas in a future version. Use pandas.concat instead.\n",
      "  df = df.append({\"source_images_idx\": source_idx,\n",
      "/tmp/ipykernel_3842719/849445217.py:76: FutureWarning: The frame.append method is deprecated and will be removed from pandas in a future version. Use pandas.concat instead.\n",
      "  df = df.append({\"source_images_idx\": source_idx,\n",
      "/tmp/ipykernel_3842719/849445217.py:76: FutureWarning: The frame.append method is deprecated and will be removed from pandas in a future version. Use pandas.concat instead.\n",
      "  df = df.append({\"source_images_idx\": source_idx,\n",
      "/tmp/ipykernel_3842719/849445217.py:76: FutureWarning: The frame.append method is deprecated and will be removed from pandas in a future version. Use pandas.concat instead.\n",
      "  df = df.append({\"source_images_idx\": source_idx,\n"
     ]
    },
    {
     "name": "stdout",
     "output_type": "stream",
     "text": [
      "5 35 16 0\n",
      "518\n",
      "5 35 16 81\n",
      "519\n",
      "5 35 16 162\n",
      "520\n",
      "5 35 16 242\n",
      "521\n",
      "5 35 24 0\n",
      "522\n"
     ]
    },
    {
     "name": "stderr",
     "output_type": "stream",
     "text": [
      "/tmp/ipykernel_3842719/849445217.py:76: FutureWarning: The frame.append method is deprecated and will be removed from pandas in a future version. Use pandas.concat instead.\n",
      "  df = df.append({\"source_images_idx\": source_idx,\n",
      "/tmp/ipykernel_3842719/849445217.py:76: FutureWarning: The frame.append method is deprecated and will be removed from pandas in a future version. Use pandas.concat instead.\n",
      "  df = df.append({\"source_images_idx\": source_idx,\n",
      "/tmp/ipykernel_3842719/849445217.py:76: FutureWarning: The frame.append method is deprecated and will be removed from pandas in a future version. Use pandas.concat instead.\n",
      "  df = df.append({\"source_images_idx\": source_idx,\n",
      "/tmp/ipykernel_3842719/849445217.py:76: FutureWarning: The frame.append method is deprecated and will be removed from pandas in a future version. Use pandas.concat instead.\n",
      "  df = df.append({\"source_images_idx\": source_idx,\n",
      "/tmp/ipykernel_3842719/849445217.py:76: FutureWarning: The frame.append method is deprecated and will be removed from pandas in a future version. Use pandas.concat instead.\n",
      "  df = df.append({\"source_images_idx\": source_idx,\n"
     ]
    },
    {
     "name": "stdout",
     "output_type": "stream",
     "text": [
      "5 35 24 81\n",
      "523\n",
      "5 35 24 162\n",
      "524\n",
      "5 35 24 242\n",
      "525\n",
      "5 70 0 0\n",
      "526\n",
      "5 70 0 81\n",
      "527\n"
     ]
    },
    {
     "name": "stderr",
     "output_type": "stream",
     "text": [
      "/tmp/ipykernel_3842719/849445217.py:76: FutureWarning: The frame.append method is deprecated and will be removed from pandas in a future version. Use pandas.concat instead.\n",
      "  df = df.append({\"source_images_idx\": source_idx,\n",
      "/tmp/ipykernel_3842719/849445217.py:76: FutureWarning: The frame.append method is deprecated and will be removed from pandas in a future version. Use pandas.concat instead.\n",
      "  df = df.append({\"source_images_idx\": source_idx,\n",
      "/tmp/ipykernel_3842719/849445217.py:76: FutureWarning: The frame.append method is deprecated and will be removed from pandas in a future version. Use pandas.concat instead.\n",
      "  df = df.append({\"source_images_idx\": source_idx,\n",
      "/tmp/ipykernel_3842719/849445217.py:76: FutureWarning: The frame.append method is deprecated and will be removed from pandas in a future version. Use pandas.concat instead.\n",
      "  df = df.append({\"source_images_idx\": source_idx,\n",
      "/tmp/ipykernel_3842719/849445217.py:76: FutureWarning: The frame.append method is deprecated and will be removed from pandas in a future version. Use pandas.concat instead.\n",
      "  df = df.append({\"source_images_idx\": source_idx,\n"
     ]
    },
    {
     "name": "stdout",
     "output_type": "stream",
     "text": [
      "5 70 0 162\n",
      "528\n",
      "5 70 0 242\n",
      "529\n",
      "5 70 8 0\n",
      "530\n",
      "5 70 8 81\n",
      "531\n",
      "5 70 8 162\n",
      "532\n"
     ]
    },
    {
     "name": "stderr",
     "output_type": "stream",
     "text": [
      "/tmp/ipykernel_3842719/849445217.py:76: FutureWarning: The frame.append method is deprecated and will be removed from pandas in a future version. Use pandas.concat instead.\n",
      "  df = df.append({\"source_images_idx\": source_idx,\n",
      "/tmp/ipykernel_3842719/849445217.py:76: FutureWarning: The frame.append method is deprecated and will be removed from pandas in a future version. Use pandas.concat instead.\n",
      "  df = df.append({\"source_images_idx\": source_idx,\n",
      "/tmp/ipykernel_3842719/849445217.py:76: FutureWarning: The frame.append method is deprecated and will be removed from pandas in a future version. Use pandas.concat instead.\n",
      "  df = df.append({\"source_images_idx\": source_idx,\n",
      "/tmp/ipykernel_3842719/849445217.py:76: FutureWarning: The frame.append method is deprecated and will be removed from pandas in a future version. Use pandas.concat instead.\n",
      "  df = df.append({\"source_images_idx\": source_idx,\n",
      "/tmp/ipykernel_3842719/849445217.py:76: FutureWarning: The frame.append method is deprecated and will be removed from pandas in a future version. Use pandas.concat instead.\n",
      "  df = df.append({\"source_images_idx\": source_idx,\n"
     ]
    },
    {
     "name": "stdout",
     "output_type": "stream",
     "text": [
      "5 70 8 242\n",
      "533\n",
      "5 70 16 0\n",
      "534\n",
      "5 70 16 81\n",
      "535\n",
      "5 70 16 162\n",
      "536\n",
      "5 70 16 242\n",
      "537\n"
     ]
    },
    {
     "name": "stderr",
     "output_type": "stream",
     "text": [
      "/tmp/ipykernel_3842719/849445217.py:76: FutureWarning: The frame.append method is deprecated and will be removed from pandas in a future version. Use pandas.concat instead.\n",
      "  df = df.append({\"source_images_idx\": source_idx,\n",
      "/tmp/ipykernel_3842719/849445217.py:76: FutureWarning: The frame.append method is deprecated and will be removed from pandas in a future version. Use pandas.concat instead.\n",
      "  df = df.append({\"source_images_idx\": source_idx,\n",
      "/tmp/ipykernel_3842719/849445217.py:76: FutureWarning: The frame.append method is deprecated and will be removed from pandas in a future version. Use pandas.concat instead.\n",
      "  df = df.append({\"source_images_idx\": source_idx,\n"
     ]
    },
    {
     "name": "stdout",
     "output_type": "stream",
     "text": [
      "5 70 24 0\n",
      "538\n",
      "5 70 24 81\n",
      "539\n",
      "5 70 24 162\n",
      "540\n"
     ]
    },
    {
     "name": "stderr",
     "output_type": "stream",
     "text": [
      "/tmp/ipykernel_3842719/849445217.py:76: FutureWarning: The frame.append method is deprecated and will be removed from pandas in a future version. Use pandas.concat instead.\n",
      "  df = df.append({\"source_images_idx\": source_idx,\n",
      "/tmp/ipykernel_3842719/849445217.py:76: FutureWarning: The frame.append method is deprecated and will be removed from pandas in a future version. Use pandas.concat instead.\n",
      "  df = df.append({\"source_images_idx\": source_idx,\n",
      "/tmp/ipykernel_3842719/849445217.py:76: FutureWarning: The frame.append method is deprecated and will be removed from pandas in a future version. Use pandas.concat instead.\n",
      "  df = df.append({\"source_images_idx\": source_idx,\n"
     ]
    },
    {
     "name": "stdout",
     "output_type": "stream",
     "text": [
      "5 70 24 242\n",
      "541\n",
      "5 105 0 0\n",
      "542\n",
      "5 105 0 81\n",
      "543\n"
     ]
    },
    {
     "name": "stderr",
     "output_type": "stream",
     "text": [
      "/tmp/ipykernel_3842719/849445217.py:76: FutureWarning: The frame.append method is deprecated and will be removed from pandas in a future version. Use pandas.concat instead.\n",
      "  df = df.append({\"source_images_idx\": source_idx,\n",
      "/tmp/ipykernel_3842719/849445217.py:76: FutureWarning: The frame.append method is deprecated and will be removed from pandas in a future version. Use pandas.concat instead.\n",
      "  df = df.append({\"source_images_idx\": source_idx,\n",
      "/tmp/ipykernel_3842719/849445217.py:76: FutureWarning: The frame.append method is deprecated and will be removed from pandas in a future version. Use pandas.concat instead.\n",
      "  df = df.append({\"source_images_idx\": source_idx,\n"
     ]
    },
    {
     "name": "stdout",
     "output_type": "stream",
     "text": [
      "5 105 0 162\n",
      "544\n",
      "5 105 0 242\n",
      "545\n",
      "5 105 8 0\n",
      "546\n"
     ]
    },
    {
     "name": "stderr",
     "output_type": "stream",
     "text": [
      "/tmp/ipykernel_3842719/849445217.py:76: FutureWarning: The frame.append method is deprecated and will be removed from pandas in a future version. Use pandas.concat instead.\n",
      "  df = df.append({\"source_images_idx\": source_idx,\n",
      "/tmp/ipykernel_3842719/849445217.py:76: FutureWarning: The frame.append method is deprecated and will be removed from pandas in a future version. Use pandas.concat instead.\n",
      "  df = df.append({\"source_images_idx\": source_idx,\n",
      "/tmp/ipykernel_3842719/849445217.py:76: FutureWarning: The frame.append method is deprecated and will be removed from pandas in a future version. Use pandas.concat instead.\n",
      "  df = df.append({\"source_images_idx\": source_idx,\n"
     ]
    },
    {
     "name": "stdout",
     "output_type": "stream",
     "text": [
      "5 105 8 81\n",
      "547\n",
      "5 105 8 162\n",
      "548\n",
      "5 105 8 242\n",
      "549\n"
     ]
    },
    {
     "name": "stderr",
     "output_type": "stream",
     "text": [
      "/tmp/ipykernel_3842719/849445217.py:76: FutureWarning: The frame.append method is deprecated and will be removed from pandas in a future version. Use pandas.concat instead.\n",
      "  df = df.append({\"source_images_idx\": source_idx,\n",
      "/tmp/ipykernel_3842719/849445217.py:76: FutureWarning: The frame.append method is deprecated and will be removed from pandas in a future version. Use pandas.concat instead.\n",
      "  df = df.append({\"source_images_idx\": source_idx,\n",
      "/tmp/ipykernel_3842719/849445217.py:76: FutureWarning: The frame.append method is deprecated and will be removed from pandas in a future version. Use pandas.concat instead.\n",
      "  df = df.append({\"source_images_idx\": source_idx,\n"
     ]
    },
    {
     "name": "stdout",
     "output_type": "stream",
     "text": [
      "5 105 16 0\n",
      "550\n",
      "5 105 16 81\n",
      "551\n",
      "5 105 16 162\n",
      "552\n"
     ]
    },
    {
     "name": "stderr",
     "output_type": "stream",
     "text": [
      "/tmp/ipykernel_3842719/849445217.py:76: FutureWarning: The frame.append method is deprecated and will be removed from pandas in a future version. Use pandas.concat instead.\n",
      "  df = df.append({\"source_images_idx\": source_idx,\n",
      "/tmp/ipykernel_3842719/849445217.py:76: FutureWarning: The frame.append method is deprecated and will be removed from pandas in a future version. Use pandas.concat instead.\n",
      "  df = df.append({\"source_images_idx\": source_idx,\n",
      "/tmp/ipykernel_3842719/849445217.py:76: FutureWarning: The frame.append method is deprecated and will be removed from pandas in a future version. Use pandas.concat instead.\n",
      "  df = df.append({\"source_images_idx\": source_idx,\n"
     ]
    },
    {
     "name": "stdout",
     "output_type": "stream",
     "text": [
      "5 105 16 242\n",
      "553\n",
      "5 105 24 0\n",
      "554\n",
      "5 105 24 81\n",
      "555\n"
     ]
    },
    {
     "name": "stderr",
     "output_type": "stream",
     "text": [
      "/tmp/ipykernel_3842719/849445217.py:76: FutureWarning: The frame.append method is deprecated and will be removed from pandas in a future version. Use pandas.concat instead.\n",
      "  df = df.append({\"source_images_idx\": source_idx,\n",
      "/tmp/ipykernel_3842719/849445217.py:76: FutureWarning: The frame.append method is deprecated and will be removed from pandas in a future version. Use pandas.concat instead.\n",
      "  df = df.append({\"source_images_idx\": source_idx,\n",
      "/tmp/ipykernel_3842719/849445217.py:76: FutureWarning: The frame.append method is deprecated and will be removed from pandas in a future version. Use pandas.concat instead.\n",
      "  df = df.append({\"source_images_idx\": source_idx,\n"
     ]
    },
    {
     "name": "stdout",
     "output_type": "stream",
     "text": [
      "5 105 24 162\n",
      "556\n",
      "5 105 24 242\n",
      "557\n",
      "6 0 0 0\n",
      "558\n"
     ]
    },
    {
     "name": "stderr",
     "output_type": "stream",
     "text": [
      "/tmp/ipykernel_3842719/849445217.py:76: FutureWarning: The frame.append method is deprecated and will be removed from pandas in a future version. Use pandas.concat instead.\n",
      "  df = df.append({\"source_images_idx\": source_idx,\n",
      "/tmp/ipykernel_3842719/849445217.py:76: FutureWarning: The frame.append method is deprecated and will be removed from pandas in a future version. Use pandas.concat instead.\n",
      "  df = df.append({\"source_images_idx\": source_idx,\n",
      "/tmp/ipykernel_3842719/849445217.py:76: FutureWarning: The frame.append method is deprecated and will be removed from pandas in a future version. Use pandas.concat instead.\n",
      "  df = df.append({\"source_images_idx\": source_idx,\n",
      "/tmp/ipykernel_3842719/849445217.py:76: FutureWarning: The frame.append method is deprecated and will be removed from pandas in a future version. Use pandas.concat instead.\n",
      "  df = df.append({\"source_images_idx\": source_idx,\n",
      "/tmp/ipykernel_3842719/849445217.py:76: FutureWarning: The frame.append method is deprecated and will be removed from pandas in a future version. Use pandas.concat instead.\n",
      "  df = df.append({\"source_images_idx\": source_idx,\n"
     ]
    },
    {
     "name": "stdout",
     "output_type": "stream",
     "text": [
      "6 0 0 88\n",
      "559\n",
      "6 0 0 176\n",
      "560\n",
      "6 0 0 263\n",
      "561\n",
      "6 0 11 0\n",
      "562\n",
      "6 0 11 88\n",
      "563\n"
     ]
    },
    {
     "name": "stderr",
     "output_type": "stream",
     "text": [
      "/tmp/ipykernel_3842719/849445217.py:76: FutureWarning: The frame.append method is deprecated and will be removed from pandas in a future version. Use pandas.concat instead.\n",
      "  df = df.append({\"source_images_idx\": source_idx,\n",
      "/tmp/ipykernel_3842719/849445217.py:76: FutureWarning: The frame.append method is deprecated and will be removed from pandas in a future version. Use pandas.concat instead.\n",
      "  df = df.append({\"source_images_idx\": source_idx,\n",
      "/tmp/ipykernel_3842719/849445217.py:76: FutureWarning: The frame.append method is deprecated and will be removed from pandas in a future version. Use pandas.concat instead.\n",
      "  df = df.append({\"source_images_idx\": source_idx,\n",
      "/tmp/ipykernel_3842719/849445217.py:76: FutureWarning: The frame.append method is deprecated and will be removed from pandas in a future version. Use pandas.concat instead.\n",
      "  df = df.append({\"source_images_idx\": source_idx,\n",
      "/tmp/ipykernel_3842719/849445217.py:76: FutureWarning: The frame.append method is deprecated and will be removed from pandas in a future version. Use pandas.concat instead.\n",
      "  df = df.append({\"source_images_idx\": source_idx,\n"
     ]
    },
    {
     "name": "stdout",
     "output_type": "stream",
     "text": [
      "6 0 11 176\n",
      "564\n",
      "6 0 11 263\n",
      "565\n",
      "6 0 22 0\n",
      "566\n",
      "6 0 22 88\n",
      "567\n",
      "6 0 22 176\n",
      "568\n"
     ]
    },
    {
     "name": "stderr",
     "output_type": "stream",
     "text": [
      "/tmp/ipykernel_3842719/849445217.py:76: FutureWarning: The frame.append method is deprecated and will be removed from pandas in a future version. Use pandas.concat instead.\n",
      "  df = df.append({\"source_images_idx\": source_idx,\n",
      "/tmp/ipykernel_3842719/849445217.py:76: FutureWarning: The frame.append method is deprecated and will be removed from pandas in a future version. Use pandas.concat instead.\n",
      "  df = df.append({\"source_images_idx\": source_idx,\n",
      "/tmp/ipykernel_3842719/849445217.py:76: FutureWarning: The frame.append method is deprecated and will be removed from pandas in a future version. Use pandas.concat instead.\n",
      "  df = df.append({\"source_images_idx\": source_idx,\n",
      "/tmp/ipykernel_3842719/849445217.py:76: FutureWarning: The frame.append method is deprecated and will be removed from pandas in a future version. Use pandas.concat instead.\n",
      "  df = df.append({\"source_images_idx\": source_idx,\n",
      "/tmp/ipykernel_3842719/849445217.py:76: FutureWarning: The frame.append method is deprecated and will be removed from pandas in a future version. Use pandas.concat instead.\n",
      "  df = df.append({\"source_images_idx\": source_idx,\n"
     ]
    },
    {
     "name": "stdout",
     "output_type": "stream",
     "text": [
      "6 0 22 263\n",
      "569\n",
      "6 0 33 0\n",
      "570\n",
      "6 0 33 88\n",
      "571\n",
      "6 0 33 176\n",
      "572\n",
      "6 0 33 263\n",
      "573\n"
     ]
    },
    {
     "name": "stderr",
     "output_type": "stream",
     "text": [
      "/tmp/ipykernel_3842719/849445217.py:76: FutureWarning: The frame.append method is deprecated and will be removed from pandas in a future version. Use pandas.concat instead.\n",
      "  df = df.append({\"source_images_idx\": source_idx,\n",
      "/tmp/ipykernel_3842719/849445217.py:76: FutureWarning: The frame.append method is deprecated and will be removed from pandas in a future version. Use pandas.concat instead.\n",
      "  df = df.append({\"source_images_idx\": source_idx,\n",
      "/tmp/ipykernel_3842719/849445217.py:76: FutureWarning: The frame.append method is deprecated and will be removed from pandas in a future version. Use pandas.concat instead.\n",
      "  df = df.append({\"source_images_idx\": source_idx,\n",
      "/tmp/ipykernel_3842719/849445217.py:76: FutureWarning: The frame.append method is deprecated and will be removed from pandas in a future version. Use pandas.concat instead.\n",
      "  df = df.append({\"source_images_idx\": source_idx,\n",
      "/tmp/ipykernel_3842719/849445217.py:76: FutureWarning: The frame.append method is deprecated and will be removed from pandas in a future version. Use pandas.concat instead.\n",
      "  df = df.append({\"source_images_idx\": source_idx,\n"
     ]
    },
    {
     "name": "stdout",
     "output_type": "stream",
     "text": [
      "6 92 0 0\n",
      "574\n",
      "6 92 0 88\n",
      "575\n",
      "6 92 0 176\n",
      "576\n",
      "6 92 0 263\n",
      "577\n",
      "6 92 11 0\n",
      "578\n"
     ]
    },
    {
     "name": "stderr",
     "output_type": "stream",
     "text": [
      "/tmp/ipykernel_3842719/849445217.py:76: FutureWarning: The frame.append method is deprecated and will be removed from pandas in a future version. Use pandas.concat instead.\n",
      "  df = df.append({\"source_images_idx\": source_idx,\n",
      "/tmp/ipykernel_3842719/849445217.py:76: FutureWarning: The frame.append method is deprecated and will be removed from pandas in a future version. Use pandas.concat instead.\n",
      "  df = df.append({\"source_images_idx\": source_idx,\n",
      "/tmp/ipykernel_3842719/849445217.py:76: FutureWarning: The frame.append method is deprecated and will be removed from pandas in a future version. Use pandas.concat instead.\n",
      "  df = df.append({\"source_images_idx\": source_idx,\n",
      "/tmp/ipykernel_3842719/849445217.py:76: FutureWarning: The frame.append method is deprecated and will be removed from pandas in a future version. Use pandas.concat instead.\n",
      "  df = df.append({\"source_images_idx\": source_idx,\n",
      "/tmp/ipykernel_3842719/849445217.py:76: FutureWarning: The frame.append method is deprecated and will be removed from pandas in a future version. Use pandas.concat instead.\n",
      "  df = df.append({\"source_images_idx\": source_idx,\n"
     ]
    },
    {
     "name": "stdout",
     "output_type": "stream",
     "text": [
      "6 92 11 88\n",
      "579\n",
      "6 92 11 176\n",
      "580\n",
      "6 92 11 263\n",
      "581\n",
      "6 92 22 0\n",
      "582\n",
      "6 92 22 88\n",
      "583\n"
     ]
    },
    {
     "name": "stderr",
     "output_type": "stream",
     "text": [
      "/tmp/ipykernel_3842719/849445217.py:76: FutureWarning: The frame.append method is deprecated and will be removed from pandas in a future version. Use pandas.concat instead.\n",
      "  df = df.append({\"source_images_idx\": source_idx,\n",
      "/tmp/ipykernel_3842719/849445217.py:76: FutureWarning: The frame.append method is deprecated and will be removed from pandas in a future version. Use pandas.concat instead.\n",
      "  df = df.append({\"source_images_idx\": source_idx,\n",
      "/tmp/ipykernel_3842719/849445217.py:76: FutureWarning: The frame.append method is deprecated and will be removed from pandas in a future version. Use pandas.concat instead.\n",
      "  df = df.append({\"source_images_idx\": source_idx,\n",
      "/tmp/ipykernel_3842719/849445217.py:76: FutureWarning: The frame.append method is deprecated and will be removed from pandas in a future version. Use pandas.concat instead.\n",
      "  df = df.append({\"source_images_idx\": source_idx,\n",
      "/tmp/ipykernel_3842719/849445217.py:76: FutureWarning: The frame.append method is deprecated and will be removed from pandas in a future version. Use pandas.concat instead.\n",
      "  df = df.append({\"source_images_idx\": source_idx,\n"
     ]
    },
    {
     "name": "stdout",
     "output_type": "stream",
     "text": [
      "6 92 22 176\n",
      "584\n",
      "6 92 22 263\n",
      "585\n",
      "6 92 33 0\n",
      "586\n",
      "6 92 33 88\n",
      "587\n",
      "6 92 33 176\n",
      "588\n"
     ]
    },
    {
     "name": "stderr",
     "output_type": "stream",
     "text": [
      "/tmp/ipykernel_3842719/849445217.py:76: FutureWarning: The frame.append method is deprecated and will be removed from pandas in a future version. Use pandas.concat instead.\n",
      "  df = df.append({\"source_images_idx\": source_idx,\n",
      "/tmp/ipykernel_3842719/849445217.py:76: FutureWarning: The frame.append method is deprecated and will be removed from pandas in a future version. Use pandas.concat instead.\n",
      "  df = df.append({\"source_images_idx\": source_idx,\n",
      "/tmp/ipykernel_3842719/849445217.py:76: FutureWarning: The frame.append method is deprecated and will be removed from pandas in a future version. Use pandas.concat instead.\n",
      "  df = df.append({\"source_images_idx\": source_idx,\n",
      "/tmp/ipykernel_3842719/849445217.py:76: FutureWarning: The frame.append method is deprecated and will be removed from pandas in a future version. Use pandas.concat instead.\n",
      "  df = df.append({\"source_images_idx\": source_idx,\n",
      "/tmp/ipykernel_3842719/849445217.py:76: FutureWarning: The frame.append method is deprecated and will be removed from pandas in a future version. Use pandas.concat instead.\n",
      "  df = df.append({\"source_images_idx\": source_idx,\n"
     ]
    },
    {
     "name": "stdout",
     "output_type": "stream",
     "text": [
      "6 92 33 263\n",
      "589\n",
      "6 184 0 0\n",
      "590\n",
      "6 184 0 88\n",
      "591\n",
      "6 184 0 176\n",
      "592\n",
      "6 184 0 263\n",
      "593\n"
     ]
    },
    {
     "name": "stderr",
     "output_type": "stream",
     "text": [
      "/tmp/ipykernel_3842719/849445217.py:76: FutureWarning: The frame.append method is deprecated and will be removed from pandas in a future version. Use pandas.concat instead.\n",
      "  df = df.append({\"source_images_idx\": source_idx,\n",
      "/tmp/ipykernel_3842719/849445217.py:76: FutureWarning: The frame.append method is deprecated and will be removed from pandas in a future version. Use pandas.concat instead.\n",
      "  df = df.append({\"source_images_idx\": source_idx,\n",
      "/tmp/ipykernel_3842719/849445217.py:76: FutureWarning: The frame.append method is deprecated and will be removed from pandas in a future version. Use pandas.concat instead.\n",
      "  df = df.append({\"source_images_idx\": source_idx,\n",
      "/tmp/ipykernel_3842719/849445217.py:76: FutureWarning: The frame.append method is deprecated and will be removed from pandas in a future version. Use pandas.concat instead.\n",
      "  df = df.append({\"source_images_idx\": source_idx,\n"
     ]
    },
    {
     "name": "stdout",
     "output_type": "stream",
     "text": [
      "6 184 11 0\n",
      "594\n",
      "6 184 11 88\n",
      "595\n",
      "6 184 11 176\n",
      "596\n",
      "6 184 11 263\n",
      "597\n"
     ]
    },
    {
     "name": "stderr",
     "output_type": "stream",
     "text": [
      "/tmp/ipykernel_3842719/849445217.py:76: FutureWarning: The frame.append method is deprecated and will be removed from pandas in a future version. Use pandas.concat instead.\n",
      "  df = df.append({\"source_images_idx\": source_idx,\n",
      "/tmp/ipykernel_3842719/849445217.py:76: FutureWarning: The frame.append method is deprecated and will be removed from pandas in a future version. Use pandas.concat instead.\n",
      "  df = df.append({\"source_images_idx\": source_idx,\n",
      "/tmp/ipykernel_3842719/849445217.py:76: FutureWarning: The frame.append method is deprecated and will be removed from pandas in a future version. Use pandas.concat instead.\n",
      "  df = df.append({\"source_images_idx\": source_idx,\n",
      "/tmp/ipykernel_3842719/849445217.py:76: FutureWarning: The frame.append method is deprecated and will be removed from pandas in a future version. Use pandas.concat instead.\n",
      "  df = df.append({\"source_images_idx\": source_idx,\n",
      "/tmp/ipykernel_3842719/849445217.py:76: FutureWarning: The frame.append method is deprecated and will be removed from pandas in a future version. Use pandas.concat instead.\n",
      "  df = df.append({\"source_images_idx\": source_idx,\n"
     ]
    },
    {
     "name": "stdout",
     "output_type": "stream",
     "text": [
      "6 184 22 0\n",
      "598\n",
      "6 184 22 88\n",
      "599\n",
      "6 184 22 176\n",
      "600\n",
      "6 184 22 263\n",
      "601\n",
      "6 184 33 0\n",
      "602\n"
     ]
    },
    {
     "name": "stderr",
     "output_type": "stream",
     "text": [
      "/tmp/ipykernel_3842719/849445217.py:76: FutureWarning: The frame.append method is deprecated and will be removed from pandas in a future version. Use pandas.concat instead.\n",
      "  df = df.append({\"source_images_idx\": source_idx,\n",
      "/tmp/ipykernel_3842719/849445217.py:76: FutureWarning: The frame.append method is deprecated and will be removed from pandas in a future version. Use pandas.concat instead.\n",
      "  df = df.append({\"source_images_idx\": source_idx,\n",
      "/tmp/ipykernel_3842719/849445217.py:76: FutureWarning: The frame.append method is deprecated and will be removed from pandas in a future version. Use pandas.concat instead.\n",
      "  df = df.append({\"source_images_idx\": source_idx,\n",
      "/tmp/ipykernel_3842719/849445217.py:76: FutureWarning: The frame.append method is deprecated and will be removed from pandas in a future version. Use pandas.concat instead.\n",
      "  df = df.append({\"source_images_idx\": source_idx,\n",
      "/tmp/ipykernel_3842719/849445217.py:76: FutureWarning: The frame.append method is deprecated and will be removed from pandas in a future version. Use pandas.concat instead.\n",
      "  df = df.append({\"source_images_idx\": source_idx,\n"
     ]
    },
    {
     "name": "stdout",
     "output_type": "stream",
     "text": [
      "6 184 33 88\n",
      "603\n",
      "6 184 33 176\n",
      "604\n",
      "6 184 33 263\n",
      "605\n",
      "6 276 0 0\n",
      "606\n",
      "6 276 0 88\n",
      "607\n"
     ]
    },
    {
     "name": "stderr",
     "output_type": "stream",
     "text": [
      "/tmp/ipykernel_3842719/849445217.py:76: FutureWarning: The frame.append method is deprecated and will be removed from pandas in a future version. Use pandas.concat instead.\n",
      "  df = df.append({\"source_images_idx\": source_idx,\n",
      "/tmp/ipykernel_3842719/849445217.py:76: FutureWarning: The frame.append method is deprecated and will be removed from pandas in a future version. Use pandas.concat instead.\n",
      "  df = df.append({\"source_images_idx\": source_idx,\n",
      "/tmp/ipykernel_3842719/849445217.py:76: FutureWarning: The frame.append method is deprecated and will be removed from pandas in a future version. Use pandas.concat instead.\n",
      "  df = df.append({\"source_images_idx\": source_idx,\n"
     ]
    },
    {
     "name": "stdout",
     "output_type": "stream",
     "text": [
      "6 276 0 176\n",
      "608\n",
      "6 276 0 263\n",
      "609\n",
      "6 276 11 0\n",
      "610\n"
     ]
    },
    {
     "name": "stderr",
     "output_type": "stream",
     "text": [
      "/tmp/ipykernel_3842719/849445217.py:76: FutureWarning: The frame.append method is deprecated and will be removed from pandas in a future version. Use pandas.concat instead.\n",
      "  df = df.append({\"source_images_idx\": source_idx,\n",
      "/tmp/ipykernel_3842719/849445217.py:76: FutureWarning: The frame.append method is deprecated and will be removed from pandas in a future version. Use pandas.concat instead.\n",
      "  df = df.append({\"source_images_idx\": source_idx,\n",
      "/tmp/ipykernel_3842719/849445217.py:76: FutureWarning: The frame.append method is deprecated and will be removed from pandas in a future version. Use pandas.concat instead.\n",
      "  df = df.append({\"source_images_idx\": source_idx,\n"
     ]
    },
    {
     "name": "stdout",
     "output_type": "stream",
     "text": [
      "6 276 11 88\n",
      "611\n",
      "6 276 11 176\n",
      "612\n",
      "6 276 11 263\n",
      "613\n"
     ]
    },
    {
     "name": "stderr",
     "output_type": "stream",
     "text": [
      "/tmp/ipykernel_3842719/849445217.py:76: FutureWarning: The frame.append method is deprecated and will be removed from pandas in a future version. Use pandas.concat instead.\n",
      "  df = df.append({\"source_images_idx\": source_idx,\n",
      "/tmp/ipykernel_3842719/849445217.py:76: FutureWarning: The frame.append method is deprecated and will be removed from pandas in a future version. Use pandas.concat instead.\n",
      "  df = df.append({\"source_images_idx\": source_idx,\n",
      "/tmp/ipykernel_3842719/849445217.py:76: FutureWarning: The frame.append method is deprecated and will be removed from pandas in a future version. Use pandas.concat instead.\n",
      "  df = df.append({\"source_images_idx\": source_idx,\n"
     ]
    },
    {
     "name": "stdout",
     "output_type": "stream",
     "text": [
      "6 276 22 0\n",
      "614\n",
      "6 276 22 88\n",
      "615\n",
      "6 276 22 176\n",
      "616\n"
     ]
    },
    {
     "name": "stderr",
     "output_type": "stream",
     "text": [
      "/tmp/ipykernel_3842719/849445217.py:76: FutureWarning: The frame.append method is deprecated and will be removed from pandas in a future version. Use pandas.concat instead.\n",
      "  df = df.append({\"source_images_idx\": source_idx,\n",
      "/tmp/ipykernel_3842719/849445217.py:76: FutureWarning: The frame.append method is deprecated and will be removed from pandas in a future version. Use pandas.concat instead.\n",
      "  df = df.append({\"source_images_idx\": source_idx,\n",
      "/tmp/ipykernel_3842719/849445217.py:76: FutureWarning: The frame.append method is deprecated and will be removed from pandas in a future version. Use pandas.concat instead.\n",
      "  df = df.append({\"source_images_idx\": source_idx,\n"
     ]
    },
    {
     "name": "stdout",
     "output_type": "stream",
     "text": [
      "6 276 22 263\n",
      "617\n",
      "6 276 33 0\n",
      "618\n",
      "6 276 33 88\n",
      "619\n"
     ]
    },
    {
     "name": "stderr",
     "output_type": "stream",
     "text": [
      "/tmp/ipykernel_3842719/849445217.py:76: FutureWarning: The frame.append method is deprecated and will be removed from pandas in a future version. Use pandas.concat instead.\n",
      "  df = df.append({\"source_images_idx\": source_idx,\n",
      "/tmp/ipykernel_3842719/849445217.py:76: FutureWarning: The frame.append method is deprecated and will be removed from pandas in a future version. Use pandas.concat instead.\n",
      "  df = df.append({\"source_images_idx\": source_idx,\n",
      "/tmp/ipykernel_3842719/849445217.py:76: FutureWarning: The frame.append method is deprecated and will be removed from pandas in a future version. Use pandas.concat instead.\n",
      "  df = df.append({\"source_images_idx\": source_idx,\n"
     ]
    },
    {
     "name": "stdout",
     "output_type": "stream",
     "text": [
      "6 276 33 176\n",
      "620\n",
      "6 276 33 263\n",
      "621\n",
      "7 0 0 0\n",
      "622\n"
     ]
    },
    {
     "name": "stderr",
     "output_type": "stream",
     "text": [
      "/tmp/ipykernel_3842719/849445217.py:76: FutureWarning: The frame.append method is deprecated and will be removed from pandas in a future version. Use pandas.concat instead.\n",
      "  df = df.append({\"source_images_idx\": source_idx,\n",
      "/tmp/ipykernel_3842719/849445217.py:76: FutureWarning: The frame.append method is deprecated and will be removed from pandas in a future version. Use pandas.concat instead.\n",
      "  df = df.append({\"source_images_idx\": source_idx,\n",
      "/tmp/ipykernel_3842719/849445217.py:76: FutureWarning: The frame.append method is deprecated and will be removed from pandas in a future version. Use pandas.concat instead.\n",
      "  df = df.append({\"source_images_idx\": source_idx,\n"
     ]
    },
    {
     "name": "stdout",
     "output_type": "stream",
     "text": [
      "7 0 0 61\n",
      "623\n",
      "7 0 0 122\n",
      "624\n",
      "7 0 0 183\n",
      "625\n"
     ]
    },
    {
     "name": "stderr",
     "output_type": "stream",
     "text": [
      "/tmp/ipykernel_3842719/849445217.py:76: FutureWarning: The frame.append method is deprecated and will be removed from pandas in a future version. Use pandas.concat instead.\n",
      "  df = df.append({\"source_images_idx\": source_idx,\n",
      "/tmp/ipykernel_3842719/849445217.py:76: FutureWarning: The frame.append method is deprecated and will be removed from pandas in a future version. Use pandas.concat instead.\n",
      "  df = df.append({\"source_images_idx\": source_idx,\n",
      "/tmp/ipykernel_3842719/849445217.py:76: FutureWarning: The frame.append method is deprecated and will be removed from pandas in a future version. Use pandas.concat instead.\n",
      "  df = df.append({\"source_images_idx\": source_idx,\n",
      "/tmp/ipykernel_3842719/849445217.py:76: FutureWarning: The frame.append method is deprecated and will be removed from pandas in a future version. Use pandas.concat instead.\n",
      "  df = df.append({\"source_images_idx\": source_idx,\n",
      "/tmp/ipykernel_3842719/849445217.py:76: FutureWarning: The frame.append method is deprecated and will be removed from pandas in a future version. Use pandas.concat instead.\n",
      "  df = df.append({\"source_images_idx\": source_idx,\n"
     ]
    },
    {
     "name": "stdout",
     "output_type": "stream",
     "text": [
      "7 0 18 0\n",
      "626\n",
      "7 0 18 61\n",
      "627\n",
      "7 0 18 122\n",
      "628\n",
      "7 0 18 183\n",
      "629\n",
      "7 0 36 0\n",
      "630\n"
     ]
    },
    {
     "name": "stderr",
     "output_type": "stream",
     "text": [
      "/tmp/ipykernel_3842719/849445217.py:76: FutureWarning: The frame.append method is deprecated and will be removed from pandas in a future version. Use pandas.concat instead.\n",
      "  df = df.append({\"source_images_idx\": source_idx,\n",
      "/tmp/ipykernel_3842719/849445217.py:76: FutureWarning: The frame.append method is deprecated and will be removed from pandas in a future version. Use pandas.concat instead.\n",
      "  df = df.append({\"source_images_idx\": source_idx,\n",
      "/tmp/ipykernel_3842719/849445217.py:76: FutureWarning: The frame.append method is deprecated and will be removed from pandas in a future version. Use pandas.concat instead.\n",
      "  df = df.append({\"source_images_idx\": source_idx,\n",
      "/tmp/ipykernel_3842719/849445217.py:76: FutureWarning: The frame.append method is deprecated and will be removed from pandas in a future version. Use pandas.concat instead.\n",
      "  df = df.append({\"source_images_idx\": source_idx,\n",
      "/tmp/ipykernel_3842719/849445217.py:76: FutureWarning: The frame.append method is deprecated and will be removed from pandas in a future version. Use pandas.concat instead.\n",
      "  df = df.append({\"source_images_idx\": source_idx,\n"
     ]
    },
    {
     "name": "stdout",
     "output_type": "stream",
     "text": [
      "7 0 36 61\n",
      "631\n",
      "7 0 36 122\n",
      "632\n",
      "7 0 36 183\n",
      "633\n",
      "7 0 53 0\n",
      "634\n",
      "7 0 53 61\n",
      "635\n"
     ]
    },
    {
     "name": "stderr",
     "output_type": "stream",
     "text": [
      "/tmp/ipykernel_3842719/849445217.py:76: FutureWarning: The frame.append method is deprecated and will be removed from pandas in a future version. Use pandas.concat instead.\n",
      "  df = df.append({\"source_images_idx\": source_idx,\n",
      "/tmp/ipykernel_3842719/849445217.py:76: FutureWarning: The frame.append method is deprecated and will be removed from pandas in a future version. Use pandas.concat instead.\n",
      "  df = df.append({\"source_images_idx\": source_idx,\n",
      "/tmp/ipykernel_3842719/849445217.py:76: FutureWarning: The frame.append method is deprecated and will be removed from pandas in a future version. Use pandas.concat instead.\n",
      "  df = df.append({\"source_images_idx\": source_idx,\n",
      "/tmp/ipykernel_3842719/849445217.py:76: FutureWarning: The frame.append method is deprecated and will be removed from pandas in a future version. Use pandas.concat instead.\n",
      "  df = df.append({\"source_images_idx\": source_idx,\n",
      "/tmp/ipykernel_3842719/849445217.py:76: FutureWarning: The frame.append method is deprecated and will be removed from pandas in a future version. Use pandas.concat instead.\n",
      "  df = df.append({\"source_images_idx\": source_idx,\n"
     ]
    },
    {
     "name": "stdout",
     "output_type": "stream",
     "text": [
      "7 0 53 122\n",
      "636\n",
      "7 0 53 183\n",
      "637\n",
      "7 30 0 0\n",
      "638\n",
      "7 30 0 61\n",
      "639\n",
      "7 30 0 122\n",
      "640\n"
     ]
    },
    {
     "name": "stderr",
     "output_type": "stream",
     "text": [
      "/tmp/ipykernel_3842719/849445217.py:76: FutureWarning: The frame.append method is deprecated and will be removed from pandas in a future version. Use pandas.concat instead.\n",
      "  df = df.append({\"source_images_idx\": source_idx,\n",
      "/tmp/ipykernel_3842719/849445217.py:76: FutureWarning: The frame.append method is deprecated and will be removed from pandas in a future version. Use pandas.concat instead.\n",
      "  df = df.append({\"source_images_idx\": source_idx,\n",
      "/tmp/ipykernel_3842719/849445217.py:76: FutureWarning: The frame.append method is deprecated and will be removed from pandas in a future version. Use pandas.concat instead.\n",
      "  df = df.append({\"source_images_idx\": source_idx,\n",
      "/tmp/ipykernel_3842719/849445217.py:76: FutureWarning: The frame.append method is deprecated and will be removed from pandas in a future version. Use pandas.concat instead.\n",
      "  df = df.append({\"source_images_idx\": source_idx,\n",
      "/tmp/ipykernel_3842719/849445217.py:76: FutureWarning: The frame.append method is deprecated and will be removed from pandas in a future version. Use pandas.concat instead.\n",
      "  df = df.append({\"source_images_idx\": source_idx,\n"
     ]
    },
    {
     "name": "stdout",
     "output_type": "stream",
     "text": [
      "7 30 0 183\n",
      "641\n",
      "7 30 18 0\n",
      "642\n",
      "7 30 18 61\n",
      "643\n",
      "7 30 18 122\n",
      "644\n",
      "7 30 18 183\n",
      "645\n"
     ]
    },
    {
     "name": "stderr",
     "output_type": "stream",
     "text": [
      "/tmp/ipykernel_3842719/849445217.py:76: FutureWarning: The frame.append method is deprecated and will be removed from pandas in a future version. Use pandas.concat instead.\n",
      "  df = df.append({\"source_images_idx\": source_idx,\n",
      "/tmp/ipykernel_3842719/849445217.py:76: FutureWarning: The frame.append method is deprecated and will be removed from pandas in a future version. Use pandas.concat instead.\n",
      "  df = df.append({\"source_images_idx\": source_idx,\n",
      "/tmp/ipykernel_3842719/849445217.py:76: FutureWarning: The frame.append method is deprecated and will be removed from pandas in a future version. Use pandas.concat instead.\n",
      "  df = df.append({\"source_images_idx\": source_idx,\n",
      "/tmp/ipykernel_3842719/849445217.py:76: FutureWarning: The frame.append method is deprecated and will be removed from pandas in a future version. Use pandas.concat instead.\n",
      "  df = df.append({\"source_images_idx\": source_idx,\n",
      "/tmp/ipykernel_3842719/849445217.py:76: FutureWarning: The frame.append method is deprecated and will be removed from pandas in a future version. Use pandas.concat instead.\n",
      "  df = df.append({\"source_images_idx\": source_idx,\n"
     ]
    },
    {
     "name": "stdout",
     "output_type": "stream",
     "text": [
      "7 30 36 0\n",
      "646\n",
      "7 30 36 61\n",
      "647\n",
      "7 30 36 122\n",
      "648\n",
      "7 30 36 183\n",
      "649\n",
      "7 30 53 0\n",
      "650\n"
     ]
    },
    {
     "name": "stderr",
     "output_type": "stream",
     "text": [
      "/tmp/ipykernel_3842719/849445217.py:76: FutureWarning: The frame.append method is deprecated and will be removed from pandas in a future version. Use pandas.concat instead.\n",
      "  df = df.append({\"source_images_idx\": source_idx,\n",
      "/tmp/ipykernel_3842719/849445217.py:76: FutureWarning: The frame.append method is deprecated and will be removed from pandas in a future version. Use pandas.concat instead.\n",
      "  df = df.append({\"source_images_idx\": source_idx,\n",
      "/tmp/ipykernel_3842719/849445217.py:76: FutureWarning: The frame.append method is deprecated and will be removed from pandas in a future version. Use pandas.concat instead.\n",
      "  df = df.append({\"source_images_idx\": source_idx,\n",
      "/tmp/ipykernel_3842719/849445217.py:76: FutureWarning: The frame.append method is deprecated and will be removed from pandas in a future version. Use pandas.concat instead.\n",
      "  df = df.append({\"source_images_idx\": source_idx,\n",
      "/tmp/ipykernel_3842719/849445217.py:76: FutureWarning: The frame.append method is deprecated and will be removed from pandas in a future version. Use pandas.concat instead.\n",
      "  df = df.append({\"source_images_idx\": source_idx,\n"
     ]
    },
    {
     "name": "stdout",
     "output_type": "stream",
     "text": [
      "7 30 53 61\n",
      "651\n",
      "7 30 53 122\n",
      "652\n",
      "7 30 53 183\n",
      "653\n",
      "7 60 0 0\n",
      "654\n",
      "7 60 0 61\n",
      "655\n"
     ]
    },
    {
     "name": "stderr",
     "output_type": "stream",
     "text": [
      "/tmp/ipykernel_3842719/849445217.py:76: FutureWarning: The frame.append method is deprecated and will be removed from pandas in a future version. Use pandas.concat instead.\n",
      "  df = df.append({\"source_images_idx\": source_idx,\n",
      "/tmp/ipykernel_3842719/849445217.py:76: FutureWarning: The frame.append method is deprecated and will be removed from pandas in a future version. Use pandas.concat instead.\n",
      "  df = df.append({\"source_images_idx\": source_idx,\n",
      "/tmp/ipykernel_3842719/849445217.py:76: FutureWarning: The frame.append method is deprecated and will be removed from pandas in a future version. Use pandas.concat instead.\n",
      "  df = df.append({\"source_images_idx\": source_idx,\n",
      "/tmp/ipykernel_3842719/849445217.py:76: FutureWarning: The frame.append method is deprecated and will be removed from pandas in a future version. Use pandas.concat instead.\n",
      "  df = df.append({\"source_images_idx\": source_idx,\n",
      "/tmp/ipykernel_3842719/849445217.py:76: FutureWarning: The frame.append method is deprecated and will be removed from pandas in a future version. Use pandas.concat instead.\n",
      "  df = df.append({\"source_images_idx\": source_idx,\n"
     ]
    },
    {
     "name": "stdout",
     "output_type": "stream",
     "text": [
      "7 60 0 122\n",
      "656\n",
      "7 60 0 183\n",
      "657\n",
      "7 60 18 0\n",
      "658\n",
      "7 60 18 61\n",
      "659\n",
      "7 60 18 122\n",
      "660\n"
     ]
    },
    {
     "name": "stderr",
     "output_type": "stream",
     "text": [
      "/tmp/ipykernel_3842719/849445217.py:76: FutureWarning: The frame.append method is deprecated and will be removed from pandas in a future version. Use pandas.concat instead.\n",
      "  df = df.append({\"source_images_idx\": source_idx,\n",
      "/tmp/ipykernel_3842719/849445217.py:76: FutureWarning: The frame.append method is deprecated and will be removed from pandas in a future version. Use pandas.concat instead.\n",
      "  df = df.append({\"source_images_idx\": source_idx,\n",
      "/tmp/ipykernel_3842719/849445217.py:76: FutureWarning: The frame.append method is deprecated and will be removed from pandas in a future version. Use pandas.concat instead.\n",
      "  df = df.append({\"source_images_idx\": source_idx,\n",
      "/tmp/ipykernel_3842719/849445217.py:76: FutureWarning: The frame.append method is deprecated and will be removed from pandas in a future version. Use pandas.concat instead.\n",
      "  df = df.append({\"source_images_idx\": source_idx,\n",
      "/tmp/ipykernel_3842719/849445217.py:76: FutureWarning: The frame.append method is deprecated and will be removed from pandas in a future version. Use pandas.concat instead.\n",
      "  df = df.append({\"source_images_idx\": source_idx,\n"
     ]
    },
    {
     "name": "stdout",
     "output_type": "stream",
     "text": [
      "7 60 18 183\n",
      "661\n",
      "7 60 36 0\n",
      "662\n",
      "7 60 36 61\n",
      "663\n",
      "7 60 36 122\n",
      "664\n",
      "7 60 36 183\n",
      "665\n"
     ]
    },
    {
     "name": "stderr",
     "output_type": "stream",
     "text": [
      "/tmp/ipykernel_3842719/849445217.py:76: FutureWarning: The frame.append method is deprecated and will be removed from pandas in a future version. Use pandas.concat instead.\n",
      "  df = df.append({\"source_images_idx\": source_idx,\n",
      "/tmp/ipykernel_3842719/849445217.py:76: FutureWarning: The frame.append method is deprecated and will be removed from pandas in a future version. Use pandas.concat instead.\n",
      "  df = df.append({\"source_images_idx\": source_idx,\n",
      "/tmp/ipykernel_3842719/849445217.py:76: FutureWarning: The frame.append method is deprecated and will be removed from pandas in a future version. Use pandas.concat instead.\n",
      "  df = df.append({\"source_images_idx\": source_idx,\n",
      "/tmp/ipykernel_3842719/849445217.py:76: FutureWarning: The frame.append method is deprecated and will be removed from pandas in a future version. Use pandas.concat instead.\n",
      "  df = df.append({\"source_images_idx\": source_idx,\n",
      "/tmp/ipykernel_3842719/849445217.py:76: FutureWarning: The frame.append method is deprecated and will be removed from pandas in a future version. Use pandas.concat instead.\n",
      "  df = df.append({\"source_images_idx\": source_idx,\n"
     ]
    },
    {
     "name": "stdout",
     "output_type": "stream",
     "text": [
      "7 60 53 0\n",
      "666\n",
      "7 60 53 61\n",
      "667\n",
      "7 60 53 122\n",
      "668\n",
      "7 60 53 183\n",
      "669\n",
      "7 90 0 0\n",
      "670\n"
     ]
    },
    {
     "name": "stderr",
     "output_type": "stream",
     "text": [
      "/tmp/ipykernel_3842719/849445217.py:76: FutureWarning: The frame.append method is deprecated and will be removed from pandas in a future version. Use pandas.concat instead.\n",
      "  df = df.append({\"source_images_idx\": source_idx,\n",
      "/tmp/ipykernel_3842719/849445217.py:76: FutureWarning: The frame.append method is deprecated and will be removed from pandas in a future version. Use pandas.concat instead.\n",
      "  df = df.append({\"source_images_idx\": source_idx,\n",
      "/tmp/ipykernel_3842719/849445217.py:76: FutureWarning: The frame.append method is deprecated and will be removed from pandas in a future version. Use pandas.concat instead.\n",
      "  df = df.append({\"source_images_idx\": source_idx,\n",
      "/tmp/ipykernel_3842719/849445217.py:76: FutureWarning: The frame.append method is deprecated and will be removed from pandas in a future version. Use pandas.concat instead.\n",
      "  df = df.append({\"source_images_idx\": source_idx,\n",
      "/tmp/ipykernel_3842719/849445217.py:76: FutureWarning: The frame.append method is deprecated and will be removed from pandas in a future version. Use pandas.concat instead.\n",
      "  df = df.append({\"source_images_idx\": source_idx,\n"
     ]
    },
    {
     "name": "stdout",
     "output_type": "stream",
     "text": [
      "7 90 0 61\n",
      "671\n",
      "7 90 0 122\n",
      "672\n",
      "7 90 0 183\n",
      "673\n",
      "7 90 18 0\n",
      "674\n",
      "7 90 18 61\n",
      "675\n"
     ]
    },
    {
     "name": "stderr",
     "output_type": "stream",
     "text": [
      "/tmp/ipykernel_3842719/849445217.py:76: FutureWarning: The frame.append method is deprecated and will be removed from pandas in a future version. Use pandas.concat instead.\n",
      "  df = df.append({\"source_images_idx\": source_idx,\n",
      "/tmp/ipykernel_3842719/849445217.py:76: FutureWarning: The frame.append method is deprecated and will be removed from pandas in a future version. Use pandas.concat instead.\n",
      "  df = df.append({\"source_images_idx\": source_idx,\n",
      "/tmp/ipykernel_3842719/849445217.py:76: FutureWarning: The frame.append method is deprecated and will be removed from pandas in a future version. Use pandas.concat instead.\n",
      "  df = df.append({\"source_images_idx\": source_idx,\n",
      "/tmp/ipykernel_3842719/849445217.py:76: FutureWarning: The frame.append method is deprecated and will be removed from pandas in a future version. Use pandas.concat instead.\n",
      "  df = df.append({\"source_images_idx\": source_idx,\n"
     ]
    },
    {
     "name": "stdout",
     "output_type": "stream",
     "text": [
      "7 90 18 122\n",
      "676\n",
      "7 90 18 183\n",
      "677\n",
      "7 90 36 0\n",
      "678\n",
      "7 90 36 61\n",
      "679\n"
     ]
    },
    {
     "name": "stderr",
     "output_type": "stream",
     "text": [
      "/tmp/ipykernel_3842719/849445217.py:76: FutureWarning: The frame.append method is deprecated and will be removed from pandas in a future version. Use pandas.concat instead.\n",
      "  df = df.append({\"source_images_idx\": source_idx,\n",
      "/tmp/ipykernel_3842719/849445217.py:76: FutureWarning: The frame.append method is deprecated and will be removed from pandas in a future version. Use pandas.concat instead.\n",
      "  df = df.append({\"source_images_idx\": source_idx,\n",
      "/tmp/ipykernel_3842719/849445217.py:76: FutureWarning: The frame.append method is deprecated and will be removed from pandas in a future version. Use pandas.concat instead.\n",
      "  df = df.append({\"source_images_idx\": source_idx,\n"
     ]
    },
    {
     "name": "stdout",
     "output_type": "stream",
     "text": [
      "7 90 36 122\n",
      "680\n",
      "7 90 36 183\n",
      "681\n",
      "7 90 53 0\n",
      "682\n"
     ]
    },
    {
     "name": "stderr",
     "output_type": "stream",
     "text": [
      "/tmp/ipykernel_3842719/849445217.py:76: FutureWarning: The frame.append method is deprecated and will be removed from pandas in a future version. Use pandas.concat instead.\n",
      "  df = df.append({\"source_images_idx\": source_idx,\n",
      "/tmp/ipykernel_3842719/849445217.py:76: FutureWarning: The frame.append method is deprecated and will be removed from pandas in a future version. Use pandas.concat instead.\n",
      "  df = df.append({\"source_images_idx\": source_idx,\n",
      "/tmp/ipykernel_3842719/849445217.py:76: FutureWarning: The frame.append method is deprecated and will be removed from pandas in a future version. Use pandas.concat instead.\n",
      "  df = df.append({\"source_images_idx\": source_idx,\n"
     ]
    },
    {
     "name": "stdout",
     "output_type": "stream",
     "text": [
      "7 90 53 61\n",
      "683\n",
      "7 90 53 122\n",
      "684\n",
      "7 90 53 183\n",
      "685\n"
     ]
    },
    {
     "name": "stderr",
     "output_type": "stream",
     "text": [
      "/tmp/ipykernel_3842719/849445217.py:76: FutureWarning: The frame.append method is deprecated and will be removed from pandas in a future version. Use pandas.concat instead.\n",
      "  df = df.append({\"source_images_idx\": source_idx,\n",
      "/tmp/ipykernel_3842719/849445217.py:76: FutureWarning: The frame.append method is deprecated and will be removed from pandas in a future version. Use pandas.concat instead.\n",
      "  df = df.append({\"source_images_idx\": source_idx,\n",
      "/tmp/ipykernel_3842719/849445217.py:76: FutureWarning: The frame.append method is deprecated and will be removed from pandas in a future version. Use pandas.concat instead.\n",
      "  df = df.append({\"source_images_idx\": source_idx,\n"
     ]
    },
    {
     "name": "stdout",
     "output_type": "stream",
     "text": [
      "7 91 0 0\n",
      "686\n",
      "7 91 0 61\n",
      "687\n",
      "7 91 0 122\n",
      "688\n"
     ]
    },
    {
     "name": "stderr",
     "output_type": "stream",
     "text": [
      "/tmp/ipykernel_3842719/849445217.py:76: FutureWarning: The frame.append method is deprecated and will be removed from pandas in a future version. Use pandas.concat instead.\n",
      "  df = df.append({\"source_images_idx\": source_idx,\n",
      "/tmp/ipykernel_3842719/849445217.py:76: FutureWarning: The frame.append method is deprecated and will be removed from pandas in a future version. Use pandas.concat instead.\n",
      "  df = df.append({\"source_images_idx\": source_idx,\n",
      "/tmp/ipykernel_3842719/849445217.py:76: FutureWarning: The frame.append method is deprecated and will be removed from pandas in a future version. Use pandas.concat instead.\n",
      "  df = df.append({\"source_images_idx\": source_idx,\n"
     ]
    },
    {
     "name": "stdout",
     "output_type": "stream",
     "text": [
      "7 91 0 183\n",
      "689\n",
      "7 91 18 0\n",
      "690\n",
      "7 91 18 61\n",
      "691\n"
     ]
    },
    {
     "name": "stderr",
     "output_type": "stream",
     "text": [
      "/tmp/ipykernel_3842719/849445217.py:76: FutureWarning: The frame.append method is deprecated and will be removed from pandas in a future version. Use pandas.concat instead.\n",
      "  df = df.append({\"source_images_idx\": source_idx,\n",
      "/tmp/ipykernel_3842719/849445217.py:76: FutureWarning: The frame.append method is deprecated and will be removed from pandas in a future version. Use pandas.concat instead.\n",
      "  df = df.append({\"source_images_idx\": source_idx,\n",
      "/tmp/ipykernel_3842719/849445217.py:76: FutureWarning: The frame.append method is deprecated and will be removed from pandas in a future version. Use pandas.concat instead.\n",
      "  df = df.append({\"source_images_idx\": source_idx,\n"
     ]
    },
    {
     "name": "stdout",
     "output_type": "stream",
     "text": [
      "7 91 18 122\n",
      "692\n",
      "7 91 18 183\n",
      "693\n",
      "7 91 36 0\n",
      "694\n"
     ]
    },
    {
     "name": "stderr",
     "output_type": "stream",
     "text": [
      "/tmp/ipykernel_3842719/849445217.py:76: FutureWarning: The frame.append method is deprecated and will be removed from pandas in a future version. Use pandas.concat instead.\n",
      "  df = df.append({\"source_images_idx\": source_idx,\n",
      "/tmp/ipykernel_3842719/849445217.py:76: FutureWarning: The frame.append method is deprecated and will be removed from pandas in a future version. Use pandas.concat instead.\n",
      "  df = df.append({\"source_images_idx\": source_idx,\n",
      "/tmp/ipykernel_3842719/849445217.py:76: FutureWarning: The frame.append method is deprecated and will be removed from pandas in a future version. Use pandas.concat instead.\n",
      "  df = df.append({\"source_images_idx\": source_idx,\n"
     ]
    },
    {
     "name": "stdout",
     "output_type": "stream",
     "text": [
      "7 91 36 61\n",
      "695\n",
      "7 91 36 122\n",
      "696\n",
      "7 91 36 183\n",
      "697\n"
     ]
    },
    {
     "name": "stderr",
     "output_type": "stream",
     "text": [
      "/tmp/ipykernel_3842719/849445217.py:76: FutureWarning: The frame.append method is deprecated and will be removed from pandas in a future version. Use pandas.concat instead.\n",
      "  df = df.append({\"source_images_idx\": source_idx,\n",
      "/tmp/ipykernel_3842719/849445217.py:76: FutureWarning: The frame.append method is deprecated and will be removed from pandas in a future version. Use pandas.concat instead.\n",
      "  df = df.append({\"source_images_idx\": source_idx,\n",
      "/tmp/ipykernel_3842719/849445217.py:76: FutureWarning: The frame.append method is deprecated and will be removed from pandas in a future version. Use pandas.concat instead.\n",
      "  df = df.append({\"source_images_idx\": source_idx,\n",
      "/tmp/ipykernel_3842719/849445217.py:76: FutureWarning: The frame.append method is deprecated and will be removed from pandas in a future version. Use pandas.concat instead.\n",
      "  df = df.append({\"source_images_idx\": source_idx,\n",
      "/tmp/ipykernel_3842719/849445217.py:76: FutureWarning: The frame.append method is deprecated and will be removed from pandas in a future version. Use pandas.concat instead.\n",
      "  df = df.append({\"source_images_idx\": source_idx,\n"
     ]
    },
    {
     "name": "stdout",
     "output_type": "stream",
     "text": [
      "7 91 53 0\n",
      "698\n",
      "7 91 53 61\n",
      "699\n",
      "7 91 53 122\n",
      "700\n",
      "7 91 53 183\n",
      "701\n",
      "8 0 0 0\n",
      "702\n"
     ]
    },
    {
     "name": "stderr",
     "output_type": "stream",
     "text": [
      "/tmp/ipykernel_3842719/849445217.py:76: FutureWarning: The frame.append method is deprecated and will be removed from pandas in a future version. Use pandas.concat instead.\n",
      "  df = df.append({\"source_images_idx\": source_idx,\n",
      "/tmp/ipykernel_3842719/849445217.py:76: FutureWarning: The frame.append method is deprecated and will be removed from pandas in a future version. Use pandas.concat instead.\n",
      "  df = df.append({\"source_images_idx\": source_idx,\n",
      "/tmp/ipykernel_3842719/849445217.py:76: FutureWarning: The frame.append method is deprecated and will be removed from pandas in a future version. Use pandas.concat instead.\n",
      "  df = df.append({\"source_images_idx\": source_idx,\n",
      "/tmp/ipykernel_3842719/849445217.py:76: FutureWarning: The frame.append method is deprecated and will be removed from pandas in a future version. Use pandas.concat instead.\n",
      "  df = df.append({\"source_images_idx\": source_idx,\n",
      "/tmp/ipykernel_3842719/849445217.py:76: FutureWarning: The frame.append method is deprecated and will be removed from pandas in a future version. Use pandas.concat instead.\n",
      "  df = df.append({\"source_images_idx\": source_idx,\n"
     ]
    },
    {
     "name": "stdout",
     "output_type": "stream",
     "text": [
      "8 0 0 63\n",
      "703\n",
      "8 0 0 126\n",
      "704\n",
      "8 0 0 188\n",
      "705\n",
      "8 0 19 0\n",
      "706\n",
      "8 0 19 63\n",
      "707\n"
     ]
    },
    {
     "name": "stderr",
     "output_type": "stream",
     "text": [
      "/tmp/ipykernel_3842719/849445217.py:76: FutureWarning: The frame.append method is deprecated and will be removed from pandas in a future version. Use pandas.concat instead.\n",
      "  df = df.append({\"source_images_idx\": source_idx,\n",
      "/tmp/ipykernel_3842719/849445217.py:76: FutureWarning: The frame.append method is deprecated and will be removed from pandas in a future version. Use pandas.concat instead.\n",
      "  df = df.append({\"source_images_idx\": source_idx,\n",
      "/tmp/ipykernel_3842719/849445217.py:76: FutureWarning: The frame.append method is deprecated and will be removed from pandas in a future version. Use pandas.concat instead.\n",
      "  df = df.append({\"source_images_idx\": source_idx,\n",
      "/tmp/ipykernel_3842719/849445217.py:76: FutureWarning: The frame.append method is deprecated and will be removed from pandas in a future version. Use pandas.concat instead.\n",
      "  df = df.append({\"source_images_idx\": source_idx,\n",
      "/tmp/ipykernel_3842719/849445217.py:76: FutureWarning: The frame.append method is deprecated and will be removed from pandas in a future version. Use pandas.concat instead.\n",
      "  df = df.append({\"source_images_idx\": source_idx,\n"
     ]
    },
    {
     "name": "stdout",
     "output_type": "stream",
     "text": [
      "8 0 19 126\n",
      "708\n",
      "8 0 19 188\n",
      "709\n",
      "8 0 38 0\n",
      "710\n",
      "8 0 38 63\n",
      "711\n",
      "8 0 38 126\n",
      "712\n"
     ]
    },
    {
     "name": "stderr",
     "output_type": "stream",
     "text": [
      "/tmp/ipykernel_3842719/849445217.py:76: FutureWarning: The frame.append method is deprecated and will be removed from pandas in a future version. Use pandas.concat instead.\n",
      "  df = df.append({\"source_images_idx\": source_idx,\n",
      "/tmp/ipykernel_3842719/849445217.py:76: FutureWarning: The frame.append method is deprecated and will be removed from pandas in a future version. Use pandas.concat instead.\n",
      "  df = df.append({\"source_images_idx\": source_idx,\n",
      "/tmp/ipykernel_3842719/849445217.py:76: FutureWarning: The frame.append method is deprecated and will be removed from pandas in a future version. Use pandas.concat instead.\n",
      "  df = df.append({\"source_images_idx\": source_idx,\n",
      "/tmp/ipykernel_3842719/849445217.py:76: FutureWarning: The frame.append method is deprecated and will be removed from pandas in a future version. Use pandas.concat instead.\n",
      "  df = df.append({\"source_images_idx\": source_idx,\n",
      "/tmp/ipykernel_3842719/849445217.py:76: FutureWarning: The frame.append method is deprecated and will be removed from pandas in a future version. Use pandas.concat instead.\n",
      "  df = df.append({\"source_images_idx\": source_idx,\n"
     ]
    },
    {
     "name": "stdout",
     "output_type": "stream",
     "text": [
      "8 0 38 188\n",
      "713\n",
      "8 0 57 0\n",
      "714\n",
      "8 0 57 63\n",
      "715\n",
      "8 0 57 126\n",
      "716\n",
      "8 0 57 188\n",
      "717\n"
     ]
    },
    {
     "name": "stderr",
     "output_type": "stream",
     "text": [
      "/tmp/ipykernel_3842719/849445217.py:76: FutureWarning: The frame.append method is deprecated and will be removed from pandas in a future version. Use pandas.concat instead.\n",
      "  df = df.append({\"source_images_idx\": source_idx,\n",
      "/tmp/ipykernel_3842719/849445217.py:76: FutureWarning: The frame.append method is deprecated and will be removed from pandas in a future version. Use pandas.concat instead.\n",
      "  df = df.append({\"source_images_idx\": source_idx,\n",
      "/tmp/ipykernel_3842719/849445217.py:76: FutureWarning: The frame.append method is deprecated and will be removed from pandas in a future version. Use pandas.concat instead.\n",
      "  df = df.append({\"source_images_idx\": source_idx,\n",
      "/tmp/ipykernel_3842719/849445217.py:76: FutureWarning: The frame.append method is deprecated and will be removed from pandas in a future version. Use pandas.concat instead.\n",
      "  df = df.append({\"source_images_idx\": source_idx,\n",
      "/tmp/ipykernel_3842719/849445217.py:76: FutureWarning: The frame.append method is deprecated and will be removed from pandas in a future version. Use pandas.concat instead.\n",
      "  df = df.append({\"source_images_idx\": source_idx,\n"
     ]
    },
    {
     "name": "stdout",
     "output_type": "stream",
     "text": [
      "8 0 58 0\n",
      "718\n",
      "8 0 58 63\n",
      "719\n",
      "8 0 58 126\n",
      "720\n",
      "8 0 58 188\n",
      "721\n",
      "8 35 0 0\n",
      "722\n"
     ]
    },
    {
     "name": "stderr",
     "output_type": "stream",
     "text": [
      "/tmp/ipykernel_3842719/849445217.py:76: FutureWarning: The frame.append method is deprecated and will be removed from pandas in a future version. Use pandas.concat instead.\n",
      "  df = df.append({\"source_images_idx\": source_idx,\n",
      "/tmp/ipykernel_3842719/849445217.py:76: FutureWarning: The frame.append method is deprecated and will be removed from pandas in a future version. Use pandas.concat instead.\n",
      "  df = df.append({\"source_images_idx\": source_idx,\n",
      "/tmp/ipykernel_3842719/849445217.py:76: FutureWarning: The frame.append method is deprecated and will be removed from pandas in a future version. Use pandas.concat instead.\n",
      "  df = df.append({\"source_images_idx\": source_idx,\n",
      "/tmp/ipykernel_3842719/849445217.py:76: FutureWarning: The frame.append method is deprecated and will be removed from pandas in a future version. Use pandas.concat instead.\n",
      "  df = df.append({\"source_images_idx\": source_idx,\n",
      "/tmp/ipykernel_3842719/849445217.py:76: FutureWarning: The frame.append method is deprecated and will be removed from pandas in a future version. Use pandas.concat instead.\n",
      "  df = df.append({\"source_images_idx\": source_idx,\n"
     ]
    },
    {
     "name": "stdout",
     "output_type": "stream",
     "text": [
      "8 35 0 63\n",
      "723\n",
      "8 35 0 126\n",
      "724\n",
      "8 35 0 188\n",
      "725\n",
      "8 35 19 0\n",
      "726\n",
      "8 35 19 63\n",
      "727\n"
     ]
    },
    {
     "name": "stderr",
     "output_type": "stream",
     "text": [
      "/tmp/ipykernel_3842719/849445217.py:76: FutureWarning: The frame.append method is deprecated and will be removed from pandas in a future version. Use pandas.concat instead.\n",
      "  df = df.append({\"source_images_idx\": source_idx,\n",
      "/tmp/ipykernel_3842719/849445217.py:76: FutureWarning: The frame.append method is deprecated and will be removed from pandas in a future version. Use pandas.concat instead.\n",
      "  df = df.append({\"source_images_idx\": source_idx,\n",
      "/tmp/ipykernel_3842719/849445217.py:76: FutureWarning: The frame.append method is deprecated and will be removed from pandas in a future version. Use pandas.concat instead.\n",
      "  df = df.append({\"source_images_idx\": source_idx,\n",
      "/tmp/ipykernel_3842719/849445217.py:76: FutureWarning: The frame.append method is deprecated and will be removed from pandas in a future version. Use pandas.concat instead.\n",
      "  df = df.append({\"source_images_idx\": source_idx,\n",
      "/tmp/ipykernel_3842719/849445217.py:76: FutureWarning: The frame.append method is deprecated and will be removed from pandas in a future version. Use pandas.concat instead.\n",
      "  df = df.append({\"source_images_idx\": source_idx,\n"
     ]
    },
    {
     "name": "stdout",
     "output_type": "stream",
     "text": [
      "8 35 19 126\n",
      "728\n",
      "8 35 19 188\n",
      "729\n",
      "8 35 38 0\n",
      "730\n",
      "8 35 38 63\n",
      "731\n",
      "8 35 38 126\n",
      "732\n"
     ]
    },
    {
     "name": "stderr",
     "output_type": "stream",
     "text": [
      "/tmp/ipykernel_3842719/849445217.py:76: FutureWarning: The frame.append method is deprecated and will be removed from pandas in a future version. Use pandas.concat instead.\n",
      "  df = df.append({\"source_images_idx\": source_idx,\n",
      "/tmp/ipykernel_3842719/849445217.py:76: FutureWarning: The frame.append method is deprecated and will be removed from pandas in a future version. Use pandas.concat instead.\n",
      "  df = df.append({\"source_images_idx\": source_idx,\n",
      "/tmp/ipykernel_3842719/849445217.py:76: FutureWarning: The frame.append method is deprecated and will be removed from pandas in a future version. Use pandas.concat instead.\n",
      "  df = df.append({\"source_images_idx\": source_idx,\n",
      "/tmp/ipykernel_3842719/849445217.py:76: FutureWarning: The frame.append method is deprecated and will be removed from pandas in a future version. Use pandas.concat instead.\n",
      "  df = df.append({\"source_images_idx\": source_idx,\n",
      "/tmp/ipykernel_3842719/849445217.py:76: FutureWarning: The frame.append method is deprecated and will be removed from pandas in a future version. Use pandas.concat instead.\n",
      "  df = df.append({\"source_images_idx\": source_idx,\n"
     ]
    },
    {
     "name": "stdout",
     "output_type": "stream",
     "text": [
      "8 35 38 188\n",
      "733\n",
      "8 35 57 0\n",
      "734\n",
      "8 35 57 63\n",
      "735\n",
      "8 35 57 126\n",
      "736\n",
      "8 35 57 188\n",
      "737\n"
     ]
    },
    {
     "name": "stderr",
     "output_type": "stream",
     "text": [
      "/tmp/ipykernel_3842719/849445217.py:76: FutureWarning: The frame.append method is deprecated and will be removed from pandas in a future version. Use pandas.concat instead.\n",
      "  df = df.append({\"source_images_idx\": source_idx,\n",
      "/tmp/ipykernel_3842719/849445217.py:76: FutureWarning: The frame.append method is deprecated and will be removed from pandas in a future version. Use pandas.concat instead.\n",
      "  df = df.append({\"source_images_idx\": source_idx,\n",
      "/tmp/ipykernel_3842719/849445217.py:76: FutureWarning: The frame.append method is deprecated and will be removed from pandas in a future version. Use pandas.concat instead.\n",
      "  df = df.append({\"source_images_idx\": source_idx,\n",
      "/tmp/ipykernel_3842719/849445217.py:76: FutureWarning: The frame.append method is deprecated and will be removed from pandas in a future version. Use pandas.concat instead.\n",
      "  df = df.append({\"source_images_idx\": source_idx,\n",
      "/tmp/ipykernel_3842719/849445217.py:76: FutureWarning: The frame.append method is deprecated and will be removed from pandas in a future version. Use pandas.concat instead.\n",
      "  df = df.append({\"source_images_idx\": source_idx,\n"
     ]
    },
    {
     "name": "stdout",
     "output_type": "stream",
     "text": [
      "8 35 58 0\n",
      "738\n",
      "8 35 58 63\n",
      "739\n",
      "8 35 58 126\n",
      "740\n",
      "8 35 58 188\n",
      "741\n",
      "8 70 0 0\n",
      "742\n"
     ]
    },
    {
     "name": "stderr",
     "output_type": "stream",
     "text": [
      "/tmp/ipykernel_3842719/849445217.py:76: FutureWarning: The frame.append method is deprecated and will be removed from pandas in a future version. Use pandas.concat instead.\n",
      "  df = df.append({\"source_images_idx\": source_idx,\n",
      "/tmp/ipykernel_3842719/849445217.py:76: FutureWarning: The frame.append method is deprecated and will be removed from pandas in a future version. Use pandas.concat instead.\n",
      "  df = df.append({\"source_images_idx\": source_idx,\n",
      "/tmp/ipykernel_3842719/849445217.py:76: FutureWarning: The frame.append method is deprecated and will be removed from pandas in a future version. Use pandas.concat instead.\n",
      "  df = df.append({\"source_images_idx\": source_idx,\n",
      "/tmp/ipykernel_3842719/849445217.py:76: FutureWarning: The frame.append method is deprecated and will be removed from pandas in a future version. Use pandas.concat instead.\n",
      "  df = df.append({\"source_images_idx\": source_idx,\n",
      "/tmp/ipykernel_3842719/849445217.py:76: FutureWarning: The frame.append method is deprecated and will be removed from pandas in a future version. Use pandas.concat instead.\n",
      "  df = df.append({\"source_images_idx\": source_idx,\n"
     ]
    },
    {
     "name": "stdout",
     "output_type": "stream",
     "text": [
      "8 70 0 63\n",
      "743\n",
      "8 70 0 126\n",
      "744\n",
      "8 70 0 188\n",
      "745\n",
      "8 70 19 0\n",
      "746\n",
      "8 70 19 63\n",
      "747\n"
     ]
    },
    {
     "name": "stderr",
     "output_type": "stream",
     "text": [
      "/tmp/ipykernel_3842719/849445217.py:76: FutureWarning: The frame.append method is deprecated and will be removed from pandas in a future version. Use pandas.concat instead.\n",
      "  df = df.append({\"source_images_idx\": source_idx,\n",
      "/tmp/ipykernel_3842719/849445217.py:76: FutureWarning: The frame.append method is deprecated and will be removed from pandas in a future version. Use pandas.concat instead.\n",
      "  df = df.append({\"source_images_idx\": source_idx,\n",
      "/tmp/ipykernel_3842719/849445217.py:76: FutureWarning: The frame.append method is deprecated and will be removed from pandas in a future version. Use pandas.concat instead.\n",
      "  df = df.append({\"source_images_idx\": source_idx,\n"
     ]
    },
    {
     "name": "stdout",
     "output_type": "stream",
     "text": [
      "8 70 19 126\n",
      "748\n",
      "8 70 19 188\n",
      "749\n",
      "8 70 38 0\n",
      "750\n"
     ]
    },
    {
     "name": "stderr",
     "output_type": "stream",
     "text": [
      "/tmp/ipykernel_3842719/849445217.py:76: FutureWarning: The frame.append method is deprecated and will be removed from pandas in a future version. Use pandas.concat instead.\n",
      "  df = df.append({\"source_images_idx\": source_idx,\n",
      "/tmp/ipykernel_3842719/849445217.py:76: FutureWarning: The frame.append method is deprecated and will be removed from pandas in a future version. Use pandas.concat instead.\n",
      "  df = df.append({\"source_images_idx\": source_idx,\n",
      "/tmp/ipykernel_3842719/849445217.py:76: FutureWarning: The frame.append method is deprecated and will be removed from pandas in a future version. Use pandas.concat instead.\n",
      "  df = df.append({\"source_images_idx\": source_idx,\n"
     ]
    },
    {
     "name": "stdout",
     "output_type": "stream",
     "text": [
      "8 70 38 63\n",
      "751\n",
      "8 70 38 126\n",
      "752\n",
      "8 70 38 188\n",
      "753\n"
     ]
    },
    {
     "name": "stderr",
     "output_type": "stream",
     "text": [
      "/tmp/ipykernel_3842719/849445217.py:76: FutureWarning: The frame.append method is deprecated and will be removed from pandas in a future version. Use pandas.concat instead.\n",
      "  df = df.append({\"source_images_idx\": source_idx,\n",
      "/tmp/ipykernel_3842719/849445217.py:76: FutureWarning: The frame.append method is deprecated and will be removed from pandas in a future version. Use pandas.concat instead.\n",
      "  df = df.append({\"source_images_idx\": source_idx,\n",
      "/tmp/ipykernel_3842719/849445217.py:76: FutureWarning: The frame.append method is deprecated and will be removed from pandas in a future version. Use pandas.concat instead.\n",
      "  df = df.append({\"source_images_idx\": source_idx,\n"
     ]
    },
    {
     "name": "stdout",
     "output_type": "stream",
     "text": [
      "8 70 57 0\n",
      "754\n",
      "8 70 57 63\n",
      "755\n",
      "8 70 57 126\n",
      "756\n"
     ]
    },
    {
     "name": "stderr",
     "output_type": "stream",
     "text": [
      "/tmp/ipykernel_3842719/849445217.py:76: FutureWarning: The frame.append method is deprecated and will be removed from pandas in a future version. Use pandas.concat instead.\n",
      "  df = df.append({\"source_images_idx\": source_idx,\n",
      "/tmp/ipykernel_3842719/849445217.py:76: FutureWarning: The frame.append method is deprecated and will be removed from pandas in a future version. Use pandas.concat instead.\n",
      "  df = df.append({\"source_images_idx\": source_idx,\n",
      "/tmp/ipykernel_3842719/849445217.py:76: FutureWarning: The frame.append method is deprecated and will be removed from pandas in a future version. Use pandas.concat instead.\n",
      "  df = df.append({\"source_images_idx\": source_idx,\n"
     ]
    },
    {
     "name": "stdout",
     "output_type": "stream",
     "text": [
      "8 70 57 188\n",
      "757\n",
      "8 70 58 0\n",
      "758\n",
      "8 70 58 63\n",
      "759\n"
     ]
    },
    {
     "name": "stderr",
     "output_type": "stream",
     "text": [
      "/tmp/ipykernel_3842719/849445217.py:76: FutureWarning: The frame.append method is deprecated and will be removed from pandas in a future version. Use pandas.concat instead.\n",
      "  df = df.append({\"source_images_idx\": source_idx,\n",
      "/tmp/ipykernel_3842719/849445217.py:76: FutureWarning: The frame.append method is deprecated and will be removed from pandas in a future version. Use pandas.concat instead.\n",
      "  df = df.append({\"source_images_idx\": source_idx,\n",
      "/tmp/ipykernel_3842719/849445217.py:76: FutureWarning: The frame.append method is deprecated and will be removed from pandas in a future version. Use pandas.concat instead.\n",
      "  df = df.append({\"source_images_idx\": source_idx,\n"
     ]
    },
    {
     "name": "stdout",
     "output_type": "stream",
     "text": [
      "8 70 58 126\n",
      "760\n",
      "8 70 58 188\n",
      "761\n",
      "8 105 0 0\n",
      "762\n"
     ]
    },
    {
     "name": "stderr",
     "output_type": "stream",
     "text": [
      "/tmp/ipykernel_3842719/849445217.py:76: FutureWarning: The frame.append method is deprecated and will be removed from pandas in a future version. Use pandas.concat instead.\n",
      "  df = df.append({\"source_images_idx\": source_idx,\n",
      "/tmp/ipykernel_3842719/849445217.py:76: FutureWarning: The frame.append method is deprecated and will be removed from pandas in a future version. Use pandas.concat instead.\n",
      "  df = df.append({\"source_images_idx\": source_idx,\n",
      "/tmp/ipykernel_3842719/849445217.py:76: FutureWarning: The frame.append method is deprecated and will be removed from pandas in a future version. Use pandas.concat instead.\n",
      "  df = df.append({\"source_images_idx\": source_idx,\n"
     ]
    },
    {
     "name": "stdout",
     "output_type": "stream",
     "text": [
      "8 105 0 63\n",
      "763\n",
      "8 105 0 126\n",
      "764\n",
      "8 105 0 188\n",
      "765\n"
     ]
    },
    {
     "name": "stderr",
     "output_type": "stream",
     "text": [
      "/tmp/ipykernel_3842719/849445217.py:76: FutureWarning: The frame.append method is deprecated and will be removed from pandas in a future version. Use pandas.concat instead.\n",
      "  df = df.append({\"source_images_idx\": source_idx,\n",
      "/tmp/ipykernel_3842719/849445217.py:76: FutureWarning: The frame.append method is deprecated and will be removed from pandas in a future version. Use pandas.concat instead.\n",
      "  df = df.append({\"source_images_idx\": source_idx,\n",
      "/tmp/ipykernel_3842719/849445217.py:76: FutureWarning: The frame.append method is deprecated and will be removed from pandas in a future version. Use pandas.concat instead.\n",
      "  df = df.append({\"source_images_idx\": source_idx,\n",
      "/tmp/ipykernel_3842719/849445217.py:76: FutureWarning: The frame.append method is deprecated and will be removed from pandas in a future version. Use pandas.concat instead.\n",
      "  df = df.append({\"source_images_idx\": source_idx,\n"
     ]
    },
    {
     "name": "stdout",
     "output_type": "stream",
     "text": [
      "8 105 19 0\n",
      "766\n",
      "8 105 19 63\n",
      "767\n",
      "8 105 19 126\n",
      "768\n",
      "8 105 19 188\n",
      "769\n"
     ]
    },
    {
     "name": "stderr",
     "output_type": "stream",
     "text": [
      "/tmp/ipykernel_3842719/849445217.py:76: FutureWarning: The frame.append method is deprecated and will be removed from pandas in a future version. Use pandas.concat instead.\n",
      "  df = df.append({\"source_images_idx\": source_idx,\n",
      "/tmp/ipykernel_3842719/849445217.py:76: FutureWarning: The frame.append method is deprecated and will be removed from pandas in a future version. Use pandas.concat instead.\n",
      "  df = df.append({\"source_images_idx\": source_idx,\n",
      "/tmp/ipykernel_3842719/849445217.py:76: FutureWarning: The frame.append method is deprecated and will be removed from pandas in a future version. Use pandas.concat instead.\n",
      "  df = df.append({\"source_images_idx\": source_idx,\n",
      "/tmp/ipykernel_3842719/849445217.py:76: FutureWarning: The frame.append method is deprecated and will be removed from pandas in a future version. Use pandas.concat instead.\n",
      "  df = df.append({\"source_images_idx\": source_idx,\n",
      "/tmp/ipykernel_3842719/849445217.py:76: FutureWarning: The frame.append method is deprecated and will be removed from pandas in a future version. Use pandas.concat instead.\n",
      "  df = df.append({\"source_images_idx\": source_idx,\n"
     ]
    },
    {
     "name": "stdout",
     "output_type": "stream",
     "text": [
      "8 105 38 0\n",
      "770\n",
      "8 105 38 63\n",
      "771\n",
      "8 105 38 126\n",
      "772\n",
      "8 105 38 188\n",
      "773\n",
      "8 105 57 0\n",
      "774\n"
     ]
    },
    {
     "name": "stderr",
     "output_type": "stream",
     "text": [
      "/tmp/ipykernel_3842719/849445217.py:76: FutureWarning: The frame.append method is deprecated and will be removed from pandas in a future version. Use pandas.concat instead.\n",
      "  df = df.append({\"source_images_idx\": source_idx,\n",
      "/tmp/ipykernel_3842719/849445217.py:76: FutureWarning: The frame.append method is deprecated and will be removed from pandas in a future version. Use pandas.concat instead.\n",
      "  df = df.append({\"source_images_idx\": source_idx,\n",
      "/tmp/ipykernel_3842719/849445217.py:76: FutureWarning: The frame.append method is deprecated and will be removed from pandas in a future version. Use pandas.concat instead.\n",
      "  df = df.append({\"source_images_idx\": source_idx,\n",
      "/tmp/ipykernel_3842719/849445217.py:76: FutureWarning: The frame.append method is deprecated and will be removed from pandas in a future version. Use pandas.concat instead.\n",
      "  df = df.append({\"source_images_idx\": source_idx,\n",
      "/tmp/ipykernel_3842719/849445217.py:76: FutureWarning: The frame.append method is deprecated and will be removed from pandas in a future version. Use pandas.concat instead.\n",
      "  df = df.append({\"source_images_idx\": source_idx,\n"
     ]
    },
    {
     "name": "stdout",
     "output_type": "stream",
     "text": [
      "8 105 57 63\n",
      "775\n",
      "8 105 57 126\n",
      "776\n",
      "8 105 57 188\n",
      "777\n",
      "8 105 58 0\n",
      "778\n",
      "8 105 58 63\n",
      "779\n"
     ]
    },
    {
     "name": "stderr",
     "output_type": "stream",
     "text": [
      "/tmp/ipykernel_3842719/849445217.py:76: FutureWarning: The frame.append method is deprecated and will be removed from pandas in a future version. Use pandas.concat instead.\n",
      "  df = df.append({\"source_images_idx\": source_idx,\n",
      "/tmp/ipykernel_3842719/849445217.py:76: FutureWarning: The frame.append method is deprecated and will be removed from pandas in a future version. Use pandas.concat instead.\n",
      "  df = df.append({\"source_images_idx\": source_idx,\n",
      "/tmp/ipykernel_3842719/849445217.py:76: FutureWarning: The frame.append method is deprecated and will be removed from pandas in a future version. Use pandas.concat instead.\n",
      "  df = df.append({\"source_images_idx\": source_idx,\n",
      "/tmp/ipykernel_3842719/849445217.py:76: FutureWarning: The frame.append method is deprecated and will be removed from pandas in a future version. Use pandas.concat instead.\n",
      "  df = df.append({\"source_images_idx\": source_idx,\n",
      "/tmp/ipykernel_3842719/849445217.py:76: FutureWarning: The frame.append method is deprecated and will be removed from pandas in a future version. Use pandas.concat instead.\n",
      "  df = df.append({\"source_images_idx\": source_idx,\n"
     ]
    },
    {
     "name": "stdout",
     "output_type": "stream",
     "text": [
      "8 105 58 126\n",
      "780\n",
      "8 105 58 188\n",
      "781\n",
      "8 106 0 0\n",
      "782\n",
      "8 106 0 63\n",
      "783\n",
      "8 106 0 126\n",
      "784\n"
     ]
    },
    {
     "name": "stderr",
     "output_type": "stream",
     "text": [
      "/tmp/ipykernel_3842719/849445217.py:76: FutureWarning: The frame.append method is deprecated and will be removed from pandas in a future version. Use pandas.concat instead.\n",
      "  df = df.append({\"source_images_idx\": source_idx,\n",
      "/tmp/ipykernel_3842719/849445217.py:76: FutureWarning: The frame.append method is deprecated and will be removed from pandas in a future version. Use pandas.concat instead.\n",
      "  df = df.append({\"source_images_idx\": source_idx,\n",
      "/tmp/ipykernel_3842719/849445217.py:76: FutureWarning: The frame.append method is deprecated and will be removed from pandas in a future version. Use pandas.concat instead.\n",
      "  df = df.append({\"source_images_idx\": source_idx,\n",
      "/tmp/ipykernel_3842719/849445217.py:76: FutureWarning: The frame.append method is deprecated and will be removed from pandas in a future version. Use pandas.concat instead.\n",
      "  df = df.append({\"source_images_idx\": source_idx,\n",
      "/tmp/ipykernel_3842719/849445217.py:76: FutureWarning: The frame.append method is deprecated and will be removed from pandas in a future version. Use pandas.concat instead.\n",
      "  df = df.append({\"source_images_idx\": source_idx,\n"
     ]
    },
    {
     "name": "stdout",
     "output_type": "stream",
     "text": [
      "8 106 0 188\n",
      "785\n",
      "8 106 19 0\n",
      "786\n",
      "8 106 19 63\n",
      "787\n",
      "8 106 19 126\n",
      "788\n",
      "8 106 19 188\n",
      "789\n"
     ]
    },
    {
     "name": "stderr",
     "output_type": "stream",
     "text": [
      "/tmp/ipykernel_3842719/849445217.py:76: FutureWarning: The frame.append method is deprecated and will be removed from pandas in a future version. Use pandas.concat instead.\n",
      "  df = df.append({\"source_images_idx\": source_idx,\n",
      "/tmp/ipykernel_3842719/849445217.py:76: FutureWarning: The frame.append method is deprecated and will be removed from pandas in a future version. Use pandas.concat instead.\n",
      "  df = df.append({\"source_images_idx\": source_idx,\n",
      "/tmp/ipykernel_3842719/849445217.py:76: FutureWarning: The frame.append method is deprecated and will be removed from pandas in a future version. Use pandas.concat instead.\n",
      "  df = df.append({\"source_images_idx\": source_idx,\n",
      "/tmp/ipykernel_3842719/849445217.py:76: FutureWarning: The frame.append method is deprecated and will be removed from pandas in a future version. Use pandas.concat instead.\n",
      "  df = df.append({\"source_images_idx\": source_idx,\n",
      "/tmp/ipykernel_3842719/849445217.py:76: FutureWarning: The frame.append method is deprecated and will be removed from pandas in a future version. Use pandas.concat instead.\n",
      "  df = df.append({\"source_images_idx\": source_idx,\n"
     ]
    },
    {
     "name": "stdout",
     "output_type": "stream",
     "text": [
      "8 106 38 0\n",
      "790\n",
      "8 106 38 63\n",
      "791\n",
      "8 106 38 126\n",
      "792\n",
      "8 106 38 188\n",
      "793\n",
      "8 106 57 0\n",
      "794\n"
     ]
    },
    {
     "name": "stderr",
     "output_type": "stream",
     "text": [
      "/tmp/ipykernel_3842719/849445217.py:76: FutureWarning: The frame.append method is deprecated and will be removed from pandas in a future version. Use pandas.concat instead.\n",
      "  df = df.append({\"source_images_idx\": source_idx,\n",
      "/tmp/ipykernel_3842719/849445217.py:76: FutureWarning: The frame.append method is deprecated and will be removed from pandas in a future version. Use pandas.concat instead.\n",
      "  df = df.append({\"source_images_idx\": source_idx,\n",
      "/tmp/ipykernel_3842719/849445217.py:76: FutureWarning: The frame.append method is deprecated and will be removed from pandas in a future version. Use pandas.concat instead.\n",
      "  df = df.append({\"source_images_idx\": source_idx,\n",
      "/tmp/ipykernel_3842719/849445217.py:76: FutureWarning: The frame.append method is deprecated and will be removed from pandas in a future version. Use pandas.concat instead.\n",
      "  df = df.append({\"source_images_idx\": source_idx,\n",
      "/tmp/ipykernel_3842719/849445217.py:76: FutureWarning: The frame.append method is deprecated and will be removed from pandas in a future version. Use pandas.concat instead.\n",
      "  df = df.append({\"source_images_idx\": source_idx,\n"
     ]
    },
    {
     "name": "stdout",
     "output_type": "stream",
     "text": [
      "8 106 57 63\n",
      "795\n",
      "8 106 57 126\n",
      "796\n",
      "8 106 57 188\n",
      "797\n",
      "8 106 58 0\n",
      "798\n",
      "8 106 58 63\n",
      "799\n"
     ]
    },
    {
     "name": "stderr",
     "output_type": "stream",
     "text": [
      "/tmp/ipykernel_3842719/849445217.py:76: FutureWarning: The frame.append method is deprecated and will be removed from pandas in a future version. Use pandas.concat instead.\n",
      "  df = df.append({\"source_images_idx\": source_idx,\n",
      "/tmp/ipykernel_3842719/849445217.py:76: FutureWarning: The frame.append method is deprecated and will be removed from pandas in a future version. Use pandas.concat instead.\n",
      "  df = df.append({\"source_images_idx\": source_idx,\n",
      "/tmp/ipykernel_3842719/849445217.py:76: FutureWarning: The frame.append method is deprecated and will be removed from pandas in a future version. Use pandas.concat instead.\n",
      "  df = df.append({\"source_images_idx\": source_idx,\n",
      "/tmp/ipykernel_3842719/849445217.py:76: FutureWarning: The frame.append method is deprecated and will be removed from pandas in a future version. Use pandas.concat instead.\n",
      "  df = df.append({\"source_images_idx\": source_idx,\n",
      "/tmp/ipykernel_3842719/849445217.py:76: FutureWarning: The frame.append method is deprecated and will be removed from pandas in a future version. Use pandas.concat instead.\n",
      "  df = df.append({\"source_images_idx\": source_idx,\n"
     ]
    },
    {
     "name": "stdout",
     "output_type": "stream",
     "text": [
      "8 106 58 126\n",
      "800\n",
      "8 106 58 188\n",
      "801\n",
      "9 0 0 0\n",
      "802\n",
      "9 0 0 100\n",
      "803\n",
      "9 0 0 200\n",
      "804\n"
     ]
    },
    {
     "name": "stderr",
     "output_type": "stream",
     "text": [
      "/tmp/ipykernel_3842719/849445217.py:76: FutureWarning: The frame.append method is deprecated and will be removed from pandas in a future version. Use pandas.concat instead.\n",
      "  df = df.append({\"source_images_idx\": source_idx,\n",
      "/tmp/ipykernel_3842719/849445217.py:76: FutureWarning: The frame.append method is deprecated and will be removed from pandas in a future version. Use pandas.concat instead.\n",
      "  df = df.append({\"source_images_idx\": source_idx,\n",
      "/tmp/ipykernel_3842719/849445217.py:76: FutureWarning: The frame.append method is deprecated and will be removed from pandas in a future version. Use pandas.concat instead.\n",
      "  df = df.append({\"source_images_idx\": source_idx,\n",
      "/tmp/ipykernel_3842719/849445217.py:76: FutureWarning: The frame.append method is deprecated and will be removed from pandas in a future version. Use pandas.concat instead.\n",
      "  df = df.append({\"source_images_idx\": source_idx,\n",
      "/tmp/ipykernel_3842719/849445217.py:76: FutureWarning: The frame.append method is deprecated and will be removed from pandas in a future version. Use pandas.concat instead.\n",
      "  df = df.append({\"source_images_idx\": source_idx,\n"
     ]
    },
    {
     "name": "stdout",
     "output_type": "stream",
     "text": [
      "9 0 0 300\n",
      "805\n",
      "9 0 0 301\n",
      "806\n",
      "9 0 5 0\n",
      "807\n",
      "9 0 5 100\n",
      "808\n",
      "9 0 5 200\n",
      "809\n"
     ]
    },
    {
     "name": "stderr",
     "output_type": "stream",
     "text": [
      "/tmp/ipykernel_3842719/849445217.py:76: FutureWarning: The frame.append method is deprecated and will be removed from pandas in a future version. Use pandas.concat instead.\n",
      "  df = df.append({\"source_images_idx\": source_idx,\n",
      "/tmp/ipykernel_3842719/849445217.py:76: FutureWarning: The frame.append method is deprecated and will be removed from pandas in a future version. Use pandas.concat instead.\n",
      "  df = df.append({\"source_images_idx\": source_idx,\n",
      "/tmp/ipykernel_3842719/849445217.py:76: FutureWarning: The frame.append method is deprecated and will be removed from pandas in a future version. Use pandas.concat instead.\n",
      "  df = df.append({\"source_images_idx\": source_idx,\n",
      "/tmp/ipykernel_3842719/849445217.py:76: FutureWarning: The frame.append method is deprecated and will be removed from pandas in a future version. Use pandas.concat instead.\n",
      "  df = df.append({\"source_images_idx\": source_idx,\n",
      "/tmp/ipykernel_3842719/849445217.py:76: FutureWarning: The frame.append method is deprecated and will be removed from pandas in a future version. Use pandas.concat instead.\n",
      "  df = df.append({\"source_images_idx\": source_idx,\n"
     ]
    },
    {
     "name": "stdout",
     "output_type": "stream",
     "text": [
      "9 0 5 300\n",
      "810\n",
      "9 0 5 301\n",
      "811\n",
      "9 0 10 0\n",
      "812\n",
      "9 0 10 100\n",
      "813\n",
      "9 0 10 200\n",
      "814\n"
     ]
    },
    {
     "name": "stderr",
     "output_type": "stream",
     "text": [
      "/tmp/ipykernel_3842719/849445217.py:76: FutureWarning: The frame.append method is deprecated and will be removed from pandas in a future version. Use pandas.concat instead.\n",
      "  df = df.append({\"source_images_idx\": source_idx,\n",
      "/tmp/ipykernel_3842719/849445217.py:76: FutureWarning: The frame.append method is deprecated and will be removed from pandas in a future version. Use pandas.concat instead.\n",
      "  df = df.append({\"source_images_idx\": source_idx,\n",
      "/tmp/ipykernel_3842719/849445217.py:76: FutureWarning: The frame.append method is deprecated and will be removed from pandas in a future version. Use pandas.concat instead.\n",
      "  df = df.append({\"source_images_idx\": source_idx,\n",
      "/tmp/ipykernel_3842719/849445217.py:76: FutureWarning: The frame.append method is deprecated and will be removed from pandas in a future version. Use pandas.concat instead.\n",
      "  df = df.append({\"source_images_idx\": source_idx,\n"
     ]
    },
    {
     "name": "stdout",
     "output_type": "stream",
     "text": [
      "9 0 10 300\n",
      "815\n",
      "9 0 10 301\n",
      "816\n",
      "9 0 15 0\n",
      "817\n",
      "9 0 15 100\n",
      "818\n"
     ]
    },
    {
     "name": "stderr",
     "output_type": "stream",
     "text": [
      "/tmp/ipykernel_3842719/849445217.py:76: FutureWarning: The frame.append method is deprecated and will be removed from pandas in a future version. Use pandas.concat instead.\n",
      "  df = df.append({\"source_images_idx\": source_idx,\n",
      "/tmp/ipykernel_3842719/849445217.py:76: FutureWarning: The frame.append method is deprecated and will be removed from pandas in a future version. Use pandas.concat instead.\n",
      "  df = df.append({\"source_images_idx\": source_idx,\n",
      "/tmp/ipykernel_3842719/849445217.py:76: FutureWarning: The frame.append method is deprecated and will be removed from pandas in a future version. Use pandas.concat instead.\n",
      "  df = df.append({\"source_images_idx\": source_idx,\n"
     ]
    },
    {
     "name": "stdout",
     "output_type": "stream",
     "text": [
      "9 0 15 200\n",
      "819\n",
      "9 0 15 300\n",
      "820\n",
      "9 0 15 301\n",
      "821\n"
     ]
    },
    {
     "name": "stderr",
     "output_type": "stream",
     "text": [
      "/tmp/ipykernel_3842719/849445217.py:76: FutureWarning: The frame.append method is deprecated and will be removed from pandas in a future version. Use pandas.concat instead.\n",
      "  df = df.append({\"source_images_idx\": source_idx,\n",
      "/tmp/ipykernel_3842719/849445217.py:76: FutureWarning: The frame.append method is deprecated and will be removed from pandas in a future version. Use pandas.concat instead.\n",
      "  df = df.append({\"source_images_idx\": source_idx,\n",
      "/tmp/ipykernel_3842719/849445217.py:76: FutureWarning: The frame.append method is deprecated and will be removed from pandas in a future version. Use pandas.concat instead.\n",
      "  df = df.append({\"source_images_idx\": source_idx,\n"
     ]
    },
    {
     "name": "stdout",
     "output_type": "stream",
     "text": [
      "9 0 16 0\n",
      "822\n",
      "9 0 16 100\n",
      "823\n",
      "9 0 16 200\n",
      "824\n"
     ]
    },
    {
     "name": "stderr",
     "output_type": "stream",
     "text": [
      "/tmp/ipykernel_3842719/849445217.py:76: FutureWarning: The frame.append method is deprecated and will be removed from pandas in a future version. Use pandas.concat instead.\n",
      "  df = df.append({\"source_images_idx\": source_idx,\n",
      "/tmp/ipykernel_3842719/849445217.py:76: FutureWarning: The frame.append method is deprecated and will be removed from pandas in a future version. Use pandas.concat instead.\n",
      "  df = df.append({\"source_images_idx\": source_idx,\n",
      "/tmp/ipykernel_3842719/849445217.py:76: FutureWarning: The frame.append method is deprecated and will be removed from pandas in a future version. Use pandas.concat instead.\n",
      "  df = df.append({\"source_images_idx\": source_idx,\n"
     ]
    },
    {
     "name": "stdout",
     "output_type": "stream",
     "text": [
      "9 0 16 300\n",
      "825\n",
      "9 0 16 301\n",
      "826\n",
      "9 35 0 0\n",
      "827\n"
     ]
    },
    {
     "name": "stderr",
     "output_type": "stream",
     "text": [
      "/tmp/ipykernel_3842719/849445217.py:76: FutureWarning: The frame.append method is deprecated and will be removed from pandas in a future version. Use pandas.concat instead.\n",
      "  df = df.append({\"source_images_idx\": source_idx,\n",
      "/tmp/ipykernel_3842719/849445217.py:76: FutureWarning: The frame.append method is deprecated and will be removed from pandas in a future version. Use pandas.concat instead.\n",
      "  df = df.append({\"source_images_idx\": source_idx,\n",
      "/tmp/ipykernel_3842719/849445217.py:76: FutureWarning: The frame.append method is deprecated and will be removed from pandas in a future version. Use pandas.concat instead.\n",
      "  df = df.append({\"source_images_idx\": source_idx,\n"
     ]
    },
    {
     "name": "stdout",
     "output_type": "stream",
     "text": [
      "9 35 0 100\n",
      "828\n",
      "9 35 0 200\n",
      "829\n",
      "9 35 0 300\n",
      "830\n"
     ]
    },
    {
     "name": "stderr",
     "output_type": "stream",
     "text": [
      "/tmp/ipykernel_3842719/849445217.py:76: FutureWarning: The frame.append method is deprecated and will be removed from pandas in a future version. Use pandas.concat instead.\n",
      "  df = df.append({\"source_images_idx\": source_idx,\n",
      "/tmp/ipykernel_3842719/849445217.py:76: FutureWarning: The frame.append method is deprecated and will be removed from pandas in a future version. Use pandas.concat instead.\n",
      "  df = df.append({\"source_images_idx\": source_idx,\n",
      "/tmp/ipykernel_3842719/849445217.py:76: FutureWarning: The frame.append method is deprecated and will be removed from pandas in a future version. Use pandas.concat instead.\n",
      "  df = df.append({\"source_images_idx\": source_idx,\n"
     ]
    },
    {
     "name": "stdout",
     "output_type": "stream",
     "text": [
      "9 35 0 301\n",
      "831\n",
      "9 35 5 0\n",
      "832\n",
      "9 35 5 100\n",
      "833\n"
     ]
    },
    {
     "name": "stderr",
     "output_type": "stream",
     "text": [
      "/tmp/ipykernel_3842719/849445217.py:76: FutureWarning: The frame.append method is deprecated and will be removed from pandas in a future version. Use pandas.concat instead.\n",
      "  df = df.append({\"source_images_idx\": source_idx,\n",
      "/tmp/ipykernel_3842719/849445217.py:76: FutureWarning: The frame.append method is deprecated and will be removed from pandas in a future version. Use pandas.concat instead.\n",
      "  df = df.append({\"source_images_idx\": source_idx,\n",
      "/tmp/ipykernel_3842719/849445217.py:76: FutureWarning: The frame.append method is deprecated and will be removed from pandas in a future version. Use pandas.concat instead.\n",
      "  df = df.append({\"source_images_idx\": source_idx,\n"
     ]
    },
    {
     "name": "stdout",
     "output_type": "stream",
     "text": [
      "9 35 5 200\n",
      "834\n",
      "9 35 5 300\n",
      "835\n",
      "9 35 5 301\n",
      "836\n"
     ]
    },
    {
     "name": "stderr",
     "output_type": "stream",
     "text": [
      "/tmp/ipykernel_3842719/849445217.py:76: FutureWarning: The frame.append method is deprecated and will be removed from pandas in a future version. Use pandas.concat instead.\n",
      "  df = df.append({\"source_images_idx\": source_idx,\n",
      "/tmp/ipykernel_3842719/849445217.py:76: FutureWarning: The frame.append method is deprecated and will be removed from pandas in a future version. Use pandas.concat instead.\n",
      "  df = df.append({\"source_images_idx\": source_idx,\n",
      "/tmp/ipykernel_3842719/849445217.py:76: FutureWarning: The frame.append method is deprecated and will be removed from pandas in a future version. Use pandas.concat instead.\n",
      "  df = df.append({\"source_images_idx\": source_idx,\n",
      "/tmp/ipykernel_3842719/849445217.py:76: FutureWarning: The frame.append method is deprecated and will be removed from pandas in a future version. Use pandas.concat instead.\n",
      "  df = df.append({\"source_images_idx\": source_idx,\n",
      "/tmp/ipykernel_3842719/849445217.py:76: FutureWarning: The frame.append method is deprecated and will be removed from pandas in a future version. Use pandas.concat instead.\n",
      "  df = df.append({\"source_images_idx\": source_idx,\n"
     ]
    },
    {
     "name": "stdout",
     "output_type": "stream",
     "text": [
      "9 35 10 0\n",
      "837\n",
      "9 35 10 100\n",
      "838\n",
      "9 35 10 200\n",
      "839\n",
      "9 35 10 300\n",
      "840\n",
      "9 35 10 301\n",
      "841\n"
     ]
    },
    {
     "name": "stderr",
     "output_type": "stream",
     "text": [
      "/tmp/ipykernel_3842719/849445217.py:76: FutureWarning: The frame.append method is deprecated and will be removed from pandas in a future version. Use pandas.concat instead.\n",
      "  df = df.append({\"source_images_idx\": source_idx,\n",
      "/tmp/ipykernel_3842719/849445217.py:76: FutureWarning: The frame.append method is deprecated and will be removed from pandas in a future version. Use pandas.concat instead.\n",
      "  df = df.append({\"source_images_idx\": source_idx,\n",
      "/tmp/ipykernel_3842719/849445217.py:76: FutureWarning: The frame.append method is deprecated and will be removed from pandas in a future version. Use pandas.concat instead.\n",
      "  df = df.append({\"source_images_idx\": source_idx,\n",
      "/tmp/ipykernel_3842719/849445217.py:76: FutureWarning: The frame.append method is deprecated and will be removed from pandas in a future version. Use pandas.concat instead.\n",
      "  df = df.append({\"source_images_idx\": source_idx,\n",
      "/tmp/ipykernel_3842719/849445217.py:76: FutureWarning: The frame.append method is deprecated and will be removed from pandas in a future version. Use pandas.concat instead.\n",
      "  df = df.append({\"source_images_idx\": source_idx,\n"
     ]
    },
    {
     "name": "stdout",
     "output_type": "stream",
     "text": [
      "9 35 15 0\n",
      "842\n",
      "9 35 15 100\n",
      "843\n",
      "9 35 15 200\n",
      "844\n",
      "9 35 15 300\n",
      "845\n",
      "9 35 15 301\n",
      "846\n"
     ]
    },
    {
     "name": "stderr",
     "output_type": "stream",
     "text": [
      "/tmp/ipykernel_3842719/849445217.py:76: FutureWarning: The frame.append method is deprecated and will be removed from pandas in a future version. Use pandas.concat instead.\n",
      "  df = df.append({\"source_images_idx\": source_idx,\n",
      "/tmp/ipykernel_3842719/849445217.py:76: FutureWarning: The frame.append method is deprecated and will be removed from pandas in a future version. Use pandas.concat instead.\n",
      "  df = df.append({\"source_images_idx\": source_idx,\n",
      "/tmp/ipykernel_3842719/849445217.py:76: FutureWarning: The frame.append method is deprecated and will be removed from pandas in a future version. Use pandas.concat instead.\n",
      "  df = df.append({\"source_images_idx\": source_idx,\n",
      "/tmp/ipykernel_3842719/849445217.py:76: FutureWarning: The frame.append method is deprecated and will be removed from pandas in a future version. Use pandas.concat instead.\n",
      "  df = df.append({\"source_images_idx\": source_idx,\n",
      "/tmp/ipykernel_3842719/849445217.py:76: FutureWarning: The frame.append method is deprecated and will be removed from pandas in a future version. Use pandas.concat instead.\n",
      "  df = df.append({\"source_images_idx\": source_idx,\n"
     ]
    },
    {
     "name": "stdout",
     "output_type": "stream",
     "text": [
      "9 35 16 0\n",
      "847\n",
      "9 35 16 100\n",
      "848\n",
      "9 35 16 200\n",
      "849\n",
      "9 35 16 300\n",
      "850\n",
      "9 35 16 301\n",
      "851\n"
     ]
    },
    {
     "name": "stderr",
     "output_type": "stream",
     "text": [
      "/tmp/ipykernel_3842719/849445217.py:76: FutureWarning: The frame.append method is deprecated and will be removed from pandas in a future version. Use pandas.concat instead.\n",
      "  df = df.append({\"source_images_idx\": source_idx,\n",
      "/tmp/ipykernel_3842719/849445217.py:76: FutureWarning: The frame.append method is deprecated and will be removed from pandas in a future version. Use pandas.concat instead.\n",
      "  df = df.append({\"source_images_idx\": source_idx,\n",
      "/tmp/ipykernel_3842719/849445217.py:76: FutureWarning: The frame.append method is deprecated and will be removed from pandas in a future version. Use pandas.concat instead.\n",
      "  df = df.append({\"source_images_idx\": source_idx,\n",
      "/tmp/ipykernel_3842719/849445217.py:76: FutureWarning: The frame.append method is deprecated and will be removed from pandas in a future version. Use pandas.concat instead.\n",
      "  df = df.append({\"source_images_idx\": source_idx,\n",
      "/tmp/ipykernel_3842719/849445217.py:76: FutureWarning: The frame.append method is deprecated and will be removed from pandas in a future version. Use pandas.concat instead.\n",
      "  df = df.append({\"source_images_idx\": source_idx,\n"
     ]
    },
    {
     "name": "stdout",
     "output_type": "stream",
     "text": [
      "9 70 0 0\n",
      "852\n",
      "9 70 0 100\n",
      "853\n",
      "9 70 0 200\n",
      "854\n",
      "9 70 0 300\n",
      "855\n",
      "9 70 0 301\n",
      "856\n"
     ]
    },
    {
     "name": "stderr",
     "output_type": "stream",
     "text": [
      "/tmp/ipykernel_3842719/849445217.py:76: FutureWarning: The frame.append method is deprecated and will be removed from pandas in a future version. Use pandas.concat instead.\n",
      "  df = df.append({\"source_images_idx\": source_idx,\n",
      "/tmp/ipykernel_3842719/849445217.py:76: FutureWarning: The frame.append method is deprecated and will be removed from pandas in a future version. Use pandas.concat instead.\n",
      "  df = df.append({\"source_images_idx\": source_idx,\n",
      "/tmp/ipykernel_3842719/849445217.py:76: FutureWarning: The frame.append method is deprecated and will be removed from pandas in a future version. Use pandas.concat instead.\n",
      "  df = df.append({\"source_images_idx\": source_idx,\n",
      "/tmp/ipykernel_3842719/849445217.py:76: FutureWarning: The frame.append method is deprecated and will be removed from pandas in a future version. Use pandas.concat instead.\n",
      "  df = df.append({\"source_images_idx\": source_idx,\n",
      "/tmp/ipykernel_3842719/849445217.py:76: FutureWarning: The frame.append method is deprecated and will be removed from pandas in a future version. Use pandas.concat instead.\n",
      "  df = df.append({\"source_images_idx\": source_idx,\n"
     ]
    },
    {
     "name": "stdout",
     "output_type": "stream",
     "text": [
      "9 70 5 0\n",
      "857\n",
      "9 70 5 100\n",
      "858\n",
      "9 70 5 200\n",
      "859\n",
      "9 70 5 300\n",
      "860\n",
      "9 70 5 301\n",
      "861\n"
     ]
    },
    {
     "name": "stderr",
     "output_type": "stream",
     "text": [
      "/tmp/ipykernel_3842719/849445217.py:76: FutureWarning: The frame.append method is deprecated and will be removed from pandas in a future version. Use pandas.concat instead.\n",
      "  df = df.append({\"source_images_idx\": source_idx,\n",
      "/tmp/ipykernel_3842719/849445217.py:76: FutureWarning: The frame.append method is deprecated and will be removed from pandas in a future version. Use pandas.concat instead.\n",
      "  df = df.append({\"source_images_idx\": source_idx,\n",
      "/tmp/ipykernel_3842719/849445217.py:76: FutureWarning: The frame.append method is deprecated and will be removed from pandas in a future version. Use pandas.concat instead.\n",
      "  df = df.append({\"source_images_idx\": source_idx,\n",
      "/tmp/ipykernel_3842719/849445217.py:76: FutureWarning: The frame.append method is deprecated and will be removed from pandas in a future version. Use pandas.concat instead.\n",
      "  df = df.append({\"source_images_idx\": source_idx,\n",
      "/tmp/ipykernel_3842719/849445217.py:76: FutureWarning: The frame.append method is deprecated and will be removed from pandas in a future version. Use pandas.concat instead.\n",
      "  df = df.append({\"source_images_idx\": source_idx,\n"
     ]
    },
    {
     "name": "stdout",
     "output_type": "stream",
     "text": [
      "9 70 10 0\n",
      "862\n",
      "9 70 10 100\n",
      "863\n",
      "9 70 10 200\n",
      "864\n",
      "9 70 10 300\n",
      "865\n",
      "9 70 10 301\n",
      "866\n"
     ]
    },
    {
     "name": "stderr",
     "output_type": "stream",
     "text": [
      "/tmp/ipykernel_3842719/849445217.py:76: FutureWarning: The frame.append method is deprecated and will be removed from pandas in a future version. Use pandas.concat instead.\n",
      "  df = df.append({\"source_images_idx\": source_idx,\n",
      "/tmp/ipykernel_3842719/849445217.py:76: FutureWarning: The frame.append method is deprecated and will be removed from pandas in a future version. Use pandas.concat instead.\n",
      "  df = df.append({\"source_images_idx\": source_idx,\n",
      "/tmp/ipykernel_3842719/849445217.py:76: FutureWarning: The frame.append method is deprecated and will be removed from pandas in a future version. Use pandas.concat instead.\n",
      "  df = df.append({\"source_images_idx\": source_idx,\n",
      "/tmp/ipykernel_3842719/849445217.py:76: FutureWarning: The frame.append method is deprecated and will be removed from pandas in a future version. Use pandas.concat instead.\n",
      "  df = df.append({\"source_images_idx\": source_idx,\n",
      "/tmp/ipykernel_3842719/849445217.py:76: FutureWarning: The frame.append method is deprecated and will be removed from pandas in a future version. Use pandas.concat instead.\n",
      "  df = df.append({\"source_images_idx\": source_idx,\n"
     ]
    },
    {
     "name": "stdout",
     "output_type": "stream",
     "text": [
      "9 70 15 0\n",
      "867\n",
      "9 70 15 100\n",
      "868\n",
      "9 70 15 200\n",
      "869\n",
      "9 70 15 300\n",
      "870\n",
      "9 70 15 301\n",
      "871\n"
     ]
    },
    {
     "name": "stderr",
     "output_type": "stream",
     "text": [
      "/tmp/ipykernel_3842719/849445217.py:76: FutureWarning: The frame.append method is deprecated and will be removed from pandas in a future version. Use pandas.concat instead.\n",
      "  df = df.append({\"source_images_idx\": source_idx,\n",
      "/tmp/ipykernel_3842719/849445217.py:76: FutureWarning: The frame.append method is deprecated and will be removed from pandas in a future version. Use pandas.concat instead.\n",
      "  df = df.append({\"source_images_idx\": source_idx,\n",
      "/tmp/ipykernel_3842719/849445217.py:76: FutureWarning: The frame.append method is deprecated and will be removed from pandas in a future version. Use pandas.concat instead.\n",
      "  df = df.append({\"source_images_idx\": source_idx,\n",
      "/tmp/ipykernel_3842719/849445217.py:76: FutureWarning: The frame.append method is deprecated and will be removed from pandas in a future version. Use pandas.concat instead.\n",
      "  df = df.append({\"source_images_idx\": source_idx,\n",
      "/tmp/ipykernel_3842719/849445217.py:76: FutureWarning: The frame.append method is deprecated and will be removed from pandas in a future version. Use pandas.concat instead.\n",
      "  df = df.append({\"source_images_idx\": source_idx,\n"
     ]
    },
    {
     "name": "stdout",
     "output_type": "stream",
     "text": [
      "9 70 16 0\n",
      "872\n",
      "9 70 16 100\n",
      "873\n",
      "9 70 16 200\n",
      "874\n",
      "9 70 16 300\n",
      "875\n",
      "9 70 16 301\n",
      "876\n"
     ]
    },
    {
     "name": "stderr",
     "output_type": "stream",
     "text": [
      "/tmp/ipykernel_3842719/849445217.py:76: FutureWarning: The frame.append method is deprecated and will be removed from pandas in a future version. Use pandas.concat instead.\n",
      "  df = df.append({\"source_images_idx\": source_idx,\n",
      "/tmp/ipykernel_3842719/849445217.py:76: FutureWarning: The frame.append method is deprecated and will be removed from pandas in a future version. Use pandas.concat instead.\n",
      "  df = df.append({\"source_images_idx\": source_idx,\n",
      "/tmp/ipykernel_3842719/849445217.py:76: FutureWarning: The frame.append method is deprecated and will be removed from pandas in a future version. Use pandas.concat instead.\n",
      "  df = df.append({\"source_images_idx\": source_idx,\n",
      "/tmp/ipykernel_3842719/849445217.py:76: FutureWarning: The frame.append method is deprecated and will be removed from pandas in a future version. Use pandas.concat instead.\n",
      "  df = df.append({\"source_images_idx\": source_idx,\n",
      "/tmp/ipykernel_3842719/849445217.py:76: FutureWarning: The frame.append method is deprecated and will be removed from pandas in a future version. Use pandas.concat instead.\n",
      "  df = df.append({\"source_images_idx\": source_idx,\n"
     ]
    },
    {
     "name": "stdout",
     "output_type": "stream",
     "text": [
      "9 105 0 0\n",
      "877\n",
      "9 105 0 100\n",
      "878\n",
      "9 105 0 200\n",
      "879\n",
      "9 105 0 300\n",
      "880\n",
      "9 105 0 301\n",
      "881\n"
     ]
    },
    {
     "name": "stderr",
     "output_type": "stream",
     "text": [
      "/tmp/ipykernel_3842719/849445217.py:76: FutureWarning: The frame.append method is deprecated and will be removed from pandas in a future version. Use pandas.concat instead.\n",
      "  df = df.append({\"source_images_idx\": source_idx,\n",
      "/tmp/ipykernel_3842719/849445217.py:76: FutureWarning: The frame.append method is deprecated and will be removed from pandas in a future version. Use pandas.concat instead.\n",
      "  df = df.append({\"source_images_idx\": source_idx,\n",
      "/tmp/ipykernel_3842719/849445217.py:76: FutureWarning: The frame.append method is deprecated and will be removed from pandas in a future version. Use pandas.concat instead.\n",
      "  df = df.append({\"source_images_idx\": source_idx,\n",
      "/tmp/ipykernel_3842719/849445217.py:76: FutureWarning: The frame.append method is deprecated and will be removed from pandas in a future version. Use pandas.concat instead.\n",
      "  df = df.append({\"source_images_idx\": source_idx,\n",
      "/tmp/ipykernel_3842719/849445217.py:76: FutureWarning: The frame.append method is deprecated and will be removed from pandas in a future version. Use pandas.concat instead.\n",
      "  df = df.append({\"source_images_idx\": source_idx,\n"
     ]
    },
    {
     "name": "stdout",
     "output_type": "stream",
     "text": [
      "9 105 5 0\n",
      "882\n",
      "9 105 5 100\n",
      "883\n",
      "9 105 5 200\n",
      "884\n",
      "9 105 5 300\n",
      "885\n",
      "9 105 5 301\n",
      "886\n"
     ]
    },
    {
     "name": "stderr",
     "output_type": "stream",
     "text": [
      "/tmp/ipykernel_3842719/849445217.py:76: FutureWarning: The frame.append method is deprecated and will be removed from pandas in a future version. Use pandas.concat instead.\n",
      "  df = df.append({\"source_images_idx\": source_idx,\n",
      "/tmp/ipykernel_3842719/849445217.py:76: FutureWarning: The frame.append method is deprecated and will be removed from pandas in a future version. Use pandas.concat instead.\n",
      "  df = df.append({\"source_images_idx\": source_idx,\n",
      "/tmp/ipykernel_3842719/849445217.py:76: FutureWarning: The frame.append method is deprecated and will be removed from pandas in a future version. Use pandas.concat instead.\n",
      "  df = df.append({\"source_images_idx\": source_idx,\n",
      "/tmp/ipykernel_3842719/849445217.py:76: FutureWarning: The frame.append method is deprecated and will be removed from pandas in a future version. Use pandas.concat instead.\n",
      "  df = df.append({\"source_images_idx\": source_idx,\n",
      "/tmp/ipykernel_3842719/849445217.py:76: FutureWarning: The frame.append method is deprecated and will be removed from pandas in a future version. Use pandas.concat instead.\n",
      "  df = df.append({\"source_images_idx\": source_idx,\n"
     ]
    },
    {
     "name": "stdout",
     "output_type": "stream",
     "text": [
      "9 105 10 0\n",
      "887\n",
      "9 105 10 100\n",
      "888\n",
      "9 105 10 200\n",
      "889\n",
      "9 105 10 300\n",
      "890\n",
      "9 105 10 301\n",
      "891\n"
     ]
    },
    {
     "name": "stderr",
     "output_type": "stream",
     "text": [
      "/tmp/ipykernel_3842719/849445217.py:76: FutureWarning: The frame.append method is deprecated and will be removed from pandas in a future version. Use pandas.concat instead.\n",
      "  df = df.append({\"source_images_idx\": source_idx,\n",
      "/tmp/ipykernel_3842719/849445217.py:76: FutureWarning: The frame.append method is deprecated and will be removed from pandas in a future version. Use pandas.concat instead.\n",
      "  df = df.append({\"source_images_idx\": source_idx,\n",
      "/tmp/ipykernel_3842719/849445217.py:76: FutureWarning: The frame.append method is deprecated and will be removed from pandas in a future version. Use pandas.concat instead.\n",
      "  df = df.append({\"source_images_idx\": source_idx,\n"
     ]
    },
    {
     "name": "stdout",
     "output_type": "stream",
     "text": [
      "9 105 15 0\n",
      "892\n",
      "9 105 15 100\n",
      "893\n",
      "9 105 15 200\n",
      "894\n"
     ]
    },
    {
     "name": "stderr",
     "output_type": "stream",
     "text": [
      "/tmp/ipykernel_3842719/849445217.py:76: FutureWarning: The frame.append method is deprecated and will be removed from pandas in a future version. Use pandas.concat instead.\n",
      "  df = df.append({\"source_images_idx\": source_idx,\n",
      "/tmp/ipykernel_3842719/849445217.py:76: FutureWarning: The frame.append method is deprecated and will be removed from pandas in a future version. Use pandas.concat instead.\n",
      "  df = df.append({\"source_images_idx\": source_idx,\n",
      "/tmp/ipykernel_3842719/849445217.py:76: FutureWarning: The frame.append method is deprecated and will be removed from pandas in a future version. Use pandas.concat instead.\n",
      "  df = df.append({\"source_images_idx\": source_idx,\n"
     ]
    },
    {
     "name": "stdout",
     "output_type": "stream",
     "text": [
      "9 105 15 300\n",
      "895\n",
      "9 105 15 301\n",
      "896\n",
      "9 105 16 0\n",
      "897\n"
     ]
    },
    {
     "name": "stderr",
     "output_type": "stream",
     "text": [
      "/tmp/ipykernel_3842719/849445217.py:76: FutureWarning: The frame.append method is deprecated and will be removed from pandas in a future version. Use pandas.concat instead.\n",
      "  df = df.append({\"source_images_idx\": source_idx,\n",
      "/tmp/ipykernel_3842719/849445217.py:76: FutureWarning: The frame.append method is deprecated and will be removed from pandas in a future version. Use pandas.concat instead.\n",
      "  df = df.append({\"source_images_idx\": source_idx,\n",
      "/tmp/ipykernel_3842719/849445217.py:76: FutureWarning: The frame.append method is deprecated and will be removed from pandas in a future version. Use pandas.concat instead.\n",
      "  df = df.append({\"source_images_idx\": source_idx,\n"
     ]
    },
    {
     "name": "stdout",
     "output_type": "stream",
     "text": [
      "9 105 16 100\n",
      "898\n",
      "9 105 16 200\n",
      "899\n",
      "9 105 16 300\n",
      "900\n"
     ]
    },
    {
     "name": "stderr",
     "output_type": "stream",
     "text": [
      "/tmp/ipykernel_3842719/849445217.py:76: FutureWarning: The frame.append method is deprecated and will be removed from pandas in a future version. Use pandas.concat instead.\n",
      "  df = df.append({\"source_images_idx\": source_idx,\n",
      "/tmp/ipykernel_3842719/849445217.py:76: FutureWarning: The frame.append method is deprecated and will be removed from pandas in a future version. Use pandas.concat instead.\n",
      "  df = df.append({\"source_images_idx\": source_idx,\n",
      "/tmp/ipykernel_3842719/849445217.py:76: FutureWarning: The frame.append method is deprecated and will be removed from pandas in a future version. Use pandas.concat instead.\n",
      "  df = df.append({\"source_images_idx\": source_idx,\n"
     ]
    },
    {
     "name": "stdout",
     "output_type": "stream",
     "text": [
      "9 105 16 301\n",
      "901\n",
      "10 0 0 0\n",
      "902\n",
      "10 0 0 95\n",
      "903\n"
     ]
    },
    {
     "name": "stderr",
     "output_type": "stream",
     "text": [
      "/tmp/ipykernel_3842719/849445217.py:76: FutureWarning: The frame.append method is deprecated and will be removed from pandas in a future version. Use pandas.concat instead.\n",
      "  df = df.append({\"source_images_idx\": source_idx,\n",
      "/tmp/ipykernel_3842719/849445217.py:76: FutureWarning: The frame.append method is deprecated and will be removed from pandas in a future version. Use pandas.concat instead.\n",
      "  df = df.append({\"source_images_idx\": source_idx,\n",
      "/tmp/ipykernel_3842719/849445217.py:76: FutureWarning: The frame.append method is deprecated and will be removed from pandas in a future version. Use pandas.concat instead.\n",
      "  df = df.append({\"source_images_idx\": source_idx,\n"
     ]
    },
    {
     "name": "stdout",
     "output_type": "stream",
     "text": [
      "10 0 0 190\n",
      "904\n",
      "10 0 0 284\n",
      "905\n",
      "10 0 10 0\n",
      "906\n"
     ]
    },
    {
     "name": "stderr",
     "output_type": "stream",
     "text": [
      "/tmp/ipykernel_3842719/849445217.py:76: FutureWarning: The frame.append method is deprecated and will be removed from pandas in a future version. Use pandas.concat instead.\n",
      "  df = df.append({\"source_images_idx\": source_idx,\n",
      "/tmp/ipykernel_3842719/849445217.py:76: FutureWarning: The frame.append method is deprecated and will be removed from pandas in a future version. Use pandas.concat instead.\n",
      "  df = df.append({\"source_images_idx\": source_idx,\n",
      "/tmp/ipykernel_3842719/849445217.py:76: FutureWarning: The frame.append method is deprecated and will be removed from pandas in a future version. Use pandas.concat instead.\n",
      "  df = df.append({\"source_images_idx\": source_idx,\n"
     ]
    },
    {
     "name": "stdout",
     "output_type": "stream",
     "text": [
      "10 0 10 95\n",
      "907\n",
      "10 0 10 190\n",
      "908\n",
      "10 0 10 284\n",
      "909\n"
     ]
    },
    {
     "name": "stderr",
     "output_type": "stream",
     "text": [
      "/tmp/ipykernel_3842719/849445217.py:76: FutureWarning: The frame.append method is deprecated and will be removed from pandas in a future version. Use pandas.concat instead.\n",
      "  df = df.append({\"source_images_idx\": source_idx,\n",
      "/tmp/ipykernel_3842719/849445217.py:76: FutureWarning: The frame.append method is deprecated and will be removed from pandas in a future version. Use pandas.concat instead.\n",
      "  df = df.append({\"source_images_idx\": source_idx,\n",
      "/tmp/ipykernel_3842719/849445217.py:76: FutureWarning: The frame.append method is deprecated and will be removed from pandas in a future version. Use pandas.concat instead.\n",
      "  df = df.append({\"source_images_idx\": source_idx,\n",
      "/tmp/ipykernel_3842719/849445217.py:76: FutureWarning: The frame.append method is deprecated and will be removed from pandas in a future version. Use pandas.concat instead.\n",
      "  df = df.append({\"source_images_idx\": source_idx,\n",
      "/tmp/ipykernel_3842719/849445217.py:76: FutureWarning: The frame.append method is deprecated and will be removed from pandas in a future version. Use pandas.concat instead.\n",
      "  df = df.append({\"source_images_idx\": source_idx,\n"
     ]
    },
    {
     "name": "stdout",
     "output_type": "stream",
     "text": [
      "10 0 20 0\n",
      "910\n",
      "10 0 20 95\n",
      "911\n",
      "10 0 20 190\n",
      "912\n",
      "10 0 20 284\n",
      "913\n",
      "10 0 30 0\n",
      "914\n"
     ]
    },
    {
     "name": "stderr",
     "output_type": "stream",
     "text": [
      "/tmp/ipykernel_3842719/849445217.py:76: FutureWarning: The frame.append method is deprecated and will be removed from pandas in a future version. Use pandas.concat instead.\n",
      "  df = df.append({\"source_images_idx\": source_idx,\n",
      "/tmp/ipykernel_3842719/849445217.py:76: FutureWarning: The frame.append method is deprecated and will be removed from pandas in a future version. Use pandas.concat instead.\n",
      "  df = df.append({\"source_images_idx\": source_idx,\n",
      "/tmp/ipykernel_3842719/849445217.py:76: FutureWarning: The frame.append method is deprecated and will be removed from pandas in a future version. Use pandas.concat instead.\n",
      "  df = df.append({\"source_images_idx\": source_idx,\n",
      "/tmp/ipykernel_3842719/849445217.py:76: FutureWarning: The frame.append method is deprecated and will be removed from pandas in a future version. Use pandas.concat instead.\n",
      "  df = df.append({\"source_images_idx\": source_idx,\n",
      "/tmp/ipykernel_3842719/849445217.py:76: FutureWarning: The frame.append method is deprecated and will be removed from pandas in a future version. Use pandas.concat instead.\n",
      "  df = df.append({\"source_images_idx\": source_idx,\n"
     ]
    },
    {
     "name": "stdout",
     "output_type": "stream",
     "text": [
      "10 0 30 95\n",
      "915\n",
      "10 0 30 190\n",
      "916\n",
      "10 0 30 284\n",
      "917\n",
      "10 33 0 0\n",
      "918\n",
      "10 33 0 95\n",
      "919\n"
     ]
    },
    {
     "name": "stderr",
     "output_type": "stream",
     "text": [
      "/tmp/ipykernel_3842719/849445217.py:76: FutureWarning: The frame.append method is deprecated and will be removed from pandas in a future version. Use pandas.concat instead.\n",
      "  df = df.append({\"source_images_idx\": source_idx,\n",
      "/tmp/ipykernel_3842719/849445217.py:76: FutureWarning: The frame.append method is deprecated and will be removed from pandas in a future version. Use pandas.concat instead.\n",
      "  df = df.append({\"source_images_idx\": source_idx,\n",
      "/tmp/ipykernel_3842719/849445217.py:76: FutureWarning: The frame.append method is deprecated and will be removed from pandas in a future version. Use pandas.concat instead.\n",
      "  df = df.append({\"source_images_idx\": source_idx,\n",
      "/tmp/ipykernel_3842719/849445217.py:76: FutureWarning: The frame.append method is deprecated and will be removed from pandas in a future version. Use pandas.concat instead.\n",
      "  df = df.append({\"source_images_idx\": source_idx,\n",
      "/tmp/ipykernel_3842719/849445217.py:76: FutureWarning: The frame.append method is deprecated and will be removed from pandas in a future version. Use pandas.concat instead.\n",
      "  df = df.append({\"source_images_idx\": source_idx,\n"
     ]
    },
    {
     "name": "stdout",
     "output_type": "stream",
     "text": [
      "10 33 0 190\n",
      "920\n",
      "10 33 0 284\n",
      "921\n",
      "10 33 10 0\n",
      "922\n",
      "10 33 10 95\n",
      "923\n",
      "10 33 10 190\n",
      "924\n"
     ]
    },
    {
     "name": "stderr",
     "output_type": "stream",
     "text": [
      "/tmp/ipykernel_3842719/849445217.py:76: FutureWarning: The frame.append method is deprecated and will be removed from pandas in a future version. Use pandas.concat instead.\n",
      "  df = df.append({\"source_images_idx\": source_idx,\n",
      "/tmp/ipykernel_3842719/849445217.py:76: FutureWarning: The frame.append method is deprecated and will be removed from pandas in a future version. Use pandas.concat instead.\n",
      "  df = df.append({\"source_images_idx\": source_idx,\n",
      "/tmp/ipykernel_3842719/849445217.py:76: FutureWarning: The frame.append method is deprecated and will be removed from pandas in a future version. Use pandas.concat instead.\n",
      "  df = df.append({\"source_images_idx\": source_idx,\n",
      "/tmp/ipykernel_3842719/849445217.py:76: FutureWarning: The frame.append method is deprecated and will be removed from pandas in a future version. Use pandas.concat instead.\n",
      "  df = df.append({\"source_images_idx\": source_idx,\n",
      "/tmp/ipykernel_3842719/849445217.py:76: FutureWarning: The frame.append method is deprecated and will be removed from pandas in a future version. Use pandas.concat instead.\n",
      "  df = df.append({\"source_images_idx\": source_idx,\n"
     ]
    },
    {
     "name": "stdout",
     "output_type": "stream",
     "text": [
      "10 33 10 284\n",
      "925\n",
      "10 33 20 0\n",
      "926\n",
      "10 33 20 95\n",
      "927\n",
      "10 33 20 190\n",
      "928\n",
      "10 33 20 284\n",
      "929\n"
     ]
    },
    {
     "name": "stderr",
     "output_type": "stream",
     "text": [
      "/tmp/ipykernel_3842719/849445217.py:76: FutureWarning: The frame.append method is deprecated and will be removed from pandas in a future version. Use pandas.concat instead.\n",
      "  df = df.append({\"source_images_idx\": source_idx,\n",
      "/tmp/ipykernel_3842719/849445217.py:76: FutureWarning: The frame.append method is deprecated and will be removed from pandas in a future version. Use pandas.concat instead.\n",
      "  df = df.append({\"source_images_idx\": source_idx,\n",
      "/tmp/ipykernel_3842719/849445217.py:76: FutureWarning: The frame.append method is deprecated and will be removed from pandas in a future version. Use pandas.concat instead.\n",
      "  df = df.append({\"source_images_idx\": source_idx,\n",
      "/tmp/ipykernel_3842719/849445217.py:76: FutureWarning: The frame.append method is deprecated and will be removed from pandas in a future version. Use pandas.concat instead.\n",
      "  df = df.append({\"source_images_idx\": source_idx,\n",
      "/tmp/ipykernel_3842719/849445217.py:76: FutureWarning: The frame.append method is deprecated and will be removed from pandas in a future version. Use pandas.concat instead.\n",
      "  df = df.append({\"source_images_idx\": source_idx,\n"
     ]
    },
    {
     "name": "stdout",
     "output_type": "stream",
     "text": [
      "10 33 30 0\n",
      "930\n",
      "10 33 30 95\n",
      "931\n",
      "10 33 30 190\n",
      "932\n",
      "10 33 30 284\n",
      "933\n",
      "10 66 0 0\n",
      "934\n"
     ]
    },
    {
     "name": "stderr",
     "output_type": "stream",
     "text": [
      "/tmp/ipykernel_3842719/849445217.py:76: FutureWarning: The frame.append method is deprecated and will be removed from pandas in a future version. Use pandas.concat instead.\n",
      "  df = df.append({\"source_images_idx\": source_idx,\n",
      "/tmp/ipykernel_3842719/849445217.py:76: FutureWarning: The frame.append method is deprecated and will be removed from pandas in a future version. Use pandas.concat instead.\n",
      "  df = df.append({\"source_images_idx\": source_idx,\n",
      "/tmp/ipykernel_3842719/849445217.py:76: FutureWarning: The frame.append method is deprecated and will be removed from pandas in a future version. Use pandas.concat instead.\n",
      "  df = df.append({\"source_images_idx\": source_idx,\n",
      "/tmp/ipykernel_3842719/849445217.py:76: FutureWarning: The frame.append method is deprecated and will be removed from pandas in a future version. Use pandas.concat instead.\n",
      "  df = df.append({\"source_images_idx\": source_idx,\n",
      "/tmp/ipykernel_3842719/849445217.py:76: FutureWarning: The frame.append method is deprecated and will be removed from pandas in a future version. Use pandas.concat instead.\n",
      "  df = df.append({\"source_images_idx\": source_idx,\n"
     ]
    },
    {
     "name": "stdout",
     "output_type": "stream",
     "text": [
      "10 66 0 95\n",
      "935\n",
      "10 66 0 190\n",
      "936\n",
      "10 66 0 284\n",
      "937\n",
      "10 66 10 0\n",
      "938\n",
      "10 66 10 95\n",
      "939\n"
     ]
    },
    {
     "name": "stderr",
     "output_type": "stream",
     "text": [
      "/tmp/ipykernel_3842719/849445217.py:76: FutureWarning: The frame.append method is deprecated and will be removed from pandas in a future version. Use pandas.concat instead.\n",
      "  df = df.append({\"source_images_idx\": source_idx,\n",
      "/tmp/ipykernel_3842719/849445217.py:76: FutureWarning: The frame.append method is deprecated and will be removed from pandas in a future version. Use pandas.concat instead.\n",
      "  df = df.append({\"source_images_idx\": source_idx,\n",
      "/tmp/ipykernel_3842719/849445217.py:76: FutureWarning: The frame.append method is deprecated and will be removed from pandas in a future version. Use pandas.concat instead.\n",
      "  df = df.append({\"source_images_idx\": source_idx,\n",
      "/tmp/ipykernel_3842719/849445217.py:76: FutureWarning: The frame.append method is deprecated and will be removed from pandas in a future version. Use pandas.concat instead.\n",
      "  df = df.append({\"source_images_idx\": source_idx,\n",
      "/tmp/ipykernel_3842719/849445217.py:76: FutureWarning: The frame.append method is deprecated and will be removed from pandas in a future version. Use pandas.concat instead.\n",
      "  df = df.append({\"source_images_idx\": source_idx,\n"
     ]
    },
    {
     "name": "stdout",
     "output_type": "stream",
     "text": [
      "10 66 10 190\n",
      "940\n",
      "10 66 10 284\n",
      "941\n",
      "10 66 20 0\n",
      "942\n",
      "10 66 20 95\n",
      "943\n",
      "10 66 20 190\n",
      "944\n"
     ]
    },
    {
     "name": "stderr",
     "output_type": "stream",
     "text": [
      "/tmp/ipykernel_3842719/849445217.py:76: FutureWarning: The frame.append method is deprecated and will be removed from pandas in a future version. Use pandas.concat instead.\n",
      "  df = df.append({\"source_images_idx\": source_idx,\n",
      "/tmp/ipykernel_3842719/849445217.py:76: FutureWarning: The frame.append method is deprecated and will be removed from pandas in a future version. Use pandas.concat instead.\n",
      "  df = df.append({\"source_images_idx\": source_idx,\n",
      "/tmp/ipykernel_3842719/849445217.py:76: FutureWarning: The frame.append method is deprecated and will be removed from pandas in a future version. Use pandas.concat instead.\n",
      "  df = df.append({\"source_images_idx\": source_idx,\n",
      "/tmp/ipykernel_3842719/849445217.py:76: FutureWarning: The frame.append method is deprecated and will be removed from pandas in a future version. Use pandas.concat instead.\n",
      "  df = df.append({\"source_images_idx\": source_idx,\n",
      "/tmp/ipykernel_3842719/849445217.py:76: FutureWarning: The frame.append method is deprecated and will be removed from pandas in a future version. Use pandas.concat instead.\n",
      "  df = df.append({\"source_images_idx\": source_idx,\n"
     ]
    },
    {
     "name": "stdout",
     "output_type": "stream",
     "text": [
      "10 66 20 284\n",
      "945\n",
      "10 66 30 0\n",
      "946\n",
      "10 66 30 95\n",
      "947\n",
      "10 66 30 190\n",
      "948\n",
      "10 66 30 284\n",
      "949\n"
     ]
    },
    {
     "name": "stderr",
     "output_type": "stream",
     "text": [
      "/tmp/ipykernel_3842719/849445217.py:76: FutureWarning: The frame.append method is deprecated and will be removed from pandas in a future version. Use pandas.concat instead.\n",
      "  df = df.append({\"source_images_idx\": source_idx,\n",
      "/tmp/ipykernel_3842719/849445217.py:76: FutureWarning: The frame.append method is deprecated and will be removed from pandas in a future version. Use pandas.concat instead.\n",
      "  df = df.append({\"source_images_idx\": source_idx,\n",
      "/tmp/ipykernel_3842719/849445217.py:76: FutureWarning: The frame.append method is deprecated and will be removed from pandas in a future version. Use pandas.concat instead.\n",
      "  df = df.append({\"source_images_idx\": source_idx,\n",
      "/tmp/ipykernel_3842719/849445217.py:76: FutureWarning: The frame.append method is deprecated and will be removed from pandas in a future version. Use pandas.concat instead.\n",
      "  df = df.append({\"source_images_idx\": source_idx,\n",
      "/tmp/ipykernel_3842719/849445217.py:76: FutureWarning: The frame.append method is deprecated and will be removed from pandas in a future version. Use pandas.concat instead.\n",
      "  df = df.append({\"source_images_idx\": source_idx,\n"
     ]
    },
    {
     "name": "stdout",
     "output_type": "stream",
     "text": [
      "10 99 0 0\n",
      "950\n",
      "10 99 0 95\n",
      "951\n",
      "10 99 0 190\n",
      "952\n",
      "10 99 0 284\n",
      "953\n",
      "10 99 10 0\n",
      "954\n"
     ]
    },
    {
     "name": "stderr",
     "output_type": "stream",
     "text": [
      "/tmp/ipykernel_3842719/849445217.py:76: FutureWarning: The frame.append method is deprecated and will be removed from pandas in a future version. Use pandas.concat instead.\n",
      "  df = df.append({\"source_images_idx\": source_idx,\n",
      "/tmp/ipykernel_3842719/849445217.py:76: FutureWarning: The frame.append method is deprecated and will be removed from pandas in a future version. Use pandas.concat instead.\n",
      "  df = df.append({\"source_images_idx\": source_idx,\n",
      "/tmp/ipykernel_3842719/849445217.py:76: FutureWarning: The frame.append method is deprecated and will be removed from pandas in a future version. Use pandas.concat instead.\n",
      "  df = df.append({\"source_images_idx\": source_idx,\n",
      "/tmp/ipykernel_3842719/849445217.py:76: FutureWarning: The frame.append method is deprecated and will be removed from pandas in a future version. Use pandas.concat instead.\n",
      "  df = df.append({\"source_images_idx\": source_idx,\n",
      "/tmp/ipykernel_3842719/849445217.py:76: FutureWarning: The frame.append method is deprecated and will be removed from pandas in a future version. Use pandas.concat instead.\n",
      "  df = df.append({\"source_images_idx\": source_idx,\n"
     ]
    },
    {
     "name": "stdout",
     "output_type": "stream",
     "text": [
      "10 99 10 95\n",
      "955\n",
      "10 99 10 190\n",
      "956\n",
      "10 99 10 284\n",
      "957\n",
      "10 99 20 0\n",
      "958\n",
      "10 99 20 95\n",
      "959\n"
     ]
    },
    {
     "name": "stderr",
     "output_type": "stream",
     "text": [
      "/tmp/ipykernel_3842719/849445217.py:76: FutureWarning: The frame.append method is deprecated and will be removed from pandas in a future version. Use pandas.concat instead.\n",
      "  df = df.append({\"source_images_idx\": source_idx,\n",
      "/tmp/ipykernel_3842719/849445217.py:76: FutureWarning: The frame.append method is deprecated and will be removed from pandas in a future version. Use pandas.concat instead.\n",
      "  df = df.append({\"source_images_idx\": source_idx,\n",
      "/tmp/ipykernel_3842719/849445217.py:76: FutureWarning: The frame.append method is deprecated and will be removed from pandas in a future version. Use pandas.concat instead.\n",
      "  df = df.append({\"source_images_idx\": source_idx,\n",
      "/tmp/ipykernel_3842719/849445217.py:76: FutureWarning: The frame.append method is deprecated and will be removed from pandas in a future version. Use pandas.concat instead.\n",
      "  df = df.append({\"source_images_idx\": source_idx,\n"
     ]
    },
    {
     "name": "stdout",
     "output_type": "stream",
     "text": [
      "10 99 20 190\n",
      "960\n",
      "10 99 20 284\n",
      "961\n",
      "10 99 30 0\n",
      "962\n",
      "10 99 30 95\n",
      "963\n"
     ]
    },
    {
     "name": "stderr",
     "output_type": "stream",
     "text": [
      "/tmp/ipykernel_3842719/849445217.py:76: FutureWarning: The frame.append method is deprecated and will be removed from pandas in a future version. Use pandas.concat instead.\n",
      "  df = df.append({\"source_images_idx\": source_idx,\n",
      "/tmp/ipykernel_3842719/849445217.py:76: FutureWarning: The frame.append method is deprecated and will be removed from pandas in a future version. Use pandas.concat instead.\n",
      "  df = df.append({\"source_images_idx\": source_idx,\n",
      "/tmp/ipykernel_3842719/849445217.py:76: FutureWarning: The frame.append method is deprecated and will be removed from pandas in a future version. Use pandas.concat instead.\n",
      "  df = df.append({\"source_images_idx\": source_idx,\n"
     ]
    },
    {
     "name": "stdout",
     "output_type": "stream",
     "text": [
      "10 99 30 190\n",
      "964\n",
      "10 99 30 284\n",
      "965\n",
      "11 0 0 0\n",
      "966\n"
     ]
    },
    {
     "name": "stderr",
     "output_type": "stream",
     "text": [
      "/tmp/ipykernel_3842719/849445217.py:76: FutureWarning: The frame.append method is deprecated and will be removed from pandas in a future version. Use pandas.concat instead.\n",
      "  df = df.append({\"source_images_idx\": source_idx,\n",
      "/tmp/ipykernel_3842719/849445217.py:76: FutureWarning: The frame.append method is deprecated and will be removed from pandas in a future version. Use pandas.concat instead.\n",
      "  df = df.append({\"source_images_idx\": source_idx,\n",
      "/tmp/ipykernel_3842719/849445217.py:76: FutureWarning: The frame.append method is deprecated and will be removed from pandas in a future version. Use pandas.concat instead.\n",
      "  df = df.append({\"source_images_idx\": source_idx,\n"
     ]
    },
    {
     "name": "stdout",
     "output_type": "stream",
     "text": [
      "11 0 0 52\n",
      "967\n",
      "11 0 0 104\n",
      "968\n",
      "11 0 0 155\n",
      "969\n"
     ]
    },
    {
     "name": "stderr",
     "output_type": "stream",
     "text": [
      "/tmp/ipykernel_3842719/849445217.py:76: FutureWarning: The frame.append method is deprecated and will be removed from pandas in a future version. Use pandas.concat instead.\n",
      "  df = df.append({\"source_images_idx\": source_idx,\n",
      "/tmp/ipykernel_3842719/849445217.py:76: FutureWarning: The frame.append method is deprecated and will be removed from pandas in a future version. Use pandas.concat instead.\n",
      "  df = df.append({\"source_images_idx\": source_idx,\n",
      "/tmp/ipykernel_3842719/849445217.py:76: FutureWarning: The frame.append method is deprecated and will be removed from pandas in a future version. Use pandas.concat instead.\n",
      "  df = df.append({\"source_images_idx\": source_idx,\n"
     ]
    },
    {
     "name": "stdout",
     "output_type": "stream",
     "text": [
      "11 0 32 0\n",
      "970\n",
      "11 0 32 52\n",
      "971\n",
      "11 0 32 104\n",
      "972\n"
     ]
    },
    {
     "name": "stderr",
     "output_type": "stream",
     "text": [
      "/tmp/ipykernel_3842719/849445217.py:76: FutureWarning: The frame.append method is deprecated and will be removed from pandas in a future version. Use pandas.concat instead.\n",
      "  df = df.append({\"source_images_idx\": source_idx,\n",
      "/tmp/ipykernel_3842719/849445217.py:76: FutureWarning: The frame.append method is deprecated and will be removed from pandas in a future version. Use pandas.concat instead.\n",
      "  df = df.append({\"source_images_idx\": source_idx,\n",
      "/tmp/ipykernel_3842719/849445217.py:76: FutureWarning: The frame.append method is deprecated and will be removed from pandas in a future version. Use pandas.concat instead.\n",
      "  df = df.append({\"source_images_idx\": source_idx,\n"
     ]
    },
    {
     "name": "stdout",
     "output_type": "stream",
     "text": [
      "11 0 32 155\n",
      "973\n",
      "11 0 64 0\n",
      "974\n",
      "11 0 64 52\n",
      "975\n"
     ]
    },
    {
     "name": "stderr",
     "output_type": "stream",
     "text": [
      "/tmp/ipykernel_3842719/849445217.py:76: FutureWarning: The frame.append method is deprecated and will be removed from pandas in a future version. Use pandas.concat instead.\n",
      "  df = df.append({\"source_images_idx\": source_idx,\n",
      "/tmp/ipykernel_3842719/849445217.py:76: FutureWarning: The frame.append method is deprecated and will be removed from pandas in a future version. Use pandas.concat instead.\n",
      "  df = df.append({\"source_images_idx\": source_idx,\n",
      "/tmp/ipykernel_3842719/849445217.py:76: FutureWarning: The frame.append method is deprecated and will be removed from pandas in a future version. Use pandas.concat instead.\n",
      "  df = df.append({\"source_images_idx\": source_idx,\n"
     ]
    },
    {
     "name": "stdout",
     "output_type": "stream",
     "text": [
      "11 0 64 104\n",
      "976\n",
      "11 0 64 155\n",
      "977\n",
      "11 0 96 0\n",
      "978\n"
     ]
    },
    {
     "name": "stderr",
     "output_type": "stream",
     "text": [
      "/tmp/ipykernel_3842719/849445217.py:76: FutureWarning: The frame.append method is deprecated and will be removed from pandas in a future version. Use pandas.concat instead.\n",
      "  df = df.append({\"source_images_idx\": source_idx,\n",
      "/tmp/ipykernel_3842719/849445217.py:76: FutureWarning: The frame.append method is deprecated and will be removed from pandas in a future version. Use pandas.concat instead.\n",
      "  df = df.append({\"source_images_idx\": source_idx,\n",
      "/tmp/ipykernel_3842719/849445217.py:76: FutureWarning: The frame.append method is deprecated and will be removed from pandas in a future version. Use pandas.concat instead.\n",
      "  df = df.append({\"source_images_idx\": source_idx,\n"
     ]
    },
    {
     "name": "stdout",
     "output_type": "stream",
     "text": [
      "11 0 96 52\n",
      "979\n",
      "11 0 96 104\n",
      "980\n",
      "11 0 96 155\n",
      "981\n"
     ]
    },
    {
     "name": "stderr",
     "output_type": "stream",
     "text": [
      "/tmp/ipykernel_3842719/849445217.py:76: FutureWarning: The frame.append method is deprecated and will be removed from pandas in a future version. Use pandas.concat instead.\n",
      "  df = df.append({\"source_images_idx\": source_idx,\n",
      "/tmp/ipykernel_3842719/849445217.py:76: FutureWarning: The frame.append method is deprecated and will be removed from pandas in a future version. Use pandas.concat instead.\n",
      "  df = df.append({\"source_images_idx\": source_idx,\n",
      "/tmp/ipykernel_3842719/849445217.py:76: FutureWarning: The frame.append method is deprecated and will be removed from pandas in a future version. Use pandas.concat instead.\n",
      "  df = df.append({\"source_images_idx\": source_idx,\n",
      "/tmp/ipykernel_3842719/849445217.py:76: FutureWarning: The frame.append method is deprecated and will be removed from pandas in a future version. Use pandas.concat instead.\n",
      "  df = df.append({\"source_images_idx\": source_idx,\n",
      "/tmp/ipykernel_3842719/849445217.py:76: FutureWarning: The frame.append method is deprecated and will be removed from pandas in a future version. Use pandas.concat instead.\n",
      "  df = df.append({\"source_images_idx\": source_idx,\n"
     ]
    },
    {
     "name": "stdout",
     "output_type": "stream",
     "text": [
      "11 0 97 0\n",
      "982\n",
      "11 0 97 52\n",
      "983\n",
      "11 0 97 104\n",
      "984\n",
      "11 0 97 155\n",
      "985\n",
      "11 42 0 0\n",
      "986\n"
     ]
    },
    {
     "name": "stderr",
     "output_type": "stream",
     "text": [
      "/tmp/ipykernel_3842719/849445217.py:76: FutureWarning: The frame.append method is deprecated and will be removed from pandas in a future version. Use pandas.concat instead.\n",
      "  df = df.append({\"source_images_idx\": source_idx,\n",
      "/tmp/ipykernel_3842719/849445217.py:76: FutureWarning: The frame.append method is deprecated and will be removed from pandas in a future version. Use pandas.concat instead.\n",
      "  df = df.append({\"source_images_idx\": source_idx,\n",
      "/tmp/ipykernel_3842719/849445217.py:76: FutureWarning: The frame.append method is deprecated and will be removed from pandas in a future version. Use pandas.concat instead.\n",
      "  df = df.append({\"source_images_idx\": source_idx,\n",
      "/tmp/ipykernel_3842719/849445217.py:76: FutureWarning: The frame.append method is deprecated and will be removed from pandas in a future version. Use pandas.concat instead.\n",
      "  df = df.append({\"source_images_idx\": source_idx,\n",
      "/tmp/ipykernel_3842719/849445217.py:76: FutureWarning: The frame.append method is deprecated and will be removed from pandas in a future version. Use pandas.concat instead.\n",
      "  df = df.append({\"source_images_idx\": source_idx,\n"
     ]
    },
    {
     "name": "stdout",
     "output_type": "stream",
     "text": [
      "11 42 0 52\n",
      "987\n",
      "11 42 0 104\n",
      "988\n",
      "11 42 0 155\n",
      "989\n",
      "11 42 32 0\n",
      "990\n",
      "11 42 32 52\n",
      "991\n"
     ]
    },
    {
     "name": "stderr",
     "output_type": "stream",
     "text": [
      "/tmp/ipykernel_3842719/849445217.py:76: FutureWarning: The frame.append method is deprecated and will be removed from pandas in a future version. Use pandas.concat instead.\n",
      "  df = df.append({\"source_images_idx\": source_idx,\n",
      "/tmp/ipykernel_3842719/849445217.py:76: FutureWarning: The frame.append method is deprecated and will be removed from pandas in a future version. Use pandas.concat instead.\n",
      "  df = df.append({\"source_images_idx\": source_idx,\n",
      "/tmp/ipykernel_3842719/849445217.py:76: FutureWarning: The frame.append method is deprecated and will be removed from pandas in a future version. Use pandas.concat instead.\n",
      "  df = df.append({\"source_images_idx\": source_idx,\n",
      "/tmp/ipykernel_3842719/849445217.py:76: FutureWarning: The frame.append method is deprecated and will be removed from pandas in a future version. Use pandas.concat instead.\n",
      "  df = df.append({\"source_images_idx\": source_idx,\n",
      "/tmp/ipykernel_3842719/849445217.py:76: FutureWarning: The frame.append method is deprecated and will be removed from pandas in a future version. Use pandas.concat instead.\n",
      "  df = df.append({\"source_images_idx\": source_idx,\n"
     ]
    },
    {
     "name": "stdout",
     "output_type": "stream",
     "text": [
      "11 42 32 104\n",
      "992\n",
      "11 42 32 155\n",
      "993\n",
      "11 42 64 0\n",
      "994\n",
      "11 42 64 52\n",
      "995\n",
      "11 42 64 104\n",
      "996\n"
     ]
    },
    {
     "name": "stderr",
     "output_type": "stream",
     "text": [
      "/tmp/ipykernel_3842719/849445217.py:76: FutureWarning: The frame.append method is deprecated and will be removed from pandas in a future version. Use pandas.concat instead.\n",
      "  df = df.append({\"source_images_idx\": source_idx,\n",
      "/tmp/ipykernel_3842719/849445217.py:76: FutureWarning: The frame.append method is deprecated and will be removed from pandas in a future version. Use pandas.concat instead.\n",
      "  df = df.append({\"source_images_idx\": source_idx,\n",
      "/tmp/ipykernel_3842719/849445217.py:76: FutureWarning: The frame.append method is deprecated and will be removed from pandas in a future version. Use pandas.concat instead.\n",
      "  df = df.append({\"source_images_idx\": source_idx,\n",
      "/tmp/ipykernel_3842719/849445217.py:76: FutureWarning: The frame.append method is deprecated and will be removed from pandas in a future version. Use pandas.concat instead.\n",
      "  df = df.append({\"source_images_idx\": source_idx,\n",
      "/tmp/ipykernel_3842719/849445217.py:76: FutureWarning: The frame.append method is deprecated and will be removed from pandas in a future version. Use pandas.concat instead.\n",
      "  df = df.append({\"source_images_idx\": source_idx,\n"
     ]
    },
    {
     "name": "stdout",
     "output_type": "stream",
     "text": [
      "11 42 64 155\n",
      "997\n",
      "11 42 96 0\n",
      "998\n",
      "11 42 96 52\n",
      "999\n",
      "11 42 96 104\n",
      "1000\n",
      "11 42 96 155\n",
      "1001\n"
     ]
    },
    {
     "name": "stderr",
     "output_type": "stream",
     "text": [
      "/tmp/ipykernel_3842719/849445217.py:76: FutureWarning: The frame.append method is deprecated and will be removed from pandas in a future version. Use pandas.concat instead.\n",
      "  df = df.append({\"source_images_idx\": source_idx,\n",
      "/tmp/ipykernel_3842719/849445217.py:76: FutureWarning: The frame.append method is deprecated and will be removed from pandas in a future version. Use pandas.concat instead.\n",
      "  df = df.append({\"source_images_idx\": source_idx,\n",
      "/tmp/ipykernel_3842719/849445217.py:76: FutureWarning: The frame.append method is deprecated and will be removed from pandas in a future version. Use pandas.concat instead.\n",
      "  df = df.append({\"source_images_idx\": source_idx,\n",
      "/tmp/ipykernel_3842719/849445217.py:76: FutureWarning: The frame.append method is deprecated and will be removed from pandas in a future version. Use pandas.concat instead.\n",
      "  df = df.append({\"source_images_idx\": source_idx,\n",
      "/tmp/ipykernel_3842719/849445217.py:76: FutureWarning: The frame.append method is deprecated and will be removed from pandas in a future version. Use pandas.concat instead.\n",
      "  df = df.append({\"source_images_idx\": source_idx,\n"
     ]
    },
    {
     "name": "stdout",
     "output_type": "stream",
     "text": [
      "11 42 97 0\n",
      "1002\n",
      "11 42 97 52\n",
      "1003\n",
      "11 42 97 104\n",
      "1004\n",
      "11 42 97 155\n",
      "1005\n",
      "11 84 0 0\n",
      "1006\n"
     ]
    },
    {
     "name": "stderr",
     "output_type": "stream",
     "text": [
      "/tmp/ipykernel_3842719/849445217.py:76: FutureWarning: The frame.append method is deprecated and will be removed from pandas in a future version. Use pandas.concat instead.\n",
      "  df = df.append({\"source_images_idx\": source_idx,\n",
      "/tmp/ipykernel_3842719/849445217.py:76: FutureWarning: The frame.append method is deprecated and will be removed from pandas in a future version. Use pandas.concat instead.\n",
      "  df = df.append({\"source_images_idx\": source_idx,\n",
      "/tmp/ipykernel_3842719/849445217.py:76: FutureWarning: The frame.append method is deprecated and will be removed from pandas in a future version. Use pandas.concat instead.\n",
      "  df = df.append({\"source_images_idx\": source_idx,\n",
      "/tmp/ipykernel_3842719/849445217.py:76: FutureWarning: The frame.append method is deprecated and will be removed from pandas in a future version. Use pandas.concat instead.\n",
      "  df = df.append({\"source_images_idx\": source_idx,\n",
      "/tmp/ipykernel_3842719/849445217.py:76: FutureWarning: The frame.append method is deprecated and will be removed from pandas in a future version. Use pandas.concat instead.\n",
      "  df = df.append({\"source_images_idx\": source_idx,\n"
     ]
    },
    {
     "name": "stdout",
     "output_type": "stream",
     "text": [
      "11 84 0 52\n",
      "1007\n",
      "11 84 0 104\n",
      "1008\n",
      "11 84 0 155\n",
      "1009\n",
      "11 84 32 0\n",
      "1010\n",
      "11 84 32 52\n",
      "1011\n"
     ]
    },
    {
     "name": "stderr",
     "output_type": "stream",
     "text": [
      "/tmp/ipykernel_3842719/849445217.py:76: FutureWarning: The frame.append method is deprecated and will be removed from pandas in a future version. Use pandas.concat instead.\n",
      "  df = df.append({\"source_images_idx\": source_idx,\n",
      "/tmp/ipykernel_3842719/849445217.py:76: FutureWarning: The frame.append method is deprecated and will be removed from pandas in a future version. Use pandas.concat instead.\n",
      "  df = df.append({\"source_images_idx\": source_idx,\n",
      "/tmp/ipykernel_3842719/849445217.py:76: FutureWarning: The frame.append method is deprecated and will be removed from pandas in a future version. Use pandas.concat instead.\n",
      "  df = df.append({\"source_images_idx\": source_idx,\n",
      "/tmp/ipykernel_3842719/849445217.py:76: FutureWarning: The frame.append method is deprecated and will be removed from pandas in a future version. Use pandas.concat instead.\n",
      "  df = df.append({\"source_images_idx\": source_idx,\n",
      "/tmp/ipykernel_3842719/849445217.py:76: FutureWarning: The frame.append method is deprecated and will be removed from pandas in a future version. Use pandas.concat instead.\n",
      "  df = df.append({\"source_images_idx\": source_idx,\n"
     ]
    },
    {
     "name": "stdout",
     "output_type": "stream",
     "text": [
      "11 84 32 104\n",
      "1012\n",
      "11 84 32 155\n",
      "1013\n",
      "11 84 64 0\n",
      "1014\n",
      "11 84 64 52\n",
      "1015\n",
      "11 84 64 104\n",
      "1016\n"
     ]
    },
    {
     "name": "stderr",
     "output_type": "stream",
     "text": [
      "/tmp/ipykernel_3842719/849445217.py:76: FutureWarning: The frame.append method is deprecated and will be removed from pandas in a future version. Use pandas.concat instead.\n",
      "  df = df.append({\"source_images_idx\": source_idx,\n",
      "/tmp/ipykernel_3842719/849445217.py:76: FutureWarning: The frame.append method is deprecated and will be removed from pandas in a future version. Use pandas.concat instead.\n",
      "  df = df.append({\"source_images_idx\": source_idx,\n",
      "/tmp/ipykernel_3842719/849445217.py:76: FutureWarning: The frame.append method is deprecated and will be removed from pandas in a future version. Use pandas.concat instead.\n",
      "  df = df.append({\"source_images_idx\": source_idx,\n",
      "/tmp/ipykernel_3842719/849445217.py:76: FutureWarning: The frame.append method is deprecated and will be removed from pandas in a future version. Use pandas.concat instead.\n",
      "  df = df.append({\"source_images_idx\": source_idx,\n",
      "/tmp/ipykernel_3842719/849445217.py:76: FutureWarning: The frame.append method is deprecated and will be removed from pandas in a future version. Use pandas.concat instead.\n",
      "  df = df.append({\"source_images_idx\": source_idx,\n"
     ]
    },
    {
     "name": "stdout",
     "output_type": "stream",
     "text": [
      "11 84 64 155\n",
      "1017\n",
      "11 84 96 0\n",
      "1018\n",
      "11 84 96 52\n",
      "1019\n",
      "11 84 96 104\n",
      "1020\n",
      "11 84 96 155\n",
      "1021\n"
     ]
    },
    {
     "name": "stderr",
     "output_type": "stream",
     "text": [
      "/tmp/ipykernel_3842719/849445217.py:76: FutureWarning: The frame.append method is deprecated and will be removed from pandas in a future version. Use pandas.concat instead.\n",
      "  df = df.append({\"source_images_idx\": source_idx,\n",
      "/tmp/ipykernel_3842719/849445217.py:76: FutureWarning: The frame.append method is deprecated and will be removed from pandas in a future version. Use pandas.concat instead.\n",
      "  df = df.append({\"source_images_idx\": source_idx,\n",
      "/tmp/ipykernel_3842719/849445217.py:76: FutureWarning: The frame.append method is deprecated and will be removed from pandas in a future version. Use pandas.concat instead.\n",
      "  df = df.append({\"source_images_idx\": source_idx,\n",
      "/tmp/ipykernel_3842719/849445217.py:76: FutureWarning: The frame.append method is deprecated and will be removed from pandas in a future version. Use pandas.concat instead.\n",
      "  df = df.append({\"source_images_idx\": source_idx,\n",
      "/tmp/ipykernel_3842719/849445217.py:76: FutureWarning: The frame.append method is deprecated and will be removed from pandas in a future version. Use pandas.concat instead.\n",
      "  df = df.append({\"source_images_idx\": source_idx,\n"
     ]
    },
    {
     "name": "stdout",
     "output_type": "stream",
     "text": [
      "11 84 97 0\n",
      "1022\n",
      "11 84 97 52\n",
      "1023\n",
      "11 84 97 104\n",
      "1024\n",
      "11 84 97 155\n",
      "1025\n",
      "11 126 0 0\n",
      "1026\n"
     ]
    },
    {
     "name": "stderr",
     "output_type": "stream",
     "text": [
      "/tmp/ipykernel_3842719/849445217.py:76: FutureWarning: The frame.append method is deprecated and will be removed from pandas in a future version. Use pandas.concat instead.\n",
      "  df = df.append({\"source_images_idx\": source_idx,\n",
      "/tmp/ipykernel_3842719/849445217.py:76: FutureWarning: The frame.append method is deprecated and will be removed from pandas in a future version. Use pandas.concat instead.\n",
      "  df = df.append({\"source_images_idx\": source_idx,\n",
      "/tmp/ipykernel_3842719/849445217.py:76: FutureWarning: The frame.append method is deprecated and will be removed from pandas in a future version. Use pandas.concat instead.\n",
      "  df = df.append({\"source_images_idx\": source_idx,\n",
      "/tmp/ipykernel_3842719/849445217.py:76: FutureWarning: The frame.append method is deprecated and will be removed from pandas in a future version. Use pandas.concat instead.\n",
      "  df = df.append({\"source_images_idx\": source_idx,\n",
      "/tmp/ipykernel_3842719/849445217.py:76: FutureWarning: The frame.append method is deprecated and will be removed from pandas in a future version. Use pandas.concat instead.\n",
      "  df = df.append({\"source_images_idx\": source_idx,\n"
     ]
    },
    {
     "name": "stdout",
     "output_type": "stream",
     "text": [
      "11 126 0 52\n",
      "1027\n",
      "11 126 0 104\n",
      "1028\n",
      "11 126 0 155\n",
      "1029\n",
      "11 126 32 0\n",
      "1030\n",
      "11 126 32 52\n",
      "1031\n"
     ]
    },
    {
     "name": "stderr",
     "output_type": "stream",
     "text": [
      "/tmp/ipykernel_3842719/849445217.py:76: FutureWarning: The frame.append method is deprecated and will be removed from pandas in a future version. Use pandas.concat instead.\n",
      "  df = df.append({\"source_images_idx\": source_idx,\n",
      "/tmp/ipykernel_3842719/849445217.py:76: FutureWarning: The frame.append method is deprecated and will be removed from pandas in a future version. Use pandas.concat instead.\n",
      "  df = df.append({\"source_images_idx\": source_idx,\n",
      "/tmp/ipykernel_3842719/849445217.py:76: FutureWarning: The frame.append method is deprecated and will be removed from pandas in a future version. Use pandas.concat instead.\n",
      "  df = df.append({\"source_images_idx\": source_idx,\n",
      "/tmp/ipykernel_3842719/849445217.py:76: FutureWarning: The frame.append method is deprecated and will be removed from pandas in a future version. Use pandas.concat instead.\n",
      "  df = df.append({\"source_images_idx\": source_idx,\n",
      "/tmp/ipykernel_3842719/849445217.py:76: FutureWarning: The frame.append method is deprecated and will be removed from pandas in a future version. Use pandas.concat instead.\n",
      "  df = df.append({\"source_images_idx\": source_idx,\n"
     ]
    },
    {
     "name": "stdout",
     "output_type": "stream",
     "text": [
      "11 126 32 104\n",
      "1032\n",
      "11 126 32 155\n",
      "1033\n",
      "11 126 64 0\n",
      "1034\n",
      "11 126 64 52\n",
      "1035\n",
      "11 126 64 104\n",
      "1036\n"
     ]
    },
    {
     "name": "stderr",
     "output_type": "stream",
     "text": [
      "/tmp/ipykernel_3842719/849445217.py:76: FutureWarning: The frame.append method is deprecated and will be removed from pandas in a future version. Use pandas.concat instead.\n",
      "  df = df.append({\"source_images_idx\": source_idx,\n",
      "/tmp/ipykernel_3842719/849445217.py:76: FutureWarning: The frame.append method is deprecated and will be removed from pandas in a future version. Use pandas.concat instead.\n",
      "  df = df.append({\"source_images_idx\": source_idx,\n",
      "/tmp/ipykernel_3842719/849445217.py:76: FutureWarning: The frame.append method is deprecated and will be removed from pandas in a future version. Use pandas.concat instead.\n",
      "  df = df.append({\"source_images_idx\": source_idx,\n"
     ]
    },
    {
     "name": "stdout",
     "output_type": "stream",
     "text": [
      "11 126 64 155\n",
      "1037\n",
      "11 126 96 0\n",
      "1038\n",
      "11 126 96 52\n",
      "1039\n"
     ]
    },
    {
     "name": "stderr",
     "output_type": "stream",
     "text": [
      "/tmp/ipykernel_3842719/849445217.py:76: FutureWarning: The frame.append method is deprecated and will be removed from pandas in a future version. Use pandas.concat instead.\n",
      "  df = df.append({\"source_images_idx\": source_idx,\n",
      "/tmp/ipykernel_3842719/849445217.py:76: FutureWarning: The frame.append method is deprecated and will be removed from pandas in a future version. Use pandas.concat instead.\n",
      "  df = df.append({\"source_images_idx\": source_idx,\n",
      "/tmp/ipykernel_3842719/849445217.py:76: FutureWarning: The frame.append method is deprecated and will be removed from pandas in a future version. Use pandas.concat instead.\n",
      "  df = df.append({\"source_images_idx\": source_idx,\n"
     ]
    },
    {
     "name": "stdout",
     "output_type": "stream",
     "text": [
      "11 126 96 104\n",
      "1040\n",
      "11 126 96 155\n",
      "1041\n",
      "11 126 97 0\n",
      "1042\n"
     ]
    },
    {
     "name": "stderr",
     "output_type": "stream",
     "text": [
      "/tmp/ipykernel_3842719/849445217.py:76: FutureWarning: The frame.append method is deprecated and will be removed from pandas in a future version. Use pandas.concat instead.\n",
      "  df = df.append({\"source_images_idx\": source_idx,\n",
      "/tmp/ipykernel_3842719/849445217.py:76: FutureWarning: The frame.append method is deprecated and will be removed from pandas in a future version. Use pandas.concat instead.\n",
      "  df = df.append({\"source_images_idx\": source_idx,\n",
      "/tmp/ipykernel_3842719/849445217.py:76: FutureWarning: The frame.append method is deprecated and will be removed from pandas in a future version. Use pandas.concat instead.\n",
      "  df = df.append({\"source_images_idx\": source_idx,\n"
     ]
    },
    {
     "name": "stdout",
     "output_type": "stream",
     "text": [
      "11 126 97 52\n",
      "1043\n",
      "11 126 97 104\n",
      "1044\n",
      "11 126 97 155\n",
      "1045\n"
     ]
    },
    {
     "name": "stderr",
     "output_type": "stream",
     "text": [
      "/tmp/ipykernel_3842719/849445217.py:76: FutureWarning: The frame.append method is deprecated and will be removed from pandas in a future version. Use pandas.concat instead.\n",
      "  df = df.append({\"source_images_idx\": source_idx,\n",
      "/tmp/ipykernel_3842719/849445217.py:76: FutureWarning: The frame.append method is deprecated and will be removed from pandas in a future version. Use pandas.concat instead.\n",
      "  df = df.append({\"source_images_idx\": source_idx,\n",
      "/tmp/ipykernel_3842719/849445217.py:76: FutureWarning: The frame.append method is deprecated and will be removed from pandas in a future version. Use pandas.concat instead.\n",
      "  df = df.append({\"source_images_idx\": source_idx,\n"
     ]
    },
    {
     "name": "stdout",
     "output_type": "stream",
     "text": [
      "11 127 0 0\n",
      "1046\n",
      "11 127 0 52\n",
      "1047\n",
      "11 127 0 104\n",
      "1048\n"
     ]
    },
    {
     "name": "stderr",
     "output_type": "stream",
     "text": [
      "/tmp/ipykernel_3842719/849445217.py:76: FutureWarning: The frame.append method is deprecated and will be removed from pandas in a future version. Use pandas.concat instead.\n",
      "  df = df.append({\"source_images_idx\": source_idx,\n",
      "/tmp/ipykernel_3842719/849445217.py:76: FutureWarning: The frame.append method is deprecated and will be removed from pandas in a future version. Use pandas.concat instead.\n",
      "  df = df.append({\"source_images_idx\": source_idx,\n",
      "/tmp/ipykernel_3842719/849445217.py:76: FutureWarning: The frame.append method is deprecated and will be removed from pandas in a future version. Use pandas.concat instead.\n",
      "  df = df.append({\"source_images_idx\": source_idx,\n"
     ]
    },
    {
     "name": "stdout",
     "output_type": "stream",
     "text": [
      "11 127 0 155\n",
      "1049\n",
      "11 127 32 0\n",
      "1050\n",
      "11 127 32 52\n",
      "1051\n"
     ]
    },
    {
     "name": "stderr",
     "output_type": "stream",
     "text": [
      "/tmp/ipykernel_3842719/849445217.py:76: FutureWarning: The frame.append method is deprecated and will be removed from pandas in a future version. Use pandas.concat instead.\n",
      "  df = df.append({\"source_images_idx\": source_idx,\n",
      "/tmp/ipykernel_3842719/849445217.py:76: FutureWarning: The frame.append method is deprecated and will be removed from pandas in a future version. Use pandas.concat instead.\n",
      "  df = df.append({\"source_images_idx\": source_idx,\n",
      "/tmp/ipykernel_3842719/849445217.py:76: FutureWarning: The frame.append method is deprecated and will be removed from pandas in a future version. Use pandas.concat instead.\n",
      "  df = df.append({\"source_images_idx\": source_idx,\n"
     ]
    },
    {
     "name": "stdout",
     "output_type": "stream",
     "text": [
      "11 127 32 104\n",
      "1052\n",
      "11 127 32 155\n",
      "1053\n",
      "11 127 64 0\n",
      "1054\n"
     ]
    },
    {
     "name": "stderr",
     "output_type": "stream",
     "text": [
      "/tmp/ipykernel_3842719/849445217.py:76: FutureWarning: The frame.append method is deprecated and will be removed from pandas in a future version. Use pandas.concat instead.\n",
      "  df = df.append({\"source_images_idx\": source_idx,\n",
      "/tmp/ipykernel_3842719/849445217.py:76: FutureWarning: The frame.append method is deprecated and will be removed from pandas in a future version. Use pandas.concat instead.\n",
      "  df = df.append({\"source_images_idx\": source_idx,\n",
      "/tmp/ipykernel_3842719/849445217.py:76: FutureWarning: The frame.append method is deprecated and will be removed from pandas in a future version. Use pandas.concat instead.\n",
      "  df = df.append({\"source_images_idx\": source_idx,\n"
     ]
    },
    {
     "name": "stdout",
     "output_type": "stream",
     "text": [
      "11 127 64 52\n",
      "1055\n",
      "11 127 64 104\n",
      "1056\n",
      "11 127 64 155\n",
      "1057\n"
     ]
    },
    {
     "name": "stderr",
     "output_type": "stream",
     "text": [
      "/tmp/ipykernel_3842719/849445217.py:76: FutureWarning: The frame.append method is deprecated and will be removed from pandas in a future version. Use pandas.concat instead.\n",
      "  df = df.append({\"source_images_idx\": source_idx,\n",
      "/tmp/ipykernel_3842719/849445217.py:76: FutureWarning: The frame.append method is deprecated and will be removed from pandas in a future version. Use pandas.concat instead.\n",
      "  df = df.append({\"source_images_idx\": source_idx,\n",
      "/tmp/ipykernel_3842719/849445217.py:76: FutureWarning: The frame.append method is deprecated and will be removed from pandas in a future version. Use pandas.concat instead.\n",
      "  df = df.append({\"source_images_idx\": source_idx,\n",
      "/tmp/ipykernel_3842719/849445217.py:76: FutureWarning: The frame.append method is deprecated and will be removed from pandas in a future version. Use pandas.concat instead.\n",
      "  df = df.append({\"source_images_idx\": source_idx,\n",
      "/tmp/ipykernel_3842719/849445217.py:76: FutureWarning: The frame.append method is deprecated and will be removed from pandas in a future version. Use pandas.concat instead.\n",
      "  df = df.append({\"source_images_idx\": source_idx,\n"
     ]
    },
    {
     "name": "stdout",
     "output_type": "stream",
     "text": [
      "11 127 96 0\n",
      "1058\n",
      "11 127 96 52\n",
      "1059\n",
      "11 127 96 104\n",
      "1060\n",
      "11 127 96 155\n",
      "1061\n",
      "11 127 97 0\n",
      "1062\n"
     ]
    },
    {
     "name": "stderr",
     "output_type": "stream",
     "text": [
      "/tmp/ipykernel_3842719/849445217.py:76: FutureWarning: The frame.append method is deprecated and will be removed from pandas in a future version. Use pandas.concat instead.\n",
      "  df = df.append({\"source_images_idx\": source_idx,\n",
      "/tmp/ipykernel_3842719/849445217.py:76: FutureWarning: The frame.append method is deprecated and will be removed from pandas in a future version. Use pandas.concat instead.\n",
      "  df = df.append({\"source_images_idx\": source_idx,\n",
      "/tmp/ipykernel_3842719/849445217.py:76: FutureWarning: The frame.append method is deprecated and will be removed from pandas in a future version. Use pandas.concat instead.\n",
      "  df = df.append({\"source_images_idx\": source_idx,\n",
      "/tmp/ipykernel_3842719/849445217.py:76: FutureWarning: The frame.append method is deprecated and will be removed from pandas in a future version. Use pandas.concat instead.\n",
      "  df = df.append({\"source_images_idx\": source_idx,\n",
      "/tmp/ipykernel_3842719/849445217.py:76: FutureWarning: The frame.append method is deprecated and will be removed from pandas in a future version. Use pandas.concat instead.\n",
      "  df = df.append({\"source_images_idx\": source_idx,\n"
     ]
    },
    {
     "name": "stdout",
     "output_type": "stream",
     "text": [
      "11 127 97 52\n",
      "1063\n",
      "11 127 97 104\n",
      "1064\n",
      "11 127 97 155\n",
      "1065\n",
      "12 0 0 0\n",
      "1066\n",
      "12 0 0 75\n",
      "1067\n"
     ]
    },
    {
     "name": "stderr",
     "output_type": "stream",
     "text": [
      "/tmp/ipykernel_3842719/849445217.py:76: FutureWarning: The frame.append method is deprecated and will be removed from pandas in a future version. Use pandas.concat instead.\n",
      "  df = df.append({\"source_images_idx\": source_idx,\n",
      "/tmp/ipykernel_3842719/849445217.py:76: FutureWarning: The frame.append method is deprecated and will be removed from pandas in a future version. Use pandas.concat instead.\n",
      "  df = df.append({\"source_images_idx\": source_idx,\n",
      "/tmp/ipykernel_3842719/849445217.py:76: FutureWarning: The frame.append method is deprecated and will be removed from pandas in a future version. Use pandas.concat instead.\n",
      "  df = df.append({\"source_images_idx\": source_idx,\n",
      "/tmp/ipykernel_3842719/849445217.py:76: FutureWarning: The frame.append method is deprecated and will be removed from pandas in a future version. Use pandas.concat instead.\n",
      "  df = df.append({\"source_images_idx\": source_idx,\n",
      "/tmp/ipykernel_3842719/849445217.py:76: FutureWarning: The frame.append method is deprecated and will be removed from pandas in a future version. Use pandas.concat instead.\n",
      "  df = df.append({\"source_images_idx\": source_idx,\n"
     ]
    },
    {
     "name": "stdout",
     "output_type": "stream",
     "text": [
      "12 0 0 150\n",
      "1068\n",
      "12 0 0 225\n",
      "1069\n",
      "12 0 0 226\n",
      "1070\n",
      "12 0 7 0\n",
      "1071\n",
      "12 0 7 75\n",
      "1072\n"
     ]
    },
    {
     "name": "stderr",
     "output_type": "stream",
     "text": [
      "/tmp/ipykernel_3842719/849445217.py:76: FutureWarning: The frame.append method is deprecated and will be removed from pandas in a future version. Use pandas.concat instead.\n",
      "  df = df.append({\"source_images_idx\": source_idx,\n",
      "/tmp/ipykernel_3842719/849445217.py:76: FutureWarning: The frame.append method is deprecated and will be removed from pandas in a future version. Use pandas.concat instead.\n",
      "  df = df.append({\"source_images_idx\": source_idx,\n",
      "/tmp/ipykernel_3842719/849445217.py:76: FutureWarning: The frame.append method is deprecated and will be removed from pandas in a future version. Use pandas.concat instead.\n",
      "  df = df.append({\"source_images_idx\": source_idx,\n",
      "/tmp/ipykernel_3842719/849445217.py:76: FutureWarning: The frame.append method is deprecated and will be removed from pandas in a future version. Use pandas.concat instead.\n",
      "  df = df.append({\"source_images_idx\": source_idx,\n",
      "/tmp/ipykernel_3842719/849445217.py:76: FutureWarning: The frame.append method is deprecated and will be removed from pandas in a future version. Use pandas.concat instead.\n",
      "  df = df.append({\"source_images_idx\": source_idx,\n"
     ]
    },
    {
     "name": "stdout",
     "output_type": "stream",
     "text": [
      "12 0 7 150\n",
      "1073\n",
      "12 0 7 225\n",
      "1074\n",
      "12 0 7 226\n",
      "1075\n",
      "12 0 14 0\n",
      "1076\n",
      "12 0 14 75\n",
      "1077\n"
     ]
    },
    {
     "name": "stderr",
     "output_type": "stream",
     "text": [
      "/tmp/ipykernel_3842719/849445217.py:76: FutureWarning: The frame.append method is deprecated and will be removed from pandas in a future version. Use pandas.concat instead.\n",
      "  df = df.append({\"source_images_idx\": source_idx,\n",
      "/tmp/ipykernel_3842719/849445217.py:76: FutureWarning: The frame.append method is deprecated and will be removed from pandas in a future version. Use pandas.concat instead.\n",
      "  df = df.append({\"source_images_idx\": source_idx,\n",
      "/tmp/ipykernel_3842719/849445217.py:76: FutureWarning: The frame.append method is deprecated and will be removed from pandas in a future version. Use pandas.concat instead.\n",
      "  df = df.append({\"source_images_idx\": source_idx,\n",
      "/tmp/ipykernel_3842719/849445217.py:76: FutureWarning: The frame.append method is deprecated and will be removed from pandas in a future version. Use pandas.concat instead.\n",
      "  df = df.append({\"source_images_idx\": source_idx,\n",
      "/tmp/ipykernel_3842719/849445217.py:76: FutureWarning: The frame.append method is deprecated and will be removed from pandas in a future version. Use pandas.concat instead.\n",
      "  df = df.append({\"source_images_idx\": source_idx,\n"
     ]
    },
    {
     "name": "stdout",
     "output_type": "stream",
     "text": [
      "12 0 14 150\n",
      "1078\n",
      "12 0 14 225\n",
      "1079\n",
      "12 0 14 226\n",
      "1080\n",
      "12 0 20 0\n",
      "1081\n",
      "12 0 20 75\n",
      "1082\n"
     ]
    },
    {
     "name": "stderr",
     "output_type": "stream",
     "text": [
      "/tmp/ipykernel_3842719/849445217.py:76: FutureWarning: The frame.append method is deprecated and will be removed from pandas in a future version. Use pandas.concat instead.\n",
      "  df = df.append({\"source_images_idx\": source_idx,\n",
      "/tmp/ipykernel_3842719/849445217.py:76: FutureWarning: The frame.append method is deprecated and will be removed from pandas in a future version. Use pandas.concat instead.\n",
      "  df = df.append({\"source_images_idx\": source_idx,\n",
      "/tmp/ipykernel_3842719/849445217.py:76: FutureWarning: The frame.append method is deprecated and will be removed from pandas in a future version. Use pandas.concat instead.\n",
      "  df = df.append({\"source_images_idx\": source_idx,\n",
      "/tmp/ipykernel_3842719/849445217.py:76: FutureWarning: The frame.append method is deprecated and will be removed from pandas in a future version. Use pandas.concat instead.\n",
      "  df = df.append({\"source_images_idx\": source_idx,\n",
      "/tmp/ipykernel_3842719/849445217.py:76: FutureWarning: The frame.append method is deprecated and will be removed from pandas in a future version. Use pandas.concat instead.\n",
      "  df = df.append({\"source_images_idx\": source_idx,\n"
     ]
    },
    {
     "name": "stdout",
     "output_type": "stream",
     "text": [
      "12 0 20 150\n",
      "1083\n",
      "12 0 20 225\n",
      "1084\n",
      "12 0 20 226\n",
      "1085\n",
      "12 28 0 0\n",
      "1086\n",
      "12 28 0 75\n",
      "1087\n"
     ]
    },
    {
     "name": "stderr",
     "output_type": "stream",
     "text": [
      "/tmp/ipykernel_3842719/849445217.py:76: FutureWarning: The frame.append method is deprecated and will be removed from pandas in a future version. Use pandas.concat instead.\n",
      "  df = df.append({\"source_images_idx\": source_idx,\n",
      "/tmp/ipykernel_3842719/849445217.py:76: FutureWarning: The frame.append method is deprecated and will be removed from pandas in a future version. Use pandas.concat instead.\n",
      "  df = df.append({\"source_images_idx\": source_idx,\n",
      "/tmp/ipykernel_3842719/849445217.py:76: FutureWarning: The frame.append method is deprecated and will be removed from pandas in a future version. Use pandas.concat instead.\n",
      "  df = df.append({\"source_images_idx\": source_idx,\n",
      "/tmp/ipykernel_3842719/849445217.py:76: FutureWarning: The frame.append method is deprecated and will be removed from pandas in a future version. Use pandas.concat instead.\n",
      "  df = df.append({\"source_images_idx\": source_idx,\n",
      "/tmp/ipykernel_3842719/849445217.py:76: FutureWarning: The frame.append method is deprecated and will be removed from pandas in a future version. Use pandas.concat instead.\n",
      "  df = df.append({\"source_images_idx\": source_idx,\n"
     ]
    },
    {
     "name": "stdout",
     "output_type": "stream",
     "text": [
      "12 28 0 150\n",
      "1088\n",
      "12 28 0 225\n",
      "1089\n",
      "12 28 0 226\n",
      "1090\n",
      "12 28 7 0\n",
      "1091\n",
      "12 28 7 75\n",
      "1092\n"
     ]
    },
    {
     "name": "stderr",
     "output_type": "stream",
     "text": [
      "/tmp/ipykernel_3842719/849445217.py:76: FutureWarning: The frame.append method is deprecated and will be removed from pandas in a future version. Use pandas.concat instead.\n",
      "  df = df.append({\"source_images_idx\": source_idx,\n",
      "/tmp/ipykernel_3842719/849445217.py:76: FutureWarning: The frame.append method is deprecated and will be removed from pandas in a future version. Use pandas.concat instead.\n",
      "  df = df.append({\"source_images_idx\": source_idx,\n",
      "/tmp/ipykernel_3842719/849445217.py:76: FutureWarning: The frame.append method is deprecated and will be removed from pandas in a future version. Use pandas.concat instead.\n",
      "  df = df.append({\"source_images_idx\": source_idx,\n",
      "/tmp/ipykernel_3842719/849445217.py:76: FutureWarning: The frame.append method is deprecated and will be removed from pandas in a future version. Use pandas.concat instead.\n",
      "  df = df.append({\"source_images_idx\": source_idx,\n",
      "/tmp/ipykernel_3842719/849445217.py:76: FutureWarning: The frame.append method is deprecated and will be removed from pandas in a future version. Use pandas.concat instead.\n",
      "  df = df.append({\"source_images_idx\": source_idx,\n"
     ]
    },
    {
     "name": "stdout",
     "output_type": "stream",
     "text": [
      "12 28 7 150\n",
      "1093\n",
      "12 28 7 225\n",
      "1094\n",
      "12 28 7 226\n",
      "1095\n",
      "12 28 14 0\n",
      "1096\n",
      "12 28 14 75\n",
      "1097\n"
     ]
    },
    {
     "name": "stderr",
     "output_type": "stream",
     "text": [
      "/tmp/ipykernel_3842719/849445217.py:76: FutureWarning: The frame.append method is deprecated and will be removed from pandas in a future version. Use pandas.concat instead.\n",
      "  df = df.append({\"source_images_idx\": source_idx,\n",
      "/tmp/ipykernel_3842719/849445217.py:76: FutureWarning: The frame.append method is deprecated and will be removed from pandas in a future version. Use pandas.concat instead.\n",
      "  df = df.append({\"source_images_idx\": source_idx,\n",
      "/tmp/ipykernel_3842719/849445217.py:76: FutureWarning: The frame.append method is deprecated and will be removed from pandas in a future version. Use pandas.concat instead.\n",
      "  df = df.append({\"source_images_idx\": source_idx,\n",
      "/tmp/ipykernel_3842719/849445217.py:76: FutureWarning: The frame.append method is deprecated and will be removed from pandas in a future version. Use pandas.concat instead.\n",
      "  df = df.append({\"source_images_idx\": source_idx,\n",
      "/tmp/ipykernel_3842719/849445217.py:76: FutureWarning: The frame.append method is deprecated and will be removed from pandas in a future version. Use pandas.concat instead.\n",
      "  df = df.append({\"source_images_idx\": source_idx,\n"
     ]
    },
    {
     "name": "stdout",
     "output_type": "stream",
     "text": [
      "12 28 14 150\n",
      "1098\n",
      "12 28 14 225\n",
      "1099\n",
      "12 28 14 226\n",
      "1100\n",
      "12 28 20 0\n",
      "1101\n",
      "12 28 20 75\n",
      "1102\n"
     ]
    },
    {
     "name": "stderr",
     "output_type": "stream",
     "text": [
      "/tmp/ipykernel_3842719/849445217.py:76: FutureWarning: The frame.append method is deprecated and will be removed from pandas in a future version. Use pandas.concat instead.\n",
      "  df = df.append({\"source_images_idx\": source_idx,\n",
      "/tmp/ipykernel_3842719/849445217.py:76: FutureWarning: The frame.append method is deprecated and will be removed from pandas in a future version. Use pandas.concat instead.\n",
      "  df = df.append({\"source_images_idx\": source_idx,\n",
      "/tmp/ipykernel_3842719/849445217.py:76: FutureWarning: The frame.append method is deprecated and will be removed from pandas in a future version. Use pandas.concat instead.\n",
      "  df = df.append({\"source_images_idx\": source_idx,\n",
      "/tmp/ipykernel_3842719/849445217.py:76: FutureWarning: The frame.append method is deprecated and will be removed from pandas in a future version. Use pandas.concat instead.\n",
      "  df = df.append({\"source_images_idx\": source_idx,\n",
      "/tmp/ipykernel_3842719/849445217.py:76: FutureWarning: The frame.append method is deprecated and will be removed from pandas in a future version. Use pandas.concat instead.\n",
      "  df = df.append({\"source_images_idx\": source_idx,\n"
     ]
    },
    {
     "name": "stdout",
     "output_type": "stream",
     "text": [
      "12 28 20 150\n",
      "1103\n",
      "12 28 20 225\n",
      "1104\n",
      "12 28 20 226\n",
      "1105\n",
      "12 56 0 0\n",
      "1106\n",
      "12 56 0 75\n",
      "1107\n"
     ]
    },
    {
     "name": "stderr",
     "output_type": "stream",
     "text": [
      "/tmp/ipykernel_3842719/849445217.py:76: FutureWarning: The frame.append method is deprecated and will be removed from pandas in a future version. Use pandas.concat instead.\n",
      "  df = df.append({\"source_images_idx\": source_idx,\n",
      "/tmp/ipykernel_3842719/849445217.py:76: FutureWarning: The frame.append method is deprecated and will be removed from pandas in a future version. Use pandas.concat instead.\n",
      "  df = df.append({\"source_images_idx\": source_idx,\n",
      "/tmp/ipykernel_3842719/849445217.py:76: FutureWarning: The frame.append method is deprecated and will be removed from pandas in a future version. Use pandas.concat instead.\n",
      "  df = df.append({\"source_images_idx\": source_idx,\n",
      "/tmp/ipykernel_3842719/849445217.py:76: FutureWarning: The frame.append method is deprecated and will be removed from pandas in a future version. Use pandas.concat instead.\n",
      "  df = df.append({\"source_images_idx\": source_idx,\n"
     ]
    },
    {
     "name": "stdout",
     "output_type": "stream",
     "text": [
      "12 56 0 150\n",
      "1108\n",
      "12 56 0 225\n",
      "1109\n",
      "12 56 0 226\n",
      "1110\n",
      "12 56 7 0\n",
      "1111\n"
     ]
    },
    {
     "name": "stderr",
     "output_type": "stream",
     "text": [
      "/tmp/ipykernel_3842719/849445217.py:76: FutureWarning: The frame.append method is deprecated and will be removed from pandas in a future version. Use pandas.concat instead.\n",
      "  df = df.append({\"source_images_idx\": source_idx,\n",
      "/tmp/ipykernel_3842719/849445217.py:76: FutureWarning: The frame.append method is deprecated and will be removed from pandas in a future version. Use pandas.concat instead.\n",
      "  df = df.append({\"source_images_idx\": source_idx,\n",
      "/tmp/ipykernel_3842719/849445217.py:76: FutureWarning: The frame.append method is deprecated and will be removed from pandas in a future version. Use pandas.concat instead.\n",
      "  df = df.append({\"source_images_idx\": source_idx,\n"
     ]
    },
    {
     "name": "stdout",
     "output_type": "stream",
     "text": [
      "12 56 7 75\n",
      "1112\n",
      "12 56 7 150\n",
      "1113\n",
      "12 56 7 225\n",
      "1114\n"
     ]
    },
    {
     "name": "stderr",
     "output_type": "stream",
     "text": [
      "/tmp/ipykernel_3842719/849445217.py:76: FutureWarning: The frame.append method is deprecated and will be removed from pandas in a future version. Use pandas.concat instead.\n",
      "  df = df.append({\"source_images_idx\": source_idx,\n",
      "/tmp/ipykernel_3842719/849445217.py:76: FutureWarning: The frame.append method is deprecated and will be removed from pandas in a future version. Use pandas.concat instead.\n",
      "  df = df.append({\"source_images_idx\": source_idx,\n",
      "/tmp/ipykernel_3842719/849445217.py:76: FutureWarning: The frame.append method is deprecated and will be removed from pandas in a future version. Use pandas.concat instead.\n",
      "  df = df.append({\"source_images_idx\": source_idx,\n"
     ]
    },
    {
     "name": "stdout",
     "output_type": "stream",
     "text": [
      "12 56 7 226\n",
      "1115\n",
      "12 56 14 0\n",
      "1116\n",
      "12 56 14 75\n",
      "1117\n"
     ]
    },
    {
     "name": "stderr",
     "output_type": "stream",
     "text": [
      "/tmp/ipykernel_3842719/849445217.py:76: FutureWarning: The frame.append method is deprecated and will be removed from pandas in a future version. Use pandas.concat instead.\n",
      "  df = df.append({\"source_images_idx\": source_idx,\n",
      "/tmp/ipykernel_3842719/849445217.py:76: FutureWarning: The frame.append method is deprecated and will be removed from pandas in a future version. Use pandas.concat instead.\n",
      "  df = df.append({\"source_images_idx\": source_idx,\n",
      "/tmp/ipykernel_3842719/849445217.py:76: FutureWarning: The frame.append method is deprecated and will be removed from pandas in a future version. Use pandas.concat instead.\n",
      "  df = df.append({\"source_images_idx\": source_idx,\n"
     ]
    },
    {
     "name": "stdout",
     "output_type": "stream",
     "text": [
      "12 56 14 150\n",
      "1118\n",
      "12 56 14 225\n",
      "1119\n",
      "12 56 14 226\n",
      "1120\n"
     ]
    },
    {
     "name": "stderr",
     "output_type": "stream",
     "text": [
      "/tmp/ipykernel_3842719/849445217.py:76: FutureWarning: The frame.append method is deprecated and will be removed from pandas in a future version. Use pandas.concat instead.\n",
      "  df = df.append({\"source_images_idx\": source_idx,\n",
      "/tmp/ipykernel_3842719/849445217.py:76: FutureWarning: The frame.append method is deprecated and will be removed from pandas in a future version. Use pandas.concat instead.\n",
      "  df = df.append({\"source_images_idx\": source_idx,\n",
      "/tmp/ipykernel_3842719/849445217.py:76: FutureWarning: The frame.append method is deprecated and will be removed from pandas in a future version. Use pandas.concat instead.\n",
      "  df = df.append({\"source_images_idx\": source_idx,\n"
     ]
    },
    {
     "name": "stdout",
     "output_type": "stream",
     "text": [
      "12 56 20 0\n",
      "1121\n",
      "12 56 20 75\n",
      "1122\n",
      "12 56 20 150\n",
      "1123\n"
     ]
    },
    {
     "name": "stderr",
     "output_type": "stream",
     "text": [
      "/tmp/ipykernel_3842719/849445217.py:76: FutureWarning: The frame.append method is deprecated and will be removed from pandas in a future version. Use pandas.concat instead.\n",
      "  df = df.append({\"source_images_idx\": source_idx,\n",
      "/tmp/ipykernel_3842719/849445217.py:76: FutureWarning: The frame.append method is deprecated and will be removed from pandas in a future version. Use pandas.concat instead.\n",
      "  df = df.append({\"source_images_idx\": source_idx,\n",
      "/tmp/ipykernel_3842719/849445217.py:76: FutureWarning: The frame.append method is deprecated and will be removed from pandas in a future version. Use pandas.concat instead.\n",
      "  df = df.append({\"source_images_idx\": source_idx,\n"
     ]
    },
    {
     "name": "stdout",
     "output_type": "stream",
     "text": [
      "12 56 20 225\n",
      "1124\n",
      "12 56 20 226\n",
      "1125\n",
      "12 83 0 0\n",
      "1126\n"
     ]
    },
    {
     "name": "stderr",
     "output_type": "stream",
     "text": [
      "/tmp/ipykernel_3842719/849445217.py:76: FutureWarning: The frame.append method is deprecated and will be removed from pandas in a future version. Use pandas.concat instead.\n",
      "  df = df.append({\"source_images_idx\": source_idx,\n",
      "/tmp/ipykernel_3842719/849445217.py:76: FutureWarning: The frame.append method is deprecated and will be removed from pandas in a future version. Use pandas.concat instead.\n",
      "  df = df.append({\"source_images_idx\": source_idx,\n",
      "/tmp/ipykernel_3842719/849445217.py:76: FutureWarning: The frame.append method is deprecated and will be removed from pandas in a future version. Use pandas.concat instead.\n",
      "  df = df.append({\"source_images_idx\": source_idx,\n"
     ]
    },
    {
     "name": "stdout",
     "output_type": "stream",
     "text": [
      "12 83 0 75\n",
      "1127\n",
      "12 83 0 150\n",
      "1128\n",
      "12 83 0 225\n",
      "1129\n"
     ]
    },
    {
     "name": "stderr",
     "output_type": "stream",
     "text": [
      "/tmp/ipykernel_3842719/849445217.py:76: FutureWarning: The frame.append method is deprecated and will be removed from pandas in a future version. Use pandas.concat instead.\n",
      "  df = df.append({\"source_images_idx\": source_idx,\n",
      "/tmp/ipykernel_3842719/849445217.py:76: FutureWarning: The frame.append method is deprecated and will be removed from pandas in a future version. Use pandas.concat instead.\n",
      "  df = df.append({\"source_images_idx\": source_idx,\n",
      "/tmp/ipykernel_3842719/849445217.py:76: FutureWarning: The frame.append method is deprecated and will be removed from pandas in a future version. Use pandas.concat instead.\n",
      "  df = df.append({\"source_images_idx\": source_idx,\n",
      "/tmp/ipykernel_3842719/849445217.py:76: FutureWarning: The frame.append method is deprecated and will be removed from pandas in a future version. Use pandas.concat instead.\n",
      "  df = df.append({\"source_images_idx\": source_idx,\n",
      "/tmp/ipykernel_3842719/849445217.py:76: FutureWarning: The frame.append method is deprecated and will be removed from pandas in a future version. Use pandas.concat instead.\n",
      "  df = df.append({\"source_images_idx\": source_idx,\n"
     ]
    },
    {
     "name": "stdout",
     "output_type": "stream",
     "text": [
      "12 83 0 226\n",
      "1130\n",
      "12 83 7 0\n",
      "1131\n",
      "12 83 7 75\n",
      "1132\n",
      "12 83 7 150\n",
      "1133\n",
      "12 83 7 225\n",
      "1134\n"
     ]
    },
    {
     "name": "stderr",
     "output_type": "stream",
     "text": [
      "/tmp/ipykernel_3842719/849445217.py:76: FutureWarning: The frame.append method is deprecated and will be removed from pandas in a future version. Use pandas.concat instead.\n",
      "  df = df.append({\"source_images_idx\": source_idx,\n",
      "/tmp/ipykernel_3842719/849445217.py:76: FutureWarning: The frame.append method is deprecated and will be removed from pandas in a future version. Use pandas.concat instead.\n",
      "  df = df.append({\"source_images_idx\": source_idx,\n",
      "/tmp/ipykernel_3842719/849445217.py:76: FutureWarning: The frame.append method is deprecated and will be removed from pandas in a future version. Use pandas.concat instead.\n",
      "  df = df.append({\"source_images_idx\": source_idx,\n",
      "/tmp/ipykernel_3842719/849445217.py:76: FutureWarning: The frame.append method is deprecated and will be removed from pandas in a future version. Use pandas.concat instead.\n",
      "  df = df.append({\"source_images_idx\": source_idx,\n",
      "/tmp/ipykernel_3842719/849445217.py:76: FutureWarning: The frame.append method is deprecated and will be removed from pandas in a future version. Use pandas.concat instead.\n",
      "  df = df.append({\"source_images_idx\": source_idx,\n"
     ]
    },
    {
     "name": "stdout",
     "output_type": "stream",
     "text": [
      "12 83 7 226\n",
      "1135\n",
      "12 83 14 0\n",
      "1136\n",
      "12 83 14 75\n",
      "1137\n",
      "12 83 14 150\n",
      "1138\n",
      "12 83 14 225\n",
      "1139\n"
     ]
    },
    {
     "name": "stderr",
     "output_type": "stream",
     "text": [
      "/tmp/ipykernel_3842719/849445217.py:76: FutureWarning: The frame.append method is deprecated and will be removed from pandas in a future version. Use pandas.concat instead.\n",
      "  df = df.append({\"source_images_idx\": source_idx,\n",
      "/tmp/ipykernel_3842719/849445217.py:76: FutureWarning: The frame.append method is deprecated and will be removed from pandas in a future version. Use pandas.concat instead.\n",
      "  df = df.append({\"source_images_idx\": source_idx,\n",
      "/tmp/ipykernel_3842719/849445217.py:76: FutureWarning: The frame.append method is deprecated and will be removed from pandas in a future version. Use pandas.concat instead.\n",
      "  df = df.append({\"source_images_idx\": source_idx,\n",
      "/tmp/ipykernel_3842719/849445217.py:76: FutureWarning: The frame.append method is deprecated and will be removed from pandas in a future version. Use pandas.concat instead.\n",
      "  df = df.append({\"source_images_idx\": source_idx,\n",
      "/tmp/ipykernel_3842719/849445217.py:76: FutureWarning: The frame.append method is deprecated and will be removed from pandas in a future version. Use pandas.concat instead.\n",
      "  df = df.append({\"source_images_idx\": source_idx,\n"
     ]
    },
    {
     "name": "stdout",
     "output_type": "stream",
     "text": [
      "12 83 14 226\n",
      "1140\n",
      "12 83 20 0\n",
      "1141\n",
      "12 83 20 75\n",
      "1142\n",
      "12 83 20 150\n",
      "1143\n",
      "12 83 20 225\n",
      "1144\n"
     ]
    },
    {
     "name": "stderr",
     "output_type": "stream",
     "text": [
      "/tmp/ipykernel_3842719/849445217.py:76: FutureWarning: The frame.append method is deprecated and will be removed from pandas in a future version. Use pandas.concat instead.\n",
      "  df = df.append({\"source_images_idx\": source_idx,\n",
      "/tmp/ipykernel_3842719/849445217.py:76: FutureWarning: The frame.append method is deprecated and will be removed from pandas in a future version. Use pandas.concat instead.\n",
      "  df = df.append({\"source_images_idx\": source_idx,\n",
      "/tmp/ipykernel_3842719/849445217.py:76: FutureWarning: The frame.append method is deprecated and will be removed from pandas in a future version. Use pandas.concat instead.\n",
      "  df = df.append({\"source_images_idx\": source_idx,\n",
      "/tmp/ipykernel_3842719/849445217.py:76: FutureWarning: The frame.append method is deprecated and will be removed from pandas in a future version. Use pandas.concat instead.\n",
      "  df = df.append({\"source_images_idx\": source_idx,\n",
      "/tmp/ipykernel_3842719/849445217.py:76: FutureWarning: The frame.append method is deprecated and will be removed from pandas in a future version. Use pandas.concat instead.\n",
      "  df = df.append({\"source_images_idx\": source_idx,\n"
     ]
    },
    {
     "name": "stdout",
     "output_type": "stream",
     "text": [
      "12 83 20 226\n",
      "1145\n",
      "13 0 0 0\n",
      "1146\n",
      "13 0 0 39\n",
      "1147\n",
      "13 0 0 78\n",
      "1148\n",
      "13 0 0 117\n",
      "1149\n"
     ]
    },
    {
     "name": "stderr",
     "output_type": "stream",
     "text": [
      "/tmp/ipykernel_3842719/849445217.py:76: FutureWarning: The frame.append method is deprecated and will be removed from pandas in a future version. Use pandas.concat instead.\n",
      "  df = df.append({\"source_images_idx\": source_idx,\n",
      "/tmp/ipykernel_3842719/849445217.py:76: FutureWarning: The frame.append method is deprecated and will be removed from pandas in a future version. Use pandas.concat instead.\n",
      "  df = df.append({\"source_images_idx\": source_idx,\n",
      "/tmp/ipykernel_3842719/849445217.py:76: FutureWarning: The frame.append method is deprecated and will be removed from pandas in a future version. Use pandas.concat instead.\n",
      "  df = df.append({\"source_images_idx\": source_idx,\n",
      "/tmp/ipykernel_3842719/849445217.py:76: FutureWarning: The frame.append method is deprecated and will be removed from pandas in a future version. Use pandas.concat instead.\n",
      "  df = df.append({\"source_images_idx\": source_idx,\n",
      "/tmp/ipykernel_3842719/849445217.py:76: FutureWarning: The frame.append method is deprecated and will be removed from pandas in a future version. Use pandas.concat instead.\n",
      "  df = df.append({\"source_images_idx\": source_idx,\n"
     ]
    },
    {
     "name": "stdout",
     "output_type": "stream",
     "text": [
      "13 0 15 0\n",
      "1150\n",
      "13 0 15 39\n",
      "1151\n",
      "13 0 15 78\n",
      "1152\n",
      "13 0 15 117\n",
      "1153\n",
      "13 0 30 0\n",
      "1154\n"
     ]
    },
    {
     "name": "stderr",
     "output_type": "stream",
     "text": [
      "/tmp/ipykernel_3842719/849445217.py:76: FutureWarning: The frame.append method is deprecated and will be removed from pandas in a future version. Use pandas.concat instead.\n",
      "  df = df.append({\"source_images_idx\": source_idx,\n",
      "/tmp/ipykernel_3842719/849445217.py:76: FutureWarning: The frame.append method is deprecated and will be removed from pandas in a future version. Use pandas.concat instead.\n",
      "  df = df.append({\"source_images_idx\": source_idx,\n",
      "/tmp/ipykernel_3842719/849445217.py:76: FutureWarning: The frame.append method is deprecated and will be removed from pandas in a future version. Use pandas.concat instead.\n",
      "  df = df.append({\"source_images_idx\": source_idx,\n",
      "/tmp/ipykernel_3842719/849445217.py:76: FutureWarning: The frame.append method is deprecated and will be removed from pandas in a future version. Use pandas.concat instead.\n",
      "  df = df.append({\"source_images_idx\": source_idx,\n",
      "/tmp/ipykernel_3842719/849445217.py:76: FutureWarning: The frame.append method is deprecated and will be removed from pandas in a future version. Use pandas.concat instead.\n",
      "  df = df.append({\"source_images_idx\": source_idx,\n"
     ]
    },
    {
     "name": "stdout",
     "output_type": "stream",
     "text": [
      "13 0 30 39\n",
      "1155\n",
      "13 0 30 78\n",
      "1156\n",
      "13 0 30 117\n",
      "1157\n",
      "13 0 45 0\n",
      "1158\n",
      "13 0 45 39\n",
      "1159\n"
     ]
    },
    {
     "name": "stderr",
     "output_type": "stream",
     "text": [
      "/tmp/ipykernel_3842719/849445217.py:76: FutureWarning: The frame.append method is deprecated and will be removed from pandas in a future version. Use pandas.concat instead.\n",
      "  df = df.append({\"source_images_idx\": source_idx,\n",
      "/tmp/ipykernel_3842719/849445217.py:76: FutureWarning: The frame.append method is deprecated and will be removed from pandas in a future version. Use pandas.concat instead.\n",
      "  df = df.append({\"source_images_idx\": source_idx,\n",
      "/tmp/ipykernel_3842719/849445217.py:76: FutureWarning: The frame.append method is deprecated and will be removed from pandas in a future version. Use pandas.concat instead.\n",
      "  df = df.append({\"source_images_idx\": source_idx,\n",
      "/tmp/ipykernel_3842719/849445217.py:76: FutureWarning: The frame.append method is deprecated and will be removed from pandas in a future version. Use pandas.concat instead.\n",
      "  df = df.append({\"source_images_idx\": source_idx,\n",
      "/tmp/ipykernel_3842719/849445217.py:76: FutureWarning: The frame.append method is deprecated and will be removed from pandas in a future version. Use pandas.concat instead.\n",
      "  df = df.append({\"source_images_idx\": source_idx,\n"
     ]
    },
    {
     "name": "stdout",
     "output_type": "stream",
     "text": [
      "13 0 45 78\n",
      "1160\n",
      "13 0 45 117\n",
      "1161\n",
      "13 0 46 0\n",
      "1162\n",
      "13 0 46 39\n",
      "1163\n",
      "13 0 46 78\n",
      "1164\n"
     ]
    },
    {
     "name": "stderr",
     "output_type": "stream",
     "text": [
      "/tmp/ipykernel_3842719/849445217.py:76: FutureWarning: The frame.append method is deprecated and will be removed from pandas in a future version. Use pandas.concat instead.\n",
      "  df = df.append({\"source_images_idx\": source_idx,\n",
      "/tmp/ipykernel_3842719/849445217.py:76: FutureWarning: The frame.append method is deprecated and will be removed from pandas in a future version. Use pandas.concat instead.\n",
      "  df = df.append({\"source_images_idx\": source_idx,\n",
      "/tmp/ipykernel_3842719/849445217.py:76: FutureWarning: The frame.append method is deprecated and will be removed from pandas in a future version. Use pandas.concat instead.\n",
      "  df = df.append({\"source_images_idx\": source_idx,\n",
      "/tmp/ipykernel_3842719/849445217.py:76: FutureWarning: The frame.append method is deprecated and will be removed from pandas in a future version. Use pandas.concat instead.\n",
      "  df = df.append({\"source_images_idx\": source_idx,\n",
      "/tmp/ipykernel_3842719/849445217.py:76: FutureWarning: The frame.append method is deprecated and will be removed from pandas in a future version. Use pandas.concat instead.\n",
      "  df = df.append({\"source_images_idx\": source_idx,\n"
     ]
    },
    {
     "name": "stdout",
     "output_type": "stream",
     "text": [
      "13 0 46 117\n",
      "1165\n",
      "13 23 0 0\n",
      "1166\n",
      "13 23 0 39\n",
      "1167\n",
      "13 23 0 78\n",
      "1168\n",
      "13 23 0 117\n",
      "1169\n"
     ]
    },
    {
     "name": "stderr",
     "output_type": "stream",
     "text": [
      "/tmp/ipykernel_3842719/849445217.py:76: FutureWarning: The frame.append method is deprecated and will be removed from pandas in a future version. Use pandas.concat instead.\n",
      "  df = df.append({\"source_images_idx\": source_idx,\n",
      "/tmp/ipykernel_3842719/849445217.py:76: FutureWarning: The frame.append method is deprecated and will be removed from pandas in a future version. Use pandas.concat instead.\n",
      "  df = df.append({\"source_images_idx\": source_idx,\n",
      "/tmp/ipykernel_3842719/849445217.py:76: FutureWarning: The frame.append method is deprecated and will be removed from pandas in a future version. Use pandas.concat instead.\n",
      "  df = df.append({\"source_images_idx\": source_idx,\n",
      "/tmp/ipykernel_3842719/849445217.py:76: FutureWarning: The frame.append method is deprecated and will be removed from pandas in a future version. Use pandas.concat instead.\n",
      "  df = df.append({\"source_images_idx\": source_idx,\n",
      "/tmp/ipykernel_3842719/849445217.py:76: FutureWarning: The frame.append method is deprecated and will be removed from pandas in a future version. Use pandas.concat instead.\n",
      "  df = df.append({\"source_images_idx\": source_idx,\n"
     ]
    },
    {
     "name": "stdout",
     "output_type": "stream",
     "text": [
      "13 23 15 0\n",
      "1170\n",
      "13 23 15 39\n",
      "1171\n",
      "13 23 15 78\n",
      "1172\n",
      "13 23 15 117\n",
      "1173\n",
      "13 23 30 0\n",
      "1174\n"
     ]
    },
    {
     "name": "stderr",
     "output_type": "stream",
     "text": [
      "/tmp/ipykernel_3842719/849445217.py:76: FutureWarning: The frame.append method is deprecated and will be removed from pandas in a future version. Use pandas.concat instead.\n",
      "  df = df.append({\"source_images_idx\": source_idx,\n",
      "/tmp/ipykernel_3842719/849445217.py:76: FutureWarning: The frame.append method is deprecated and will be removed from pandas in a future version. Use pandas.concat instead.\n",
      "  df = df.append({\"source_images_idx\": source_idx,\n",
      "/tmp/ipykernel_3842719/849445217.py:76: FutureWarning: The frame.append method is deprecated and will be removed from pandas in a future version. Use pandas.concat instead.\n",
      "  df = df.append({\"source_images_idx\": source_idx,\n",
      "/tmp/ipykernel_3842719/849445217.py:76: FutureWarning: The frame.append method is deprecated and will be removed from pandas in a future version. Use pandas.concat instead.\n",
      "  df = df.append({\"source_images_idx\": source_idx,\n",
      "/tmp/ipykernel_3842719/849445217.py:76: FutureWarning: The frame.append method is deprecated and will be removed from pandas in a future version. Use pandas.concat instead.\n",
      "  df = df.append({\"source_images_idx\": source_idx,\n"
     ]
    },
    {
     "name": "stdout",
     "output_type": "stream",
     "text": [
      "13 23 30 39\n",
      "1175\n",
      "13 23 30 78\n",
      "1176\n",
      "13 23 30 117\n",
      "1177\n",
      "13 23 45 0\n",
      "1178\n",
      "13 23 45 39\n",
      "1179\n"
     ]
    },
    {
     "name": "stderr",
     "output_type": "stream",
     "text": [
      "/tmp/ipykernel_3842719/849445217.py:76: FutureWarning: The frame.append method is deprecated and will be removed from pandas in a future version. Use pandas.concat instead.\n",
      "  df = df.append({\"source_images_idx\": source_idx,\n",
      "/tmp/ipykernel_3842719/849445217.py:76: FutureWarning: The frame.append method is deprecated and will be removed from pandas in a future version. Use pandas.concat instead.\n",
      "  df = df.append({\"source_images_idx\": source_idx,\n",
      "/tmp/ipykernel_3842719/849445217.py:76: FutureWarning: The frame.append method is deprecated and will be removed from pandas in a future version. Use pandas.concat instead.\n",
      "  df = df.append({\"source_images_idx\": source_idx,\n",
      "/tmp/ipykernel_3842719/849445217.py:76: FutureWarning: The frame.append method is deprecated and will be removed from pandas in a future version. Use pandas.concat instead.\n",
      "  df = df.append({\"source_images_idx\": source_idx,\n",
      "/tmp/ipykernel_3842719/849445217.py:76: FutureWarning: The frame.append method is deprecated and will be removed from pandas in a future version. Use pandas.concat instead.\n",
      "  df = df.append({\"source_images_idx\": source_idx,\n"
     ]
    },
    {
     "name": "stdout",
     "output_type": "stream",
     "text": [
      "13 23 45 78\n",
      "1180\n",
      "13 23 45 117\n",
      "1181\n",
      "13 23 46 0\n",
      "1182\n",
      "13 23 46 39\n",
      "1183\n",
      "13 23 46 78\n",
      "1184\n"
     ]
    },
    {
     "name": "stderr",
     "output_type": "stream",
     "text": [
      "/tmp/ipykernel_3842719/849445217.py:76: FutureWarning: The frame.append method is deprecated and will be removed from pandas in a future version. Use pandas.concat instead.\n",
      "  df = df.append({\"source_images_idx\": source_idx,\n",
      "/tmp/ipykernel_3842719/849445217.py:76: FutureWarning: The frame.append method is deprecated and will be removed from pandas in a future version. Use pandas.concat instead.\n",
      "  df = df.append({\"source_images_idx\": source_idx,\n",
      "/tmp/ipykernel_3842719/849445217.py:76: FutureWarning: The frame.append method is deprecated and will be removed from pandas in a future version. Use pandas.concat instead.\n",
      "  df = df.append({\"source_images_idx\": source_idx,\n"
     ]
    },
    {
     "name": "stdout",
     "output_type": "stream",
     "text": [
      "13 23 46 117\n",
      "1185\n",
      "13 46 0 0\n",
      "1186\n",
      "13 46 0 39\n",
      "1187\n"
     ]
    },
    {
     "name": "stderr",
     "output_type": "stream",
     "text": [
      "/tmp/ipykernel_3842719/849445217.py:76: FutureWarning: The frame.append method is deprecated and will be removed from pandas in a future version. Use pandas.concat instead.\n",
      "  df = df.append({\"source_images_idx\": source_idx,\n",
      "/tmp/ipykernel_3842719/849445217.py:76: FutureWarning: The frame.append method is deprecated and will be removed from pandas in a future version. Use pandas.concat instead.\n",
      "  df = df.append({\"source_images_idx\": source_idx,\n",
      "/tmp/ipykernel_3842719/849445217.py:76: FutureWarning: The frame.append method is deprecated and will be removed from pandas in a future version. Use pandas.concat instead.\n",
      "  df = df.append({\"source_images_idx\": source_idx,\n"
     ]
    },
    {
     "name": "stdout",
     "output_type": "stream",
     "text": [
      "13 46 0 78\n",
      "1188\n",
      "13 46 0 117\n",
      "1189\n",
      "13 46 15 0\n",
      "1190\n"
     ]
    },
    {
     "name": "stderr",
     "output_type": "stream",
     "text": [
      "/tmp/ipykernel_3842719/849445217.py:76: FutureWarning: The frame.append method is deprecated and will be removed from pandas in a future version. Use pandas.concat instead.\n",
      "  df = df.append({\"source_images_idx\": source_idx,\n",
      "/tmp/ipykernel_3842719/849445217.py:76: FutureWarning: The frame.append method is deprecated and will be removed from pandas in a future version. Use pandas.concat instead.\n",
      "  df = df.append({\"source_images_idx\": source_idx,\n",
      "/tmp/ipykernel_3842719/849445217.py:76: FutureWarning: The frame.append method is deprecated and will be removed from pandas in a future version. Use pandas.concat instead.\n",
      "  df = df.append({\"source_images_idx\": source_idx,\n"
     ]
    },
    {
     "name": "stdout",
     "output_type": "stream",
     "text": [
      "13 46 15 39\n",
      "1191\n",
      "13 46 15 78\n",
      "1192\n",
      "13 46 15 117\n",
      "1193\n"
     ]
    },
    {
     "name": "stderr",
     "output_type": "stream",
     "text": [
      "/tmp/ipykernel_3842719/849445217.py:76: FutureWarning: The frame.append method is deprecated and will be removed from pandas in a future version. Use pandas.concat instead.\n",
      "  df = df.append({\"source_images_idx\": source_idx,\n",
      "/tmp/ipykernel_3842719/849445217.py:76: FutureWarning: The frame.append method is deprecated and will be removed from pandas in a future version. Use pandas.concat instead.\n",
      "  df = df.append({\"source_images_idx\": source_idx,\n",
      "/tmp/ipykernel_3842719/849445217.py:76: FutureWarning: The frame.append method is deprecated and will be removed from pandas in a future version. Use pandas.concat instead.\n",
      "  df = df.append({\"source_images_idx\": source_idx,\n"
     ]
    },
    {
     "name": "stdout",
     "output_type": "stream",
     "text": [
      "13 46 30 0\n",
      "1194\n",
      "13 46 30 39\n",
      "1195\n",
      "13 46 30 78\n",
      "1196\n"
     ]
    },
    {
     "name": "stderr",
     "output_type": "stream",
     "text": [
      "/tmp/ipykernel_3842719/849445217.py:76: FutureWarning: The frame.append method is deprecated and will be removed from pandas in a future version. Use pandas.concat instead.\n",
      "  df = df.append({\"source_images_idx\": source_idx,\n",
      "/tmp/ipykernel_3842719/849445217.py:76: FutureWarning: The frame.append method is deprecated and will be removed from pandas in a future version. Use pandas.concat instead.\n",
      "  df = df.append({\"source_images_idx\": source_idx,\n",
      "/tmp/ipykernel_3842719/849445217.py:76: FutureWarning: The frame.append method is deprecated and will be removed from pandas in a future version. Use pandas.concat instead.\n",
      "  df = df.append({\"source_images_idx\": source_idx,\n"
     ]
    },
    {
     "name": "stdout",
     "output_type": "stream",
     "text": [
      "13 46 30 117\n",
      "1197\n",
      "13 46 45 0\n",
      "1198\n",
      "13 46 45 39\n",
      "1199\n"
     ]
    },
    {
     "name": "stderr",
     "output_type": "stream",
     "text": [
      "/tmp/ipykernel_3842719/849445217.py:76: FutureWarning: The frame.append method is deprecated and will be removed from pandas in a future version. Use pandas.concat instead.\n",
      "  df = df.append({\"source_images_idx\": source_idx,\n",
      "/tmp/ipykernel_3842719/849445217.py:76: FutureWarning: The frame.append method is deprecated and will be removed from pandas in a future version. Use pandas.concat instead.\n",
      "  df = df.append({\"source_images_idx\": source_idx,\n",
      "/tmp/ipykernel_3842719/849445217.py:76: FutureWarning: The frame.append method is deprecated and will be removed from pandas in a future version. Use pandas.concat instead.\n",
      "  df = df.append({\"source_images_idx\": source_idx,\n"
     ]
    },
    {
     "name": "stdout",
     "output_type": "stream",
     "text": [
      "13 46 45 78\n",
      "1200\n",
      "13 46 45 117\n",
      "1201\n",
      "13 46 46 0\n",
      "1202\n"
     ]
    },
    {
     "name": "stderr",
     "output_type": "stream",
     "text": [
      "/tmp/ipykernel_3842719/849445217.py:76: FutureWarning: The frame.append method is deprecated and will be removed from pandas in a future version. Use pandas.concat instead.\n",
      "  df = df.append({\"source_images_idx\": source_idx,\n",
      "/tmp/ipykernel_3842719/849445217.py:76: FutureWarning: The frame.append method is deprecated and will be removed from pandas in a future version. Use pandas.concat instead.\n",
      "  df = df.append({\"source_images_idx\": source_idx,\n",
      "/tmp/ipykernel_3842719/849445217.py:76: FutureWarning: The frame.append method is deprecated and will be removed from pandas in a future version. Use pandas.concat instead.\n",
      "  df = df.append({\"source_images_idx\": source_idx,\n"
     ]
    },
    {
     "name": "stdout",
     "output_type": "stream",
     "text": [
      "13 46 46 39\n",
      "1203\n",
      "13 46 46 78\n",
      "1204\n",
      "13 46 46 117\n",
      "1205\n"
     ]
    },
    {
     "name": "stderr",
     "output_type": "stream",
     "text": [
      "/tmp/ipykernel_3842719/849445217.py:76: FutureWarning: The frame.append method is deprecated and will be removed from pandas in a future version. Use pandas.concat instead.\n",
      "  df = df.append({\"source_images_idx\": source_idx,\n",
      "/tmp/ipykernel_3842719/849445217.py:76: FutureWarning: The frame.append method is deprecated and will be removed from pandas in a future version. Use pandas.concat instead.\n",
      "  df = df.append({\"source_images_idx\": source_idx,\n",
      "/tmp/ipykernel_3842719/849445217.py:76: FutureWarning: The frame.append method is deprecated and will be removed from pandas in a future version. Use pandas.concat instead.\n",
      "  df = df.append({\"source_images_idx\": source_idx,\n",
      "/tmp/ipykernel_3842719/849445217.py:76: FutureWarning: The frame.append method is deprecated and will be removed from pandas in a future version. Use pandas.concat instead.\n",
      "  df = df.append({\"source_images_idx\": source_idx,\n",
      "/tmp/ipykernel_3842719/849445217.py:76: FutureWarning: The frame.append method is deprecated and will be removed from pandas in a future version. Use pandas.concat instead.\n",
      "  df = df.append({\"source_images_idx\": source_idx,\n"
     ]
    },
    {
     "name": "stdout",
     "output_type": "stream",
     "text": [
      "13 68 0 0\n",
      "1206\n",
      "13 68 0 39\n",
      "1207\n",
      "13 68 0 78\n",
      "1208\n",
      "13 68 0 117\n",
      "1209\n",
      "13 68 15 0\n",
      "1210\n"
     ]
    },
    {
     "name": "stderr",
     "output_type": "stream",
     "text": [
      "/tmp/ipykernel_3842719/849445217.py:76: FutureWarning: The frame.append method is deprecated and will be removed from pandas in a future version. Use pandas.concat instead.\n",
      "  df = df.append({\"source_images_idx\": source_idx,\n",
      "/tmp/ipykernel_3842719/849445217.py:76: FutureWarning: The frame.append method is deprecated and will be removed from pandas in a future version. Use pandas.concat instead.\n",
      "  df = df.append({\"source_images_idx\": source_idx,\n",
      "/tmp/ipykernel_3842719/849445217.py:76: FutureWarning: The frame.append method is deprecated and will be removed from pandas in a future version. Use pandas.concat instead.\n",
      "  df = df.append({\"source_images_idx\": source_idx,\n",
      "/tmp/ipykernel_3842719/849445217.py:76: FutureWarning: The frame.append method is deprecated and will be removed from pandas in a future version. Use pandas.concat instead.\n",
      "  df = df.append({\"source_images_idx\": source_idx,\n",
      "/tmp/ipykernel_3842719/849445217.py:76: FutureWarning: The frame.append method is deprecated and will be removed from pandas in a future version. Use pandas.concat instead.\n",
      "  df = df.append({\"source_images_idx\": source_idx,\n"
     ]
    },
    {
     "name": "stdout",
     "output_type": "stream",
     "text": [
      "13 68 15 39\n",
      "1211\n",
      "13 68 15 78\n",
      "1212\n",
      "13 68 15 117\n",
      "1213\n",
      "13 68 30 0\n",
      "1214\n",
      "13 68 30 39\n",
      "1215\n"
     ]
    },
    {
     "name": "stderr",
     "output_type": "stream",
     "text": [
      "/tmp/ipykernel_3842719/849445217.py:76: FutureWarning: The frame.append method is deprecated and will be removed from pandas in a future version. Use pandas.concat instead.\n",
      "  df = df.append({\"source_images_idx\": source_idx,\n",
      "/tmp/ipykernel_3842719/849445217.py:76: FutureWarning: The frame.append method is deprecated and will be removed from pandas in a future version. Use pandas.concat instead.\n",
      "  df = df.append({\"source_images_idx\": source_idx,\n",
      "/tmp/ipykernel_3842719/849445217.py:76: FutureWarning: The frame.append method is deprecated and will be removed from pandas in a future version. Use pandas.concat instead.\n",
      "  df = df.append({\"source_images_idx\": source_idx,\n",
      "/tmp/ipykernel_3842719/849445217.py:76: FutureWarning: The frame.append method is deprecated and will be removed from pandas in a future version. Use pandas.concat instead.\n",
      "  df = df.append({\"source_images_idx\": source_idx,\n",
      "/tmp/ipykernel_3842719/849445217.py:76: FutureWarning: The frame.append method is deprecated and will be removed from pandas in a future version. Use pandas.concat instead.\n",
      "  df = df.append({\"source_images_idx\": source_idx,\n"
     ]
    },
    {
     "name": "stdout",
     "output_type": "stream",
     "text": [
      "13 68 30 78\n",
      "1216\n",
      "13 68 30 117\n",
      "1217\n",
      "13 68 45 0\n",
      "1218\n",
      "13 68 45 39\n",
      "1219\n",
      "13 68 45 78\n",
      "1220\n"
     ]
    },
    {
     "name": "stderr",
     "output_type": "stream",
     "text": [
      "/tmp/ipykernel_3842719/849445217.py:76: FutureWarning: The frame.append method is deprecated and will be removed from pandas in a future version. Use pandas.concat instead.\n",
      "  df = df.append({\"source_images_idx\": source_idx,\n",
      "/tmp/ipykernel_3842719/849445217.py:76: FutureWarning: The frame.append method is deprecated and will be removed from pandas in a future version. Use pandas.concat instead.\n",
      "  df = df.append({\"source_images_idx\": source_idx,\n",
      "/tmp/ipykernel_3842719/849445217.py:76: FutureWarning: The frame.append method is deprecated and will be removed from pandas in a future version. Use pandas.concat instead.\n",
      "  df = df.append({\"source_images_idx\": source_idx,\n",
      "/tmp/ipykernel_3842719/849445217.py:76: FutureWarning: The frame.append method is deprecated and will be removed from pandas in a future version. Use pandas.concat instead.\n",
      "  df = df.append({\"source_images_idx\": source_idx,\n",
      "/tmp/ipykernel_3842719/849445217.py:76: FutureWarning: The frame.append method is deprecated and will be removed from pandas in a future version. Use pandas.concat instead.\n",
      "  df = df.append({\"source_images_idx\": source_idx,\n"
     ]
    },
    {
     "name": "stdout",
     "output_type": "stream",
     "text": [
      "13 68 45 117\n",
      "1221\n",
      "13 68 46 0\n",
      "1222\n",
      "13 68 46 39\n",
      "1223\n",
      "13 68 46 78\n",
      "1224\n",
      "13 68 46 117\n",
      "1225\n"
     ]
    },
    {
     "name": "stderr",
     "output_type": "stream",
     "text": [
      "/tmp/ipykernel_3842719/849445217.py:76: FutureWarning: The frame.append method is deprecated and will be removed from pandas in a future version. Use pandas.concat instead.\n",
      "  df = df.append({\"source_images_idx\": source_idx,\n",
      "/tmp/ipykernel_3842719/849445217.py:76: FutureWarning: The frame.append method is deprecated and will be removed from pandas in a future version. Use pandas.concat instead.\n",
      "  df = df.append({\"source_images_idx\": source_idx,\n",
      "/tmp/ipykernel_3842719/849445217.py:76: FutureWarning: The frame.append method is deprecated and will be removed from pandas in a future version. Use pandas.concat instead.\n",
      "  df = df.append({\"source_images_idx\": source_idx,\n",
      "/tmp/ipykernel_3842719/849445217.py:76: FutureWarning: The frame.append method is deprecated and will be removed from pandas in a future version. Use pandas.concat instead.\n",
      "  df = df.append({\"source_images_idx\": source_idx,\n",
      "/tmp/ipykernel_3842719/849445217.py:76: FutureWarning: The frame.append method is deprecated and will be removed from pandas in a future version. Use pandas.concat instead.\n",
      "  df = df.append({\"source_images_idx\": source_idx,\n"
     ]
    },
    {
     "name": "stdout",
     "output_type": "stream",
     "text": [
      "14 0 0 0\n",
      "1226\n",
      "14 0 0 57\n",
      "1227\n",
      "14 0 0 114\n",
      "1228\n",
      "14 0 0 171\n",
      "1229\n",
      "14 0 27 0\n",
      "1230\n"
     ]
    },
    {
     "name": "stderr",
     "output_type": "stream",
     "text": [
      "/tmp/ipykernel_3842719/849445217.py:76: FutureWarning: The frame.append method is deprecated and will be removed from pandas in a future version. Use pandas.concat instead.\n",
      "  df = df.append({\"source_images_idx\": source_idx,\n",
      "/tmp/ipykernel_3842719/849445217.py:76: FutureWarning: The frame.append method is deprecated and will be removed from pandas in a future version. Use pandas.concat instead.\n",
      "  df = df.append({\"source_images_idx\": source_idx,\n",
      "/tmp/ipykernel_3842719/849445217.py:76: FutureWarning: The frame.append method is deprecated and will be removed from pandas in a future version. Use pandas.concat instead.\n",
      "  df = df.append({\"source_images_idx\": source_idx,\n",
      "/tmp/ipykernel_3842719/849445217.py:76: FutureWarning: The frame.append method is deprecated and will be removed from pandas in a future version. Use pandas.concat instead.\n",
      "  df = df.append({\"source_images_idx\": source_idx,\n",
      "/tmp/ipykernel_3842719/849445217.py:76: FutureWarning: The frame.append method is deprecated and will be removed from pandas in a future version. Use pandas.concat instead.\n",
      "  df = df.append({\"source_images_idx\": source_idx,\n"
     ]
    },
    {
     "name": "stdout",
     "output_type": "stream",
     "text": [
      "14 0 27 57\n",
      "1231\n",
      "14 0 27 114\n",
      "1232\n",
      "14 0 27 171\n",
      "1233\n",
      "14 0 54 0\n",
      "1234\n",
      "14 0 54 57\n",
      "1235\n"
     ]
    },
    {
     "name": "stderr",
     "output_type": "stream",
     "text": [
      "/tmp/ipykernel_3842719/849445217.py:76: FutureWarning: The frame.append method is deprecated and will be removed from pandas in a future version. Use pandas.concat instead.\n",
      "  df = df.append({\"source_images_idx\": source_idx,\n",
      "/tmp/ipykernel_3842719/849445217.py:76: FutureWarning: The frame.append method is deprecated and will be removed from pandas in a future version. Use pandas.concat instead.\n",
      "  df = df.append({\"source_images_idx\": source_idx,\n",
      "/tmp/ipykernel_3842719/849445217.py:76: FutureWarning: The frame.append method is deprecated and will be removed from pandas in a future version. Use pandas.concat instead.\n",
      "  df = df.append({\"source_images_idx\": source_idx,\n",
      "/tmp/ipykernel_3842719/849445217.py:76: FutureWarning: The frame.append method is deprecated and will be removed from pandas in a future version. Use pandas.concat instead.\n",
      "  df = df.append({\"source_images_idx\": source_idx,\n",
      "/tmp/ipykernel_3842719/849445217.py:76: FutureWarning: The frame.append method is deprecated and will be removed from pandas in a future version. Use pandas.concat instead.\n",
      "  df = df.append({\"source_images_idx\": source_idx,\n"
     ]
    },
    {
     "name": "stdout",
     "output_type": "stream",
     "text": [
      "14 0 54 114\n",
      "1236\n",
      "14 0 54 171\n",
      "1237\n",
      "14 0 81 0\n",
      "1238\n",
      "14 0 81 57\n",
      "1239\n",
      "14 0 81 114\n",
      "1240\n"
     ]
    },
    {
     "name": "stderr",
     "output_type": "stream",
     "text": [
      "/tmp/ipykernel_3842719/849445217.py:76: FutureWarning: The frame.append method is deprecated and will be removed from pandas in a future version. Use pandas.concat instead.\n",
      "  df = df.append({\"source_images_idx\": source_idx,\n",
      "/tmp/ipykernel_3842719/849445217.py:76: FutureWarning: The frame.append method is deprecated and will be removed from pandas in a future version. Use pandas.concat instead.\n",
      "  df = df.append({\"source_images_idx\": source_idx,\n",
      "/tmp/ipykernel_3842719/849445217.py:76: FutureWarning: The frame.append method is deprecated and will be removed from pandas in a future version. Use pandas.concat instead.\n",
      "  df = df.append({\"source_images_idx\": source_idx,\n",
      "/tmp/ipykernel_3842719/849445217.py:76: FutureWarning: The frame.append method is deprecated and will be removed from pandas in a future version. Use pandas.concat instead.\n",
      "  df = df.append({\"source_images_idx\": source_idx,\n",
      "/tmp/ipykernel_3842719/849445217.py:76: FutureWarning: The frame.append method is deprecated and will be removed from pandas in a future version. Use pandas.concat instead.\n",
      "  df = df.append({\"source_images_idx\": source_idx,\n"
     ]
    },
    {
     "name": "stdout",
     "output_type": "stream",
     "text": [
      "14 0 81 171\n",
      "1241\n",
      "14 31 0 0\n",
      "1242\n",
      "14 31 0 57\n",
      "1243\n",
      "14 31 0 114\n",
      "1244\n",
      "14 31 0 171\n",
      "1245\n"
     ]
    },
    {
     "name": "stderr",
     "output_type": "stream",
     "text": [
      "/tmp/ipykernel_3842719/849445217.py:76: FutureWarning: The frame.append method is deprecated and will be removed from pandas in a future version. Use pandas.concat instead.\n",
      "  df = df.append({\"source_images_idx\": source_idx,\n",
      "/tmp/ipykernel_3842719/849445217.py:76: FutureWarning: The frame.append method is deprecated and will be removed from pandas in a future version. Use pandas.concat instead.\n",
      "  df = df.append({\"source_images_idx\": source_idx,\n",
      "/tmp/ipykernel_3842719/849445217.py:76: FutureWarning: The frame.append method is deprecated and will be removed from pandas in a future version. Use pandas.concat instead.\n",
      "  df = df.append({\"source_images_idx\": source_idx,\n",
      "/tmp/ipykernel_3842719/849445217.py:76: FutureWarning: The frame.append method is deprecated and will be removed from pandas in a future version. Use pandas.concat instead.\n",
      "  df = df.append({\"source_images_idx\": source_idx,\n",
      "/tmp/ipykernel_3842719/849445217.py:76: FutureWarning: The frame.append method is deprecated and will be removed from pandas in a future version. Use pandas.concat instead.\n",
      "  df = df.append({\"source_images_idx\": source_idx,\n"
     ]
    },
    {
     "name": "stdout",
     "output_type": "stream",
     "text": [
      "14 31 27 0\n",
      "1246\n",
      "14 31 27 57\n",
      "1247\n",
      "14 31 27 114\n",
      "1248\n",
      "14 31 27 171\n",
      "1249\n",
      "14 31 54 0\n",
      "1250\n"
     ]
    },
    {
     "name": "stderr",
     "output_type": "stream",
     "text": [
      "/tmp/ipykernel_3842719/849445217.py:76: FutureWarning: The frame.append method is deprecated and will be removed from pandas in a future version. Use pandas.concat instead.\n",
      "  df = df.append({\"source_images_idx\": source_idx,\n",
      "/tmp/ipykernel_3842719/849445217.py:76: FutureWarning: The frame.append method is deprecated and will be removed from pandas in a future version. Use pandas.concat instead.\n",
      "  df = df.append({\"source_images_idx\": source_idx,\n",
      "/tmp/ipykernel_3842719/849445217.py:76: FutureWarning: The frame.append method is deprecated and will be removed from pandas in a future version. Use pandas.concat instead.\n",
      "  df = df.append({\"source_images_idx\": source_idx,\n",
      "/tmp/ipykernel_3842719/849445217.py:76: FutureWarning: The frame.append method is deprecated and will be removed from pandas in a future version. Use pandas.concat instead.\n",
      "  df = df.append({\"source_images_idx\": source_idx,\n",
      "/tmp/ipykernel_3842719/849445217.py:76: FutureWarning: The frame.append method is deprecated and will be removed from pandas in a future version. Use pandas.concat instead.\n",
      "  df = df.append({\"source_images_idx\": source_idx,\n"
     ]
    },
    {
     "name": "stdout",
     "output_type": "stream",
     "text": [
      "14 31 54 57\n",
      "1251\n",
      "14 31 54 114\n",
      "1252\n",
      "14 31 54 171\n",
      "1253\n",
      "14 31 81 0\n",
      "1254\n",
      "14 31 81 57\n",
      "1255\n"
     ]
    },
    {
     "name": "stderr",
     "output_type": "stream",
     "text": [
      "/tmp/ipykernel_3842719/849445217.py:76: FutureWarning: The frame.append method is deprecated and will be removed from pandas in a future version. Use pandas.concat instead.\n",
      "  df = df.append({\"source_images_idx\": source_idx,\n",
      "/tmp/ipykernel_3842719/849445217.py:76: FutureWarning: The frame.append method is deprecated and will be removed from pandas in a future version. Use pandas.concat instead.\n",
      "  df = df.append({\"source_images_idx\": source_idx,\n",
      "/tmp/ipykernel_3842719/849445217.py:76: FutureWarning: The frame.append method is deprecated and will be removed from pandas in a future version. Use pandas.concat instead.\n",
      "  df = df.append({\"source_images_idx\": source_idx,\n"
     ]
    },
    {
     "name": "stdout",
     "output_type": "stream",
     "text": [
      "14 31 81 114\n",
      "1256\n",
      "14 31 81 171\n",
      "1257\n",
      "14 62 0 0\n",
      "1258\n"
     ]
    },
    {
     "name": "stderr",
     "output_type": "stream",
     "text": [
      "/tmp/ipykernel_3842719/849445217.py:76: FutureWarning: The frame.append method is deprecated and will be removed from pandas in a future version. Use pandas.concat instead.\n",
      "  df = df.append({\"source_images_idx\": source_idx,\n",
      "/tmp/ipykernel_3842719/849445217.py:76: FutureWarning: The frame.append method is deprecated and will be removed from pandas in a future version. Use pandas.concat instead.\n",
      "  df = df.append({\"source_images_idx\": source_idx,\n",
      "/tmp/ipykernel_3842719/849445217.py:76: FutureWarning: The frame.append method is deprecated and will be removed from pandas in a future version. Use pandas.concat instead.\n",
      "  df = df.append({\"source_images_idx\": source_idx,\n"
     ]
    },
    {
     "name": "stdout",
     "output_type": "stream",
     "text": [
      "14 62 0 57\n",
      "1259\n",
      "14 62 0 114\n",
      "1260\n",
      "14 62 0 171\n",
      "1261\n"
     ]
    },
    {
     "name": "stderr",
     "output_type": "stream",
     "text": [
      "/tmp/ipykernel_3842719/849445217.py:76: FutureWarning: The frame.append method is deprecated and will be removed from pandas in a future version. Use pandas.concat instead.\n",
      "  df = df.append({\"source_images_idx\": source_idx,\n",
      "/tmp/ipykernel_3842719/849445217.py:76: FutureWarning: The frame.append method is deprecated and will be removed from pandas in a future version. Use pandas.concat instead.\n",
      "  df = df.append({\"source_images_idx\": source_idx,\n",
      "/tmp/ipykernel_3842719/849445217.py:76: FutureWarning: The frame.append method is deprecated and will be removed from pandas in a future version. Use pandas.concat instead.\n",
      "  df = df.append({\"source_images_idx\": source_idx,\n"
     ]
    },
    {
     "name": "stdout",
     "output_type": "stream",
     "text": [
      "14 62 27 0\n",
      "1262\n",
      "14 62 27 57\n",
      "1263\n",
      "14 62 27 114\n",
      "1264\n"
     ]
    },
    {
     "name": "stderr",
     "output_type": "stream",
     "text": [
      "/tmp/ipykernel_3842719/849445217.py:76: FutureWarning: The frame.append method is deprecated and will be removed from pandas in a future version. Use pandas.concat instead.\n",
      "  df = df.append({\"source_images_idx\": source_idx,\n",
      "/tmp/ipykernel_3842719/849445217.py:76: FutureWarning: The frame.append method is deprecated and will be removed from pandas in a future version. Use pandas.concat instead.\n",
      "  df = df.append({\"source_images_idx\": source_idx,\n",
      "/tmp/ipykernel_3842719/849445217.py:76: FutureWarning: The frame.append method is deprecated and will be removed from pandas in a future version. Use pandas.concat instead.\n",
      "  df = df.append({\"source_images_idx\": source_idx,\n"
     ]
    },
    {
     "name": "stdout",
     "output_type": "stream",
     "text": [
      "14 62 27 171\n",
      "1265\n",
      "14 62 54 0\n",
      "1266\n",
      "14 62 54 57\n",
      "1267\n"
     ]
    },
    {
     "name": "stderr",
     "output_type": "stream",
     "text": [
      "/tmp/ipykernel_3842719/849445217.py:76: FutureWarning: The frame.append method is deprecated and will be removed from pandas in a future version. Use pandas.concat instead.\n",
      "  df = df.append({\"source_images_idx\": source_idx,\n",
      "/tmp/ipykernel_3842719/849445217.py:76: FutureWarning: The frame.append method is deprecated and will be removed from pandas in a future version. Use pandas.concat instead.\n",
      "  df = df.append({\"source_images_idx\": source_idx,\n",
      "/tmp/ipykernel_3842719/849445217.py:76: FutureWarning: The frame.append method is deprecated and will be removed from pandas in a future version. Use pandas.concat instead.\n",
      "  df = df.append({\"source_images_idx\": source_idx,\n"
     ]
    },
    {
     "name": "stdout",
     "output_type": "stream",
     "text": [
      "14 62 54 114\n",
      "1268\n",
      "14 62 54 171\n",
      "1269\n",
      "14 62 81 0\n",
      "1270\n"
     ]
    },
    {
     "name": "stderr",
     "output_type": "stream",
     "text": [
      "/tmp/ipykernel_3842719/849445217.py:76: FutureWarning: The frame.append method is deprecated and will be removed from pandas in a future version. Use pandas.concat instead.\n",
      "  df = df.append({\"source_images_idx\": source_idx,\n",
      "/tmp/ipykernel_3842719/849445217.py:76: FutureWarning: The frame.append method is deprecated and will be removed from pandas in a future version. Use pandas.concat instead.\n",
      "  df = df.append({\"source_images_idx\": source_idx,\n",
      "/tmp/ipykernel_3842719/849445217.py:76: FutureWarning: The frame.append method is deprecated and will be removed from pandas in a future version. Use pandas.concat instead.\n",
      "  df = df.append({\"source_images_idx\": source_idx,\n"
     ]
    },
    {
     "name": "stdout",
     "output_type": "stream",
     "text": [
      "14 62 81 57\n",
      "1271\n",
      "14 62 81 114\n",
      "1272\n",
      "14 62 81 171\n",
      "1273\n"
     ]
    },
    {
     "name": "stderr",
     "output_type": "stream",
     "text": [
      "/tmp/ipykernel_3842719/849445217.py:76: FutureWarning: The frame.append method is deprecated and will be removed from pandas in a future version. Use pandas.concat instead.\n",
      "  df = df.append({\"source_images_idx\": source_idx,\n",
      "/tmp/ipykernel_3842719/849445217.py:76: FutureWarning: The frame.append method is deprecated and will be removed from pandas in a future version. Use pandas.concat instead.\n",
      "  df = df.append({\"source_images_idx\": source_idx,\n",
      "/tmp/ipykernel_3842719/849445217.py:76: FutureWarning: The frame.append method is deprecated and will be removed from pandas in a future version. Use pandas.concat instead.\n",
      "  df = df.append({\"source_images_idx\": source_idx,\n",
      "/tmp/ipykernel_3842719/849445217.py:76: FutureWarning: The frame.append method is deprecated and will be removed from pandas in a future version. Use pandas.concat instead.\n",
      "  df = df.append({\"source_images_idx\": source_idx,\n"
     ]
    },
    {
     "name": "stdout",
     "output_type": "stream",
     "text": [
      "14 93 0 0\n",
      "1274\n",
      "14 93 0 57\n",
      "1275\n",
      "14 93 0 114\n",
      "1276\n",
      "14 93 0 171\n",
      "1277\n"
     ]
    },
    {
     "name": "stderr",
     "output_type": "stream",
     "text": [
      "/tmp/ipykernel_3842719/849445217.py:76: FutureWarning: The frame.append method is deprecated and will be removed from pandas in a future version. Use pandas.concat instead.\n",
      "  df = df.append({\"source_images_idx\": source_idx,\n",
      "/tmp/ipykernel_3842719/849445217.py:76: FutureWarning: The frame.append method is deprecated and will be removed from pandas in a future version. Use pandas.concat instead.\n",
      "  df = df.append({\"source_images_idx\": source_idx,\n",
      "/tmp/ipykernel_3842719/849445217.py:76: FutureWarning: The frame.append method is deprecated and will be removed from pandas in a future version. Use pandas.concat instead.\n",
      "  df = df.append({\"source_images_idx\": source_idx,\n",
      "/tmp/ipykernel_3842719/849445217.py:76: FutureWarning: The frame.append method is deprecated and will be removed from pandas in a future version. Use pandas.concat instead.\n",
      "  df = df.append({\"source_images_idx\": source_idx,\n",
      "/tmp/ipykernel_3842719/849445217.py:76: FutureWarning: The frame.append method is deprecated and will be removed from pandas in a future version. Use pandas.concat instead.\n",
      "  df = df.append({\"source_images_idx\": source_idx,\n"
     ]
    },
    {
     "name": "stdout",
     "output_type": "stream",
     "text": [
      "14 93 27 0\n",
      "1278\n",
      "14 93 27 57\n",
      "1279\n",
      "14 93 27 114\n",
      "1280\n",
      "14 93 27 171\n",
      "1281\n",
      "14 93 54 0\n",
      "1282\n"
     ]
    },
    {
     "name": "stderr",
     "output_type": "stream",
     "text": [
      "/tmp/ipykernel_3842719/849445217.py:76: FutureWarning: The frame.append method is deprecated and will be removed from pandas in a future version. Use pandas.concat instead.\n",
      "  df = df.append({\"source_images_idx\": source_idx,\n",
      "/tmp/ipykernel_3842719/849445217.py:76: FutureWarning: The frame.append method is deprecated and will be removed from pandas in a future version. Use pandas.concat instead.\n",
      "  df = df.append({\"source_images_idx\": source_idx,\n",
      "/tmp/ipykernel_3842719/849445217.py:76: FutureWarning: The frame.append method is deprecated and will be removed from pandas in a future version. Use pandas.concat instead.\n",
      "  df = df.append({\"source_images_idx\": source_idx,\n",
      "/tmp/ipykernel_3842719/849445217.py:76: FutureWarning: The frame.append method is deprecated and will be removed from pandas in a future version. Use pandas.concat instead.\n",
      "  df = df.append({\"source_images_idx\": source_idx,\n",
      "/tmp/ipykernel_3842719/849445217.py:76: FutureWarning: The frame.append method is deprecated and will be removed from pandas in a future version. Use pandas.concat instead.\n",
      "  df = df.append({\"source_images_idx\": source_idx,\n"
     ]
    },
    {
     "name": "stdout",
     "output_type": "stream",
     "text": [
      "14 93 54 57\n",
      "1283\n",
      "14 93 54 114\n",
      "1284\n",
      "14 93 54 171\n",
      "1285\n",
      "14 93 81 0\n",
      "1286\n",
      "14 93 81 57\n",
      "1287\n"
     ]
    },
    {
     "name": "stderr",
     "output_type": "stream",
     "text": [
      "/tmp/ipykernel_3842719/849445217.py:76: FutureWarning: The frame.append method is deprecated and will be removed from pandas in a future version. Use pandas.concat instead.\n",
      "  df = df.append({\"source_images_idx\": source_idx,\n",
      "/tmp/ipykernel_3842719/849445217.py:76: FutureWarning: The frame.append method is deprecated and will be removed from pandas in a future version. Use pandas.concat instead.\n",
      "  df = df.append({\"source_images_idx\": source_idx,\n",
      "/tmp/ipykernel_3842719/849445217.py:76: FutureWarning: The frame.append method is deprecated and will be removed from pandas in a future version. Use pandas.concat instead.\n",
      "  df = df.append({\"source_images_idx\": source_idx,\n",
      "/tmp/ipykernel_3842719/849445217.py:76: FutureWarning: The frame.append method is deprecated and will be removed from pandas in a future version. Use pandas.concat instead.\n",
      "  df = df.append({\"source_images_idx\": source_idx,\n",
      "/tmp/ipykernel_3842719/849445217.py:76: FutureWarning: The frame.append method is deprecated and will be removed from pandas in a future version. Use pandas.concat instead.\n",
      "  df = df.append({\"source_images_idx\": source_idx,\n"
     ]
    },
    {
     "name": "stdout",
     "output_type": "stream",
     "text": [
      "14 93 81 114\n",
      "1288\n",
      "14 93 81 171\n",
      "1289\n",
      "14 94 0 0\n",
      "1290\n",
      "14 94 0 57\n",
      "1291\n",
      "14 94 0 114\n",
      "1292\n"
     ]
    },
    {
     "name": "stderr",
     "output_type": "stream",
     "text": [
      "/tmp/ipykernel_3842719/849445217.py:76: FutureWarning: The frame.append method is deprecated and will be removed from pandas in a future version. Use pandas.concat instead.\n",
      "  df = df.append({\"source_images_idx\": source_idx,\n",
      "/tmp/ipykernel_3842719/849445217.py:76: FutureWarning: The frame.append method is deprecated and will be removed from pandas in a future version. Use pandas.concat instead.\n",
      "  df = df.append({\"source_images_idx\": source_idx,\n",
      "/tmp/ipykernel_3842719/849445217.py:76: FutureWarning: The frame.append method is deprecated and will be removed from pandas in a future version. Use pandas.concat instead.\n",
      "  df = df.append({\"source_images_idx\": source_idx,\n",
      "/tmp/ipykernel_3842719/849445217.py:76: FutureWarning: The frame.append method is deprecated and will be removed from pandas in a future version. Use pandas.concat instead.\n",
      "  df = df.append({\"source_images_idx\": source_idx,\n",
      "/tmp/ipykernel_3842719/849445217.py:76: FutureWarning: The frame.append method is deprecated and will be removed from pandas in a future version. Use pandas.concat instead.\n",
      "  df = df.append({\"source_images_idx\": source_idx,\n"
     ]
    },
    {
     "name": "stdout",
     "output_type": "stream",
     "text": [
      "14 94 0 171\n",
      "1293\n",
      "14 94 27 0\n",
      "1294\n",
      "14 94 27 57\n",
      "1295\n",
      "14 94 27 114\n",
      "1296\n",
      "14 94 27 171\n",
      "1297\n"
     ]
    },
    {
     "name": "stderr",
     "output_type": "stream",
     "text": [
      "/tmp/ipykernel_3842719/849445217.py:76: FutureWarning: The frame.append method is deprecated and will be removed from pandas in a future version. Use pandas.concat instead.\n",
      "  df = df.append({\"source_images_idx\": source_idx,\n",
      "/tmp/ipykernel_3842719/849445217.py:76: FutureWarning: The frame.append method is deprecated and will be removed from pandas in a future version. Use pandas.concat instead.\n",
      "  df = df.append({\"source_images_idx\": source_idx,\n",
      "/tmp/ipykernel_3842719/849445217.py:76: FutureWarning: The frame.append method is deprecated and will be removed from pandas in a future version. Use pandas.concat instead.\n",
      "  df = df.append({\"source_images_idx\": source_idx,\n",
      "/tmp/ipykernel_3842719/849445217.py:76: FutureWarning: The frame.append method is deprecated and will be removed from pandas in a future version. Use pandas.concat instead.\n",
      "  df = df.append({\"source_images_idx\": source_idx,\n",
      "/tmp/ipykernel_3842719/849445217.py:76: FutureWarning: The frame.append method is deprecated and will be removed from pandas in a future version. Use pandas.concat instead.\n",
      "  df = df.append({\"source_images_idx\": source_idx,\n"
     ]
    },
    {
     "name": "stdout",
     "output_type": "stream",
     "text": [
      "14 94 54 0\n",
      "1298\n",
      "14 94 54 57\n",
      "1299\n",
      "14 94 54 114\n",
      "1300\n",
      "14 94 54 171\n",
      "1301\n",
      "14 94 81 0\n",
      "1302\n"
     ]
    },
    {
     "name": "stderr",
     "output_type": "stream",
     "text": [
      "/tmp/ipykernel_3842719/849445217.py:76: FutureWarning: The frame.append method is deprecated and will be removed from pandas in a future version. Use pandas.concat instead.\n",
      "  df = df.append({\"source_images_idx\": source_idx,\n",
      "/tmp/ipykernel_3842719/849445217.py:76: FutureWarning: The frame.append method is deprecated and will be removed from pandas in a future version. Use pandas.concat instead.\n",
      "  df = df.append({\"source_images_idx\": source_idx,\n",
      "/tmp/ipykernel_3842719/849445217.py:76: FutureWarning: The frame.append method is deprecated and will be removed from pandas in a future version. Use pandas.concat instead.\n",
      "  df = df.append({\"source_images_idx\": source_idx,\n",
      "/tmp/ipykernel_3842719/849445217.py:76: FutureWarning: The frame.append method is deprecated and will be removed from pandas in a future version. Use pandas.concat instead.\n",
      "  df = df.append({\"source_images_idx\": source_idx,\n",
      "/tmp/ipykernel_3842719/849445217.py:76: FutureWarning: The frame.append method is deprecated and will be removed from pandas in a future version. Use pandas.concat instead.\n",
      "  df = df.append({\"source_images_idx\": source_idx,\n"
     ]
    },
    {
     "name": "stdout",
     "output_type": "stream",
     "text": [
      "14 94 81 57\n",
      "1303\n",
      "14 94 81 114\n",
      "1304\n",
      "14 94 81 171\n",
      "1305\n",
      "15 0 0 0\n",
      "1306\n",
      "15 0 0 39\n",
      "1307\n"
     ]
    },
    {
     "name": "stderr",
     "output_type": "stream",
     "text": [
      "/tmp/ipykernel_3842719/849445217.py:76: FutureWarning: The frame.append method is deprecated and will be removed from pandas in a future version. Use pandas.concat instead.\n",
      "  df = df.append({\"source_images_idx\": source_idx,\n",
      "/tmp/ipykernel_3842719/849445217.py:76: FutureWarning: The frame.append method is deprecated and will be removed from pandas in a future version. Use pandas.concat instead.\n",
      "  df = df.append({\"source_images_idx\": source_idx,\n",
      "/tmp/ipykernel_3842719/849445217.py:76: FutureWarning: The frame.append method is deprecated and will be removed from pandas in a future version. Use pandas.concat instead.\n",
      "  df = df.append({\"source_images_idx\": source_idx,\n",
      "/tmp/ipykernel_3842719/849445217.py:76: FutureWarning: The frame.append method is deprecated and will be removed from pandas in a future version. Use pandas.concat instead.\n",
      "  df = df.append({\"source_images_idx\": source_idx,\n",
      "/tmp/ipykernel_3842719/849445217.py:76: FutureWarning: The frame.append method is deprecated and will be removed from pandas in a future version. Use pandas.concat instead.\n",
      "  df = df.append({\"source_images_idx\": source_idx,\n"
     ]
    },
    {
     "name": "stdout",
     "output_type": "stream",
     "text": [
      "15 0 0 78\n",
      "1308\n",
      "15 0 0 116\n",
      "1309\n",
      "15 0 21 0\n",
      "1310\n",
      "15 0 21 39\n",
      "1311\n",
      "15 0 21 78\n",
      "1312\n"
     ]
    },
    {
     "name": "stderr",
     "output_type": "stream",
     "text": [
      "/tmp/ipykernel_3842719/849445217.py:76: FutureWarning: The frame.append method is deprecated and will be removed from pandas in a future version. Use pandas.concat instead.\n",
      "  df = df.append({\"source_images_idx\": source_idx,\n",
      "/tmp/ipykernel_3842719/849445217.py:76: FutureWarning: The frame.append method is deprecated and will be removed from pandas in a future version. Use pandas.concat instead.\n",
      "  df = df.append({\"source_images_idx\": source_idx,\n",
      "/tmp/ipykernel_3842719/849445217.py:76: FutureWarning: The frame.append method is deprecated and will be removed from pandas in a future version. Use pandas.concat instead.\n",
      "  df = df.append({\"source_images_idx\": source_idx,\n",
      "/tmp/ipykernel_3842719/849445217.py:76: FutureWarning: The frame.append method is deprecated and will be removed from pandas in a future version. Use pandas.concat instead.\n",
      "  df = df.append({\"source_images_idx\": source_idx,\n",
      "/tmp/ipykernel_3842719/849445217.py:76: FutureWarning: The frame.append method is deprecated and will be removed from pandas in a future version. Use pandas.concat instead.\n",
      "  df = df.append({\"source_images_idx\": source_idx,\n"
     ]
    },
    {
     "name": "stdout",
     "output_type": "stream",
     "text": [
      "15 0 21 116\n",
      "1313\n",
      "15 0 42 0\n",
      "1314\n",
      "15 0 42 39\n",
      "1315\n",
      "15 0 42 78\n",
      "1316\n",
      "15 0 42 116\n",
      "1317\n"
     ]
    },
    {
     "name": "stderr",
     "output_type": "stream",
     "text": [
      "/tmp/ipykernel_3842719/849445217.py:76: FutureWarning: The frame.append method is deprecated and will be removed from pandas in a future version. Use pandas.concat instead.\n",
      "  df = df.append({\"source_images_idx\": source_idx,\n",
      "/tmp/ipykernel_3842719/849445217.py:76: FutureWarning: The frame.append method is deprecated and will be removed from pandas in a future version. Use pandas.concat instead.\n",
      "  df = df.append({\"source_images_idx\": source_idx,\n",
      "/tmp/ipykernel_3842719/849445217.py:76: FutureWarning: The frame.append method is deprecated and will be removed from pandas in a future version. Use pandas.concat instead.\n",
      "  df = df.append({\"source_images_idx\": source_idx,\n",
      "/tmp/ipykernel_3842719/849445217.py:76: FutureWarning: The frame.append method is deprecated and will be removed from pandas in a future version. Use pandas.concat instead.\n",
      "  df = df.append({\"source_images_idx\": source_idx,\n",
      "/tmp/ipykernel_3842719/849445217.py:76: FutureWarning: The frame.append method is deprecated and will be removed from pandas in a future version. Use pandas.concat instead.\n",
      "  df = df.append({\"source_images_idx\": source_idx,\n"
     ]
    },
    {
     "name": "stdout",
     "output_type": "stream",
     "text": [
      "15 0 62 0\n",
      "1318\n",
      "15 0 62 39\n",
      "1319\n",
      "15 0 62 78\n",
      "1320\n",
      "15 0 62 116\n",
      "1321\n",
      "15 25 0 0\n",
      "1322\n"
     ]
    },
    {
     "name": "stderr",
     "output_type": "stream",
     "text": [
      "/tmp/ipykernel_3842719/849445217.py:76: FutureWarning: The frame.append method is deprecated and will be removed from pandas in a future version. Use pandas.concat instead.\n",
      "  df = df.append({\"source_images_idx\": source_idx,\n",
      "/tmp/ipykernel_3842719/849445217.py:76: FutureWarning: The frame.append method is deprecated and will be removed from pandas in a future version. Use pandas.concat instead.\n",
      "  df = df.append({\"source_images_idx\": source_idx,\n",
      "/tmp/ipykernel_3842719/849445217.py:76: FutureWarning: The frame.append method is deprecated and will be removed from pandas in a future version. Use pandas.concat instead.\n",
      "  df = df.append({\"source_images_idx\": source_idx,\n"
     ]
    },
    {
     "name": "stdout",
     "output_type": "stream",
     "text": [
      "15 25 0 39\n",
      "1323\n",
      "15 25 0 78\n",
      "1324\n",
      "15 25 0 116\n",
      "1325\n"
     ]
    },
    {
     "name": "stderr",
     "output_type": "stream",
     "text": [
      "/tmp/ipykernel_3842719/849445217.py:76: FutureWarning: The frame.append method is deprecated and will be removed from pandas in a future version. Use pandas.concat instead.\n",
      "  df = df.append({\"source_images_idx\": source_idx,\n",
      "/tmp/ipykernel_3842719/849445217.py:76: FutureWarning: The frame.append method is deprecated and will be removed from pandas in a future version. Use pandas.concat instead.\n",
      "  df = df.append({\"source_images_idx\": source_idx,\n",
      "/tmp/ipykernel_3842719/849445217.py:76: FutureWarning: The frame.append method is deprecated and will be removed from pandas in a future version. Use pandas.concat instead.\n",
      "  df = df.append({\"source_images_idx\": source_idx,\n"
     ]
    },
    {
     "name": "stdout",
     "output_type": "stream",
     "text": [
      "15 25 21 0\n",
      "1326\n",
      "15 25 21 39\n",
      "1327\n",
      "15 25 21 78\n",
      "1328\n"
     ]
    },
    {
     "name": "stderr",
     "output_type": "stream",
     "text": [
      "/tmp/ipykernel_3842719/849445217.py:76: FutureWarning: The frame.append method is deprecated and will be removed from pandas in a future version. Use pandas.concat instead.\n",
      "  df = df.append({\"source_images_idx\": source_idx,\n",
      "/tmp/ipykernel_3842719/849445217.py:76: FutureWarning: The frame.append method is deprecated and will be removed from pandas in a future version. Use pandas.concat instead.\n",
      "  df = df.append({\"source_images_idx\": source_idx,\n",
      "/tmp/ipykernel_3842719/849445217.py:76: FutureWarning: The frame.append method is deprecated and will be removed from pandas in a future version. Use pandas.concat instead.\n",
      "  df = df.append({\"source_images_idx\": source_idx,\n"
     ]
    },
    {
     "name": "stdout",
     "output_type": "stream",
     "text": [
      "15 25 21 116\n",
      "1329\n",
      "15 25 42 0\n",
      "1330\n",
      "15 25 42 39\n",
      "1331\n"
     ]
    },
    {
     "name": "stderr",
     "output_type": "stream",
     "text": [
      "/tmp/ipykernel_3842719/849445217.py:76: FutureWarning: The frame.append method is deprecated and will be removed from pandas in a future version. Use pandas.concat instead.\n",
      "  df = df.append({\"source_images_idx\": source_idx,\n",
      "/tmp/ipykernel_3842719/849445217.py:76: FutureWarning: The frame.append method is deprecated and will be removed from pandas in a future version. Use pandas.concat instead.\n",
      "  df = df.append({\"source_images_idx\": source_idx,\n",
      "/tmp/ipykernel_3842719/849445217.py:76: FutureWarning: The frame.append method is deprecated and will be removed from pandas in a future version. Use pandas.concat instead.\n",
      "  df = df.append({\"source_images_idx\": source_idx,\n"
     ]
    },
    {
     "name": "stdout",
     "output_type": "stream",
     "text": [
      "15 25 42 78\n",
      "1332\n",
      "15 25 42 116\n",
      "1333\n",
      "15 25 62 0\n",
      "1334\n"
     ]
    },
    {
     "name": "stderr",
     "output_type": "stream",
     "text": [
      "/tmp/ipykernel_3842719/849445217.py:76: FutureWarning: The frame.append method is deprecated and will be removed from pandas in a future version. Use pandas.concat instead.\n",
      "  df = df.append({\"source_images_idx\": source_idx,\n",
      "/tmp/ipykernel_3842719/849445217.py:76: FutureWarning: The frame.append method is deprecated and will be removed from pandas in a future version. Use pandas.concat instead.\n",
      "  df = df.append({\"source_images_idx\": source_idx,\n",
      "/tmp/ipykernel_3842719/849445217.py:76: FutureWarning: The frame.append method is deprecated and will be removed from pandas in a future version. Use pandas.concat instead.\n",
      "  df = df.append({\"source_images_idx\": source_idx,\n"
     ]
    },
    {
     "name": "stdout",
     "output_type": "stream",
     "text": [
      "15 25 62 39\n",
      "1335\n",
      "15 25 62 78\n",
      "1336\n",
      "15 25 62 116\n",
      "1337\n"
     ]
    },
    {
     "name": "stderr",
     "output_type": "stream",
     "text": [
      "/tmp/ipykernel_3842719/849445217.py:76: FutureWarning: The frame.append method is deprecated and will be removed from pandas in a future version. Use pandas.concat instead.\n",
      "  df = df.append({\"source_images_idx\": source_idx,\n",
      "/tmp/ipykernel_3842719/849445217.py:76: FutureWarning: The frame.append method is deprecated and will be removed from pandas in a future version. Use pandas.concat instead.\n",
      "  df = df.append({\"source_images_idx\": source_idx,\n",
      "/tmp/ipykernel_3842719/849445217.py:76: FutureWarning: The frame.append method is deprecated and will be removed from pandas in a future version. Use pandas.concat instead.\n",
      "  df = df.append({\"source_images_idx\": source_idx,\n"
     ]
    },
    {
     "name": "stdout",
     "output_type": "stream",
     "text": [
      "15 50 0 0\n",
      "1338\n",
      "15 50 0 39\n",
      "1339\n",
      "15 50 0 78\n",
      "1340\n"
     ]
    },
    {
     "name": "stderr",
     "output_type": "stream",
     "text": [
      "/tmp/ipykernel_3842719/849445217.py:76: FutureWarning: The frame.append method is deprecated and will be removed from pandas in a future version. Use pandas.concat instead.\n",
      "  df = df.append({\"source_images_idx\": source_idx,\n",
      "/tmp/ipykernel_3842719/849445217.py:76: FutureWarning: The frame.append method is deprecated and will be removed from pandas in a future version. Use pandas.concat instead.\n",
      "  df = df.append({\"source_images_idx\": source_idx,\n",
      "/tmp/ipykernel_3842719/849445217.py:76: FutureWarning: The frame.append method is deprecated and will be removed from pandas in a future version. Use pandas.concat instead.\n",
      "  df = df.append({\"source_images_idx\": source_idx,\n"
     ]
    },
    {
     "name": "stdout",
     "output_type": "stream",
     "text": [
      "15 50 0 116\n",
      "1341\n",
      "15 50 21 0\n",
      "1342\n",
      "15 50 21 39\n",
      "1343\n"
     ]
    },
    {
     "name": "stderr",
     "output_type": "stream",
     "text": [
      "/tmp/ipykernel_3842719/849445217.py:76: FutureWarning: The frame.append method is deprecated and will be removed from pandas in a future version. Use pandas.concat instead.\n",
      "  df = df.append({\"source_images_idx\": source_idx,\n",
      "/tmp/ipykernel_3842719/849445217.py:76: FutureWarning: The frame.append method is deprecated and will be removed from pandas in a future version. Use pandas.concat instead.\n",
      "  df = df.append({\"source_images_idx\": source_idx,\n",
      "/tmp/ipykernel_3842719/849445217.py:76: FutureWarning: The frame.append method is deprecated and will be removed from pandas in a future version. Use pandas.concat instead.\n",
      "  df = df.append({\"source_images_idx\": source_idx,\n",
      "/tmp/ipykernel_3842719/849445217.py:76: FutureWarning: The frame.append method is deprecated and will be removed from pandas in a future version. Use pandas.concat instead.\n",
      "  df = df.append({\"source_images_idx\": source_idx,\n",
      "/tmp/ipykernel_3842719/849445217.py:76: FutureWarning: The frame.append method is deprecated and will be removed from pandas in a future version. Use pandas.concat instead.\n",
      "  df = df.append({\"source_images_idx\": source_idx,\n"
     ]
    },
    {
     "name": "stdout",
     "output_type": "stream",
     "text": [
      "15 50 21 78\n",
      "1344\n",
      "15 50 21 116\n",
      "1345\n",
      "15 50 42 0\n",
      "1346\n",
      "15 50 42 39\n",
      "1347\n",
      "15 50 42 78\n",
      "1348\n"
     ]
    },
    {
     "name": "stderr",
     "output_type": "stream",
     "text": [
      "/tmp/ipykernel_3842719/849445217.py:76: FutureWarning: The frame.append method is deprecated and will be removed from pandas in a future version. Use pandas.concat instead.\n",
      "  df = df.append({\"source_images_idx\": source_idx,\n",
      "/tmp/ipykernel_3842719/849445217.py:76: FutureWarning: The frame.append method is deprecated and will be removed from pandas in a future version. Use pandas.concat instead.\n",
      "  df = df.append({\"source_images_idx\": source_idx,\n",
      "/tmp/ipykernel_3842719/849445217.py:76: FutureWarning: The frame.append method is deprecated and will be removed from pandas in a future version. Use pandas.concat instead.\n",
      "  df = df.append({\"source_images_idx\": source_idx,\n",
      "/tmp/ipykernel_3842719/849445217.py:76: FutureWarning: The frame.append method is deprecated and will be removed from pandas in a future version. Use pandas.concat instead.\n",
      "  df = df.append({\"source_images_idx\": source_idx,\n",
      "/tmp/ipykernel_3842719/849445217.py:76: FutureWarning: The frame.append method is deprecated and will be removed from pandas in a future version. Use pandas.concat instead.\n",
      "  df = df.append({\"source_images_idx\": source_idx,\n"
     ]
    },
    {
     "name": "stdout",
     "output_type": "stream",
     "text": [
      "15 50 42 116\n",
      "1349\n",
      "15 50 62 0\n",
      "1350\n",
      "15 50 62 39\n",
      "1351\n",
      "15 50 62 78\n",
      "1352\n",
      "15 50 62 116\n",
      "1353\n"
     ]
    },
    {
     "name": "stderr",
     "output_type": "stream",
     "text": [
      "/tmp/ipykernel_3842719/849445217.py:76: FutureWarning: The frame.append method is deprecated and will be removed from pandas in a future version. Use pandas.concat instead.\n",
      "  df = df.append({\"source_images_idx\": source_idx,\n",
      "/tmp/ipykernel_3842719/849445217.py:76: FutureWarning: The frame.append method is deprecated and will be removed from pandas in a future version. Use pandas.concat instead.\n",
      "  df = df.append({\"source_images_idx\": source_idx,\n",
      "/tmp/ipykernel_3842719/849445217.py:76: FutureWarning: The frame.append method is deprecated and will be removed from pandas in a future version. Use pandas.concat instead.\n",
      "  df = df.append({\"source_images_idx\": source_idx,\n",
      "/tmp/ipykernel_3842719/849445217.py:76: FutureWarning: The frame.append method is deprecated and will be removed from pandas in a future version. Use pandas.concat instead.\n",
      "  df = df.append({\"source_images_idx\": source_idx,\n",
      "/tmp/ipykernel_3842719/849445217.py:76: FutureWarning: The frame.append method is deprecated and will be removed from pandas in a future version. Use pandas.concat instead.\n",
      "  df = df.append({\"source_images_idx\": source_idx,\n"
     ]
    },
    {
     "name": "stdout",
     "output_type": "stream",
     "text": [
      "15 75 0 0\n",
      "1354\n",
      "15 75 0 39\n",
      "1355\n",
      "15 75 0 78\n",
      "1356\n",
      "15 75 0 116\n",
      "1357\n",
      "15 75 21 0\n",
      "1358\n"
     ]
    },
    {
     "name": "stderr",
     "output_type": "stream",
     "text": [
      "/tmp/ipykernel_3842719/849445217.py:76: FutureWarning: The frame.append method is deprecated and will be removed from pandas in a future version. Use pandas.concat instead.\n",
      "  df = df.append({\"source_images_idx\": source_idx,\n",
      "/tmp/ipykernel_3842719/849445217.py:76: FutureWarning: The frame.append method is deprecated and will be removed from pandas in a future version. Use pandas.concat instead.\n",
      "  df = df.append({\"source_images_idx\": source_idx,\n",
      "/tmp/ipykernel_3842719/849445217.py:76: FutureWarning: The frame.append method is deprecated and will be removed from pandas in a future version. Use pandas.concat instead.\n",
      "  df = df.append({\"source_images_idx\": source_idx,\n",
      "/tmp/ipykernel_3842719/849445217.py:76: FutureWarning: The frame.append method is deprecated and will be removed from pandas in a future version. Use pandas.concat instead.\n",
      "  df = df.append({\"source_images_idx\": source_idx,\n",
      "/tmp/ipykernel_3842719/849445217.py:76: FutureWarning: The frame.append method is deprecated and will be removed from pandas in a future version. Use pandas.concat instead.\n",
      "  df = df.append({\"source_images_idx\": source_idx,\n"
     ]
    },
    {
     "name": "stdout",
     "output_type": "stream",
     "text": [
      "15 75 21 39\n",
      "1359\n",
      "15 75 21 78\n",
      "1360\n",
      "15 75 21 116\n",
      "1361\n",
      "15 75 42 0\n",
      "1362\n",
      "15 75 42 39\n",
      "1363\n"
     ]
    },
    {
     "name": "stderr",
     "output_type": "stream",
     "text": [
      "/tmp/ipykernel_3842719/849445217.py:76: FutureWarning: The frame.append method is deprecated and will be removed from pandas in a future version. Use pandas.concat instead.\n",
      "  df = df.append({\"source_images_idx\": source_idx,\n",
      "/tmp/ipykernel_3842719/849445217.py:76: FutureWarning: The frame.append method is deprecated and will be removed from pandas in a future version. Use pandas.concat instead.\n",
      "  df = df.append({\"source_images_idx\": source_idx,\n",
      "/tmp/ipykernel_3842719/849445217.py:76: FutureWarning: The frame.append method is deprecated and will be removed from pandas in a future version. Use pandas.concat instead.\n",
      "  df = df.append({\"source_images_idx\": source_idx,\n",
      "/tmp/ipykernel_3842719/849445217.py:76: FutureWarning: The frame.append method is deprecated and will be removed from pandas in a future version. Use pandas.concat instead.\n",
      "  df = df.append({\"source_images_idx\": source_idx,\n",
      "/tmp/ipykernel_3842719/849445217.py:76: FutureWarning: The frame.append method is deprecated and will be removed from pandas in a future version. Use pandas.concat instead.\n",
      "  df = df.append({\"source_images_idx\": source_idx,\n"
     ]
    },
    {
     "name": "stdout",
     "output_type": "stream",
     "text": [
      "15 75 42 78\n",
      "1364\n",
      "15 75 42 116\n",
      "1365\n",
      "15 75 62 0\n",
      "1366\n",
      "15 75 62 39\n",
      "1367\n",
      "15 75 62 78\n",
      "1368\n"
     ]
    },
    {
     "name": "stderr",
     "output_type": "stream",
     "text": [
      "/tmp/ipykernel_3842719/849445217.py:76: FutureWarning: The frame.append method is deprecated and will be removed from pandas in a future version. Use pandas.concat instead.\n",
      "  df = df.append({\"source_images_idx\": source_idx,\n",
      "/tmp/ipykernel_3842719/849445217.py:76: FutureWarning: The frame.append method is deprecated and will be removed from pandas in a future version. Use pandas.concat instead.\n",
      "  df = df.append({\"source_images_idx\": source_idx,\n"
     ]
    },
    {
     "name": "stdout",
     "output_type": "stream",
     "text": [
      "15 75 62 116\n",
      "1369\n"
     ]
    }
   ],
   "source": [
    "counter = 0\n",
    "\n",
    "for source_idx in range( restart_image_idx, len(source_train_dataset) ):\n",
    "    \n",
    "    source_data, source_label = source_train_dataset[source_idx] \n",
    "    shape_source = source_label.shape # (126, 113, 203)\n",
    "    crop_size = (32, 32, 32)\n",
    "\n",
    "    total_steps_i = shape_source[0] - crop_size[0] + 1\n",
    "    step_size_i = total_steps_i // 3  # Integer division to get whole number steps\n",
    "\n",
    "    total_steps_j = shape_source[1] - crop_size[1] + 1\n",
    "    step_size_j = total_steps_j // 3  # Integer division to get whole number steps\n",
    "\n",
    "    total_steps_z = shape_source[2] - crop_size[2] + 1\n",
    "    step_size_z = total_steps_z // 3\n",
    "\n",
    "    # Slide the smaller array across the larger one\n",
    "    if step_size_i != 0:\n",
    "        x_range = [i for i in range( 0,  total_steps_i, step_size_i)]\n",
    "        if x_range[-1] != (shape_source[0] - crop_size[0]):\n",
    "            x_range.append(shape_source[0] - crop_size[0])\n",
    "    else:\n",
    "        x_range = [i for i in range( 0,  total_steps_i, 1)]\n",
    "    \n",
    "    if step_size_j != 0:\n",
    "        y_range = [j for j in range( 0,  total_steps_j, step_size_j)]\n",
    "        if y_range[-1] != (shape_source[1] - crop_size[1]):\n",
    "            y_range.append(shape_source[1] - crop_size[1])\n",
    "    else:\n",
    "        y_range = [j for j in range( 0,  total_steps_j, 1)]\n",
    "    \n",
    "    if step_size_z != 0:\n",
    "        z_range = [z for z in range( 0,  total_steps_z, step_size_z)]\n",
    "        if z_range[-1] != (shape_source[2] - crop_size[2]):\n",
    "            z_range.append(shape_source[2] - crop_size[2])\n",
    "    else:\n",
    "        z_range = [z for z in range( 0,  total_steps_z, 1)]\n",
    "    \n",
    "    # Slide the smaller array across the larger one\n",
    "    for i in x_range:\n",
    "        \n",
    "        if i < restart_i: continue\n",
    "        \n",
    "        for j in y_range:\n",
    "            \n",
    "            if j < restart_j: continue\n",
    "            \n",
    "            for k in z_range:\n",
    "                \n",
    "                if k < restart_k: continue\n",
    "\n",
    "                print(source_idx, i, j, k)\n",
    "                print(len(df))\n",
    "                counter += 1\n",
    "                # Extract  \n",
    "                data = source_data[i:i+crop_size[0], j:j+crop_size[1], k:k+crop_size[2]] # (32, 32, 32)\n",
    "                y_true = source_label[i:i+crop_size[0], j:j+crop_size[1], k:k+crop_size[2]]\n",
    "                \n",
    "                means, _ , ct, _ = learn_gaussians(data, y_true, dpv3,\\\n",
    "                                                combined, batch_size, label_ids, rho=0.97, initial_means=None)\n",
    "                \n",
    "\n",
    "                means, covs, ct, y_perdict = learn_gaussians(data, y_true, dpv3,\\\n",
    "                                                  combined, batch_size, label_ids, rho=0.97, initial_means=means)\n",
    "                \n",
    "                \n",
    "                \n",
    "                n_samples = np.zeros(5, dtype=int)\n",
    "                cls, ns = np.unique(y_true, return_counts=True)\n",
    "                for h in range(len(cls)):\n",
    "                    n_samples[int(cls[h])] = ns[h]\n",
    "                \n",
    "                n_samples_2 = y_perdict\n",
    "                \n",
    "                df = df.append({\"source_images_idx\": source_idx,\n",
    "                                \"source_i\": i,\n",
    "                                \"source_j\": j,\n",
    "                                \"source_k\": k,\n",
    "                                \"means\": means,\n",
    "                                \"covs\": covs,\n",
    "                                \"label_frequency\": n_samples, \n",
    "                                \"perdict_frequency\": n_samples_2}, ignore_index=True)\n",
    "                \n",
    "                if counter % 10000 == 0:\n",
    "                    # Save DataFrame to .csv file\n",
    "                    df.to_csv('Gaussian_similarity_dataframe_1298.csv', index=False)\n",
    "                \n",
    "                    # Clear last display and display the DataFrame\n",
    "                    clear_output(wait=True)\n",
    "                    display(df)\n",
    "                    \n",
    "                if restart_k !=0: restart_k = 0\n",
    "            if restart_j != 0: restart_j = 0\n",
    "        if restart_i != 0: restart_i = 0\n",
    "                \n",
    "                \n",
    "df.to_csv('Gaussian_similarity_dataframe_1298.csv', index=False)              "
   ]
  },
  {
   "cell_type": "code",
   "execution_count": null,
   "id": "b5b1f8b0",
   "metadata": {},
   "outputs": [],
   "source": []
  },
  {
   "cell_type": "code",
   "execution_count": 24,
   "id": "4d7cbebb",
   "metadata": {},
   "outputs": [
    {
     "data": {
      "text/html": [
       "<div>\n",
       "<style scoped>\n",
       "    .dataframe tbody tr th:only-of-type {\n",
       "        vertical-align: middle;\n",
       "    }\n",
       "\n",
       "    .dataframe tbody tr th {\n",
       "        vertical-align: top;\n",
       "    }\n",
       "\n",
       "    .dataframe thead th {\n",
       "        text-align: right;\n",
       "    }\n",
       "</style>\n",
       "<table border=\"1\" class=\"dataframe\">\n",
       "  <thead>\n",
       "    <tr style=\"text-align: right;\">\n",
       "      <th></th>\n",
       "      <th>source_images_idx</th>\n",
       "      <th>source_i</th>\n",
       "      <th>source_j</th>\n",
       "      <th>source_k</th>\n",
       "      <th>means</th>\n",
       "      <th>covs</th>\n",
       "      <th>label_frequency</th>\n",
       "      <th>perdict_frequency</th>\n",
       "    </tr>\n",
       "  </thead>\n",
       "  <tbody>\n",
       "    <tr>\n",
       "      <th>0</th>\n",
       "      <td>0</td>\n",
       "      <td>0</td>\n",
       "      <td>0</td>\n",
       "      <td>0</td>\n",
       "      <td>[[8.081975754735533, -12.013315163772596, -13....</td>\n",
       "      <td>[[[3.886720538192222, -1.7020385284628534, -1....</td>\n",
       "      <td>[19268, 7577, 0, 5923, 0]</td>\n",
       "      <td>[12670, 313, 0, 667, 0]</td>\n",
       "    </tr>\n",
       "    <tr>\n",
       "      <th>1</th>\n",
       "      <td>0</td>\n",
       "      <td>0</td>\n",
       "      <td>0</td>\n",
       "      <td>107</td>\n",
       "      <td>[[8.474080787285642, -12.78317694036674, -14.6...</td>\n",
       "      <td>[[[5.772613142762121, -4.678539746130251, -5.3...</td>\n",
       "      <td>[29145, 3428, 0, 195, 0]</td>\n",
       "      <td>[25137, 487, 0, 0, 0]</td>\n",
       "    </tr>\n",
       "    <tr>\n",
       "      <th>2</th>\n",
       "      <td>0</td>\n",
       "      <td>0</td>\n",
       "      <td>0</td>\n",
       "      <td>214</td>\n",
       "      <td>[[7.4278178215026625, -8.546494483947727, -10....</td>\n",
       "      <td>[[[3.9643140175364366, -4.376897973424478, -6....</td>\n",
       "      <td>[32768, 0, 0, 0, 0]</td>\n",
       "      <td>[32768, 0, 0, 0, 0]</td>\n",
       "    </tr>\n",
       "    <tr>\n",
       "      <th>3</th>\n",
       "      <td>0</td>\n",
       "      <td>0</td>\n",
       "      <td>0</td>\n",
       "      <td>321</td>\n",
       "      <td>[[6.37268877029417, -6.095223903655987, -8.389...</td>\n",
       "      <td>[[[2.019889040766233, -0.4134280617820215, -1....</td>\n",
       "      <td>[32768, 0, 0, 0, 0]</td>\n",
       "      <td>[32768, 0, 0, 0, 0]</td>\n",
       "    </tr>\n",
       "    <tr>\n",
       "      <th>4</th>\n",
       "      <td>0</td>\n",
       "      <td>0</td>\n",
       "      <td>0</td>\n",
       "      <td>322</td>\n",
       "      <td>[[6.3714575767516894, -6.075657844543438, -8.3...</td>\n",
       "      <td>[[[2.0379151898599437, -0.3537983919287831, -1...</td>\n",
       "      <td>[32768, 0, 0, 0, 0]</td>\n",
       "      <td>[32768, 0, 0, 0, 0]</td>\n",
       "    </tr>\n",
       "  </tbody>\n",
       "</table>\n",
       "</div>"
      ],
      "text/plain": [
       "  source_images_idx source_i source_j source_k  \\\n",
       "0                 0        0        0        0   \n",
       "1                 0        0        0      107   \n",
       "2                 0        0        0      214   \n",
       "3                 0        0        0      321   \n",
       "4                 0        0        0      322   \n",
       "\n",
       "                                               means  \\\n",
       "0  [[8.081975754735533, -12.013315163772596, -13....   \n",
       "1  [[8.474080787285642, -12.78317694036674, -14.6...   \n",
       "2  [[7.4278178215026625, -8.546494483947727, -10....   \n",
       "3  [[6.37268877029417, -6.095223903655987, -8.389...   \n",
       "4  [[6.3714575767516894, -6.075657844543438, -8.3...   \n",
       "\n",
       "                                                covs  \\\n",
       "0  [[[3.886720538192222, -1.7020385284628534, -1....   \n",
       "1  [[[5.772613142762121, -4.678539746130251, -5.3...   \n",
       "2  [[[3.9643140175364366, -4.376897973424478, -6....   \n",
       "3  [[[2.019889040766233, -0.4134280617820215, -1....   \n",
       "4  [[[2.0379151898599437, -0.3537983919287831, -1...   \n",
       "\n",
       "             label_frequency        perdict_frequency  \n",
       "0  [19268, 7577, 0, 5923, 0]  [12670, 313, 0, 667, 0]  \n",
       "1   [29145, 3428, 0, 195, 0]    [25137, 487, 0, 0, 0]  \n",
       "2        [32768, 0, 0, 0, 0]      [32768, 0, 0, 0, 0]  \n",
       "3        [32768, 0, 0, 0, 0]      [32768, 0, 0, 0, 0]  \n",
       "4        [32768, 0, 0, 0, 0]      [32768, 0, 0, 0, 0]  "
      ]
     },
     "execution_count": 24,
     "metadata": {},
     "output_type": "execute_result"
    }
   ],
   "source": [
    "df.head()"
   ]
  },
  {
   "cell_type": "code",
   "execution_count": 25,
   "id": "25b56638",
   "metadata": {},
   "outputs": [
    {
     "data": {
      "text/plain": [
       "array([32768])"
      ]
     },
     "execution_count": 25,
     "metadata": {},
     "output_type": "execute_result"
    }
   ],
   "source": [
    "ns"
   ]
  },
  {
   "cell_type": "code",
   "execution_count": 26,
   "id": "7fa07142",
   "metadata": {},
   "outputs": [
    {
     "data": {
      "text/plain": [
       "array([32768,     0,     0,     0,     0])"
      ]
     },
     "execution_count": 26,
     "metadata": {},
     "output_type": "execute_result"
    }
   ],
   "source": [
    "y_perdict"
   ]
  },
  {
   "cell_type": "code",
   "execution_count": 27,
   "id": "70810533",
   "metadata": {},
   "outputs": [
    {
     "data": {
      "text/plain": [
       "1370"
      ]
     },
     "execution_count": 27,
     "metadata": {},
     "output_type": "execute_result"
    }
   ],
   "source": [
    "len(df)\n",
    "# 945773"
   ]
  },
  {
   "cell_type": "code",
   "execution_count": null,
   "id": "ad4e086b",
   "metadata": {},
   "outputs": [],
   "source": []
  }
 ],
 "metadata": {
  "kernelspec": {
   "display_name": "Python 3 (ipykernel)",
   "language": "python",
   "name": "python3"
  },
  "language_info": {
   "codemirror_mode": {
    "name": "ipython",
    "version": 3
   },
   "file_extension": ".py",
   "mimetype": "text/x-python",
   "name": "python",
   "nbconvert_exporter": "python",
   "pygments_lexer": "ipython3",
   "version": "3.9.18"
  }
 },
 "nbformat": 4,
 "nbformat_minor": 5
}
