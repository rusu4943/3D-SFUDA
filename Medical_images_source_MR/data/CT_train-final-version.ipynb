{
 "cells": [
  {
   "cell_type": "code",
   "execution_count": 1,
   "id": "6ac5daf4",
   "metadata": {},
   "outputs": [
    {
     "name": "stderr",
     "output_type": "stream",
     "text": [
      "/home1/ruitongs/.conda/envs/UDA/lib/python3.7/site-packages/tqdm/auto.py:21: TqdmWarning: IProgress not found. Please update jupyter and ipywidgets. See https://ipywidgets.readthedocs.io/en/stable/user_install.html\n",
      "  from .autonotebook import tqdm as notebook_tqdm\n"
     ]
    }
   ],
   "source": [
    "import torch\n",
    "import torch.nn.functional as F\n",
    "from  reorient_nii import reorient_1\n",
    "import os\n",
    "import numpy as np\n",
    "import matplotlib.pyplot as plt"
   ]
  },
  {
   "cell_type": "code",
   "execution_count": 2,
   "id": "f2b52438",
   "metadata": {},
   "outputs": [
    {
     "name": "stderr",
     "output_type": "stream",
     "text": [
      "/home1/ruitongs/.conda/envs/UDA/lib/python3.7/site-packages/nilearn/__init__.py:67: FutureWarning: Python 3.7 support is deprecated and will be removed in release 0.12 of Nilearn. Consider switching to Python 3.9 or 3.10.\n",
      "  _python_deprecation_warnings()\n"
     ]
    }
   ],
   "source": [
    "import nibabel as nib\n",
    "import nilearn.plotting as nlplt\n",
    "from nibabel.testing import data_path"
   ]
  },
  {
   "cell_type": "code",
   "execution_count": 3,
   "id": "c5090900",
   "metadata": {},
   "outputs": [],
   "source": [
    "folder_path1 = 'ct_train1/'\n",
    "folder_path2 = 'ct_train2/'\n",
    "save_folder_path = 'ct_npy/'"
   ]
  },
  {
   "cell_type": "code",
   "execution_count": 4,
   "id": "36756d3e",
   "metadata": {},
   "outputs": [],
   "source": [
    "def reset_label_value(label):\n",
    "    \n",
    "    label[label == 820] = 4 # AA  # small isolated\n",
    "    label[label == 500] = 3 # LV  # center \n",
    "    label[label == 420] = 2 # LA  # long tail \n",
    "    label[label == 205] = 1 # Myo # blue semi-cicle close to red   \n",
    "\n",
    "    label[label == 550] = 0\n",
    "    label[label == 600] = 0\n",
    "    label[label == 850] = 0\n",
    "    \n",
    "    return label"
   ]
  },
  {
   "cell_type": "code",
   "execution_count": 5,
   "id": "c9ff75f6",
   "metadata": {},
   "outputs": [],
   "source": [
    "def corp_base_on_min_max_label(image , label):\n",
    "\n",
    "    heart_indices = np.where(label != 0)\n",
    "    min_coords = np.min(heart_indices, axis=1)\n",
    "    max_coords = np.max(heart_indices, axis=1)\n",
    "    \n",
    "    cropped_image = image[min_coords[0]:max_coords[0], min_coords[1]:max_coords[1], min_coords[2]:max_coords[2]]\n",
    "    cropped_label = label[min_coords[0]:max_coords[0], min_coords[1]:max_coords[1], min_coords[2]:max_coords[2]]\n",
    "    \n",
    "    return np.array(cropped_image), np.array(cropped_label)"
   ]
  },
  {
   "cell_type": "code",
   "execution_count": 6,
   "id": "b63ddea7",
   "metadata": {},
   "outputs": [],
   "source": [
    "def resample_label(nii, label):\n",
    "    \n",
    "    label_header = nii.header\n",
    "    \n",
    "    target_shape = [int(label.shape[0] * label_header['pixdim'][1]), int(label.shape[1] * label_header['pixdim'][2]),\\\n",
    "                int(label.shape[2] * label_header['pixdim'][3])]\n",
    "    \n",
    "    \n",
    "    label = torch.from_numpy( label.copy() ).unsqueeze(0).unsqueeze(0) # torch.Size([1, 1, 512, 512, 84])\n",
    "    label = F.interpolate( label, target_shape, mode = \"nearest\").numpy()[0,0] # (342, 342, 63)\n",
    "    \n",
    "    return label"
   ]
  },
  {
   "cell_type": "code",
   "execution_count": 7,
   "id": "ecfb4a37",
   "metadata": {},
   "outputs": [],
   "source": [
    "def resample_img(nii, image):\n",
    "    \n",
    "    image_header = nii.header\n",
    "    \n",
    "    target_shape = [int(image.shape[0] * image_header['pixdim'][1]), int(image.shape[1] * image_header['pixdim'][2]),\\\n",
    "                int(image.shape[2] * image_header['pixdim'][3])]\n",
    "    \n",
    "    \n",
    "    image = torch.from_numpy( image.copy() ).unsqueeze(0).unsqueeze(0) # torch.Size([1, 1, 512, 512, 84])\n",
    "    image = F.interpolate( image, target_shape, mode = \"trilinear\").numpy()[0,0] # (342, 342, 63)\n",
    "    \n",
    "    return image"
   ]
  },
  {
   "cell_type": "code",
   "execution_count": 8,
   "id": "5f59e691",
   "metadata": {
    "scrolled": true
   },
   "outputs": [
    {
     "name": "stdout",
     "output_type": "stream",
     "text": [
      "(133, 107, 123)\n",
      "(95, 95, 113)\n",
      "(121, 84, 109)\n",
      "(90, 93, 111)\n",
      "(124, 117, 94)\n",
      "(108, 88, 116)\n",
      "(113, 94, 97)\n",
      "(102, 104, 99)\n",
      "(106, 113, 139)\n",
      "(119, 107, 118)\n"
     ]
    }
   ],
   "source": [
    "for idx in range(1001, 1011):\n",
    "    \n",
    "    '''label'''\n",
    "    label_filepath = os.path.join(folder_path1 + f'ct_train_{idx}_label.nii.gz')\n",
    "    label_img_0 = nib.load(label_filepath)\n",
    "    label_img = reorient_1(label_img_0)\n",
    "    label_data = label_img.get_fdata(dtype=np.float32)\n",
    "    label_data = resample_label(label_img_0, label_data)\n",
    "    label_data = reset_label_value(label_data)\n",
    "    \n",
    "    '''image'''\n",
    "    image_filepath = os.path.join(folder_path1 + f'ct_train_{idx}_image.nii.gz')\n",
    "    img_0 = nib.load(image_filepath)\n",
    "    img = reorient_1(img_0)\n",
    "    image_data = img.get_fdata(dtype=np.float32)\n",
    "    image_data = resample_img(img_0, image_data)\n",
    "    \n",
    "    assert label_data.shape == image_data.shape\n",
    "    \n",
    "    image_data , _ = corp_base_on_min_max_label(image_data , label_data)\n",
    "    \n",
    "    # Clip the top 2% of the intensity histogram\n",
    "    percentile_98 = np.percentile(image_data.ravel(), 98)\n",
    "    image_data = np.clip(image_data, a_min=None, a_max=percentile_98)\n",
    "    \n",
    "    # Subtract the mean and divide by the standard deviation\n",
    "    mean_val = np.mean(image_data)\n",
    "    std_val = np.std(image_data)\n",
    "    image_data = (image_data - mean_val) / std_val\n",
    "    \n",
    "    print(image_data.shape)\n",
    "    np.save(f\"{save_folder_path}ct_train_{idx}_image.npy\", image_data)"
   ]
  },
  {
   "cell_type": "code",
   "execution_count": 9,
   "id": "aa1fbdfb",
   "metadata": {},
   "outputs": [
    {
     "name": "stdout",
     "output_type": "stream",
     "text": [
      "(105, 117, 133)\n",
      "(118, 118, 98)\n",
      "(97, 129, 111)\n",
      "(87, 86, 159)\n",
      "(108, 117, 126)\n",
      "(108, 98, 119)\n",
      "(119, 113, 128)\n",
      "(115, 94, 100)\n",
      "(101, 117, 124)\n",
      "(133, 108, 127)\n"
     ]
    }
   ],
   "source": [
    "for idx in range(1011, 1021):\n",
    "    \n",
    "    '''label'''\n",
    "    label_filepath = os.path.join(folder_path2 + f'ct_train_{idx}_label.nii.gz')\n",
    "    label_img_0 = nib.load(label_filepath)\n",
    "    label_img = reorient_1(label_img_0)\n",
    "    label_data = label_img.get_fdata(dtype=np.float32)\n",
    "    label_data = resample_label(label_img_0, label_data)\n",
    "    label_data = reset_label_value(label_data)\n",
    "    \n",
    "    '''image'''\n",
    "    image_filepath = os.path.join(folder_path2 + f'ct_train_{idx}_image.nii.gz')\n",
    "    img_0 = nib.load(image_filepath)\n",
    "    img = reorient_1(img_0)\n",
    "    image_data = img.get_fdata(dtype=np.float32)\n",
    "    image_data = resample_img(img_0, image_data)\n",
    "    \n",
    "    assert label_data.shape == image_data.shape\n",
    "    \n",
    "    image_data , _ = corp_base_on_min_max_label(image_data , label_data)\n",
    "    \n",
    "    # Clip the top 2% of the intensity histogram\n",
    "    percentile_98 = np.percentile(image_data.ravel(), 98)\n",
    "    image_data = np.clip(image_data, a_min=None, a_max=percentile_98)\n",
    "    \n",
    "    # Subtract the mean and divide by the standard deviation\n",
    "    mean_val = np.mean(image_data)\n",
    "    std_val = np.std(image_data)\n",
    "    image_data = (image_data - mean_val) / std_val\n",
    "    \n",
    "    print(image_data.shape)\n",
    "    np.save(f\"{save_folder_path}ct_train_{idx}_image.npy\", image_data)"
   ]
  },
  {
   "cell_type": "code",
   "execution_count": null,
   "id": "798a2011",
   "metadata": {},
   "outputs": [],
   "source": []
  }
 ],
 "metadata": {
  "kernelspec": {
   "display_name": "Python 3 (ipykernel)",
   "language": "python",
   "name": "python3"
  },
  "language_info": {
   "codemirror_mode": {
    "name": "ipython",
    "version": 3
   },
   "file_extension": ".py",
   "mimetype": "text/x-python",
   "name": "python",
   "nbconvert_exporter": "python",
   "pygments_lexer": "ipython3",
   "version": "3.7.16"
  }
 },
 "nbformat": 4,
 "nbformat_minor": 5
}
