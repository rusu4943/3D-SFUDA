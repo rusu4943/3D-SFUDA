{
 "cells": [
  {
   "cell_type": "code",
   "execution_count": 1,
   "id": "6ac5daf4",
   "metadata": {},
   "outputs": [
    {
     "name": "stderr",
     "output_type": "stream",
     "text": [
      "/home1/ruitongs/.conda/envs/UDA/lib/python3.7/site-packages/tqdm/auto.py:21: TqdmWarning: IProgress not found. Please update jupyter and ipywidgets. See https://ipywidgets.readthedocs.io/en/stable/user_install.html\n",
      "  from .autonotebook import tqdm as notebook_tqdm\n"
     ]
    }
   ],
   "source": [
    "import torch\n",
    "import torch.nn.functional as F\n",
    "from  reorient_nii import reorient_1\n",
    "import os\n",
    "import numpy as np\n",
    "import matplotlib.pyplot as plt"
   ]
  },
  {
   "cell_type": "code",
   "execution_count": 2,
   "id": "f2b52438",
   "metadata": {},
   "outputs": [
    {
     "name": "stderr",
     "output_type": "stream",
     "text": [
      "/home1/ruitongs/.conda/envs/UDA/lib/python3.7/site-packages/nilearn/__init__.py:67: FutureWarning: Python 3.7 support is deprecated and will be removed in release 0.12 of Nilearn. Consider switching to Python 3.9 or 3.10.\n",
      "  _python_deprecation_warnings()\n"
     ]
    }
   ],
   "source": [
    "import nibabel as nib\n",
    "import nilearn.plotting as nlplt\n",
    "from nibabel.testing import data_path"
   ]
  },
  {
   "cell_type": "code",
   "execution_count": 3,
   "id": "c5090900",
   "metadata": {},
   "outputs": [],
   "source": [
    "folder_path1 = 'ct_train1/'\n",
    "folder_path2 = 'ct_train2/'\n",
    "save_folder_path = 'ct_npy/'"
   ]
  },
  {
   "cell_type": "code",
   "execution_count": 4,
   "id": "36756d3e",
   "metadata": {},
   "outputs": [],
   "source": [
    "def reset_label_value(image_data):\n",
    "    \n",
    "    image_data[image_data == 820] = 4 # AA  # small isolated\n",
    "    image_data[image_data == 500] = 3 # LV  # center \n",
    "    image_data[image_data == 420] = 2 # LA  # long tail \n",
    "    image_data[image_data == 205] = 1 # Myo # blue semi-cicle close to red   \n",
    "\n",
    "    image_data[image_data == 550] = 0\n",
    "    image_data[image_data == 600] = 0\n",
    "    image_data[image_data == 850] = 0\n",
    "    \n",
    "    return image_data"
   ]
  },
  {
   "cell_type": "code",
   "execution_count": 5,
   "id": "c9ff75f6",
   "metadata": {},
   "outputs": [],
   "source": [
    "def corp_base_on_min_max_label(image_data):\n",
    "\n",
    "    heart_indices = np.where(image_data != 0)\n",
    "    min_coords = np.min(heart_indices, axis=1)\n",
    "    max_coords = np.max(heart_indices, axis=1)\n",
    "    \n",
    "    cropped_volume = image_data[min_coords[0]:max_coords[0], min_coords[1]:max_coords[1], min_coords[2]:max_coords[2]]\n",
    "    \n",
    "    \n",
    "    return np.array(cropped_volume)"
   ]
  },
  {
   "cell_type": "code",
   "execution_count": 6,
   "id": "ecfb4a37",
   "metadata": {},
   "outputs": [],
   "source": [
    "def resample(img, image_data):\n",
    "    \n",
    "    image_header = img.header\n",
    "    target_shape = [256, 256, 256]\n",
    "    \n",
    "    image_data = torch.from_numpy( image_data.copy() ).unsqueeze(0).unsqueeze(0) # torch.Size([1, 1, 512, 512, 84])\n",
    "    image_data = F.interpolate( image_data, target_shape, mode = \"nearest\").numpy()[0,0] # (342, 342, 63)\n",
    "    \n",
    "    return image_data"
   ]
  },
  {
   "cell_type": "code",
   "execution_count": 7,
   "id": "ca8a8075",
   "metadata": {},
   "outputs": [],
   "source": [
    "def resample_2(img, image_data):\n",
    "    \n",
    "    image_header = img.header\n",
    "    \n",
    "    target_shape = [int(image_data.shape[0] * image_header['pixdim'][1]), int(image_data.shape[1] * image_header['pixdim'][2]),\\\n",
    "                int(image_data.shape[2] * image_header['pixdim'][3])]\n",
    "    \n",
    "    \n",
    "    image_data = torch.from_numpy( image_data.copy() ).unsqueeze(0).unsqueeze(0) # torch.Size([1, 1, 512, 512, 84])\n",
    "    image_data = F.interpolate( image_data, target_shape, mode = \"nearest\").numpy()[0,0] # (342, 342, 63)\n",
    "    \n",
    "    return image_data"
   ]
  },
  {
   "cell_type": "code",
   "execution_count": 8,
   "id": "5f59e691",
   "metadata": {
    "scrolled": true
   },
   "outputs": [
    {
     "name": "stdout",
     "output_type": "stream",
     "text": [
      "(133, 107, 123)\n",
      "[0. 1. 2. 3. 4.]\n",
      "(95, 95, 113)\n",
      "[0. 1. 2. 3. 4.]\n",
      "(121, 84, 109)\n",
      "[0. 1. 2. 3. 4.]\n",
      "(90, 93, 111)\n",
      "[0. 1. 2. 3. 4.]\n",
      "(124, 117, 94)\n",
      "[0. 1. 2. 3. 4.]\n",
      "(108, 88, 116)\n",
      "[0. 1. 2. 3. 4.]\n",
      "(113, 94, 97)\n",
      "[0. 1. 2. 3. 4.]\n",
      "(102, 104, 99)\n",
      "[0. 1. 2. 3. 4.]\n",
      "(106, 113, 139)\n",
      "[0. 1. 2. 3. 4.]\n",
      "(119, 107, 118)\n",
      "[0. 1. 2. 3. 4.]\n"
     ]
    }
   ],
   "source": [
    "for idx in range(1001, 1011):\n",
    "    \n",
    "    filepath = os.path.join(folder_path1 + f'ct_train_{idx}_label.nii.gz')\n",
    "    img_0 = nib.load(filepath)\n",
    "    img = reorient_1(img_0)\n",
    "    image_data = img.get_fdata(dtype=np.float32)\n",
    "    image_data = resample_2(img_0, image_data)\n",
    "    image_data = reset_label_value(image_data)\n",
    "    image_data = corp_base_on_min_max_label(image_data)\n",
    "    \n",
    "    print(image_data.shape)\n",
    "    print(np.unique(image_data))\n",
    "    #np.save(f\"{save_folder_path}ct_train_{idx}_label.npy\", image_data)"
   ]
  },
  {
   "cell_type": "code",
   "execution_count": 9,
   "id": "aa1fbdfb",
   "metadata": {},
   "outputs": [
    {
     "name": "stdout",
     "output_type": "stream",
     "text": [
      "(105, 117, 133)\n",
      "[0. 1. 2. 3. 4.]\n",
      "(118, 118, 98)\n",
      "[0. 1. 2. 3. 4.]\n",
      "(97, 129, 111)\n",
      "[0. 1. 2. 3. 4.]\n",
      "(87, 86, 159)\n",
      "[0. 1. 2. 3. 4.]\n",
      "(108, 117, 126)\n",
      "[0. 1. 2. 3. 4.]\n",
      "(108, 98, 119)\n",
      "[0. 1. 2. 3. 4.]\n",
      "(119, 113, 128)\n",
      "[0. 1. 2. 3. 4.]\n",
      "(115, 94, 100)\n",
      "[0. 1. 2. 3. 4.]\n",
      "(101, 117, 124)\n",
      "[0. 1. 2. 3. 4.]\n",
      "(133, 108, 127)\n",
      "[0. 1. 2. 3. 4.]\n"
     ]
    }
   ],
   "source": [
    "for idx in range(1011, 1021):\n",
    "    \n",
    "    filepath = os.path.join(folder_path2 + f'ct_train_{idx}_label.nii.gz')\n",
    "    img_0 = nib.load(filepath)\n",
    "    img = reorient_1(img_0)\n",
    "    image_data = img.get_fdata(dtype=np.float32)\n",
    "    image_data = resample_2(img_0, image_data)\n",
    "    image_data = reset_label_value(image_data)\n",
    "    image_data = corp_base_on_min_max_label(image_data)\n",
    "    \n",
    "    print(image_data.shape)\n",
    "    print(np.unique(image_data))\n",
    "    #np.save(f\"{save_folder_path}ct_train_{idx}_label.npy\", image_data)"
   ]
  }
 ],
 "metadata": {
  "kernelspec": {
   "display_name": "Python 3 (ipykernel)",
   "language": "python",
   "name": "python3"
  },
  "language_info": {
   "codemirror_mode": {
    "name": "ipython",
    "version": 3
   },
   "file_extension": ".py",
   "mimetype": "text/x-python",
   "name": "python",
   "nbconvert_exporter": "python",
   "pygments_lexer": "ipython3",
   "version": "3.7.16"
  }
 },
 "nbformat": 4,
 "nbformat_minor": 5
}
